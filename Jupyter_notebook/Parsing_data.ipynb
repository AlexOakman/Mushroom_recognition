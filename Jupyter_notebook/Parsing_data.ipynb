{
 "cells": [
  {
   "cell_type": "code",
   "execution_count": 1,
   "id": "2dd92880",
   "metadata": {},
   "outputs": [],
   "source": [
    "# для скачивания картинок\n",
    "import pygoogle_image\n",
    "from pygoogle_image import image as pi\n",
    "\n",
    "#для парсинга\n",
    "import requests\n",
    "from bs4 import BeautifulSoup as bs\n",
    "\n",
    "#для обработки данных в виде таблицы\n",
    "import time\n",
    "import numpy as np\n",
    "import pandas as pd\n",
    "from tqdm import tqdm\n",
    "import os\n",
    "\n",
    "#удаляем дубли и отрисовка\n",
    "import hashlib\n",
    "#from scipy.misc import imread, imresize, imshow\n",
    "from matplotlib.pyplot import imread, imshow\n",
    "\n",
    "import matplotlib.pyplot as plt\n",
    "import matplotlib.gridspec as gridspec\n",
    "%matplotlib inline"
   ]
  },
  {
   "cell_type": "code",
   "execution_count": 2,
   "id": "95b225ff",
   "metadata": {},
   "outputs": [
    {
     "data": {
      "text/plain": [
       "'C:\\\\Users\\\\a.dubinets\\\\Desktop\\\\Обучение\\\\Mushrooms'"
      ]
     },
     "execution_count": 2,
     "metadata": {},
     "output_type": "execute_result"
    }
   ],
   "source": [
    "os.chdir(\"C:\\\\Users\\\\a.dubinets\\\\Desktop\\\\Обучение\\\\Mushrooms\") \n",
    "os.getcwd()"
   ]
  },
  {
   "cell_type": "markdown",
   "id": "67d3df79",
   "metadata": {},
   "source": [
    "## Создадим базу данных грибов, которые мы будем в дальнейшем парсить."
   ]
  },
  {
   "cell_type": "code",
   "execution_count": 2,
   "id": "83659b5e",
   "metadata": {},
   "outputs": [],
   "source": [
    "def parse(html):\n",
    "    soup = bs(html,'html.parser')\n",
    "    title = []      \n",
    "    for tag in soup.find_all('h3'):\n",
    "        title.append(tag.text)\n",
    "    lat   = []      \n",
    "    for tag in soup.find_all('h4'):\n",
    "        lat.append(tag.text)        \n",
    "    link = []      \n",
    "    for tag in soup.find_all('a', class_='image'):\n",
    "        link.append(tag.get('href'))\n",
    "    desc  = []\n",
    "    for tag in soup.find_all(\"div\", class_='catcont-list__desc'):\n",
    "        desc.append(tag.text)\n",
    "    df = pd.DataFrame(list(zip(title, lat, link, desc )),\n",
    "              columns=['title','lat', 'link', 'desciption'])\n",
    "    return df"
   ]
  },
  {
   "cell_type": "code",
   "execution_count": 4,
   "id": "5349b4e3",
   "metadata": {},
   "outputs": [
    {
     "name": "stderr",
     "output_type": "stream",
     "text": [
      "C:\\Users\\a.dubinets\\AppData\\Roaming\\Python\\Python310\\site-packages\\urllib3\\connectionpool.py:1095: InsecureRequestWarning: Unverified HTTPS request is being made to host 'wikigrib.ru'. Adding certificate verification is strongly advised. See: https://urllib3.readthedocs.io/en/latest/advanced-usage.html#tls-warnings\n",
      "  warnings.warn(\n",
      "C:\\Users\\a.dubinets\\AppData\\Roaming\\Python\\Python310\\site-packages\\urllib3\\connectionpool.py:1095: InsecureRequestWarning: Unverified HTTPS request is being made to host 'wikigrib.ru'. Adding certificate verification is strongly advised. See: https://urllib3.readthedocs.io/en/latest/advanced-usage.html#tls-warnings\n",
      "  warnings.warn(\n",
      "C:\\Users\\a.dubinets\\AppData\\Roaming\\Python\\Python310\\site-packages\\urllib3\\connectionpool.py:1095: InsecureRequestWarning: Unverified HTTPS request is being made to host 'wikigrib.ru'. Adding certificate verification is strongly advised. See: https://urllib3.readthedocs.io/en/latest/advanced-usage.html#tls-warnings\n",
      "  warnings.warn(\n",
      "C:\\Users\\a.dubinets\\AppData\\Roaming\\Python\\Python310\\site-packages\\urllib3\\connectionpool.py:1095: InsecureRequestWarning: Unverified HTTPS request is being made to host 'wikigrib.ru'. Adding certificate verification is strongly advised. See: https://urllib3.readthedocs.io/en/latest/advanced-usage.html#tls-warnings\n",
      "  warnings.warn(\n",
      "C:\\Users\\a.dubinets\\AppData\\Roaming\\Python\\Python310\\site-packages\\urllib3\\connectionpool.py:1095: InsecureRequestWarning: Unverified HTTPS request is being made to host 'wikigrib.ru'. Adding certificate verification is strongly advised. See: https://urllib3.readthedocs.io/en/latest/advanced-usage.html#tls-warnings\n",
      "  warnings.warn(\n",
      "C:\\Users\\a.dubinets\\AppData\\Roaming\\Python\\Python310\\site-packages\\urllib3\\connectionpool.py:1095: InsecureRequestWarning: Unverified HTTPS request is being made to host 'wikigrib.ru'. Adding certificate verification is strongly advised. See: https://urllib3.readthedocs.io/en/latest/advanced-usage.html#tls-warnings\n",
      "  warnings.warn(\n",
      "C:\\Users\\a.dubinets\\AppData\\Roaming\\Python\\Python310\\site-packages\\urllib3\\connectionpool.py:1095: InsecureRequestWarning: Unverified HTTPS request is being made to host 'wikigrib.ru'. Adding certificate verification is strongly advised. See: https://urllib3.readthedocs.io/en/latest/advanced-usage.html#tls-warnings\n",
      "  warnings.warn(\n",
      "C:\\Users\\a.dubinets\\AppData\\Roaming\\Python\\Python310\\site-packages\\urllib3\\connectionpool.py:1095: InsecureRequestWarning: Unverified HTTPS request is being made to host 'wikigrib.ru'. Adding certificate verification is strongly advised. See: https://urllib3.readthedocs.io/en/latest/advanced-usage.html#tls-warnings\n",
      "  warnings.warn(\n",
      "C:\\Users\\a.dubinets\\AppData\\Roaming\\Python\\Python310\\site-packages\\urllib3\\connectionpool.py:1095: InsecureRequestWarning: Unverified HTTPS request is being made to host 'wikigrib.ru'. Adding certificate verification is strongly advised. See: https://urllib3.readthedocs.io/en/latest/advanced-usage.html#tls-warnings\n",
      "  warnings.warn(\n",
      "C:\\Users\\a.dubinets\\AppData\\Roaming\\Python\\Python310\\site-packages\\urllib3\\connectionpool.py:1095: InsecureRequestWarning: Unverified HTTPS request is being made to host 'wikigrib.ru'. Adding certificate verification is strongly advised. See: https://urllib3.readthedocs.io/en/latest/advanced-usage.html#tls-warnings\n",
      "  warnings.warn(\n",
      "C:\\Users\\a.dubinets\\AppData\\Roaming\\Python\\Python310\\site-packages\\urllib3\\connectionpool.py:1095: InsecureRequestWarning: Unverified HTTPS request is being made to host 'wikigrib.ru'. Adding certificate verification is strongly advised. See: https://urllib3.readthedocs.io/en/latest/advanced-usage.html#tls-warnings\n",
      "  warnings.warn(\n",
      "C:\\Users\\a.dubinets\\AppData\\Roaming\\Python\\Python310\\site-packages\\urllib3\\connectionpool.py:1095: InsecureRequestWarning: Unverified HTTPS request is being made to host 'wikigrib.ru'. Adding certificate verification is strongly advised. See: https://urllib3.readthedocs.io/en/latest/advanced-usage.html#tls-warnings\n",
      "  warnings.warn(\n",
      "C:\\Users\\a.dubinets\\AppData\\Roaming\\Python\\Python310\\site-packages\\urllib3\\connectionpool.py:1095: InsecureRequestWarning: Unverified HTTPS request is being made to host 'wikigrib.ru'. Adding certificate verification is strongly advised. See: https://urllib3.readthedocs.io/en/latest/advanced-usage.html#tls-warnings\n",
      "  warnings.warn(\n",
      "C:\\Users\\a.dubinets\\AppData\\Roaming\\Python\\Python310\\site-packages\\urllib3\\connectionpool.py:1095: InsecureRequestWarning: Unverified HTTPS request is being made to host 'wikigrib.ru'. Adding certificate verification is strongly advised. See: https://urllib3.readthedocs.io/en/latest/advanced-usage.html#tls-warnings\n",
      "  warnings.warn(\n",
      "C:\\Users\\a.dubinets\\AppData\\Roaming\\Python\\Python310\\site-packages\\urllib3\\connectionpool.py:1095: InsecureRequestWarning: Unverified HTTPS request is being made to host 'wikigrib.ru'. Adding certificate verification is strongly advised. See: https://urllib3.readthedocs.io/en/latest/advanced-usage.html#tls-warnings\n",
      "  warnings.warn(\n",
      "C:\\Users\\a.dubinets\\AppData\\Roaming\\Python\\Python310\\site-packages\\urllib3\\connectionpool.py:1095: InsecureRequestWarning: Unverified HTTPS request is being made to host 'wikigrib.ru'. Adding certificate verification is strongly advised. See: https://urllib3.readthedocs.io/en/latest/advanced-usage.html#tls-warnings\n",
      "  warnings.warn(\n",
      "C:\\Users\\a.dubinets\\AppData\\Roaming\\Python\\Python310\\site-packages\\urllib3\\connectionpool.py:1095: InsecureRequestWarning: Unverified HTTPS request is being made to host 'wikigrib.ru'. Adding certificate verification is strongly advised. See: https://urllib3.readthedocs.io/en/latest/advanced-usage.html#tls-warnings\n",
      "  warnings.warn(\n",
      "C:\\Users\\a.dubinets\\AppData\\Roaming\\Python\\Python310\\site-packages\\urllib3\\connectionpool.py:1095: InsecureRequestWarning: Unverified HTTPS request is being made to host 'wikigrib.ru'. Adding certificate verification is strongly advised. See: https://urllib3.readthedocs.io/en/latest/advanced-usage.html#tls-warnings\n",
      "  warnings.warn(\n",
      "C:\\Users\\a.dubinets\\AppData\\Roaming\\Python\\Python310\\site-packages\\urllib3\\connectionpool.py:1095: InsecureRequestWarning: Unverified HTTPS request is being made to host 'wikigrib.ru'. Adding certificate verification is strongly advised. See: https://urllib3.readthedocs.io/en/latest/advanced-usage.html#tls-warnings\n",
      "  warnings.warn(\n",
      "C:\\Users\\a.dubinets\\AppData\\Roaming\\Python\\Python310\\site-packages\\urllib3\\connectionpool.py:1095: InsecureRequestWarning: Unverified HTTPS request is being made to host 'wikigrib.ru'. Adding certificate verification is strongly advised. See: https://urllib3.readthedocs.io/en/latest/advanced-usage.html#tls-warnings\n",
      "  warnings.warn(\n",
      "C:\\Users\\a.dubinets\\AppData\\Roaming\\Python\\Python310\\site-packages\\urllib3\\connectionpool.py:1095: InsecureRequestWarning: Unverified HTTPS request is being made to host 'wikigrib.ru'. Adding certificate verification is strongly advised. See: https://urllib3.readthedocs.io/en/latest/advanced-usage.html#tls-warnings\n",
      "  warnings.warn(\n",
      "C:\\Users\\a.dubinets\\AppData\\Roaming\\Python\\Python310\\site-packages\\urllib3\\connectionpool.py:1095: InsecureRequestWarning: Unverified HTTPS request is being made to host 'wikigrib.ru'. Adding certificate verification is strongly advised. See: https://urllib3.readthedocs.io/en/latest/advanced-usage.html#tls-warnings\n",
      "  warnings.warn(\n",
      "C:\\Users\\a.dubinets\\AppData\\Roaming\\Python\\Python310\\site-packages\\urllib3\\connectionpool.py:1095: InsecureRequestWarning: Unverified HTTPS request is being made to host 'wikigrib.ru'. Adding certificate verification is strongly advised. See: https://urllib3.readthedocs.io/en/latest/advanced-usage.html#tls-warnings\n",
      "  warnings.warn(\n",
      "C:\\Users\\a.dubinets\\AppData\\Roaming\\Python\\Python310\\site-packages\\urllib3\\connectionpool.py:1095: InsecureRequestWarning: Unverified HTTPS request is being made to host 'wikigrib.ru'. Adding certificate verification is strongly advised. See: https://urllib3.readthedocs.io/en/latest/advanced-usage.html#tls-warnings\n",
      "  warnings.warn(\n",
      "C:\\Users\\a.dubinets\\AppData\\Roaming\\Python\\Python310\\site-packages\\urllib3\\connectionpool.py:1095: InsecureRequestWarning: Unverified HTTPS request is being made to host 'wikigrib.ru'. Adding certificate verification is strongly advised. See: https://urllib3.readthedocs.io/en/latest/advanced-usage.html#tls-warnings\n",
      "  warnings.warn(\n"
     ]
    },
    {
     "name": "stderr",
     "output_type": "stream",
     "text": [
      "C:\\Users\\a.dubinets\\AppData\\Roaming\\Python\\Python310\\site-packages\\urllib3\\connectionpool.py:1095: InsecureRequestWarning: Unverified HTTPS request is being made to host 'wikigrib.ru'. Adding certificate verification is strongly advised. See: https://urllib3.readthedocs.io/en/latest/advanced-usage.html#tls-warnings\n",
      "  warnings.warn(\n",
      "C:\\Users\\a.dubinets\\AppData\\Roaming\\Python\\Python310\\site-packages\\urllib3\\connectionpool.py:1095: InsecureRequestWarning: Unverified HTTPS request is being made to host 'wikigrib.ru'. Adding certificate verification is strongly advised. See: https://urllib3.readthedocs.io/en/latest/advanced-usage.html#tls-warnings\n",
      "  warnings.warn(\n",
      "C:\\Users\\a.dubinets\\AppData\\Roaming\\Python\\Python310\\site-packages\\urllib3\\connectionpool.py:1095: InsecureRequestWarning: Unverified HTTPS request is being made to host 'wikigrib.ru'. Adding certificate verification is strongly advised. See: https://urllib3.readthedocs.io/en/latest/advanced-usage.html#tls-warnings\n",
      "  warnings.warn(\n",
      "C:\\Users\\a.dubinets\\AppData\\Roaming\\Python\\Python310\\site-packages\\urllib3\\connectionpool.py:1095: InsecureRequestWarning: Unverified HTTPS request is being made to host 'wikigrib.ru'. Adding certificate verification is strongly advised. See: https://urllib3.readthedocs.io/en/latest/advanced-usage.html#tls-warnings\n",
      "  warnings.warn(\n",
      "C:\\Users\\a.dubinets\\AppData\\Roaming\\Python\\Python310\\site-packages\\urllib3\\connectionpool.py:1095: InsecureRequestWarning: Unverified HTTPS request is being made to host 'wikigrib.ru'. Adding certificate verification is strongly advised. See: https://urllib3.readthedocs.io/en/latest/advanced-usage.html#tls-warnings\n",
      "  warnings.warn(\n",
      "C:\\Users\\a.dubinets\\AppData\\Roaming\\Python\\Python310\\site-packages\\urllib3\\connectionpool.py:1095: InsecureRequestWarning: Unverified HTTPS request is being made to host 'wikigrib.ru'. Adding certificate verification is strongly advised. See: https://urllib3.readthedocs.io/en/latest/advanced-usage.html#tls-warnings\n",
      "  warnings.warn(\n",
      "C:\\Users\\a.dubinets\\AppData\\Roaming\\Python\\Python310\\site-packages\\urllib3\\connectionpool.py:1095: InsecureRequestWarning: Unverified HTTPS request is being made to host 'wikigrib.ru'. Adding certificate verification is strongly advised. See: https://urllib3.readthedocs.io/en/latest/advanced-usage.html#tls-warnings\n",
      "  warnings.warn(\n",
      "C:\\Users\\a.dubinets\\AppData\\Roaming\\Python\\Python310\\site-packages\\urllib3\\connectionpool.py:1095: InsecureRequestWarning: Unverified HTTPS request is being made to host 'wikigrib.ru'. Adding certificate verification is strongly advised. See: https://urllib3.readthedocs.io/en/latest/advanced-usage.html#tls-warnings\n",
      "  warnings.warn(\n",
      "C:\\Users\\a.dubinets\\AppData\\Roaming\\Python\\Python310\\site-packages\\urllib3\\connectionpool.py:1095: InsecureRequestWarning: Unverified HTTPS request is being made to host 'wikigrib.ru'. Adding certificate verification is strongly advised. See: https://urllib3.readthedocs.io/en/latest/advanced-usage.html#tls-warnings\n",
      "  warnings.warn(\n",
      "C:\\Users\\a.dubinets\\AppData\\Roaming\\Python\\Python310\\site-packages\\urllib3\\connectionpool.py:1095: InsecureRequestWarning: Unverified HTTPS request is being made to host 'wikigrib.ru'. Adding certificate verification is strongly advised. See: https://urllib3.readthedocs.io/en/latest/advanced-usage.html#tls-warnings\n",
      "  warnings.warn(\n",
      "C:\\Users\\a.dubinets\\AppData\\Roaming\\Python\\Python310\\site-packages\\urllib3\\connectionpool.py:1095: InsecureRequestWarning: Unverified HTTPS request is being made to host 'wikigrib.ru'. Adding certificate verification is strongly advised. See: https://urllib3.readthedocs.io/en/latest/advanced-usage.html#tls-warnings\n",
      "  warnings.warn(\n",
      "C:\\Users\\a.dubinets\\AppData\\Roaming\\Python\\Python310\\site-packages\\urllib3\\connectionpool.py:1095: InsecureRequestWarning: Unverified HTTPS request is being made to host 'wikigrib.ru'. Adding certificate verification is strongly advised. See: https://urllib3.readthedocs.io/en/latest/advanced-usage.html#tls-warnings\n",
      "  warnings.warn(\n",
      "C:\\Users\\a.dubinets\\AppData\\Roaming\\Python\\Python310\\site-packages\\urllib3\\connectionpool.py:1095: InsecureRequestWarning: Unverified HTTPS request is being made to host 'wikigrib.ru'. Adding certificate verification is strongly advised. See: https://urllib3.readthedocs.io/en/latest/advanced-usage.html#tls-warnings\n",
      "  warnings.warn(\n",
      "C:\\Users\\a.dubinets\\AppData\\Roaming\\Python\\Python310\\site-packages\\urllib3\\connectionpool.py:1095: InsecureRequestWarning: Unverified HTTPS request is being made to host 'wikigrib.ru'. Adding certificate verification is strongly advised. See: https://urllib3.readthedocs.io/en/latest/advanced-usage.html#tls-warnings\n",
      "  warnings.warn(\n",
      "C:\\Users\\a.dubinets\\AppData\\Roaming\\Python\\Python310\\site-packages\\urllib3\\connectionpool.py:1095: InsecureRequestWarning: Unverified HTTPS request is being made to host 'wikigrib.ru'. Adding certificate verification is strongly advised. See: https://urllib3.readthedocs.io/en/latest/advanced-usage.html#tls-warnings\n",
      "  warnings.warn(\n",
      "C:\\Users\\a.dubinets\\AppData\\Roaming\\Python\\Python310\\site-packages\\urllib3\\connectionpool.py:1095: InsecureRequestWarning: Unverified HTTPS request is being made to host 'wikigrib.ru'. Adding certificate verification is strongly advised. See: https://urllib3.readthedocs.io/en/latest/advanced-usage.html#tls-warnings\n",
      "  warnings.warn(\n",
      "C:\\Users\\a.dubinets\\AppData\\Roaming\\Python\\Python310\\site-packages\\urllib3\\connectionpool.py:1095: InsecureRequestWarning: Unverified HTTPS request is being made to host 'wikigrib.ru'. Adding certificate verification is strongly advised. See: https://urllib3.readthedocs.io/en/latest/advanced-usage.html#tls-warnings\n",
      "  warnings.warn(\n",
      "C:\\Users\\a.dubinets\\AppData\\Roaming\\Python\\Python310\\site-packages\\urllib3\\connectionpool.py:1095: InsecureRequestWarning: Unverified HTTPS request is being made to host 'wikigrib.ru'. Adding certificate verification is strongly advised. See: https://urllib3.readthedocs.io/en/latest/advanced-usage.html#tls-warnings\n",
      "  warnings.warn(\n",
      "C:\\Users\\a.dubinets\\AppData\\Roaming\\Python\\Python310\\site-packages\\urllib3\\connectionpool.py:1095: InsecureRequestWarning: Unverified HTTPS request is being made to host 'wikigrib.ru'. Adding certificate verification is strongly advised. See: https://urllib3.readthedocs.io/en/latest/advanced-usage.html#tls-warnings\n",
      "  warnings.warn(\n",
      "C:\\Users\\a.dubinets\\AppData\\Roaming\\Python\\Python310\\site-packages\\urllib3\\connectionpool.py:1095: InsecureRequestWarning: Unverified HTTPS request is being made to host 'wikigrib.ru'. Adding certificate verification is strongly advised. See: https://urllib3.readthedocs.io/en/latest/advanced-usage.html#tls-warnings\n",
      "  warnings.warn(\n",
      "C:\\Users\\a.dubinets\\AppData\\Roaming\\Python\\Python310\\site-packages\\urllib3\\connectionpool.py:1095: InsecureRequestWarning: Unverified HTTPS request is being made to host 'wikigrib.ru'. Adding certificate verification is strongly advised. See: https://urllib3.readthedocs.io/en/latest/advanced-usage.html#tls-warnings\n",
      "  warnings.warn(\n",
      "C:\\Users\\a.dubinets\\AppData\\Roaming\\Python\\Python310\\site-packages\\urllib3\\connectionpool.py:1095: InsecureRequestWarning: Unverified HTTPS request is being made to host 'wikigrib.ru'. Adding certificate verification is strongly advised. See: https://urllib3.readthedocs.io/en/latest/advanced-usage.html#tls-warnings\n",
      "  warnings.warn(\n",
      "C:\\Users\\a.dubinets\\AppData\\Roaming\\Python\\Python310\\site-packages\\urllib3\\connectionpool.py:1095: InsecureRequestWarning: Unverified HTTPS request is being made to host 'wikigrib.ru'. Adding certificate verification is strongly advised. See: https://urllib3.readthedocs.io/en/latest/advanced-usage.html#tls-warnings\n",
      "  warnings.warn(\n",
      "C:\\Users\\a.dubinets\\AppData\\Roaming\\Python\\Python310\\site-packages\\urllib3\\connectionpool.py:1095: InsecureRequestWarning: Unverified HTTPS request is being made to host 'wikigrib.ru'. Adding certificate verification is strongly advised. See: https://urllib3.readthedocs.io/en/latest/advanced-usage.html#tls-warnings\n",
      "  warnings.warn(\n",
      "C:\\Users\\a.dubinets\\AppData\\Roaming\\Python\\Python310\\site-packages\\urllib3\\connectionpool.py:1095: InsecureRequestWarning: Unverified HTTPS request is being made to host 'wikigrib.ru'. Adding certificate verification is strongly advised. See: https://urllib3.readthedocs.io/en/latest/advanced-usage.html#tls-warnings\n",
      "  warnings.warn(\n"
     ]
    },
    {
     "name": "stderr",
     "output_type": "stream",
     "text": [
      "C:\\Users\\a.dubinets\\AppData\\Roaming\\Python\\Python310\\site-packages\\urllib3\\connectionpool.py:1095: InsecureRequestWarning: Unverified HTTPS request is being made to host 'wikigrib.ru'. Adding certificate verification is strongly advised. See: https://urllib3.readthedocs.io/en/latest/advanced-usage.html#tls-warnings\n",
      "  warnings.warn(\n",
      "C:\\Users\\a.dubinets\\AppData\\Roaming\\Python\\Python310\\site-packages\\urllib3\\connectionpool.py:1095: InsecureRequestWarning: Unverified HTTPS request is being made to host 'wikigrib.ru'. Adding certificate verification is strongly advised. See: https://urllib3.readthedocs.io/en/latest/advanced-usage.html#tls-warnings\n",
      "  warnings.warn(\n",
      "C:\\Users\\a.dubinets\\AppData\\Roaming\\Python\\Python310\\site-packages\\urllib3\\connectionpool.py:1095: InsecureRequestWarning: Unverified HTTPS request is being made to host 'wikigrib.ru'. Adding certificate verification is strongly advised. See: https://urllib3.readthedocs.io/en/latest/advanced-usage.html#tls-warnings\n",
      "  warnings.warn(\n",
      "C:\\Users\\a.dubinets\\AppData\\Roaming\\Python\\Python310\\site-packages\\urllib3\\connectionpool.py:1095: InsecureRequestWarning: Unverified HTTPS request is being made to host 'wikigrib.ru'. Adding certificate verification is strongly advised. See: https://urllib3.readthedocs.io/en/latest/advanced-usage.html#tls-warnings\n",
      "  warnings.warn(\n",
      "C:\\Users\\a.dubinets\\AppData\\Roaming\\Python\\Python310\\site-packages\\urllib3\\connectionpool.py:1095: InsecureRequestWarning: Unverified HTTPS request is being made to host 'wikigrib.ru'. Adding certificate verification is strongly advised. See: https://urllib3.readthedocs.io/en/latest/advanced-usage.html#tls-warnings\n",
      "  warnings.warn(\n",
      "C:\\Users\\a.dubinets\\AppData\\Roaming\\Python\\Python310\\site-packages\\urllib3\\connectionpool.py:1095: InsecureRequestWarning: Unverified HTTPS request is being made to host 'wikigrib.ru'. Adding certificate verification is strongly advised. See: https://urllib3.readthedocs.io/en/latest/advanced-usage.html#tls-warnings\n",
      "  warnings.warn(\n",
      "C:\\Users\\a.dubinets\\AppData\\Roaming\\Python\\Python310\\site-packages\\urllib3\\connectionpool.py:1095: InsecureRequestWarning: Unverified HTTPS request is being made to host 'wikigrib.ru'. Adding certificate verification is strongly advised. See: https://urllib3.readthedocs.io/en/latest/advanced-usage.html#tls-warnings\n",
      "  warnings.warn(\n",
      "C:\\Users\\a.dubinets\\AppData\\Roaming\\Python\\Python310\\site-packages\\urllib3\\connectionpool.py:1095: InsecureRequestWarning: Unverified HTTPS request is being made to host 'wikigrib.ru'. Adding certificate verification is strongly advised. See: https://urllib3.readthedocs.io/en/latest/advanced-usage.html#tls-warnings\n",
      "  warnings.warn(\n",
      "C:\\Users\\a.dubinets\\AppData\\Roaming\\Python\\Python310\\site-packages\\urllib3\\connectionpool.py:1095: InsecureRequestWarning: Unverified HTTPS request is being made to host 'wikigrib.ru'. Adding certificate verification is strongly advised. See: https://urllib3.readthedocs.io/en/latest/advanced-usage.html#tls-warnings\n",
      "  warnings.warn(\n",
      "C:\\Users\\a.dubinets\\AppData\\Roaming\\Python\\Python310\\site-packages\\urllib3\\connectionpool.py:1095: InsecureRequestWarning: Unverified HTTPS request is being made to host 'wikigrib.ru'. Adding certificate verification is strongly advised. See: https://urllib3.readthedocs.io/en/latest/advanced-usage.html#tls-warnings\n",
      "  warnings.warn(\n",
      "C:\\Users\\a.dubinets\\AppData\\Roaming\\Python\\Python310\\site-packages\\urllib3\\connectionpool.py:1095: InsecureRequestWarning: Unverified HTTPS request is being made to host 'wikigrib.ru'. Adding certificate verification is strongly advised. See: https://urllib3.readthedocs.io/en/latest/advanced-usage.html#tls-warnings\n",
      "  warnings.warn(\n",
      "C:\\Users\\a.dubinets\\AppData\\Roaming\\Python\\Python310\\site-packages\\urllib3\\connectionpool.py:1095: InsecureRequestWarning: Unverified HTTPS request is being made to host 'wikigrib.ru'. Adding certificate verification is strongly advised. See: https://urllib3.readthedocs.io/en/latest/advanced-usage.html#tls-warnings\n",
      "  warnings.warn(\n",
      "C:\\Users\\a.dubinets\\AppData\\Roaming\\Python\\Python310\\site-packages\\urllib3\\connectionpool.py:1095: InsecureRequestWarning: Unverified HTTPS request is being made to host 'wikigrib.ru'. Adding certificate verification is strongly advised. See: https://urllib3.readthedocs.io/en/latest/advanced-usage.html#tls-warnings\n",
      "  warnings.warn(\n",
      "C:\\Users\\a.dubinets\\AppData\\Roaming\\Python\\Python310\\site-packages\\urllib3\\connectionpool.py:1095: InsecureRequestWarning: Unverified HTTPS request is being made to host 'wikigrib.ru'. Adding certificate verification is strongly advised. See: https://urllib3.readthedocs.io/en/latest/advanced-usage.html#tls-warnings\n",
      "  warnings.warn(\n",
      "C:\\Users\\a.dubinets\\AppData\\Roaming\\Python\\Python310\\site-packages\\urllib3\\connectionpool.py:1095: InsecureRequestWarning: Unverified HTTPS request is being made to host 'wikigrib.ru'. Adding certificate verification is strongly advised. See: https://urllib3.readthedocs.io/en/latest/advanced-usage.html#tls-warnings\n",
      "  warnings.warn(\n",
      "C:\\Users\\a.dubinets\\AppData\\Roaming\\Python\\Python310\\site-packages\\urllib3\\connectionpool.py:1095: InsecureRequestWarning: Unverified HTTPS request is being made to host 'wikigrib.ru'. Adding certificate verification is strongly advised. See: https://urllib3.readthedocs.io/en/latest/advanced-usage.html#tls-warnings\n",
      "  warnings.warn(\n",
      "C:\\Users\\a.dubinets\\AppData\\Roaming\\Python\\Python310\\site-packages\\urllib3\\connectionpool.py:1095: InsecureRequestWarning: Unverified HTTPS request is being made to host 'wikigrib.ru'. Adding certificate verification is strongly advised. See: https://urllib3.readthedocs.io/en/latest/advanced-usage.html#tls-warnings\n",
      "  warnings.warn(\n",
      "C:\\Users\\a.dubinets\\AppData\\Roaming\\Python\\Python310\\site-packages\\urllib3\\connectionpool.py:1095: InsecureRequestWarning: Unverified HTTPS request is being made to host 'wikigrib.ru'. Adding certificate verification is strongly advised. See: https://urllib3.readthedocs.io/en/latest/advanced-usage.html#tls-warnings\n",
      "  warnings.warn(\n",
      "C:\\Users\\a.dubinets\\AppData\\Roaming\\Python\\Python310\\site-packages\\urllib3\\connectionpool.py:1095: InsecureRequestWarning: Unverified HTTPS request is being made to host 'wikigrib.ru'. Adding certificate verification is strongly advised. See: https://urllib3.readthedocs.io/en/latest/advanced-usage.html#tls-warnings\n",
      "  warnings.warn(\n",
      "C:\\Users\\a.dubinets\\AppData\\Roaming\\Python\\Python310\\site-packages\\urllib3\\connectionpool.py:1095: InsecureRequestWarning: Unverified HTTPS request is being made to host 'wikigrib.ru'. Adding certificate verification is strongly advised. See: https://urllib3.readthedocs.io/en/latest/advanced-usage.html#tls-warnings\n",
      "  warnings.warn(\n",
      "C:\\Users\\a.dubinets\\AppData\\Roaming\\Python\\Python310\\site-packages\\urllib3\\connectionpool.py:1095: InsecureRequestWarning: Unverified HTTPS request is being made to host 'wikigrib.ru'. Adding certificate verification is strongly advised. See: https://urllib3.readthedocs.io/en/latest/advanced-usage.html#tls-warnings\n",
      "  warnings.warn(\n",
      "C:\\Users\\a.dubinets\\AppData\\Roaming\\Python\\Python310\\site-packages\\urllib3\\connectionpool.py:1095: InsecureRequestWarning: Unverified HTTPS request is being made to host 'wikigrib.ru'. Adding certificate verification is strongly advised. See: https://urllib3.readthedocs.io/en/latest/advanced-usage.html#tls-warnings\n",
      "  warnings.warn(\n",
      "C:\\Users\\a.dubinets\\AppData\\Roaming\\Python\\Python310\\site-packages\\urllib3\\connectionpool.py:1095: InsecureRequestWarning: Unverified HTTPS request is being made to host 'wikigrib.ru'. Adding certificate verification is strongly advised. See: https://urllib3.readthedocs.io/en/latest/advanced-usage.html#tls-warnings\n",
      "  warnings.warn(\n",
      "C:\\Users\\a.dubinets\\AppData\\Roaming\\Python\\Python310\\site-packages\\urllib3\\connectionpool.py:1095: InsecureRequestWarning: Unverified HTTPS request is being made to host 'wikigrib.ru'. Adding certificate verification is strongly advised. See: https://urllib3.readthedocs.io/en/latest/advanced-usage.html#tls-warnings\n",
      "  warnings.warn(\n",
      "C:\\Users\\a.dubinets\\AppData\\Roaming\\Python\\Python310\\site-packages\\urllib3\\connectionpool.py:1095: InsecureRequestWarning: Unverified HTTPS request is being made to host 'wikigrib.ru'. Adding certificate verification is strongly advised. See: https://urllib3.readthedocs.io/en/latest/advanced-usage.html#tls-warnings\n",
      "  warnings.warn(\n"
     ]
    },
    {
     "name": "stderr",
     "output_type": "stream",
     "text": [
      "C:\\Users\\a.dubinets\\AppData\\Roaming\\Python\\Python310\\site-packages\\urllib3\\connectionpool.py:1095: InsecureRequestWarning: Unverified HTTPS request is being made to host 'wikigrib.ru'. Adding certificate verification is strongly advised. See: https://urllib3.readthedocs.io/en/latest/advanced-usage.html#tls-warnings\n",
      "  warnings.warn(\n",
      "C:\\Users\\a.dubinets\\AppData\\Roaming\\Python\\Python310\\site-packages\\urllib3\\connectionpool.py:1095: InsecureRequestWarning: Unverified HTTPS request is being made to host 'wikigrib.ru'. Adding certificate verification is strongly advised. See: https://urllib3.readthedocs.io/en/latest/advanced-usage.html#tls-warnings\n",
      "  warnings.warn(\n",
      "C:\\Users\\a.dubinets\\AppData\\Roaming\\Python\\Python310\\site-packages\\urllib3\\connectionpool.py:1095: InsecureRequestWarning: Unverified HTTPS request is being made to host 'wikigrib.ru'. Adding certificate verification is strongly advised. See: https://urllib3.readthedocs.io/en/latest/advanced-usage.html#tls-warnings\n",
      "  warnings.warn(\n",
      "C:\\Users\\a.dubinets\\AppData\\Roaming\\Python\\Python310\\site-packages\\urllib3\\connectionpool.py:1095: InsecureRequestWarning: Unverified HTTPS request is being made to host 'wikigrib.ru'. Adding certificate verification is strongly advised. See: https://urllib3.readthedocs.io/en/latest/advanced-usage.html#tls-warnings\n",
      "  warnings.warn(\n",
      "C:\\Users\\a.dubinets\\AppData\\Roaming\\Python\\Python310\\site-packages\\urllib3\\connectionpool.py:1095: InsecureRequestWarning: Unverified HTTPS request is being made to host 'wikigrib.ru'. Adding certificate verification is strongly advised. See: https://urllib3.readthedocs.io/en/latest/advanced-usage.html#tls-warnings\n",
      "  warnings.warn(\n",
      "C:\\Users\\a.dubinets\\AppData\\Roaming\\Python\\Python310\\site-packages\\urllib3\\connectionpool.py:1095: InsecureRequestWarning: Unverified HTTPS request is being made to host 'wikigrib.ru'. Adding certificate verification is strongly advised. See: https://urllib3.readthedocs.io/en/latest/advanced-usage.html#tls-warnings\n",
      "  warnings.warn(\n",
      "C:\\Users\\a.dubinets\\AppData\\Roaming\\Python\\Python310\\site-packages\\urllib3\\connectionpool.py:1095: InsecureRequestWarning: Unverified HTTPS request is being made to host 'wikigrib.ru'. Adding certificate verification is strongly advised. See: https://urllib3.readthedocs.io/en/latest/advanced-usage.html#tls-warnings\n",
      "  warnings.warn(\n",
      "C:\\Users\\a.dubinets\\AppData\\Roaming\\Python\\Python310\\site-packages\\urllib3\\connectionpool.py:1095: InsecureRequestWarning: Unverified HTTPS request is being made to host 'wikigrib.ru'. Adding certificate verification is strongly advised. See: https://urllib3.readthedocs.io/en/latest/advanced-usage.html#tls-warnings\n",
      "  warnings.warn(\n",
      "C:\\Users\\a.dubinets\\AppData\\Roaming\\Python\\Python310\\site-packages\\urllib3\\connectionpool.py:1095: InsecureRequestWarning: Unverified HTTPS request is being made to host 'wikigrib.ru'. Adding certificate verification is strongly advised. See: https://urllib3.readthedocs.io/en/latest/advanced-usage.html#tls-warnings\n",
      "  warnings.warn(\n",
      "C:\\Users\\a.dubinets\\AppData\\Roaming\\Python\\Python310\\site-packages\\urllib3\\connectionpool.py:1095: InsecureRequestWarning: Unverified HTTPS request is being made to host 'wikigrib.ru'. Adding certificate verification is strongly advised. See: https://urllib3.readthedocs.io/en/latest/advanced-usage.html#tls-warnings\n",
      "  warnings.warn(\n",
      "C:\\Users\\a.dubinets\\AppData\\Roaming\\Python\\Python310\\site-packages\\urllib3\\connectionpool.py:1095: InsecureRequestWarning: Unverified HTTPS request is being made to host 'wikigrib.ru'. Adding certificate verification is strongly advised. See: https://urllib3.readthedocs.io/en/latest/advanced-usage.html#tls-warnings\n",
      "  warnings.warn(\n",
      "C:\\Users\\a.dubinets\\AppData\\Roaming\\Python\\Python310\\site-packages\\urllib3\\connectionpool.py:1095: InsecureRequestWarning: Unverified HTTPS request is being made to host 'wikigrib.ru'. Adding certificate verification is strongly advised. See: https://urllib3.readthedocs.io/en/latest/advanced-usage.html#tls-warnings\n",
      "  warnings.warn(\n",
      "C:\\Users\\a.dubinets\\AppData\\Roaming\\Python\\Python310\\site-packages\\urllib3\\connectionpool.py:1095: InsecureRequestWarning: Unverified HTTPS request is being made to host 'wikigrib.ru'. Adding certificate verification is strongly advised. See: https://urllib3.readthedocs.io/en/latest/advanced-usage.html#tls-warnings\n",
      "  warnings.warn(\n",
      "C:\\Users\\a.dubinets\\AppData\\Roaming\\Python\\Python310\\site-packages\\urllib3\\connectionpool.py:1095: InsecureRequestWarning: Unverified HTTPS request is being made to host 'wikigrib.ru'. Adding certificate verification is strongly advised. See: https://urllib3.readthedocs.io/en/latest/advanced-usage.html#tls-warnings\n",
      "  warnings.warn(\n",
      "C:\\Users\\a.dubinets\\AppData\\Roaming\\Python\\Python310\\site-packages\\urllib3\\connectionpool.py:1095: InsecureRequestWarning: Unverified HTTPS request is being made to host 'wikigrib.ru'. Adding certificate verification is strongly advised. See: https://urllib3.readthedocs.io/en/latest/advanced-usage.html#tls-warnings\n",
      "  warnings.warn(\n",
      "C:\\Users\\a.dubinets\\AppData\\Roaming\\Python\\Python310\\site-packages\\urllib3\\connectionpool.py:1095: InsecureRequestWarning: Unverified HTTPS request is being made to host 'wikigrib.ru'. Adding certificate verification is strongly advised. See: https://urllib3.readthedocs.io/en/latest/advanced-usage.html#tls-warnings\n",
      "  warnings.warn(\n",
      "C:\\Users\\a.dubinets\\AppData\\Roaming\\Python\\Python310\\site-packages\\urllib3\\connectionpool.py:1095: InsecureRequestWarning: Unverified HTTPS request is being made to host 'wikigrib.ru'. Adding certificate verification is strongly advised. See: https://urllib3.readthedocs.io/en/latest/advanced-usage.html#tls-warnings\n",
      "  warnings.warn(\n",
      "C:\\Users\\a.dubinets\\AppData\\Roaming\\Python\\Python310\\site-packages\\urllib3\\connectionpool.py:1095: InsecureRequestWarning: Unverified HTTPS request is being made to host 'wikigrib.ru'. Adding certificate verification is strongly advised. See: https://urllib3.readthedocs.io/en/latest/advanced-usage.html#tls-warnings\n",
      "  warnings.warn(\n",
      "C:\\Users\\a.dubinets\\AppData\\Roaming\\Python\\Python310\\site-packages\\urllib3\\connectionpool.py:1095: InsecureRequestWarning: Unverified HTTPS request is being made to host 'wikigrib.ru'. Adding certificate verification is strongly advised. See: https://urllib3.readthedocs.io/en/latest/advanced-usage.html#tls-warnings\n",
      "  warnings.warn(\n",
      "C:\\Users\\a.dubinets\\AppData\\Roaming\\Python\\Python310\\site-packages\\urllib3\\connectionpool.py:1095: InsecureRequestWarning: Unverified HTTPS request is being made to host 'wikigrib.ru'. Adding certificate verification is strongly advised. See: https://urllib3.readthedocs.io/en/latest/advanced-usage.html#tls-warnings\n",
      "  warnings.warn(\n",
      "C:\\Users\\a.dubinets\\AppData\\Roaming\\Python\\Python310\\site-packages\\urllib3\\connectionpool.py:1095: InsecureRequestWarning: Unverified HTTPS request is being made to host 'wikigrib.ru'. Adding certificate verification is strongly advised. See: https://urllib3.readthedocs.io/en/latest/advanced-usage.html#tls-warnings\n",
      "  warnings.warn(\n",
      "C:\\Users\\a.dubinets\\AppData\\Roaming\\Python\\Python310\\site-packages\\urllib3\\connectionpool.py:1095: InsecureRequestWarning: Unverified HTTPS request is being made to host 'wikigrib.ru'. Adding certificate verification is strongly advised. See: https://urllib3.readthedocs.io/en/latest/advanced-usage.html#tls-warnings\n",
      "  warnings.warn(\n",
      "C:\\Users\\a.dubinets\\AppData\\Roaming\\Python\\Python310\\site-packages\\urllib3\\connectionpool.py:1095: InsecureRequestWarning: Unverified HTTPS request is being made to host 'wikigrib.ru'. Adding certificate verification is strongly advised. See: https://urllib3.readthedocs.io/en/latest/advanced-usage.html#tls-warnings\n",
      "  warnings.warn(\n",
      "C:\\Users\\a.dubinets\\AppData\\Roaming\\Python\\Python310\\site-packages\\urllib3\\connectionpool.py:1095: InsecureRequestWarning: Unverified HTTPS request is being made to host 'wikigrib.ru'. Adding certificate verification is strongly advised. See: https://urllib3.readthedocs.io/en/latest/advanced-usage.html#tls-warnings\n",
      "  warnings.warn(\n",
      "C:\\Users\\a.dubinets\\AppData\\Roaming\\Python\\Python310\\site-packages\\urllib3\\connectionpool.py:1095: InsecureRequestWarning: Unverified HTTPS request is being made to host 'wikigrib.ru'. Adding certificate verification is strongly advised. See: https://urllib3.readthedocs.io/en/latest/advanced-usage.html#tls-warnings\n",
      "  warnings.warn(\n"
     ]
    },
    {
     "name": "stderr",
     "output_type": "stream",
     "text": [
      "C:\\Users\\a.dubinets\\AppData\\Roaming\\Python\\Python310\\site-packages\\urllib3\\connectionpool.py:1095: InsecureRequestWarning: Unverified HTTPS request is being made to host 'wikigrib.ru'. Adding certificate verification is strongly advised. See: https://urllib3.readthedocs.io/en/latest/advanced-usage.html#tls-warnings\n",
      "  warnings.warn(\n",
      "C:\\Users\\a.dubinets\\AppData\\Roaming\\Python\\Python310\\site-packages\\urllib3\\connectionpool.py:1095: InsecureRequestWarning: Unverified HTTPS request is being made to host 'wikigrib.ru'. Adding certificate verification is strongly advised. See: https://urllib3.readthedocs.io/en/latest/advanced-usage.html#tls-warnings\n",
      "  warnings.warn(\n",
      "C:\\Users\\a.dubinets\\AppData\\Roaming\\Python\\Python310\\site-packages\\urllib3\\connectionpool.py:1095: InsecureRequestWarning: Unverified HTTPS request is being made to host 'wikigrib.ru'. Adding certificate verification is strongly advised. See: https://urllib3.readthedocs.io/en/latest/advanced-usage.html#tls-warnings\n",
      "  warnings.warn(\n",
      "C:\\Users\\a.dubinets\\AppData\\Roaming\\Python\\Python310\\site-packages\\urllib3\\connectionpool.py:1095: InsecureRequestWarning: Unverified HTTPS request is being made to host 'wikigrib.ru'. Adding certificate verification is strongly advised. See: https://urllib3.readthedocs.io/en/latest/advanced-usage.html#tls-warnings\n",
      "  warnings.warn(\n",
      "C:\\Users\\a.dubinets\\AppData\\Roaming\\Python\\Python310\\site-packages\\urllib3\\connectionpool.py:1095: InsecureRequestWarning: Unverified HTTPS request is being made to host 'wikigrib.ru'. Adding certificate verification is strongly advised. See: https://urllib3.readthedocs.io/en/latest/advanced-usage.html#tls-warnings\n",
      "  warnings.warn(\n"
     ]
    }
   ],
   "source": [
    "# На сайте всего 104 стр. про грибы. Начнем парсить с 1 по 104 страницу создавая базу данных для наших грибов. \n",
    "column = [\"title\",\"lat\",\"link\",\"desciption\"]\n",
    "df = pd.DataFrame(columns=column)\n",
    "\n",
    "for i in range(105):    \n",
    "    url = f\"https://wikigrib.ru/vidy/page/{i}/\"\n",
    "    r = requests.get(url, verify=False)\n",
    "    df1=parse(r.text)\n",
    "    df =pd.concat([df, df1])"
   ]
  },
  {
   "cell_type": "code",
   "execution_count": 10,
   "id": "89a66a65",
   "metadata": {},
   "outputs": [],
   "source": [
    "df.to_csv ('Result/mushroom.csv', sep=';', encoding='utf-16', index= False )\n",
    "df.to_excel('Result/mushroom.xlsx', sheet_name='mushroom', index=False)"
   ]
  },
  {
   "cell_type": "code",
   "execution_count": 3,
   "id": "2395ec26",
   "metadata": {},
   "outputs": [
    {
     "data": {
      "text/html": [
       "<div>\n",
       "<style scoped>\n",
       "    .dataframe tbody tr th:only-of-type {\n",
       "        vertical-align: middle;\n",
       "    }\n",
       "\n",
       "    .dataframe tbody tr th {\n",
       "        vertical-align: top;\n",
       "    }\n",
       "\n",
       "    .dataframe thead th {\n",
       "        text-align: right;\n",
       "    }\n",
       "</style>\n",
       "<table border=\"1\" class=\"dataframe\">\n",
       "  <thead>\n",
       "    <tr style=\"text-align: right;\">\n",
       "      <th></th>\n",
       "      <th>title</th>\n",
       "      <th>lat</th>\n",
       "      <th>link</th>\n",
       "      <th>desciption</th>\n",
       "    </tr>\n",
       "  </thead>\n",
       "  <tbody>\n",
       "    <tr>\n",
       "      <th>0</th>\n",
       "      <td>Свинушка тонкая</td>\n",
       "      <td>Paxillus involutus</td>\n",
       "      <td>https://wikigrib.ru/svinushka-tonkaya/</td>\n",
       "      <td>\\nСвинушка тонкая (лат. Paxillus involutus) ил...</td>\n",
       "    </tr>\n",
       "    <tr>\n",
       "      <th>1</th>\n",
       "      <td>Жёлчный гриб</td>\n",
       "      <td>Tylopilus felleus</td>\n",
       "      <td>https://wikigrib.ru/zhelchnyj-gribgorchak/</td>\n",
       "      <td>\\nВоплощение разочарования любого грибника – Л...</td>\n",
       "    </tr>\n",
       "    <tr>\n",
       "      <th>2</th>\n",
       "      <td>Рядовка лиловоногая</td>\n",
       "      <td>Lepista saeva</td>\n",
       "      <td>https://wikigrib.ru/ryadovka-lilovonogaya/</td>\n",
       "      <td>\\n\\nХарактеристики:\\nГруппа: пластинчатыеПласт...</td>\n",
       "    </tr>\n",
       "    <tr>\n",
       "      <th>3</th>\n",
       "      <td>Рядовка тополёвая</td>\n",
       "      <td>Tricholoma populinum</td>\n",
       "      <td>https://wikigrib.ru/ryadovka-topolevaya/</td>\n",
       "      <td>\\n\\nХарактеристики:\\nГруппа: пластинчатыеЦвет:...</td>\n",
       "    </tr>\n",
       "    <tr>\n",
       "      <th>4</th>\n",
       "      <td>Опёнок осенний</td>\n",
       "      <td>Armillaria mellea; Armillaria borealis</td>\n",
       "      <td>https://wikigrib.ru/openok-osennij/</td>\n",
       "      <td>\\n\\nХарактеристики:\\nГруппа: пластинчатыеПласт...</td>\n",
       "    </tr>\n",
       "  </tbody>\n",
       "</table>\n",
       "</div>"
      ],
      "text/plain": [
       "                 title                                     lat  \\\n",
       "0      Свинушка тонкая                      Paxillus involutus   \n",
       "1         Жёлчный гриб                       Tylopilus felleus   \n",
       "2  Рядовка лиловоногая                           Lepista saeva   \n",
       "3    Рядовка тополёвая                    Tricholoma populinum   \n",
       "4       Опёнок осенний  Armillaria mellea; Armillaria borealis   \n",
       "\n",
       "                                         link  \\\n",
       "0      https://wikigrib.ru/svinushka-tonkaya/   \n",
       "1  https://wikigrib.ru/zhelchnyj-gribgorchak/   \n",
       "2  https://wikigrib.ru/ryadovka-lilovonogaya/   \n",
       "3    https://wikigrib.ru/ryadovka-topolevaya/   \n",
       "4         https://wikigrib.ru/openok-osennij/   \n",
       "\n",
       "                                          desciption  \n",
       "0  \\nСвинушка тонкая (лат. Paxillus involutus) ил...  \n",
       "1  \\nВоплощение разочарования любого грибника – Л...  \n",
       "2  \\n\\nХарактеристики:\\nГруппа: пластинчатыеПласт...  \n",
       "3  \\n\\nХарактеристики:\\nГруппа: пластинчатыеЦвет:...  \n",
       "4  \\n\\nХарактеристики:\\nГруппа: пластинчатыеПласт...  "
      ]
     },
     "execution_count": 3,
     "metadata": {},
     "output_type": "execute_result"
    }
   ],
   "source": [
    "df=pd.read_excel(r'Result/mushroom.xlsx') \n",
    "df.head(5)"
   ]
  },
  {
   "cell_type": "code",
   "execution_count": 9,
   "id": "042d273f",
   "metadata": {},
   "outputs": [
    {
     "data": {
      "text/html": [
       "<div>\n",
       "<style scoped>\n",
       "    .dataframe tbody tr th:only-of-type {\n",
       "        vertical-align: middle;\n",
       "    }\n",
       "\n",
       "    .dataframe tbody tr th {\n",
       "        vertical-align: top;\n",
       "    }\n",
       "\n",
       "    .dataframe thead th {\n",
       "        text-align: right;\n",
       "    }\n",
       "</style>\n",
       "<table border=\"1\" class=\"dataframe\">\n",
       "  <thead>\n",
       "    <tr style=\"text-align: right;\">\n",
       "      <th></th>\n",
       "      <th>title</th>\n",
       "      <th>lat</th>\n",
       "      <th>link</th>\n",
       "      <th>desciption</th>\n",
       "    </tr>\n",
       "  </thead>\n",
       "  <tbody>\n",
       "    <tr>\n",
       "      <th>count</th>\n",
       "      <td>1040</td>\n",
       "      <td>1040</td>\n",
       "      <td>1040</td>\n",
       "      <td>1040</td>\n",
       "    </tr>\n",
       "    <tr>\n",
       "      <th>unique</th>\n",
       "      <td>1027</td>\n",
       "      <td>1014</td>\n",
       "      <td>1027</td>\n",
       "      <td>783</td>\n",
       "    </tr>\n",
       "    <tr>\n",
       "      <th>top</th>\n",
       "      <td>Свинушка тонкая</td>\n",
       "      <td>Morchella esculenta</td>\n",
       "      <td>https://wikigrib.ru/svinushka-tonkaya/</td>\n",
       "      <td>\\n\\nСистематика:\\nОтдел: Basidiomycota (Базиди...</td>\n",
       "    </tr>\n",
       "    <tr>\n",
       "      <th>freq</th>\n",
       "      <td>2</td>\n",
       "      <td>3</td>\n",
       "      <td>2</td>\n",
       "      <td>14</td>\n",
       "    </tr>\n",
       "  </tbody>\n",
       "</table>\n",
       "</div>"
      ],
      "text/plain": [
       "                  title                  lat  \\\n",
       "count              1040                 1040   \n",
       "unique             1027                 1014   \n",
       "top     Свинушка тонкая  Morchella esculenta   \n",
       "freq                  2                    3   \n",
       "\n",
       "                                          link  \\\n",
       "count                                     1040   \n",
       "unique                                    1027   \n",
       "top     https://wikigrib.ru/svinushka-tonkaya/   \n",
       "freq                                         2   \n",
       "\n",
       "                                               desciption  \n",
       "count                                                1040  \n",
       "unique                                                783  \n",
       "top     \\n\\nСистематика:\\nОтдел: Basidiomycota (Базиди...  \n",
       "freq                                                   14  "
      ]
     },
     "execution_count": 9,
     "metadata": {},
     "output_type": "execute_result"
    }
   ],
   "source": [
    "df.describe()"
   ]
  },
  {
   "cell_type": "markdown",
   "id": "cb4a9ea6",
   "metadata": {},
   "source": [
    "## Теперь мы будем искать эти грибы в google и сохранять их изображения.  \n",
    "В первый заход я сохранял 250 фото грибов производя поиск на русском языке. Для того чтобы выгрузить 1028 грибов было затрачено около 24*4 часов, также это заняло около 80 гб. После просмотра полученных фото: \n",
    "1) Я понял, что 50% фото повторяются. Их нужно будет еще чистить от дублей. \n",
    "2) По названию гриба попало много мусора, типа блюда с этим грибом, вырезки из учебников где представленно много грибов, порезанные грибы, нарисованные грибы, декор грибы и тд. Поэтому полученный dataset нужно обрабатывать оператору. \n",
    "3) Полученное количество фото после всех чисток составило в среднем 35-50 фото на 1 вид грибов. При обучении модели не удалось получить качество выше 10% accuracy, поэтому я принял решение попробовать добавить фото на английском."
   ]
  },
  {
   "cell_type": "code",
   "execution_count": 10,
   "id": "89266079",
   "metadata": {},
   "outputs": [
    {
     "name": "stderr",
     "output_type": "stream",
     "text": [
      "  0%|                                                                                         | 0/1009 [00:00<?, ?it/s][                                                                        ]   0%\r"
     ]
    },
    {
     "name": "stdout",
     "output_type": "stream",
     "text": [
      "Calocybe gambosa 0\n"
     ]
    },
    {
     "name": "stderr",
     "output_type": "stream",
     "text": [
      "[========================================================================] 100%\n",
      "  0%|                                                                             | 1/1009 [05:45<96:40:10, 345.25s/it][                                                                        ]   0%\r"
     ]
    },
    {
     "name": "stdout",
     "output_type": "stream",
     "text": [
      "Gyroporus castaneus 1\n"
     ]
    },
    {
     "name": "stderr",
     "output_type": "stream",
     "text": [
      "[========================================================================] 100%\n",
      "  0%|▏                                                                           | 2/1009 [11:58<101:08:58, 361.61s/it][                                                                        ]   0%\r"
     ]
    },
    {
     "name": "stdout",
     "output_type": "stream",
     "text": [
      "Cantharellus cibarius 2\n"
     ]
    },
    {
     "name": "stderr",
     "output_type": "stream",
     "text": [
      "[========================================================================] 100%\n",
      "  0%|▏                                                                            | 3/1009 [17:29<97:12:33, 347.87s/it][                                                                        ]   0%\r"
     ]
    },
    {
     "name": "stdout",
     "output_type": "stream",
     "text": [
      "Imleria badia 3\n"
     ]
    },
    {
     "name": "stderr",
     "output_type": "stream",
     "text": [
      "[========================================================================] 100%\n",
      "  0%|▎                                                                            | 4/1009 [22:27<91:32:17, 327.90s/it][                                                                        ]   0%\r"
     ]
    },
    {
     "name": "stdout",
     "output_type": "stream",
     "text": [
      "Coprinus comatus 4\n"
     ]
    },
    {
     "name": "stderr",
     "output_type": "stream",
     "text": [
      "[========================================================================] 100%\n",
      "  0%|▍                                                                            | 5/1009 [28:12<93:12:52, 334.24s/it][                                                                        ]   0%\r"
     ]
    },
    {
     "name": "stdout",
     "output_type": "stream",
     "text": [
      "Rubroboletus satanas 5\n"
     ]
    },
    {
     "name": "stderr",
     "output_type": "stream",
     "text": [
      "[========================================================================] 100%\n",
      "  1%|▍                                                                            | 6/1009 [33:19<90:30:43, 324.87s/it][                                                                        ]   0%\r"
     ]
    },
    {
     "name": "stdout",
     "output_type": "stream",
     "text": [
      "Tricholoma album 6\n"
     ]
    },
    {
     "name": "stderr",
     "output_type": "stream",
     "text": [
      "[========================================================================] 100%\n",
      "  1%|▌                                                                            | 7/1009 [37:14<82:16:13, 295.58s/it][                                                                        ]   0%\r"
     ]
    },
    {
     "name": "stdout",
     "output_type": "stream",
     "text": [
      "Hydnum repandum 7\n"
     ]
    },
    {
     "name": "stderr",
     "output_type": "stream",
     "text": [
      "[========================================================================] 100%\n",
      "  1%|▌                                                                            | 8/1009 [43:30<89:16:59, 321.10s/it][                                                                        ]   0%\r"
     ]
    },
    {
     "name": "stdout",
     "output_type": "stream",
     "text": [
      "Panaeolus papilionaceus 8\n"
     ]
    },
    {
     "name": "stderr",
     "output_type": "stream",
     "text": [
      "[========================================================================] 100%\n",
      "  1%|▋                                                                            | 9/1009 [49:05<90:24:39, 325.48s/it][                                                                        ]   0%\r"
     ]
    },
    {
     "name": "stdout",
     "output_type": "stream",
     "text": [
      "Agaricus xanthodermus 9\n"
     ]
    },
    {
     "name": "stderr",
     "output_type": "stream",
     "text": [
      "[========================================================================] 100%\n",
      "  1%|▊                                                                           | 10/1009 [56:01<98:02:54, 353.33s/it][                                                                        ]   0%\r"
     ]
    },
    {
     "name": "stdout",
     "output_type": "stream",
     "text": [
      "Cortinarius violaceus 10\n"
     ]
    },
    {
     "name": "stderr",
     "output_type": "stream",
     "text": [
      "[========================================================================] 100%\n",
      "  1%|▊                                                                        | 11/1009 [1:02:27<100:47:08, 363.56s/it][                                                                        ]   0%\r"
     ]
    },
    {
     "name": "stdout",
     "output_type": "stream",
     "text": [
      "Deconica coprophila 11\n"
     ]
    },
    {
     "name": "stderr",
     "output_type": "stream",
     "text": [
      "[========================================================================] 100%\n",
      "  1%|▊                                                                        | 12/1009 [1:09:05<103:35:13, 374.04s/it][                                                                        ]   0%\r"
     ]
    },
    {
     "name": "stdout",
     "output_type": "stream",
     "text": [
      "Clitocybe nebularis 12\n"
     ]
    },
    {
     "name": "stderr",
     "output_type": "stream",
     "text": [
      "[========================================================================] 100%\n",
      "  1%|▉                                                                        | 13/1009 [1:14:59<101:46:24, 367.86s/it][                                                                        ]   0%\r"
     ]
    },
    {
     "name": "stdout",
     "output_type": "stream",
     "text": [
      "Marasmius oreades 13\n"
     ]
    },
    {
     "name": "stderr",
     "output_type": "stream",
     "text": [
      "[========================================================================] 100%\n",
      "  1%|█                                                                         | 14/1009 [1:20:19<97:40:45, 353.41s/it][                                                                        ]   0%\r"
     ]
    },
    {
     "name": "stdout",
     "output_type": "stream",
     "text": [
      "Cortinarius triumphans 14\n"
     ]
    },
    {
     "name": "stderr",
     "output_type": "stream",
     "text": [
      "[========================================================================] 100%\n",
      "  1%|█                                                                         | 15/1009 [1:24:05<86:57:02, 314.91s/it][                                                                        ]   0%\r"
     ]
    },
    {
     "name": "stdout",
     "output_type": "stream",
     "text": [
      "Boletus subtomentosus 15\n"
     ]
    },
    {
     "name": "stderr",
     "output_type": "stream",
     "text": [
      "[========================================================================] 100%\n",
      "  2%|█▏                                                                        | 16/1009 [1:29:07<85:50:47, 311.23s/it][                                                                        ]   0%\r"
     ]
    },
    {
     "name": "stdout",
     "output_type": "stream",
     "text": [
      "Sarcodon Imbricatus 16\n"
     ]
    },
    {
     "name": "stderr",
     "output_type": "stream",
     "text": [
      "[========================================================================] 100%\n",
      "  2%|█▏                                                                        | 17/1009 [1:35:08<89:53:01, 326.19s/it][                                                                        ]   0%\r"
     ]
    },
    {
     "name": "stdout",
     "output_type": "stream",
     "text": [
      "Gomphidius glutinosus 17\n"
     ]
    },
    {
     "name": "stderr",
     "output_type": "stream",
     "text": [
      "[========================================================================] 100%\n",
      "  2%|█▎                                                                        | 18/1009 [1:40:07<87:31:03, 317.92s/it][                                                                        ]   0%\r"
     ]
    },
    {
     "name": "stdout",
     "output_type": "stream",
     "text": [
      "Suillus luteus 18\n"
     ]
    },
    {
     "name": "stderr",
     "output_type": "stream",
     "text": [
      "[========================================================================] 100%\n",
      "  2%|█▍                                                                        | 19/1009 [1:45:23<87:13:35, 317.19s/it][                                                                        ]   0%\r"
     ]
    },
    {
     "name": "stdout",
     "output_type": "stream",
     "text": [
      "Hypholoma capnoides 19\n"
     ]
    },
    {
     "name": "stderr",
     "output_type": "stream",
     "text": [
      "[========================================================================] 100%\n",
      "  2%|█▍                                                                        | 20/1009 [1:50:51<88:04:08, 320.58s/it][                                                                        ]   0%\r"
     ]
    },
    {
     "name": "stdout",
     "output_type": "stream",
     "text": [
      "Kuehneromyces mutabilis 20\n"
     ]
    },
    {
     "name": "stderr",
     "output_type": "stream",
     "text": [
      "[========================================================================] 100%\n",
      "  2%|█▌                                                                        | 21/1009 [1:55:59<86:57:59, 316.88s/it][                                                                        ]   0%\r"
     ]
    },
    {
     "name": "stdout",
     "output_type": "stream",
     "text": [
      "Paralepista gilva 21\n"
     ]
    },
    {
     "name": "stderr",
     "output_type": "stream",
     "text": [
      "[========================================================================] 100%\n",
      "  2%|█▌                                                                        | 22/1009 [1:59:52<79:58:26, 291.70s/it][                                                                        ]   0%\r"
     ]
    },
    {
     "name": "stdout",
     "output_type": "stream",
     "text": [
      "Lactarius controversus 22\n"
     ]
    },
    {
     "name": "stderr",
     "output_type": "stream",
     "text": [
      "[========================================================================] 100%\n",
      "  2%|█▋                                                                        | 23/1009 [2:04:16<77:35:33, 283.30s/it][                                                                        ]   0%\r"
     ]
    },
    {
     "name": "stdout",
     "output_type": "stream",
     "text": [
      "Lactarius necator 23\n"
     ]
    },
    {
     "name": "stderr",
     "output_type": "stream",
     "text": [
      "[========================================================================] 100%\n",
      "  2%|█▊                                                                        | 24/1009 [2:08:32<75:16:18, 275.11s/it][                                                                        ]   0%\r"
     ]
    },
    {
     "name": "stdout",
     "output_type": "stream",
     "text": [
      "Lactarius deliciosus 24\n"
     ]
    },
    {
     "name": "stderr",
     "output_type": "stream",
     "text": [
      "[========================================================================] 100%\n",
      "  2%|█▊                                                                        | 25/1009 [2:15:15<85:42:20, 313.56s/it][                                                                        ]   0%\r"
     ]
    },
    {
     "name": "stdout",
     "output_type": "stream",
     "text": [
      "Tricholomopsis rutilans 25\n"
     ]
    },
    {
     "name": "stderr",
     "output_type": "stream",
     "text": [
      "[========================================================================] 100%\n",
      "  3%|█▉                                                                        | 26/1009 [2:20:12<84:16:10, 308.62s/it][                                                                        ]   0%\r"
     ]
    },
    {
     "name": "stdout",
     "output_type": "stream",
     "text": [
      "Choiromyces meandriformis 26\n"
     ]
    },
    {
     "name": "stderr",
     "output_type": "stream",
     "text": [
      "[========================================================================] 100%\n",
      "  3%|█▉                                                                        | 27/1009 [2:24:15<78:47:03, 288.82s/it][                                                                        ]   0%\r"
     ]
    },
    {
     "name": "stdout",
     "output_type": "stream",
     "text": [
      "Hemileccinum impolitum 27\n"
     ]
    },
    {
     "name": "stderr",
     "output_type": "stream",
     "text": [
      "[========================================================================] 100%\n",
      "  3%|██                                                                        | 28/1009 [2:27:53<72:56:22, 267.67s/it][                                                                        ]   0%\r"
     ]
    },
    {
     "name": "stdout",
     "output_type": "stream",
     "text": [
      "Lactarius vellereus 28\n"
     ]
    },
    {
     "name": "stderr",
     "output_type": "stream",
     "text": [
      "[========================================================================] 100%\n",
      "  3%|██▏                                                                       | 29/1009 [2:32:37<74:08:57, 272.38s/it][                                                                        ]   0%\r"
     ]
    },
    {
     "name": "stdout",
     "output_type": "stream",
     "text": [
      "Amanita rubescens 29\n"
     ]
    },
    {
     "name": "stderr",
     "output_type": "stream",
     "text": [
      "[========================================================================] 100%\n",
      "  3%|██▏                                                                       | 30/1009 [2:37:28<75:39:18, 278.20s/it][                                                                        ]   0%\r"
     ]
    },
    {
     "name": "stdout",
     "output_type": "stream",
     "text": [
      "Amanita caesarea 30\n"
     ]
    },
    {
     "name": "stderr",
     "output_type": "stream",
     "text": [
      "[========================================================================] 100%\n",
      "  3%|██▎                                                                       | 31/1009 [2:42:25<77:03:37, 283.66s/it][                                                                        ]   0%\r"
     ]
    },
    {
     "name": "stdout",
     "output_type": "stream",
     "text": [
      "Paralepista flaccida 31\n"
     ]
    },
    {
     "name": "stderr",
     "output_type": "stream",
     "text": [
      "[========================================================================] 100%\n",
      "  3%|██▎                                                                       | 32/1009 [2:47:38<79:25:36, 292.67s/it][                                                                        ]   0%\r"
     ]
    },
    {
     "name": "stdout",
     "output_type": "stream",
     "text": [
      "Lactarius pubescens 32\n"
     ]
    },
    {
     "name": "stderr",
     "output_type": "stream",
     "text": [
      "[========================================================================] 100%\n",
      "  3%|██▍                                                                       | 33/1009 [2:51:53<76:16:22, 281.33s/it][                                                                        ]   0%\r"
     ]
    },
    {
     "name": "stdout",
     "output_type": "stream",
     "text": [
      "Panaeolus papilionaceus 33\n"
     ]
    },
    {
     "name": "stderr",
     "output_type": "stream",
     "text": [
      "[========================================================================] 100%\n",
      "  3%|██▍                                                                       | 34/1009 [2:57:27<80:28:08, 297.12s/it][                                                                        ]   0%\r"
     ]
    },
    {
     "name": "stdout",
     "output_type": "stream",
     "text": [
      "Agaricus campestris 34\n"
     ]
    },
    {
     "name": "stderr",
     "output_type": "stream",
     "text": [
      "[========================================================================] 100%\n",
      "  3%|██▌                                                                       | 35/1009 [3:03:33<85:55:26, 317.58s/it][                                                                        ]   0%\r"
     ]
    },
    {
     "name": "stdout",
     "output_type": "stream",
     "text": [
      "Chroogomphus rutilus 35\n"
     ]
    },
    {
     "name": "stderr",
     "output_type": "stream",
     "text": [
      "[========================================================================] 100%\n",
      "  4%|██▋                                                                       | 36/1009 [3:08:58<86:29:06, 319.99s/it][                                                                        ]   0%\r"
     ]
    },
    {
     "name": "stdout",
     "output_type": "stream",
     "text": [
      "Lactarius torminosus 36\n"
     ]
    },
    {
     "name": "stderr",
     "output_type": "stream",
     "text": [
      "[========================================================================] 100%\n",
      "  4%|██▋                                                                       | 37/1009 [3:14:40<88:11:12, 326.62s/it][                                                                        ]   0%\r"
     ]
    },
    {
     "name": "stdout",
     "output_type": "stream",
     "text": [
      "Lepiota brunneoincarnata 37\n"
     ]
    },
    {
     "name": "stderr",
     "output_type": "stream",
     "text": [
      "[========================================================================] 100%\n",
      "  4%|██▊                                                                       | 38/1009 [3:18:54<82:12:46, 304.81s/it][                                                                        ]   0%\r"
     ]
    },
    {
     "name": "stdout",
     "output_type": "stream",
     "text": [
      "Pleurotus ostreatus 38\n"
     ]
    },
    {
     "name": "stderr",
     "output_type": "stream",
     "text": [
      "[========================================================================] 100%\n",
      "  4%|██▊                                                                       | 39/1009 [3:24:12<83:09:30, 308.63s/it][                                                                        ]   0%\r"
     ]
    },
    {
     "name": "stdout",
     "output_type": "stream",
     "text": [
      "Agaricus silvaticus 39\n"
     ]
    },
    {
     "name": "stderr",
     "output_type": "stream",
     "text": [
      "[========================================================================] 100%\n",
      "  4%|██▉                                                                       | 40/1009 [3:29:48<85:17:48, 316.89s/it][                                                                        ]   0%\r"
     ]
    },
    {
     "name": "stdout",
     "output_type": "stream",
     "text": [
      "Rubroboletus pulcherrimus 40\n"
     ]
    },
    {
     "name": "stderr",
     "output_type": "stream",
     "text": [
      "[========================================================================] 100%\n",
      "  4%|███                                                                       | 41/1009 [3:36:28<91:55:09, 341.85s/it][                                                                        ]   0%\r"
     ]
    },
    {
     "name": "stdout",
     "output_type": "stream",
     "text": [
      "Tricholoma columbetta 41\n"
     ]
    },
    {
     "name": "stderr",
     "output_type": "stream",
     "text": [
      "[========================================================================] 100%\n",
      "  4%|███                                                                       | 42/1009 [3:40:53<85:36:58, 318.74s/it][                                                                        ]   0%\r"
     ]
    },
    {
     "name": "stdout",
     "output_type": "stream",
     "text": [
      "Lepista sordida 42\n"
     ]
    },
    {
     "name": "stderr",
     "output_type": "stream",
     "text": [
      "[========================================================================] 100%\n",
      "  4%|███▏                                                                      | 43/1009 [3:45:35<82:34:22, 307.73s/it][                                                                        ]   0%\r"
     ]
    },
    {
     "name": "stdout",
     "output_type": "stream",
     "text": [
      "Cortinarius esculentus 43\n"
     ]
    },
    {
     "name": "stderr",
     "output_type": "stream",
     "text": [
      "[========================================================================] 100%\n",
      "  4%|███▏                                                                      | 44/1009 [3:50:30<81:26:58, 303.85s/it][                                                                        ]   0%\r"
     ]
    },
    {
     "name": "stdout",
     "output_type": "stream",
     "text": [
      "Lactarius volemus 44\n"
     ]
    },
    {
     "name": "stderr",
     "output_type": "stream",
     "text": [
      "[========================================================================] 100%\n",
      "  4%|███▎                                                                      | 45/1009 [3:55:42<82:02:50, 306.40s/it][                                                                        ]   0%\r"
     ]
    },
    {
     "name": "stdout",
     "output_type": "stream",
     "text": [
      "Tricholoma imbricatum 45\n"
     ]
    },
    {
     "name": "stderr",
     "output_type": "stream",
     "text": [
      "[========================================================================] 100%\n",
      "  5%|███▎                                                                      | 46/1009 [4:00:23<79:55:42, 298.80s/it][                                                                        ]   0%\r"
     ]
    },
    {
     "name": "stdout",
     "output_type": "stream",
     "text": [
      "Russula nobilis 46\n"
     ]
    },
    {
     "name": "stderr",
     "output_type": "stream",
     "text": [
      "[========================================================================] 100%\n",
      "  5%|███▍                                                                      | 47/1009 [4:05:10<78:54:26, 295.29s/it][                                                                        ]   0%\r"
     ]
    },
    {
     "name": "stdout",
     "output_type": "stream",
     "text": [
      "Galerina marginata 47\n"
     ]
    },
    {
     "name": "stderr",
     "output_type": "stream",
     "text": [
      "[========================================================================] 100%\n",
      "  5%|███▌                                                                      | 48/1009 [4:11:25<85:13:18, 319.25s/it][                                                                        ]   0%\r"
     ]
    },
    {
     "name": "stdout",
     "output_type": "stream",
     "text": [
      "Stropharia aeruginosa 48\n"
     ]
    },
    {
     "name": "stderr",
     "output_type": "stream",
     "text": [
      "[========================================================================] 100%\n",
      "  5%|███▌                                                                      | 49/1009 [4:16:43<84:59:59, 318.75s/it][                                                                        ]   0%\r"
     ]
    },
    {
     "name": "stdout",
     "output_type": "stream",
     "text": [
      "Panaeolina foenisecii 49\n"
     ]
    },
    {
     "name": "stderr",
     "output_type": "stream",
     "text": [
      "[========================================================================] 100%\n",
      "  5%|███▋                                                                      | 50/1009 [4:22:37<87:43:12, 329.29s/it][                                                                        ]   0%\r"
     ]
    },
    {
     "name": "stdout",
     "output_type": "stream",
     "text": [
      "Clitocybe robusta 50\n"
     ]
    },
    {
     "name": "stderr",
     "output_type": "stream",
     "text": [
      "[========================================================================] 100%\n",
      "  5%|███▋                                                                      | 51/1009 [4:27:38<85:21:48, 320.78s/it][                                                                        ]   0%\r"
     ]
    },
    {
     "name": "stdout",
     "output_type": "stream",
     "text": [
      "Butyriboletus regius 51\n"
     ]
    },
    {
     "name": "stderr",
     "output_type": "stream",
     "text": [
      "[========================================================================] 100%\n",
      "  5%|███▊                                                                      | 52/1009 [4:32:50<84:34:33, 318.15s/it][                                                                        ]   0%\r"
     ]
    },
    {
     "name": "stdout",
     "output_type": "stream",
     "text": [
      "Mutinus ravenelii 52\n"
     ]
    },
    {
     "name": "stderr",
     "output_type": "stream",
     "text": [
      "[========================================================================] 100%\n",
      "  5%|███▉                                                                      | 53/1009 [4:37:40<82:14:27, 309.69s/it][                                                                        ]   0%\r"
     ]
    },
    {
     "name": "stdout",
     "output_type": "stream",
     "text": [
      "Russula delica 53\n"
     ]
    },
    {
     "name": "stderr",
     "output_type": "stream",
     "text": [
      "[========================================================================] 100%\n",
      "  5%|███▉                                                                      | 54/1009 [4:43:28<85:12:18, 321.19s/it][                                                                        ]   0%\r"
     ]
    },
    {
     "name": "stdout",
     "output_type": "stream",
     "text": [
      "Chalciporus piperatus 54\n"
     ]
    },
    {
     "name": "stderr",
     "output_type": "stream",
     "text": [
      "[========================================================================] 100%\n",
      "  5%|████                                                                      | 55/1009 [4:49:03<86:12:35, 325.32s/it][                                                                        ]   0%\r"
     ]
    },
    {
     "name": "stdout",
     "output_type": "stream",
     "text": [
      "Amanita rubescens 55\n"
     ]
    },
    {
     "name": "stderr",
     "output_type": "stream",
     "text": [
      "[========================================================================] 100%\n",
      "  6%|████                                                                      | 56/1009 [4:53:35<81:53:28, 309.35s/it][                                                                        ]   0%\r"
     ]
    },
    {
     "name": "stdout",
     "output_type": "stream",
     "text": [
      "Xerocomellus chrysenteron 56\n"
     ]
    },
    {
     "name": "stderr",
     "output_type": "stream",
     "text": [
      "[========================================================================] 100%\n",
      "  6%|████▏                                                                     | 57/1009 [4:59:11<83:56:05, 317.40s/it][                                                                        ]   0%\r"
     ]
    },
    {
     "name": "stdout",
     "output_type": "stream",
     "text": [
      "Craterellus tubaeformis 57\n"
     ]
    },
    {
     "name": "stderr",
     "output_type": "stream",
     "text": [
      "[========================================================================] 100%\n",
      "  6%|████▎                                                                     | 58/1009 [5:04:53<85:46:26, 324.70s/it][                                                                        ]   0%\r"
     ]
    },
    {
     "name": "stdout",
     "output_type": "stream",
     "text": [
      "Suillus variegatus 58\n"
     ]
    },
    {
     "name": "stderr",
     "output_type": "stream",
     "text": [
      "[========================================================================] 100%\n",
      "  6%|████▎                                                                     | 59/1009 [5:10:11<85:09:02, 322.68s/it][                                                                        ]   0%\r"
     ]
    },
    {
     "name": "stdout",
     "output_type": "stream",
     "text": [
      "Macrolepiota excoriata 59\n"
     ]
    },
    {
     "name": "stderr",
     "output_type": "stream",
     "text": [
      "[========================================================================] 100%\n",
      "  6%|████▍                                                                     | 60/1009 [5:15:49<86:17:16, 327.33s/it][                                                                        ]   0%\r"
     ]
    },
    {
     "name": "stdout",
     "output_type": "stream",
     "text": [
      "Calvatia gigantea 60\n"
     ]
    },
    {
     "name": "stderr",
     "output_type": "stream",
     "text": [
      "[========================================================================] 100%\n",
      "  6%|████▍                                                                     | 61/1009 [5:21:16<86:09:41, 327.20s/it][                                                                        ]   0%\r"
     ]
    },
    {
     "name": "stdout",
     "output_type": "stream",
     "text": [
      "Russula foetens 61\n"
     ]
    },
    {
     "name": "stderr",
     "output_type": "stream",
     "text": [
      "[========================================================================] 100%\n",
      "  6%|████▌                                                                     | 62/1009 [5:26:02<82:49:05, 314.83s/it][                                                                        ]   0%\r"
     ]
    },
    {
     "name": "stdout",
     "output_type": "stream",
     "text": [
      "Caloboletus radicans 62\n"
     ]
    },
    {
     "name": "stderr",
     "output_type": "stream",
     "text": [
      "[========================================================================] 100%\n",
      "  6%|████▌                                                                     | 63/1009 [5:30:26<78:42:58, 299.55s/it][                                                                        ]   0%\r"
     ]
    },
    {
     "name": "stdout",
     "output_type": "stream",
     "text": [
      "Leccinum aurantiacum 63\n"
     ]
    },
    {
     "name": "stderr",
     "output_type": "stream",
     "text": [
      "[========================================================================] 100%\n",
      "  6%|████▋                                                                     | 64/1009 [5:34:51<75:55:06, 289.21s/it][                                                                        ]   0%\r"
     ]
    },
    {
     "name": "stdout",
     "output_type": "stream",
     "text": [
      "Hericium coralloides 64\n"
     ]
    },
    {
     "name": "stderr",
     "output_type": "stream",
     "text": [
      "[========================================================================] 100%\n",
      "  6%|████▊                                                                     | 65/1009 [5:40:40<80:34:02, 307.25s/it][                                                                        ]   0%\r"
     ]
    },
    {
     "name": "stdout",
     "output_type": "stream",
     "text": [
      "Boletus reticulatus 65\n"
     ]
    },
    {
     "name": "stderr",
     "output_type": "stream",
     "text": [
      "[========================================================================] 100%\n",
      "  7%|████▊                                                                     | 66/1009 [5:46:17<82:50:22, 316.25s/it][                                                                        ]   0%\r"
     ]
    },
    {
     "name": "stdout",
     "output_type": "stream",
     "text": [
      "Lactarius quietus 66\n"
     ]
    },
    {
     "name": "stderr",
     "output_type": "stream",
     "text": [
      "[========================================================================] 100%\n",
      "  7%|████▉                                                                     | 67/1009 [5:51:44<83:34:05, 319.37s/it][                                                                        ]   0%\r"
     ]
    },
    {
     "name": "stdout",
     "output_type": "stream",
     "text": [
      "Lactarius flexuosus 67\n"
     ]
    },
    {
     "name": "stderr",
     "output_type": "stream",
     "text": [
      "[========================================================================] 100%\n",
      "  7%|████▉                                                                     | 68/1009 [5:56:29<80:46:20, 309.01s/it][                                                                        ]   0%\r"
     ]
    },
    {
     "name": "stdout",
     "output_type": "stream",
     "text": [
      "Hypholoma lateritium 68\n"
     ]
    },
    {
     "name": "stderr",
     "output_type": "stream",
     "text": [
      "[========================================================================] 100%\n",
      "  7%|█████                                                                     | 69/1009 [6:01:35<80:29:58, 308.30s/it][                                                                        ]   0%\r"
     ]
    },
    {
     "name": "stdout",
     "output_type": "stream",
     "text": [
      "Psilocybe mairei 69\n"
     ]
    },
    {
     "name": "stderr",
     "output_type": "stream",
     "text": [
      "[========================================================================] 100%\n",
      "  7%|█████▏                                                                    | 70/1009 [6:06:41<80:13:22, 307.56s/it][                                                                        ]   0%\r"
     ]
    },
    {
     "name": "stdout",
     "output_type": "stream",
     "text": [
      "Lyophyllum decastes 70\n"
     ]
    },
    {
     "name": "stderr",
     "output_type": "stream",
     "text": [
      "[========================================================================] 100%\n",
      "  7%|█████▏                                                                    | 71/1009 [6:11:24<78:12:05, 300.13s/it][                                                                        ]   0%\r"
     ]
    },
    {
     "name": "stdout",
     "output_type": "stream",
     "text": [
      "Leccinellum pseudoscabrum 71\n"
     ]
    },
    {
     "name": "stderr",
     "output_type": "stream",
     "text": [
      "[========================================================================] 100%\n",
      "  7%|█████▎                                                                    | 72/1009 [6:15:32<74:04:16, 284.59s/it][                                                                        ]   0%\r"
     ]
    },
    {
     "name": "stdout",
     "output_type": "stream",
     "text": [
      "Gyromitra esculenta 72\n"
     ]
    },
    {
     "name": "stderr",
     "output_type": "stream",
     "text": [
      "[========================================================================] 100%\n",
      "  7%|█████▎                                                                    | 73/1009 [6:20:39<75:42:04, 291.16s/it][                                                                        ]   0%\r"
     ]
    },
    {
     "name": "stdout",
     "output_type": "stream",
     "text": [
      "Lactarius camphoratus 73\n"
     ]
    },
    {
     "name": "stderr",
     "output_type": "stream",
     "text": [
      "[========================================================================] 100%\n",
      "  7%|█████▍                                                                    | 74/1009 [6:25:25<75:13:59, 289.67s/it][                                                                        ]   0%\r"
     ]
    },
    {
     "name": "stdout",
     "output_type": "stream",
     "text": [
      "Amanita pantherina 74\n"
     ]
    },
    {
     "name": "stderr",
     "output_type": "stream",
     "text": [
      "[========================================================================] 100%\n",
      "  7%|█████▌                                                                    | 75/1009 [6:30:53<78:05:53, 301.02s/it][                                                                        ]   0%\r"
     ]
    },
    {
     "name": "stdout",
     "output_type": "stream",
     "text": [
      "Phallus impudicus 75\n"
     ]
    },
    {
     "name": "stderr",
     "output_type": "stream",
     "text": [
      "[========================================================================] 100%\n",
      "  8%|█████▌                                                                    | 76/1009 [6:36:38<81:28:25, 314.37s/it][                                                                        ]   0%\r"
     ]
    },
    {
     "name": "stdout",
     "output_type": "stream",
     "text": [
      "Tapinella atrotomentosa 76\n"
     ]
    },
    {
     "name": "stderr",
     "output_type": "stream",
     "text": [
      "[========================================================================] 100%\n",
      "  8%|█████▋                                                                    | 77/1009 [6:41:45<80:48:09, 312.11s/it][                                                                        ]   0%\r"
     ]
    },
    {
     "name": "stdout",
     "output_type": "stream",
     "text": [
      "Tricholoma pessundatum 77\n"
     ]
    },
    {
     "name": "stderr",
     "output_type": "stream",
     "text": [
      "[========================================================================] 100%\n",
      "  8%|█████▋                                                                    | 78/1009 [6:46:11<77:07:13, 298.21s/it][                                                                        ]   0%\r"
     ]
    },
    {
     "name": "stdout",
     "output_type": "stream",
     "text": [
      "Lactarius piperatus 78\n"
     ]
    },
    {
     "name": "stderr",
     "output_type": "stream",
     "text": [
      "[========================================================================] 100%\n",
      "  8%|█████▊                                                                    | 79/1009 [6:52:11<81:51:46, 316.89s/it][                                                                        ]   0%\r"
     ]
    },
    {
     "name": "stdout",
     "output_type": "stream",
     "text": [
      "Tricholoma virgatum 79\n"
     ]
    },
    {
     "name": "stderr",
     "output_type": "stream",
     "text": [
      "[========================================================================] 100%\n",
      "  8%|█████▊                                                                    | 80/1009 [6:57:26<81:36:14, 316.23s/it][                                                                        ]   0%\r"
     ]
    },
    {
     "name": "stdout",
     "output_type": "stream",
     "text": [
      "Cortinarius orellanus 80\n"
     ]
    },
    {
     "name": "stderr",
     "output_type": "stream",
     "text": [
      "[========================================================================] 100%\n",
      "  8%|█████▉                                                                    | 81/1009 [7:02:02<78:25:00, 304.20s/it][                                                                        ]   0%\r"
     ]
    },
    {
     "name": "stdout",
     "output_type": "stream",
     "text": [
      "Amanita virosa 81\n"
     ]
    },
    {
     "name": "stderr",
     "output_type": "stream",
     "text": [
      "[========================================================================] 100%\n",
      "  8%|██████                                                                    | 82/1009 [7:07:28<79:59:59, 310.68s/it][                                                                        ]   0%\r"
     ]
    },
    {
     "name": "stdout",
     "output_type": "stream",
     "text": [
      "Armillaria gallica 82\n"
     ]
    },
    {
     "name": "stderr",
     "output_type": "stream",
     "text": [
      "[========================================================================] 100%\n",
      "  8%|██████                                                                    | 83/1009 [7:12:23<78:45:11, 306.17s/it][                                                                        ]   0%\r"
     ]
    },
    {
     "name": "stdout",
     "output_type": "stream",
     "text": [
      "Sarcoscypha coccinea 83\n"
     ]
    },
    {
     "name": "stderr",
     "output_type": "stream",
     "text": [
      "[========================================================================] 100%\n",
      "  8%|██████▏                                                                   | 84/1009 [7:18:24<82:53:22, 322.60s/it][                                                                        ]   0%\r"
     ]
    },
    {
     "name": "stdout",
     "output_type": "stream",
     "text": [
      "Caloboletus calopus 84\n"
     ]
    },
    {
     "name": "stderr",
     "output_type": "stream",
     "text": [
      "[========================================================================] 100%\n",
      "  8%|██████▏                                                                   | 85/1009 [7:23:23<80:59:31, 315.55s/it][                                                                        ]   0%\r"
     ]
    },
    {
     "name": "stdout",
     "output_type": "stream",
     "text": [
      "Psilocybe cubensis 85\n"
     ]
    },
    {
     "name": "stderr",
     "output_type": "stream",
     "text": [
      "[========================================================================] 100%\n",
      "  9%|██████▎                                                                   | 86/1009 [7:29:41<85:41:57, 334.26s/it][                                                                        ]   0%\r"
     ]
    },
    {
     "name": "stdout",
     "output_type": "stream",
     "text": [
      "Boletus betulicola 86\n"
     ]
    },
    {
     "name": "stderr",
     "output_type": "stream",
     "text": [
      "[========================================================================] 100%\n",
      "  9%|██████▍                                                                   | 87/1009 [7:34:00<79:46:14, 311.47s/it][                                                                        ]   0%\r"
     ]
    },
    {
     "name": "stdout",
     "output_type": "stream",
     "text": [
      "Chlorophyllum rhacodes 87\n"
     ]
    },
    {
     "name": "stderr",
     "output_type": "stream",
     "text": [
      "[========================================================================] 100%\n",
      "  9%|██████▍                                                                   | 88/1009 [7:40:17<84:43:48, 331.19s/it][                                                                        ]   0%\r"
     ]
    },
    {
     "name": "stdout",
     "output_type": "stream",
     "text": [
      "Fomitopsis pinicola 88\n"
     ]
    },
    {
     "name": "stderr",
     "output_type": "stream",
     "text": [
      "[========================================================================] 100%\n",
      "  9%|██████▌                                                                   | 89/1009 [7:47:00<90:08:18, 352.72s/it][                                                                        ]   0%\r"
     ]
    },
    {
     "name": "stdout",
     "output_type": "stream",
     "text": [
      "Clitocybe gibba 89\n"
     ]
    },
    {
     "name": "stderr",
     "output_type": "stream",
     "text": [
      "[========================================================================] 100%\n",
      "  9%|██████▌                                                                   | 90/1009 [7:52:19<87:29:49, 342.75s/it][                                                                        ]   0%\r"
     ]
    },
    {
     "name": "stdout",
     "output_type": "stream",
     "text": [
      "Hygrophorus hypothejus 90\n"
     ]
    },
    {
     "name": "stderr",
     "output_type": "stream",
     "text": [
      "[========================================================================] 100%\n",
      "  9%|██████▋                                                                   | 91/1009 [7:57:14<83:43:18, 328.32s/it][                                                                        ]   0%\r"
     ]
    },
    {
     "name": "stdout",
     "output_type": "stream",
     "text": [
      "Lactarius zonarius 91\n"
     ]
    },
    {
     "name": "stderr",
     "output_type": "stream",
     "text": [
      "[========================================================================] 100%\n",
      "  9%|██████▋                                                                   | 92/1009 [8:02:29<82:39:09, 324.48s/it][                                                                        ]   0%\r"
     ]
    },
    {
     "name": "stdout",
     "output_type": "stream",
     "text": [
      "Tricholoma pardinum 92\n"
     ]
    },
    {
     "name": "stderr",
     "output_type": "stream",
     "text": [
      "[========================================================================] 100%\n",
      "  9%|██████▊                                                                   | 93/1009 [8:07:32<80:50:51, 317.74s/it][                                                                        ]   0%\r"
     ]
    },
    {
     "name": "stdout",
     "output_type": "stream",
     "text": [
      "Craterellus cornucopioides 93\n"
     ]
    },
    {
     "name": "stderr",
     "output_type": "stream",
     "text": [
      "[========================================================================] 100%\n",
      "  9%|██████▉                                                                   | 94/1009 [8:12:28<79:08:24, 311.37s/it][                                                                        ]   0%\r"
     ]
    },
    {
     "name": "stdout",
     "output_type": "stream",
     "text": [
      "Gymnopilus junonius 94\n"
     ]
    },
    {
     "name": "stderr",
     "output_type": "stream",
     "text": [
      "[========================================================================] 100%\n",
      "  9%|██████▉                                                                   | 95/1009 [8:18:07<81:10:01, 319.70s/it][                                                                        ]   0%\r"
     ]
    },
    {
     "name": "stdout",
     "output_type": "stream",
     "text": [
      "Tricholoma fulvum 95\n"
     ]
    },
    {
     "name": "stderr",
     "output_type": "stream",
     "text": [
      "[========================================================================] 100%\n",
      " 10%|███████                                                                   | 96/1009 [8:22:21<76:02:06, 299.81s/it][                                                                        ]   0%\r"
     ]
    },
    {
     "name": "stdout",
     "output_type": "stream",
     "text": [
      "Butyriboletus appendiculatus 96\n"
     ]
    },
    {
     "name": "stderr",
     "output_type": "stream",
     "text": [
      "[========================================================================] 100%\n",
      " 10%|███████                                                                   | 97/1009 [8:26:53<73:50:40, 291.49s/it][                                                                        ]   0%\r"
     ]
    },
    {
     "name": "stdout",
     "output_type": "stream",
     "text": [
      "Tricholoma albobrunneum 97\n"
     ]
    },
    {
     "name": "stderr",
     "output_type": "stream",
     "text": [
      "[========================================================================] 100%\n",
      " 10%|███████▏                                                                  | 98/1009 [8:30:55<70:00:09, 276.63s/it][                                                                        ]   0%\r"
     ]
    },
    {
     "name": "stdout",
     "output_type": "stream",
     "text": [
      "Cyanoboletus pulverulentus 98\n"
     ]
    },
    {
     "name": "stderr",
     "output_type": "stream",
     "text": [
      "[========================================================================] 100%\n",
      " 10%|███████▎                                                                  | 99/1009 [8:36:13<73:03:30, 289.02s/it][                                                                        ]   0%\r"
     ]
    },
    {
     "name": "stdout",
     "output_type": "stream",
     "text": [
      "Boletus aereus 99\n"
     ]
    },
    {
     "name": "stderr",
     "output_type": "stream",
     "text": [
      "[========================================================================] 100%\n",
      " 10%|███████▏                                                                 | 100/1009 [8:41:25<74:44:26, 296.00s/it][                                                                        ]   0%\r"
     ]
    },
    {
     "name": "stdout",
     "output_type": "stream",
     "text": [
      "Megacollybia platyphylla 100\n"
     ]
    },
    {
     "name": "stderr",
     "output_type": "stream",
     "text": [
      "[========================================================================] 100%\n",
      " 10%|███████▎                                                                 | 101/1009 [8:46:16<74:15:34, 294.42s/it][                                                                        ]   0%\r"
     ]
    },
    {
     "name": "stdout",
     "output_type": "stream",
     "text": [
      "Suillus granulatus 101\n"
     ]
    },
    {
     "name": "stderr",
     "output_type": "stream",
     "text": [
      "[========================================================================] 100%\n",
      " 10%|███████▍                                                                 | 102/1009 [8:51:11<74:13:55, 294.64s/it][                                                                        ]   0%\r"
     ]
    },
    {
     "name": "stdout",
     "output_type": "stream",
     "text": [
      "Deconica montana 102\n"
     ]
    },
    {
     "name": "stderr",
     "output_type": "stream",
     "text": [
      "[========================================================================] 100%\n",
      " 10%|███████▍                                                                 | 103/1009 [8:57:00<78:16:38, 311.04s/it][                                                                        ]   0%\r"
     ]
    },
    {
     "name": "stdout",
     "output_type": "stream",
     "text": [
      "Pluteus cervinus 103\n"
     ]
    },
    {
     "name": "stderr",
     "output_type": "stream",
     "text": [
      "[========================================================================] 100%\n",
      " 10%|███████▌                                                                 | 104/1009 [9:02:43<80:36:34, 320.66s/it][                                                                        ]   0%\r"
     ]
    },
    {
     "name": "stdout",
     "output_type": "stream",
     "text": [
      "Cerioporus squamosus 104\n"
     ]
    },
    {
     "name": "stderr",
     "output_type": "stream",
     "text": [
      "[========================================================================] 100%\n",
      " 10%|███████▌                                                                 | 105/1009 [9:09:03<84:56:49, 338.28s/it][                                                                        ]   0%\r"
     ]
    },
    {
     "name": "stdout",
     "output_type": "stream",
     "text": [
      "Leucopaxillus giganteus 105\n"
     ]
    },
    {
     "name": "stderr",
     "output_type": "stream",
     "text": [
      "[========================================================================] 100%\n",
      " 11%|███████▋                                                                 | 106/1009 [9:13:42<80:26:24, 320.69s/it][                                                                        ]   0%\r"
     ]
    },
    {
     "name": "stdout",
     "output_type": "stream",
     "text": [
      "Boletus pinophilus 106\n"
     ]
    },
    {
     "name": "stderr",
     "output_type": "stream",
     "text": [
      "[========================================================================] 100%\n",
      " 11%|███████▋                                                                 | 107/1009 [9:18:25<77:28:17, 309.20s/it][                                                                        ]   0%\r"
     ]
    },
    {
     "name": "stdout",
     "output_type": "stream",
     "text": [
      "Scleroderma citrinum 107\n"
     ]
    },
    {
     "name": "stderr",
     "output_type": "stream",
     "text": [
      "[========================================================================] 100%\n",
      " 11%|███████▊                                                                 | 108/1009 [9:24:01<79:27:42, 317.49s/it][                                                                        ]   0%\r"
     ]
    },
    {
     "name": "stdout",
     "output_type": "stream",
     "text": [
      "Clitocybe phyllophila 108\n"
     ]
    },
    {
     "name": "stderr",
     "output_type": "stream",
     "text": [
      "[========================================================================] 100%\n",
      " 11%|███████▉                                                                 | 109/1009 [9:28:19<74:51:27, 299.43s/it][                                                                        ]   0%\r"
     ]
    },
    {
     "name": "stdout",
     "output_type": "stream",
     "text": [
      "Lentinula edodes 109\n"
     ]
    },
    {
     "name": "stderr",
     "output_type": "stream",
     "text": [
      "[========================================================================] 100%\n",
      " 11%|███████▉                                                                 | 110/1009 [9:33:43<76:39:44, 306.99s/it][                                                                        ]   0%\r"
     ]
    },
    {
     "name": "stdout",
     "output_type": "stream",
     "text": [
      "Leccinum roseofractum 110\n"
     ]
    },
    {
     "name": "stderr",
     "output_type": "stream",
     "text": [
      "[========================================================================] 100%\n",
      " 11%|████████                                                                 | 111/1009 [9:38:31<75:05:52, 301.06s/it][                                                                        ]   0%\r"
     ]
    },
    {
     "name": "stdout",
     "output_type": "stream",
     "text": [
      "Lactarius deterrimus 111\n"
     ]
    },
    {
     "name": "stderr",
     "output_type": "stream",
     "text": [
      "[========================================================================] 100%\n",
      " 11%|████████                                                                 | 112/1009 [9:43:15<73:47:30, 296.15s/it][                                                                        ]   0%\r"
     ]
    },
    {
     "name": "stdout",
     "output_type": "stream",
     "text": [
      "Fistulina hepatica 112\n"
     ]
    },
    {
     "name": "stderr",
     "output_type": "stream",
     "text": [
      "[========================================================================] 100%\n",
      " 11%|████████▏                                                                | 113/1009 [9:48:27<74:53:36, 300.91s/it][                                                                        ]   0%\r"
     ]
    },
    {
     "name": "stdout",
     "output_type": "stream",
     "text": [
      "Agaricus arvensis 113\n"
     ]
    },
    {
     "name": "stderr",
     "output_type": "stream",
     "text": [
      "[========================================================================] 100%\n",
      " 11%|████████▏                                                                | 114/1009 [9:54:10<77:54:02, 313.34s/it][                                                                        ]   0%\r"
     ]
    },
    {
     "name": "stdout",
     "output_type": "stream",
     "text": [
      "Sparassis crispa 114\n"
     ]
    },
    {
     "name": "stderr",
     "output_type": "stream",
     "text": [
      "[========================================================================] 100%\n",
      " 11%|████████▎                                                                | 115/1009 [9:59:13<77:05:42, 310.45s/it][                                                                        ]   0%\r"
     ]
    },
    {
     "name": "stdout",
     "output_type": "stream",
     "text": [
      "Tricholoma batschii 115\n"
     ]
    },
    {
     "name": "stderr",
     "output_type": "stream",
     "text": [
      "[========================================================================] 100%\n",
      " 11%|████████▎                                                               | 116/1009 [10:03:52<74:41:00, 301.08s/it][                                                                        ]   0%\r"
     ]
    },
    {
     "name": "stdout",
     "output_type": "stream",
     "text": [
      "Lepista irina 116\n"
     ]
    },
    {
     "name": "stderr",
     "output_type": "stream",
     "text": [
      "[========================================================================] 100%\n",
      " 12%|████████▎                                                               | 117/1009 [10:08:30<72:52:16, 294.10s/it][                                                                        ]   0%\r"
     ]
    },
    {
     "name": "stdout",
     "output_type": "stream",
     "text": [
      "Mycena pura 117\n"
     ]
    },
    {
     "name": "stderr",
     "output_type": "stream",
     "text": [
      "[========================================================================] 100%\n",
      " 12%|████████▍                                                               | 118/1009 [10:13:05<71:18:46, 288.13s/it][                                                                        ]   0%\r"
     ]
    },
    {
     "name": "stdout",
     "output_type": "stream",
     "text": [
      "Leucopaxillus lepistoides 118\n"
     ]
    },
    {
     "name": "stderr",
     "output_type": "stream",
     "text": [
      "[========================================================================] 100%\n",
      " 12%|████████▍                                                               | 119/1009 [10:17:06<67:46:24, 274.14s/it][                                                                        ]   0%\r"
     ]
    },
    {
     "name": "stdout",
     "output_type": "stream",
     "text": [
      "Aureoboletus projectellus 119\n"
     ]
    },
    {
     "name": "stderr",
     "output_type": "stream",
     "text": [
      "[========================================================================] 100%\n",
      " 12%|████████▌                                                               | 120/1009 [10:22:31<71:29:16, 289.49s/it][                                                                        ]   0%\r"
     ]
    },
    {
     "name": "stdout",
     "output_type": "stream",
     "text": [
      "Pleurotus pulmonarius 120\n"
     ]
    },
    {
     "name": "stderr",
     "output_type": "stream",
     "text": [
      "[========================================================================] 100%\n",
      " 12%|████████▋                                                               | 121/1009 [10:27:41<72:55:10, 295.62s/it][                                                                        ]   0%\r"
     ]
    },
    {
     "name": "stdout",
     "output_type": "stream",
     "text": [
      "Inonotus obliquus 121\n"
     ]
    },
    {
     "name": "stderr",
     "output_type": "stream",
     "text": [
      "[========================================================================] 100%\n",
      " 12%|████████▋                                                               | 122/1009 [10:33:56<78:41:43, 319.40s/it][                                                                        ]   0%\r"
     ]
    },
    {
     "name": "stdout",
     "output_type": "stream",
     "text": [
      "Lactarius sphagneti 122\n"
     ]
    },
    {
     "name": "stderr",
     "output_type": "stream",
     "text": [
      "[========================================================================] 100%\n",
      " 12%|████████▊                                                               | 123/1009 [10:38:27<75:02:32, 304.91s/it][                                                                        ]   0%\r"
     ]
    },
    {
     "name": "stdout",
     "output_type": "stream",
     "text": [
      "Laccaria laccata 123\n"
     ]
    },
    {
     "name": "stderr",
     "output_type": "stream",
     "text": [
      "[========================================================================] 100%\n",
      " 12%|████████▊                                                               | 124/1009 [10:44:19<78:25:01, 318.98s/it][                                                                        ]   0%\r"
     ]
    },
    {
     "name": "stdout",
     "output_type": "stream",
     "text": [
      "Lactarius scrobiculatus 124\n"
     ]
    },
    {
     "name": "stderr",
     "output_type": "stream",
     "text": [
      "[========================================================================] 100%\n",
      " 12%|████████▉                                                               | 125/1009 [10:51:21<85:55:27, 349.92s/it][                                                                        ]   0%\r"
     ]
    },
    {
     "name": "stdout",
     "output_type": "stream",
     "text": [
      "Clathrus ruber 125\n"
     ]
    },
    {
     "name": "stderr",
     "output_type": "stream",
     "text": [
      "[========================================================================] 100%\n",
      " 12%|████████▉                                                               | 126/1009 [10:57:08<85:36:46, 349.05s/it][                                                                        ]   0%\r"
     ]
    },
    {
     "name": "stdout",
     "output_type": "stream",
     "text": [
      "Lepiota helveola 126\n"
     ]
    },
    {
     "name": "stderr",
     "output_type": "stream",
     "text": [
      "[========================================================================] 100%\n",
      " 13%|█████████                                                               | 127/1009 [11:02:15<82:24:24, 336.35s/it][                                                                        ]   0%\r"
     ]
    },
    {
     "name": "stdout",
     "output_type": "stream",
     "text": [
      "Tricholoma colossus 127\n"
     ]
    },
    {
     "name": "stderr",
     "output_type": "stream",
     "text": [
      "[========================================================================] 100%\n",
      " 13%|█████████▏                                                              | 128/1009 [11:07:36<81:10:14, 331.68s/it][                                                                        ]   0%\r"
     ]
    },
    {
     "name": "stdout",
     "output_type": "stream",
     "text": [
      "Amanita verna 128\n"
     ]
    },
    {
     "name": "stderr",
     "output_type": "stream",
     "text": [
      "[========================================================================] 100%\n",
      " 13%|█████████▏                                                              | 129/1009 [11:12:37<78:49:26, 322.46s/it][                                                                        ]   0%\r"
     ]
    },
    {
     "name": "stdout",
     "output_type": "stream",
     "text": [
      "Sutorius junquilleus 129\n"
     ]
    },
    {
     "name": "stderr",
     "output_type": "stream",
     "text": [
      "[========================================================================] 100%\n",
      " 13%|█████████▎                                                              | 130/1009 [11:16:05<70:22:51, 288.25s/it][                                                                        ]   0%\r"
     ]
    },
    {
     "name": "stdout",
     "output_type": "stream",
     "text": [
      "Russula nigricans 130\n"
     ]
    },
    {
     "name": "stderr",
     "output_type": "stream",
     "text": [
      "[========================================================================] 100%\n",
      " 13%|█████████▎                                                              | 131/1009 [11:21:16<71:59:06, 295.16s/it][                                                                        ]   0%\r"
     ]
    },
    {
     "name": "stdout",
     "output_type": "stream",
     "text": [
      "Pleurotus eryngii 131\n"
     ]
    },
    {
     "name": "stderr",
     "output_type": "stream",
     "text": [
      "[========================================================================] 100%\n",
      " 13%|█████████▍                                                              | 132/1009 [11:26:30<73:16:07, 300.76s/it][                                                                        ]   0%\r"
     ]
    },
    {
     "name": "stdout",
     "output_type": "stream",
     "text": [
      "Boletus ferrugineus 132\n"
     ]
    },
    {
     "name": "stderr",
     "output_type": "stream",
     "text": [
      "[========================================================================] 100%\n",
      " 13%|█████████▍                                                              | 133/1009 [11:30:40<69:26:12, 285.36s/it][                                                                        ]   0%\r"
     ]
    },
    {
     "name": "stdout",
     "output_type": "stream",
     "text": [
      "Tricholoma saponaceum 133\n"
     ]
    },
    {
     "name": "stderr",
     "output_type": "stream",
     "text": [
      "[========================================================================] 100%\n",
      " 13%|█████████▌                                                              | 134/1009 [11:35:07<68:04:35, 280.09s/it][                                                                        ]   0%\r"
     ]
    },
    {
     "name": "stdout",
     "output_type": "stream",
     "text": [
      "Lactarius trivialis 134\n"
     ]
    },
    {
     "name": "stderr",
     "output_type": "stream",
     "text": [
      "[========================================================================] 100%\n",
      " 13%|█████████▋                                                              | 135/1009 [11:40:03<69:06:35, 284.66s/it][                                                                        ]   0%\r"
     ]
    },
    {
     "name": "stdout",
     "output_type": "stream",
     "text": [
      "Mycetinis scorodonius 135\n"
     ]
    },
    {
     "name": "stderr",
     "output_type": "stream",
     "text": [
      "[========================================================================] 100%\n",
      " 13%|█████████▋                                                              | 136/1009 [11:44:31<67:48:32, 279.62s/it][                                                                        ]   0%\r"
     ]
    },
    {
     "name": "stdout",
     "output_type": "stream",
     "text": [
      "Coprinopsis picacea 136\n"
     ]
    },
    {
     "name": "stderr",
     "output_type": "stream",
     "text": [
      "[========================================================================] 100%\n",
      " 14%|█████████▊                                                              | 137/1009 [11:50:35<73:52:49, 305.01s/it][                                                                        ]   0%\r"
     ]
    },
    {
     "name": "stdout",
     "output_type": "stream",
     "text": [
      "Hydnellum peckii 137\n"
     ]
    },
    {
     "name": "stderr",
     "output_type": "stream",
     "text": [
      "[========================================================================] 100%\n",
      " 14%|█████████▊                                                              | 138/1009 [11:55:06<71:20:54, 294.90s/it][                                                                        ]   0%\r"
     ]
    },
    {
     "name": "stdout",
     "output_type": "stream",
     "text": [
      "Lepista glaucocana 138\n"
     ]
    },
    {
     "name": "stderr",
     "output_type": "stream",
     "text": [
      "[========================================================================] 100%\n",
      " 14%|█████████▉                                                              | 139/1009 [11:59:44<70:01:01, 289.73s/it][                                                                        ]   0%\r"
     ]
    },
    {
     "name": "stdout",
     "output_type": "stream",
     "text": [
      "Morchella esculenta 139\n"
     ]
    },
    {
     "name": "stderr",
     "output_type": "stream",
     "text": [
      "[========================================================================] 100%\n",
      " 14%|█████████▉                                                              | 140/1009 [12:04:55<71:28:12, 296.08s/it][                                                                        ]   0%\r"
     ]
    },
    {
     "name": "stdout",
     "output_type": "stream",
     "text": [
      "Rubroboletus lupinus 140\n"
     ]
    },
    {
     "name": "stderr",
     "output_type": "stream",
     "text": [
      "[========================================================================] 100%\n",
      " 14%|██████████                                                              | 141/1009 [12:09:25<69:32:58, 288.45s/it][                                                                        ]   0%\r"
     ]
    },
    {
     "name": "stdout",
     "output_type": "stream",
     "text": [
      "Xerocomellus porosporus 141\n"
     ]
    },
    {
     "name": "stderr",
     "output_type": "stream",
     "text": [
      "[========================================================================] 100%\n",
      " 14%|██████████▏                                                             | 142/1009 [12:15:04<73:05:13, 303.48s/it][                                                                        ]   0%\r"
     ]
    },
    {
     "name": "stdout",
     "output_type": "stream",
     "text": [
      "Artomyces pyxidatus 142\n"
     ]
    },
    {
     "name": "stderr",
     "output_type": "stream",
     "text": [
      "[========================================================================] 100%\n",
      " 14%|██████████▏                                                             | 143/1009 [12:21:19<78:08:30, 324.84s/it][                                                                        ]   0%\r"
     ]
    },
    {
     "name": "stdout",
     "output_type": "stream",
     "text": [
      "Leccinum holopus 143\n"
     ]
    },
    {
     "name": "stderr",
     "output_type": "stream",
     "text": [
      "[========================================================================] 100%\n",
      " 14%|██████████▎                                                             | 144/1009 [12:25:31<72:50:35, 303.16s/it][                                                                        ]   0%\r"
     ]
    },
    {
     "name": "stdout",
     "output_type": "stream",
     "text": [
      "Panellus serotinus 144\n"
     ]
    },
    {
     "name": "stderr",
     "output_type": "stream",
     "text": [
      "[========================================================================] 100%\n",
      " 14%|██████████▎                                                             | 145/1009 [12:31:08<75:10:17, 313.22s/it][                                                                        ]   0%\r"
     ]
    },
    {
     "name": "stdout",
     "output_type": "stream",
     "text": [
      "Tuber aestivum 145\n"
     ]
    },
    {
     "name": "stderr",
     "output_type": "stream",
     "text": [
      "[========================================================================] 100%\n",
      " 14%|██████████▍                                                             | 146/1009 [12:37:00<77:52:18, 324.84s/it][                                                                        ]   0%\r"
     ]
    },
    {
     "name": "stdout",
     "output_type": "stream",
     "text": [
      "Lactarius aquizonatus 146\n"
     ]
    },
    {
     "name": "stderr",
     "output_type": "stream",
     "text": [
      "[========================================================================] 100%\n",
      " 15%|██████████▍                                                             | 147/1009 [12:40:51<71:02:52, 296.72s/it][                                                                        ]   0%\r"
     ]
    },
    {
     "name": "stdout",
     "output_type": "stream",
     "text": [
      "Entoloma sinuatum 147\n"
     ]
    },
    {
     "name": "stderr",
     "output_type": "stream",
     "text": [
      "[========================================================================] 100%\n",
      " 15%|██████████▌                                                             | 148/1009 [12:44:56<67:17:23, 281.35s/it][                                                                        ]   0%\r"
     ]
    },
    {
     "name": "stdout",
     "output_type": "stream",
     "text": [
      "Tricholoma Inamoenum 148\n"
     ]
    },
    {
     "name": "stderr",
     "output_type": "stream",
     "text": [
      "[========================================================================] 100%\n",
      " 15%|██████████▋                                                             | 149/1009 [12:49:27<66:25:50, 278.08s/it][                                                                        ]   0%\r"
     ]
    },
    {
     "name": "stdout",
     "output_type": "stream",
     "text": [
      "Agaricus bisporus 149\n"
     ]
    },
    {
     "name": "stderr",
     "output_type": "stream",
     "text": [
      "[========================================================================] 100%\n",
      " 15%|██████████▋                                                             | 150/1009 [12:54:35<68:30:32, 287.12s/it][                                                                        ]   0%\r"
     ]
    },
    {
     "name": "stdout",
     "output_type": "stream",
     "text": [
      "Boletus bicolor 150\n"
     ]
    },
    {
     "name": "stderr",
     "output_type": "stream",
     "text": [
      "[========================================================================] 100%\n",
      " 15%|██████████▊                                                             | 151/1009 [13:00:12<72:01:11, 302.18s/it][                                                                        ]   0%\r"
     ]
    },
    {
     "name": "stdout",
     "output_type": "stream",
     "text": [
      "Leucoagaricus barssii 151\n"
     ]
    },
    {
     "name": "stderr",
     "output_type": "stream",
     "text": [
      "[========================================================================] 100%\n",
      " 15%|██████████▊                                                             | 152/1009 [13:05:39<73:42:45, 309.64s/it][                                                                        ]   0%\r"
     ]
    },
    {
     "name": "stdout",
     "output_type": "stream",
     "text": [
      "Cantharellus pallens 152\n"
     ]
    },
    {
     "name": "stderr",
     "output_type": "stream",
     "text": [
      "[========================================================================] 100%\n",
      " 15%|██████████▉                                                             | 153/1009 [13:10:12<70:59:05, 298.53s/it][                                                                        ]   0%\r"
     ]
    },
    {
     "name": "stdout",
     "output_type": "stream",
     "text": [
      "Inocybe acuta 153\n"
     ]
    },
    {
     "name": "stderr",
     "output_type": "stream",
     "text": [
      "[========================================================================] 100%\n",
      " 15%|██████████▉                                                             | 154/1009 [13:14:43<68:55:33, 290.21s/it][                                                                        ]   0%\r"
     ]
    },
    {
     "name": "stdout",
     "output_type": "stream",
     "text": [
      "Lactarius chrysorrheus 154\n"
     ]
    },
    {
     "name": "stderr",
     "output_type": "stream",
     "text": [
      "[========================================================================] 100%\n",
      " 15%|███████████                                                             | 155/1009 [13:20:02<70:53:30, 298.84s/it][                                                                        ]   0%\r"
     ]
    },
    {
     "name": "stdout",
     "output_type": "stream",
     "text": [
      "Agaricus augustus 155\n"
     ]
    },
    {
     "name": "stderr",
     "output_type": "stream",
     "text": [
      "[========================================================================] 100%\n",
      " 15%|███████████▏                                                            | 156/1009 [13:25:35<73:13:52, 309.07s/it][                                                                        ]   0%\r"
     ]
    },
    {
     "name": "stdout",
     "output_type": "stream",
     "text": [
      "Pholiota aurivella 156\n"
     ]
    },
    {
     "name": "stderr",
     "output_type": "stream",
     "text": [
      "[========================================================================] 100%\n",
      " 16%|███████████▏                                                            | 157/1009 [13:31:01<74:20:19, 314.11s/it][                                                                        ]   0%\r"
     ]
    },
    {
     "name": "stdout",
     "output_type": "stream",
     "text": [
      "Hygrophorus olivaceoalbus 157\n"
     ]
    },
    {
     "name": "stderr",
     "output_type": "stream",
     "text": [
      "[========================================================================] 100%\n",
      " 16%|███████████▎                                                            | 158/1009 [13:35:24<70:39:30, 298.91s/it][                                                                        ]   0%\r"
     ]
    },
    {
     "name": "stdout",
     "output_type": "stream",
     "text": [
      "Rhizopogon vulgaris 158\n"
     ]
    },
    {
     "name": "stderr",
     "output_type": "stream",
     "text": [
      "[========================================================================] 100%\n",
      " 16%|███████████▎                                                            | 159/1009 [13:39:34<67:06:14, 284.21s/it][                                                                        ]   0%\r"
     ]
    },
    {
     "name": "stdout",
     "output_type": "stream",
     "text": [
      "Bovistella utriformis 159\n"
     ]
    },
    {
     "name": "stderr",
     "output_type": "stream",
     "text": [
      "[========================================================================] 100%\n",
      " 16%|███████████▍                                                            | 160/1009 [13:43:31<63:40:08, 269.97s/it][                                                                        ]   0%\r"
     ]
    },
    {
     "name": "stdout",
     "output_type": "stream",
     "text": [
      "Polyporus umbellatus 160\n"
     ]
    },
    {
     "name": "stderr",
     "output_type": "stream",
     "text": [
      "[========================================================================] 100%\n",
      " 16%|███████████▍                                                            | 161/1009 [13:48:38<66:11:49, 281.03s/it][                                                                        ]   0%\r"
     ]
    },
    {
     "name": "stdout",
     "output_type": "stream",
     "text": [
      "Ampulloclitocybe clavipes 161\n"
     ]
    },
    {
     "name": "stderr",
     "output_type": "stream",
     "text": [
      "[========================================================================] 100%\n",
      " 16%|███████████▌                                                            | 162/1009 [13:54:48<72:27:22, 307.96s/it][                                                                        ]   0%\r"
     ]
    },
    {
     "name": "stdout",
     "output_type": "stream",
     "text": [
      "Amanita crocea 162\n"
     ]
    },
    {
     "name": "stderr",
     "output_type": "stream",
     "text": [
      "[========================================================================] 100%\n",
      " 16%|███████████▋                                                            | 163/1009 [13:58:45<67:19:37, 286.50s/it][                                                                        ]   0%\r"
     ]
    },
    {
     "name": "stdout",
     "output_type": "stream",
     "text": [
      "Pholiota populnea 163\n"
     ]
    },
    {
     "name": "stderr",
     "output_type": "stream",
     "text": [
      "[========================================================================] 100%\n",
      " 16%|███████████▋                                                            | 164/1009 [14:03:18<66:19:22, 282.56s/it][                                                                        ]   0%\r"
     ]
    },
    {
     "name": "stdout",
     "output_type": "stream",
     "text": [
      "Clitopilus prunulus 164\n"
     ]
    },
    {
     "name": "stderr",
     "output_type": "stream",
     "text": [
      "[========================================================================] 100%\n",
      " 16%|███████████▊                                                            | 165/1009 [14:08:09<66:50:13, 285.09s/it][                                                                        ]   0%\r"
     ]
    },
    {
     "name": "stdout",
     "output_type": "stream",
     "text": [
      "Lycoperdon pyriforme 165\n"
     ]
    },
    {
     "name": "stderr",
     "output_type": "stream",
     "text": [
      "[========================================================================] 100%\n",
      " 16%|███████████▊                                                            | 166/1009 [14:14:04<71:38:15, 305.93s/it][                                                                        ]   0%\r"
     ]
    },
    {
     "name": "stdout",
     "output_type": "stream",
     "text": [
      "Deconica merdaria 166\n"
     ]
    },
    {
     "name": "stderr",
     "output_type": "stream",
     "text": [
      "[========================================================================] 100%\n",
      " 17%|███████████▉                                                            | 167/1009 [14:19:12<71:42:31, 306.59s/it][                                                                        ]   0%\r"
     ]
    },
    {
     "name": "stdout",
     "output_type": "stream",
     "text": [
      "Cortinarius balteatocumatilis 167\n"
     ]
    },
    {
     "name": "stderr",
     "output_type": "stream",
     "text": [
      "[========================================================================] 100%\n",
      " 17%|███████████▉                                                            | 168/1009 [14:22:48<65:19:12, 279.61s/it][                                                                        ]   0%\r"
     ]
    },
    {
     "name": "stdout",
     "output_type": "stream",
     "text": [
      "Boletus purpureus 168\n"
     ]
    },
    {
     "name": "stderr",
     "output_type": "stream",
     "text": [
      "[========================================================================] 100%\n",
      " 17%|████████████                                                            | 169/1009 [14:27:06<63:43:46, 273.13s/it][                                                                        ]   0%\r"
     ]
    },
    {
     "name": "stdout",
     "output_type": "stream",
     "text": [
      "Hebeloma crustuliniforme 169\n"
     ]
    },
    {
     "name": "stderr",
     "output_type": "stream",
     "text": [
      "[========================================================================] 100%\n",
      " 17%|████████████▏                                                           | 170/1009 [14:32:44<68:10:39, 292.54s/it][                                                                        ]   0%\r"
     ]
    },
    {
     "name": "stdout",
     "output_type": "stream",
     "text": [
      "Rubroboletus legaliae 170\n"
     ]
    },
    {
     "name": "stderr",
     "output_type": "stream",
     "text": [
      "[========================================================================] 100%\n",
      " 17%|████████████▏                                                           | 171/1009 [14:37:36<68:01:23, 292.22s/it][                                                                        ]   0%\r"
     ]
    },
    {
     "name": "stdout",
     "output_type": "stream",
     "text": [
      "Gyromitra infula 171\n"
     ]
    },
    {
     "name": "stderr",
     "output_type": "stream",
     "text": [
      "[========================================================================] 100%\n",
      " 17%|████████████▎                                                           | 172/1009 [14:42:36<68:31:55, 294.76s/it][                                                                        ]   0%\r"
     ]
    },
    {
     "name": "stdout",
     "output_type": "stream",
     "text": [
      "Psilocybe cyanescens 172\n"
     ]
    },
    {
     "name": "stderr",
     "output_type": "stream",
     "text": [
      "[========================================================================] 100%\n",
      " 17%|████████████▎                                                           | 173/1009 [14:49:53<78:20:39, 337.37s/it][                                                                        ]   0%\r"
     ]
    },
    {
     "name": "stdout",
     "output_type": "stream",
     "text": [
      "Russula claroflava 173\n"
     ]
    },
    {
     "name": "stderr",
     "output_type": "stream",
     "text": [
      "[========================================================================] 100%\n",
      " 17%|████████████▍                                                           | 174/1009 [14:54:28<73:55:17, 318.70s/it][                                                                        ]   0%\r"
     ]
    },
    {
     "name": "stdout",
     "output_type": "stream",
     "text": [
      "Infundibulicybe geotropa 174\n"
     ]
    },
    {
     "name": "stderr",
     "output_type": "stream",
     "text": [
      "[========================================================================] 100%\n",
      " 17%|████████████▍                                                           | 175/1009 [15:01:14<79:50:45, 344.66s/it][                                                                        ]   0%\r"
     ]
    },
    {
     "name": "stdout",
     "output_type": "stream",
     "text": [
      "Echinoderma asperum 175\n"
     ]
    },
    {
     "name": "stderr",
     "output_type": "stream",
     "text": [
      "[========================================================================] 100%\n",
      " 17%|████████████▌                                                           | 176/1009 [15:10:46<95:32:31, 412.91s/it][                                                                        ]   0%\r"
     ]
    },
    {
     "name": "stdout",
     "output_type": "stream",
     "text": [
      "Amanita citrina 176\n"
     ]
    },
    {
     "name": "stderr",
     "output_type": "stream",
     "text": [
      "[========================================================================] 100%\n",
      " 18%|████████████▋                                                           | 177/1009 [15:18:13<97:50:15, 423.34s/it][                                                                        ]   0%\r"
     ]
    },
    {
     "name": "stdout",
     "output_type": "stream",
     "text": [
      "Ramaria formosa 177\n"
     ]
    },
    {
     "name": "stderr",
     "output_type": "stream",
     "text": [
      "[========================================================================] 100%\n",
      " 18%|████████████▌                                                          | 178/1009 [15:30:06<117:43:04, 509.97s/it][                                                                        ]   0%\r"
     ]
    },
    {
     "name": "stdout",
     "output_type": "stream",
     "text": [
      "Lactarius mairei 178\n"
     ]
    },
    {
     "name": "stderr",
     "output_type": "stream",
     "text": [
      "[========================================================================] 100%\n",
      " 18%|████████████▌                                                          | 179/1009 [15:39:58<123:14:52, 534.57s/it][                                                                        ]   0%\r"
     ]
    },
    {
     "name": "stdout",
     "output_type": "stream",
     "text": [
      "Paxillus rubicundulus 179\n"
     ]
    },
    {
     "name": "stderr",
     "output_type": "stream",
     "text": [
      "[========================================================================] 100%\n",
      " 18%|████████████▋                                                          | 180/1009 [15:48:42<122:23:48, 531.52s/it][                                                                        ]   0%\r"
     ]
    },
    {
     "name": "stdout",
     "output_type": "stream",
     "text": [
      "Suillus grevillei 180\n"
     ]
    },
    {
     "name": "stderr",
     "output_type": "stream",
     "text": [
      "[========================================================================] 100%\n",
      " 18%|████████████▋                                                          | 181/1009 [15:58:20<125:25:58, 545.36s/it][                                                                        ]   0%\r"
     ]
    },
    {
     "name": "stdout",
     "output_type": "stream",
     "text": [
      "Russula vesca 181\n"
     ]
    },
    {
     "name": "stderr",
     "output_type": "stream",
     "text": [
      "[========================================================================] 100%\n",
      " 18%|████████████▊                                                          | 182/1009 [16:05:35<117:43:45, 512.49s/it][                                                                        ]   0%\r"
     ]
    },
    {
     "name": "stdout",
     "output_type": "stream",
     "text": [
      "Clathrus archeri 182\n"
     ]
    },
    {
     "name": "stderr",
     "output_type": "stream",
     "text": [
      "[========================================================================] 100%\n",
      " 18%|████████████▉                                                          | 183/1009 [16:15:18<122:23:42, 533.44s/it][                                                                        ]   0%\r"
     ]
    },
    {
     "name": "stdout",
     "output_type": "stream",
     "text": [
      "Leccinum percandidum 183\n"
     ]
    },
    {
     "name": "stderr",
     "output_type": "stream",
     "text": [
      "[========================================================================] 100%\n",
      " 18%|████████████▉                                                          | 184/1009 [16:22:30<115:17:37, 503.10s/it][                                                                        ]   0%\r"
     ]
    },
    {
     "name": "stdout",
     "output_type": "stream",
     "text": [
      "Xerocomellus pruinatus 184\n"
     ]
    },
    {
     "name": "stderr",
     "output_type": "stream",
     "text": [
      "[========================================================================] 100%\n",
      " 18%|█████████████                                                          | 185/1009 [16:31:32<117:49:01, 514.74s/it][                                                                        ]   0%\r"
     ]
    },
    {
     "name": "stdout",
     "output_type": "stream",
     "text": [
      "Cortinarius traganus 185\n"
     ]
    },
    {
     "name": "stderr",
     "output_type": "stream",
     "text": [
      "[========================================================================] 100%\n",
      " 18%|█████████████                                                          | 186/1009 [16:41:02<121:29:53, 531.46s/it][                                                                        ]   0%\r"
     ]
    },
    {
     "name": "stdout",
     "output_type": "stream",
     "text": [
      "Cortinarius collinitus 186\n"
     ]
    },
    {
     "name": "stderr",
     "output_type": "stream",
     "text": [
      "[========================================================================] 100%\n",
      " 19%|█████████████▏                                                         | 187/1009 [16:48:57<117:29:25, 514.56s/it][                                                                        ]   0%\r"
     ]
    },
    {
     "name": "stdout",
     "output_type": "stream",
     "text": [
      "Agaricus sylvicola 187\n"
     ]
    },
    {
     "name": "stderr",
     "output_type": "stream",
     "text": [
      "[========================================================================] 100%\n",
      " 19%|█████████████▏                                                         | 188/1009 [17:00:10<128:11:22, 562.10s/it][                                                                        ]   0%\r"
     ]
    },
    {
     "name": "stdout",
     "output_type": "stream",
     "text": [
      "Hortiboletus rubellus 188\n"
     ]
    },
    {
     "name": "stderr",
     "output_type": "stream",
     "text": [
      "[========================================================================] 100%\n",
      " 19%|█████████████▎                                                         | 189/1009 [17:10:09<130:33:14, 573.16s/it][                                                                        ]   0%\r"
     ]
    },
    {
     "name": "stdout",
     "output_type": "stream",
     "text": [
      "Pleurotus cornucopiae 189\n"
     ]
    },
    {
     "name": "stderr",
     "output_type": "stream",
     "text": [
      "[========================================================================] 100%\n",
      " 19%|█████████████▎                                                         | 190/1009 [17:17:36<121:46:33, 535.28s/it][                                                                        ]   0%\r"
     ]
    },
    {
     "name": "stdout",
     "output_type": "stream",
     "text": [
      "Albatrellus confluens 190\n"
     ]
    },
    {
     "name": "stderr",
     "output_type": "stream",
     "text": [
      "[========================================================================] 100%\n",
      " 19%|█████████████▍                                                         | 191/1009 [17:26:56<123:15:18, 542.44s/it][                                                                        ]   0%\r"
     ]
    },
    {
     "name": "stdout",
     "output_type": "stream",
     "text": [
      "Clitocybe brumalis 191\n"
     ]
    },
    {
     "name": "stderr",
     "output_type": "stream",
     "text": [
      "[========================================================================] 100%\n",
      " 19%|█████████████▌                                                         | 192/1009 [17:35:56<122:58:01, 541.84s/it][                                                                        ]   0%\r"
     ]
    },
    {
     "name": "stdout",
     "output_type": "stream",
     "text": [
      "Leccinellum crocipodium 192\n"
     ]
    },
    {
     "name": "stderr",
     "output_type": "stream",
     "text": [
      "[========================================================================] 100%\n",
      " 19%|█████████████▌                                                         | 193/1009 [17:46:05<127:21:48, 561.90s/it][                                                                        ]   0%\r"
     ]
    },
    {
     "name": "stdout",
     "output_type": "stream",
     "text": [
      "Suillus collinitus 193\n"
     ]
    },
    {
     "name": "stderr",
     "output_type": "stream",
     "text": [
      "[========================================================================] 100%\n",
      " 19%|█████████████▋                                                         | 194/1009 [17:54:43<124:16:43, 548.96s/it][                                                                        ]   0%\r"
     ]
    },
    {
     "name": "stdout",
     "output_type": "stream",
     "text": [
      "Cortinarius claricolor 194\n"
     ]
    },
    {
     "name": "stderr",
     "output_type": "stream",
     "text": [
      "[========================================================================] 100%\n",
      " 19%|█████████████▋                                                         | 195/1009 [18:02:21<117:54:57, 521.50s/it][                                                                        ]   0%\r"
     ]
    },
    {
     "name": "stdout",
     "output_type": "stream",
     "text": [
      "Tremella mesenterica 195\n"
     ]
    },
    {
     "name": "stderr",
     "output_type": "stream",
     "text": [
      "[========================================================================] 100%\n",
      " 19%|█████████████▊                                                         | 196/1009 [18:13:16<126:49:11, 561.56s/it][                                                                        ]   0%\r"
     ]
    },
    {
     "name": "stdout",
     "output_type": "stream",
     "text": [
      "Lactifluus glaucescens 196\n"
     ]
    },
    {
     "name": "stderr",
     "output_type": "stream",
     "text": [
      "[========================================================================] 100%\n",
      " 20%|█████████████▊                                                         | 197/1009 [18:19:38<114:30:01, 507.64s/it][                                                                        ]   0%\r"
     ]
    },
    {
     "name": "stdout",
     "output_type": "stream",
     "text": [
      "Psilocybe bohemica 197\n"
     ]
    },
    {
     "name": "stderr",
     "output_type": "stream",
     "text": [
      "[========================================================================] 100%\n",
      " 20%|█████████████▉                                                         | 198/1009 [18:27:28<111:49:55, 496.42s/it][                                                                        ]   0%\r"
     ]
    },
    {
     "name": "stdout",
     "output_type": "stream",
     "text": [
      "Tricholoma matsutake 198\n"
     ]
    },
    {
     "name": "stderr",
     "output_type": "stream",
     "text": [
      "[========================================================================] 100%\n",
      " 20%|██████████████                                                         | 199/1009 [18:37:22<118:18:17, 525.80s/it][                                                                        ]   0%\r"
     ]
    },
    {
     "name": "stdout",
     "output_type": "stream",
     "text": [
      "Tremella fuciformis 199\n"
     ]
    },
    {
     "name": "stderr",
     "output_type": "stream",
     "text": [
      "[========================================================================] 100%\n",
      " 20%|██████████████                                                         | 200/1009 [18:46:09<118:13:19, 526.08s/it][                                                                        ]   0%\r"
     ]
    },
    {
     "name": "stdout",
     "output_type": "stream",
     "text": [
      "Clitocybe metachroa 200\n"
     ]
    },
    {
     "name": "stderr",
     "output_type": "stream",
     "text": [
      "[========================================================================] 100%\n",
      " 20%|██████████████▏                                                        | 201/1009 [18:53:51<113:46:06, 506.89s/it][                                                                        ]   0%\r"
     ]
    },
    {
     "name": "stdout",
     "output_type": "stream",
     "text": [
      "Panaeolus cyanescens 201\n"
     ]
    },
    {
     "name": "stderr",
     "output_type": "stream",
     "text": [
      "[========================================================================] 100%\n",
      " 20%|██████████████▏                                                        | 202/1009 [19:03:29<118:22:14, 528.05s/it][                                                                        ]   0%\r"
     ]
    },
    {
     "name": "stdout",
     "output_type": "stream",
     "text": [
      "Imperator rhodopurpureus 202\n"
     ]
    },
    {
     "name": "stderr",
     "output_type": "stream",
     "text": [
      "[========================================================================] 100%\n",
      " 20%|██████████████▎                                                        | 203/1009 [19:14:00<125:09:31, 559.02s/it][                                                                        ]   0%\r"
     ]
    },
    {
     "name": "stdout",
     "output_type": "stream",
     "text": [
      "Tricholomopsis decora 203\n"
     ]
    },
    {
     "name": "stderr",
     "output_type": "stream",
     "text": [
      "[========================================================================] 100%\n",
      " 20%|██████████████▎                                                        | 204/1009 [19:23:33<125:57:58, 563.33s/it][                                                                        ]   0%\r"
     ]
    },
    {
     "name": "stdout",
     "output_type": "stream",
     "text": [
      "Rhodocollybia butyracea 204\n"
     ]
    },
    {
     "name": "stderr",
     "output_type": "stream",
     "text": [
      "[========================================================================] 100%\n",
      " 20%|██████████████▍                                                        | 205/1009 [19:32:42<124:48:41, 558.86s/it][                                                                        ]   0%\r"
     ]
    },
    {
     "name": "stdout",
     "output_type": "stream",
     "text": [
      "Suillellus queletii 205\n"
     ]
    },
    {
     "name": "stderr",
     "output_type": "stream",
     "text": [
      "[========================================================================] 100%\n",
      " 20%|██████████████▍                                                        | 206/1009 [19:40:42<119:23:04, 535.22s/it][                                                                        ]   0%\r"
     ]
    },
    {
     "name": "stdout",
     "output_type": "stream",
     "text": [
      "Phaeolepiota aurea 206\n"
     ]
    },
    {
     "name": "stderr",
     "output_type": "stream",
     "text": [
      "[========================================================================] 100%\n",
      " 21%|██████████████▌                                                        | 207/1009 [19:49:00<116:45:34, 524.11s/it][                                                                        ]   0%\r"
     ]
    },
    {
     "name": "stdout",
     "output_type": "stream",
     "text": [
      "Gyromitra gigas 207\n"
     ]
    },
    {
     "name": "stderr",
     "output_type": "stream",
     "text": [
      "[========================================================================] 100%\n",
      " 21%|██████████████▋                                                        | 208/1009 [19:58:12<118:30:23, 532.61s/it][                                                                        ]   0%\r"
     ]
    },
    {
     "name": "stdout",
     "output_type": "stream",
     "text": [
      "Aleuria aurantia 208\n"
     ]
    },
    {
     "name": "stderr",
     "output_type": "stream",
     "text": [
      "[========================================================================] 100%\n",
      " 21%|██████████████▋                                                        | 209/1009 [20:06:45<117:00:31, 526.54s/it][                                                                        ]   0%\r"
     ]
    },
    {
     "name": "stdout",
     "output_type": "stream",
     "text": [
      "Fomitopsis betulina 209\n"
     ]
    },
    {
     "name": "stderr",
     "output_type": "stream",
     "text": [
      "[========================================================================] 100%\n",
      " 21%|██████████████▊                                                        | 210/1009 [20:16:03<118:59:23, 536.13s/it][                                                                        ]   0%\r"
     ]
    },
    {
     "name": "stdout",
     "output_type": "stream",
     "text": [
      "Tricholoma caligatum 210\n"
     ]
    },
    {
     "name": "stderr",
     "output_type": "stream",
     "text": [
      "[========================================================================] 100%\n",
      " 21%|██████████████▊                                                        | 211/1009 [20:26:44<125:47:08, 567.45s/it][                                                                        ]   0%\r"
     ]
    },
    {
     "name": "stdout",
     "output_type": "stream",
     "text": [
      "Gymnopus dryophilus 211\n"
     ]
    },
    {
     "name": "stderr",
     "output_type": "stream",
     "text": [
      "[========================================================================] 100%\n",
      " 21%|██████████████▉                                                        | 212/1009 [20:35:48<124:06:11, 560.57s/it][                                                                        ]   0%\r"
     ]
    },
    {
     "name": "stdout",
     "output_type": "stream",
     "text": [
      "Bovista plumbea 212\n"
     ]
    },
    {
     "name": "stderr",
     "output_type": "stream",
     "text": [
      "[========================================================================] 100%\n",
      " 21%|██████████████▉                                                        | 213/1009 [20:45:25<125:00:29, 565.36s/it][                                                                        ]   0%\r"
     ]
    },
    {
     "name": "stdout",
     "output_type": "stream",
     "text": [
      "Stropharia rugoso-annulata 213\n"
     ]
    },
    {
     "name": "stderr",
     "output_type": "stream",
     "text": [
      "[========================================================================] 100%\n",
      " 21%|███████████████                                                        | 214/1009 [20:53:33<119:46:03, 542.34s/it][                                                                        ]   0%\r"
     ]
    },
    {
     "name": "stdout",
     "output_type": "stream",
     "text": [
      "Russula virescens 214\n"
     ]
    },
    {
     "name": "stderr",
     "output_type": "stream",
     "text": [
      "[========================================================================] 100%\n",
      " 21%|███████████████▏                                                       | 215/1009 [21:01:32<115:23:11, 523.16s/it][                                                                        ]   0%\r"
     ]
    },
    {
     "name": "stdout",
     "output_type": "stream",
     "text": [
      "Leucopholiota lignicola 215\n"
     ]
    },
    {
     "name": "stderr",
     "output_type": "stream",
     "text": [
      "[========================================================================] 100%\n",
      " 21%|███████████████▏                                                       | 216/1009 [21:09:07<110:43:21, 502.65s/it][                                                                        ]   0%\r"
     ]
    },
    {
     "name": "stdout",
     "output_type": "stream",
     "text": [
      "Agrocybe praecox 216\n"
     ]
    },
    {
     "name": "stderr",
     "output_type": "stream",
     "text": [
      "[========================================================================] 100%\n",
      " 22%|███████████████▎                                                       | 217/1009 [21:18:22<114:04:42, 518.54s/it][                                                                        ]   0%\r"
     ]
    },
    {
     "name": "stdout",
     "output_type": "stream",
     "text": [
      "Leucoagaricus leucothites 217\n"
     ]
    },
    {
     "name": "stderr",
     "output_type": "stream",
     "text": [
      "[========================================================================] 100%\n",
      " 22%|███████████████▎                                                       | 218/1009 [21:28:32<119:57:05, 545.92s/it][                                                                        ]   0%\r"
     ]
    },
    {
     "name": "stdout",
     "output_type": "stream",
     "text": [
      "Fomes fomentarius 218\n"
     ]
    },
    {
     "name": "stderr",
     "output_type": "stream",
     "text": [
      "[========================================================================] 100%\n",
      " 22%|███████████████▍                                                       | 219/1009 [21:38:33<123:26:44, 562.54s/it][                                                                        ]   0%\r"
     ]
    },
    {
     "name": "stdout",
     "output_type": "stream",
     "text": [
      "Leucoagaricus nympharum 219\n"
     ]
    },
    {
     "name": "stderr",
     "output_type": "stream",
     "text": [
      "[========================================================================] 100%\n",
      " 22%|███████████████▍                                                       | 220/1009 [21:46:05<116:01:39, 529.40s/it][                                                                        ]   0%\r"
     ]
    },
    {
     "name": "stdout",
     "output_type": "stream",
     "text": [
      "Serpula lacrymans 220\n"
     ]
    },
    {
     "name": "stderr",
     "output_type": "stream",
     "text": [
      "[========================================================================] 100%\n",
      " 22%|███████████████▌                                                       | 221/1009 [21:54:16<113:19:28, 517.73s/it][                                                                        ]   0%\r"
     ]
    },
    {
     "name": "stdout",
     "output_type": "stream",
     "text": [
      "Hygrophorus pustulatus 221\n"
     ]
    },
    {
     "name": "stderr",
     "output_type": "stream",
     "text": [
      "[========================================================================] 100%\n",
      " 22%|███████████████▌                                                       | 222/1009 [22:03:07<114:03:10, 521.72s/it][                                                                        ]   0%\r"
     ]
    },
    {
     "name": "stdout",
     "output_type": "stream",
     "text": [
      "Neofavolus alveolaris 222\n"
     ]
    },
    {
     "name": "stderr",
     "output_type": "stream",
     "text": [
      "[========================================================================] 100%\n",
      " 22%|███████████████▋                                                       | 223/1009 [22:11:27<112:29:21, 515.22s/it][                                                                        ]   0%\r"
     ]
    },
    {
     "name": "stdout",
     "output_type": "stream",
     "text": [
      "Ramaria botrytis 223\n"
     ]
    },
    {
     "name": "stderr",
     "output_type": "stream",
     "text": [
      "[========================================================================] 100%\n",
      " 22%|███████████████▊                                                       | 224/1009 [22:21:40<118:44:54, 544.58s/it][                                                                        ]   0%\r"
     ]
    },
    {
     "name": "stdout",
     "output_type": "stream",
     "text": [
      "Hypsizygus ulmarius 224\n"
     ]
    },
    {
     "name": "stderr",
     "output_type": "stream",
     "text": [
      "[========================================================================] 100%\n",
      " 22%|███████████████▊                                                       | 225/1009 [22:28:52<111:13:59, 510.76s/it][                                                                        ]   0%\r"
     ]
    },
    {
     "name": "stdout",
     "output_type": "stream",
     "text": [
      "Protostropharia semiglobata 225\n"
     ]
    },
    {
     "name": "stderr",
     "output_type": "stream",
     "text": [
      "[========================================================================] 100%\n",
      " 22%|███████████████▉                                                       | 226/1009 [22:41:55<128:52:47, 592.55s/it][                                                                        ]   0%\r"
     ]
    },
    {
     "name": "stdout",
     "output_type": "stream",
     "text": [
      "Hydnum albidum 226\n"
     ]
    },
    {
     "name": "stderr",
     "output_type": "stream",
     "text": [
      "[========================================================================] 100%\n",
      " 22%|███████████████▉                                                       | 227/1009 [22:48:35<116:10:04, 534.79s/it][                                                                        ]   0%\r"
     ]
    },
    {
     "name": "stdout",
     "output_type": "stream",
     "text": [
      "Lactarius repraesentaneus 227\n"
     ]
    },
    {
     "name": "stderr",
     "output_type": "stream",
     "text": [
      "[========================================================================] 100%\n",
      " 23%|████████████████                                                       | 228/1009 [22:56:11<110:51:47, 511.02s/it][                                                                        ]   0%\r"
     ]
    },
    {
     "name": "stdout",
     "output_type": "stream",
     "text": [
      "Lactarius helvus 228\n"
     ]
    },
    {
     "name": "stderr",
     "output_type": "stream",
     "text": [
      "[========================================================================] 100%\n",
      " 23%|████████████████                                                       | 229/1009 [23:03:41<106:44:37, 492.66s/it][                                                                        ]   0%\r"
     ]
    },
    {
     "name": "stdout",
     "output_type": "stream",
     "text": [
      "Cyclocybe aegerita 229\n"
     ]
    },
    {
     "name": "stderr",
     "output_type": "stream",
     "text": [
      "[========================================================================] 100%\n",
      " 23%|████████████████▏                                                      | 230/1009 [23:12:22<108:26:40, 501.16s/it][                                                                        ]   0%\r"
     ]
    },
    {
     "name": "stdout",
     "output_type": "stream",
     "text": [
      "Boletus barrowsii 230\n"
     ]
    },
    {
     "name": "stderr",
     "output_type": "stream",
     "text": [
      "[========================================================================] 100%\n",
      " 23%|████████████████▎                                                      | 231/1009 [23:20:59<109:22:11, 506.08s/it][                                                                        ]   0%\r"
     ]
    },
    {
     "name": "stdout",
     "output_type": "stream",
     "text": [
      "Lepiota cristata 231\n"
     ]
    },
    {
     "name": "stderr",
     "output_type": "stream",
     "text": [
      "[========================================================================] 100%\n",
      " 23%|████████████████▎                                                      | 232/1009 [23:28:52<107:03:17, 496.01s/it][                                                                        ]   0%\r"
     ]
    },
    {
     "name": "stdout",
     "output_type": "stream",
     "text": [
      "Hericium erinaceus 232\n"
     ]
    },
    {
     "name": "stderr",
     "output_type": "stream",
     "text": [
      "[========================================================================] 100%\n",
      " 23%|████████████████▍                                                      | 233/1009 [23:36:58<106:17:43, 493.12s/it][                                                                        ]   0%\r"
     ]
    },
    {
     "name": "stdout",
     "output_type": "stream",
     "text": [
      "Russula alutacea 233\n"
     ]
    },
    {
     "name": "stderr",
     "output_type": "stream",
     "text": [
      "[========================================================================] 100%\n",
      " 23%|████████████████▍                                                      | 234/1009 [23:43:43<100:27:35, 466.65s/it][                                                                        ]   0%\r"
     ]
    },
    {
     "name": "stdout",
     "output_type": "stream",
     "text": [
      "Craterellus cornucopioides 234\n"
     ]
    },
    {
     "name": "stderr",
     "output_type": "stream",
     "text": [
      "[========================================================================] 100%\n",
      " 23%|████████████████▊                                                       | 235/1009 [23:51:08<98:54:20, 460.03s/it][                                                                        ]   0%\r"
     ]
    },
    {
     "name": "stdout",
     "output_type": "stream",
     "text": [
      "Coprinellus micaceus 235\n"
     ]
    },
    {
     "name": "stderr",
     "output_type": "stream",
     "text": [
      "[========================================================================] 100%\n",
      " 23%|████████████████▌                                                      | 236/1009 [24:01:00<107:19:08, 499.80s/it][                                                                        ]   0%\r"
     ]
    },
    {
     "name": "stdout",
     "output_type": "stream",
     "text": [
      "Russula paludosa 236\n"
     ]
    },
    {
     "name": "stderr",
     "output_type": "stream",
     "text": [
      "[========================================================================] 100%\n",
      " 23%|████████████████▋                                                      | 237/1009 [24:08:04<102:16:27, 476.93s/it][                                                                        ]   0%\r"
     ]
    },
    {
     "name": "stdout",
     "output_type": "stream",
     "text": [
      "Ganoderma lucidum 237\n"
     ]
    },
    {
     "name": "stderr",
     "output_type": "stream",
     "text": [
      "[========================================================================] 100%\n",
      " 24%|████████████████▉                                                       | 238/1009 [24:14:59<98:10:28, 458.40s/it][                                                                        ]   0%\r"
     ]
    },
    {
     "name": "stdout",
     "output_type": "stream",
     "text": [
      "Leccinum duriusculum 238\n"
     ]
    },
    {
     "name": "stderr",
     "output_type": "stream",
     "text": [
      "[========================================================================] 100%\n",
      " 24%|█████████████████                                                       | 239/1009 [24:22:44<98:26:12, 460.22s/it][                                                                        ]   0%\r"
     ]
    },
    {
     "name": "stdout",
     "output_type": "stream",
     "text": [
      "Lycoperdon excipuliforme 239\n"
     ]
    },
    {
     "name": "stderr",
     "output_type": "stream",
     "text": [
      "[========================================================================] 100%\n",
      " 24%|████████████████▉                                                      | 240/1009 [24:30:52<100:08:52, 468.83s/it][                                                                        ]   0%\r"
     ]
    },
    {
     "name": "stdout",
     "output_type": "stream",
     "text": [
      "Ramaria eumorpha 240\n"
     ]
    },
    {
     "name": "stderr",
     "output_type": "stream",
     "text": [
      "[========================================================================] 100%\n",
      " 24%|████████████████▉                                                      | 241/1009 [24:39:44<104:01:08, 487.59s/it][                                                                        ]   0%\r"
     ]
    },
    {
     "name": "stdout",
     "output_type": "stream",
     "text": [
      "Entoloma sepium 241\n"
     ]
    },
    {
     "name": "stderr",
     "output_type": "stream",
     "text": [
      "[========================================================================] 100%\n",
      " 24%|█████████████████▎                                                      | 242/1009 [24:46:01<96:51:28, 454.61s/it][                                                                        ]   0%\r"
     ]
    },
    {
     "name": "stdout",
     "output_type": "stream",
     "text": [
      "Cantharellus cinereus 242\n"
     ]
    },
    {
     "name": "stderr",
     "output_type": "stream",
     "text": [
      "[========================================================================] 100%\n",
      " 24%|█████████████████▎                                                      | 243/1009 [24:53:28<96:13:23, 452.22s/it][                                                                        ]   0%\r"
     ]
    },
    {
     "name": "stdout",
     "output_type": "stream",
     "text": [
      "Verpa bohemica 243\n"
     ]
    },
    {
     "name": "stderr",
     "output_type": "stream",
     "text": [
      "[========================================================================] 100%\n",
      " 24%|█████████████████▍                                                      | 244/1009 [25:01:59<99:52:04, 469.97s/it][                                                                        ]   0%\r"
     ]
    },
    {
     "name": "stdout",
     "output_type": "stream",
     "text": [
      "Russula xerampelina 244\n"
     ]
    },
    {
     "name": "stderr",
     "output_type": "stream",
     "text": [
      "[========================================================================] 100%\n",
      " 24%|█████████████████▏                                                     | 245/1009 [25:11:25<105:49:52, 498.68s/it][                                                                        ]   0%\r"
     ]
    },
    {
     "name": "stdout",
     "output_type": "stream",
     "text": [
      "Cortinarius largus 245\n"
     ]
    },
    {
     "name": "stderr",
     "output_type": "stream",
     "text": [
      "[========================================================================] 100%\n",
      " 24%|█████████████████▎                                                     | 246/1009 [25:19:38<105:19:19, 496.93s/it][                                                                        ]   0%\r"
     ]
    },
    {
     "name": "stdout",
     "output_type": "stream",
     "text": [
      "Lactarius pergamenus 246\n"
     ]
    },
    {
     "name": "stderr",
     "output_type": "stream",
     "text": [
      "[========================================================================] 100%\n",
      " 24%|█████████████████▍                                                     | 247/1009 [25:27:11<102:23:47, 483.76s/it][                                                                        ]   0%\r"
     ]
    },
    {
     "name": "stdout",
     "output_type": "stream",
     "text": [
      "lycogala epidendrum 247\n"
     ]
    },
    {
     "name": "stderr",
     "output_type": "stream",
     "text": [
      "[========================================================================] 100%\n",
      " 25%|█████████████████▍                                                     | 248/1009 [25:37:13<109:45:46, 519.25s/it][                                                                        ]   0%\r"
     ]
    },
    {
     "name": "stdout",
     "output_type": "stream",
     "text": [
      "Leccinum quercinum 248\n"
     ]
    },
    {
     "name": "stderr",
     "output_type": "stream",
     "text": [
      "[========================================================================] 100%\n",
      " 25%|█████████████████▌                                                     | 249/1009 [25:45:31<108:15:03, 512.77s/it][                                                                        ]   0%\r"
     ]
    },
    {
     "name": "stdout",
     "output_type": "stream",
     "text": [
      "Russula decolorans 249\n"
     ]
    },
    {
     "name": "stderr",
     "output_type": "stream",
     "text": [
      "[========================================================================] 100%\n",
      " 25%|█████████████████▌                                                     | 250/1009 [26:03:26<143:41:23, 681.53s/it][                                                                        ]   0%\r"
     ]
    },
    {
     "name": "stdout",
     "output_type": "stream",
     "text": [
      "Auricularia mesenterica 250\n"
     ]
    },
    {
     "name": "stderr",
     "output_type": "stream",
     "text": [
      "[========================================================================] 100%\n",
      " 25%|█████████████████▋                                                     | 251/1009 [26:11:05<129:25:47, 614.71s/it][                                                                        ]   0%\r"
     ]
    },
    {
     "name": "stdout",
     "output_type": "stream",
     "text": [
      "Neolentinus lepideus 251\n"
     ]
    },
    {
     "name": "stderr",
     "output_type": "stream",
     "text": [
      "[========================================================================] 100%\n",
      " 25%|█████████████████▋                                                     | 252/1009 [26:19:39<122:56:06, 584.63s/it][                                                                        ]   0%\r"
     ]
    },
    {
     "name": "stdout",
     "output_type": "stream",
     "text": [
      "Boletinus asiaticus 252\n"
     ]
    },
    {
     "name": "stderr",
     "output_type": "stream",
     "text": [
      "[========================================================================] 100%\n",
      " 25%|█████████████████▊                                                     | 253/1009 [26:24:14<103:15:08, 491.68s/it][                                                                        ]   0%\r"
     ]
    },
    {
     "name": "stdout",
     "output_type": "stream",
     "text": [
      "Lactarius aurantiacus 253\n"
     ]
    },
    {
     "name": "stderr",
     "output_type": "stream",
     "text": [
      "[========================================================================] 100%\n",
      " 25%|██████████████████                                                      | 254/1009 [26:29:28<91:57:02, 438.44s/it][                                                                        ]   0%\r"
     ]
    },
    {
     "name": "stdout",
     "output_type": "stream",
     "text": [
      "Tricholoma scalpturatum 254\n"
     ]
    },
    {
     "name": "stderr",
     "output_type": "stream",
     "text": [
      "[========================================================================] 100%\n",
      " 25%|██████████████████▏                                                     | 255/1009 [26:34:55<84:48:55, 404.95s/it][                                                                        ]   0%\r"
     ]
    },
    {
     "name": "stdout",
     "output_type": "stream",
     "text": [
      "Desarmillaria tabescens 255\n"
     ]
    },
    {
     "name": "stderr",
     "output_type": "stream",
     "text": [
      "[========================================================================] 100%\n",
      " 25%|██████████████████▎                                                     | 256/1009 [26:40:38<80:48:06, 386.30s/it][                                                                        ]   0%\r"
     ]
    },
    {
     "name": "stdout",
     "output_type": "stream",
     "text": [
      "Lactarius sanguifluus 256\n"
     ]
    },
    {
     "name": "stderr",
     "output_type": "stream",
     "text": [
      "[========================================================================] 100%\n",
      " 25%|██████████████████▎                                                     | 257/1009 [26:46:32<78:42:08, 376.77s/it][                                                                        ]   0%\r"
     ]
    },
    {
     "name": "stdout",
     "output_type": "stream",
     "text": [
      "Clitocybe odora 257\n"
     ]
    },
    {
     "name": "stderr",
     "output_type": "stream",
     "text": [
      "[========================================================================] 100%\n",
      " 26%|██████████████████▍                                                     | 258/1009 [26:51:48<74:48:01, 358.56s/it][                                                                        ]   0%\r"
     ]
    },
    {
     "name": "stdout",
     "output_type": "stream",
     "text": [
      "Rhizopogon luteolus 258\n"
     ]
    },
    {
     "name": "stderr",
     "output_type": "stream",
     "text": [
      "[========================================================================] 100%\n",
      " 26%|██████████████████▍                                                     | 259/1009 [26:57:57<75:20:24, 361.63s/it][                                                                        ]   0%\r"
     ]
    },
    {
     "name": "stdout",
     "output_type": "stream",
     "text": [
      "Mutinus caninus 259\n"
     ]
    },
    {
     "name": "stderr",
     "output_type": "stream",
     "text": [
      "[========================================================================] 100%\n",
      " 26%|██████████████████▌                                                     | 260/1009 [27:03:44<74:17:58, 357.11s/it][                                                                        ]   0%\r"
     ]
    },
    {
     "name": "stdout",
     "output_type": "stream",
     "text": [
      "Entoloma vernum 260\n"
     ]
    },
    {
     "name": "stderr",
     "output_type": "stream",
     "text": [
      "[========================================================================] 100%\n",
      " 26%|██████████████████▌                                                     | 261/1009 [27:08:38<70:17:59, 338.34s/it][                                                                        ]   0%\r"
     ]
    },
    {
     "name": "stdout",
     "output_type": "stream",
     "text": [
      "Trametes versicolor 261\n"
     ]
    },
    {
     "name": "stderr",
     "output_type": "stream",
     "text": [
      "[========================================================================] 100%\n",
      " 26%|██████████████████▋                                                     | 262/1009 [27:14:36<71:22:25, 343.97s/it][                                                                        ]   0%\r"
     ]
    },
    {
     "name": "stdout",
     "output_type": "stream",
     "text": [
      "Russula adusta 262\n"
     ]
    },
    {
     "name": "stderr",
     "output_type": "stream",
     "text": [
      "[========================================================================] 100%\n",
      " 26%|██████████████████▊                                                     | 263/1009 [27:19:36<68:35:31, 331.01s/it][                                                                        ]   0%\r"
     ]
    },
    {
     "name": "stdout",
     "output_type": "stream",
     "text": [
      "Inocybe patouillardii 263\n"
     ]
    },
    {
     "name": "stderr",
     "output_type": "stream",
     "text": [
      "[========================================================================] 100%\n",
      " 26%|██████████████████▊                                                     | 264/1009 [27:24:32<66:18:42, 320.43s/it][                                                                        ]   0%\r"
     ]
    },
    {
     "name": "stdout",
     "output_type": "stream",
     "text": [
      "Pholiota alnicola 264\n"
     ]
    },
    {
     "name": "stderr",
     "output_type": "stream",
     "text": [
      "[========================================================================] 100%\n",
      " 26%|██████████████████▉                                                     | 265/1009 [27:29:16<63:59:02, 309.60s/it][                                                                        ]   0%\r"
     ]
    },
    {
     "name": "stdout",
     "output_type": "stream",
     "text": [
      "Volvariella bombycina 265\n"
     ]
    },
    {
     "name": "stderr",
     "output_type": "stream",
     "text": [
      "[========================================================================] 100%\n",
      " 26%|██████████████████▉                                                     | 266/1009 [27:34:38<64:40:19, 313.35s/it][                                                                        ]   0%\r"
     ]
    },
    {
     "name": "stdout",
     "output_type": "stream",
     "text": [
      "Lepiota subincarnata 266\n"
     ]
    },
    {
     "name": "stderr",
     "output_type": "stream",
     "text": [
      "[========================================================================] 100%\n",
      " 26%|███████████████████                                                     | 267/1009 [27:40:28<66:47:53, 324.09s/it][                                                                        ]   0%\r"
     ]
    },
    {
     "name": "stdout",
     "output_type": "stream",
     "text": [
      "Saproamanita vittadinii 267\n"
     ]
    },
    {
     "name": "stderr",
     "output_type": "stream",
     "text": [
      "[========================================================================] 100%\n",
      " 27%|███████████████████                                                     | 268/1009 [27:45:46<66:22:26, 322.47s/it][                                                                        ]   0%\r"
     ]
    },
    {
     "name": "stdout",
     "output_type": "stream",
     "text": [
      "Agaricus placomyces 268\n"
     ]
    },
    {
     "name": "stderr",
     "output_type": "stream",
     "text": [
      "[========================================================================] 100%\n",
      " 27%|███████████████████▏                                                    | 269/1009 [27:51:59<69:22:30, 337.50s/it][                                                                        ]   0%\r"
     ]
    },
    {
     "name": "stdout",
     "output_type": "stream",
     "text": [
      "Clavariadelphus pistillaris 269\n"
     ]
    },
    {
     "name": "stderr",
     "output_type": "stream",
     "text": [
      "[========================================================================] 100%\n",
      " 27%|███████████████████▎                                                    | 270/1009 [27:56:36<65:35:06, 319.49s/it][                                                                        ]   0%\r"
     ]
    },
    {
     "name": "stdout",
     "output_type": "stream",
     "text": [
      "Buchwaldoboletus lignicola 270\n"
     ]
    },
    {
     "name": "stderr",
     "output_type": "stream",
     "text": [
      "[========================================================================] 100%\n",
      " 27%|███████████████████▎                                                    | 271/1009 [28:02:39<68:08:57, 332.44s/it][                                                                        ]   0%\r"
     ]
    },
    {
     "name": "stdout",
     "output_type": "stream",
     "text": [
      "Phallus Hadriani 271\n"
     ]
    },
    {
     "name": "stderr",
     "output_type": "stream",
     "text": [
      "[========================================================================] 100%\n",
      " 27%|███████████████████▍                                                    | 272/1009 [28:11:06<78:46:46, 384.81s/it][                                                                        ]   0%\r"
     ]
    },
    {
     "name": "stdout",
     "output_type": "stream",
     "text": [
      "Leucocoprinus birnbaumii 272\n"
     ]
    },
    {
     "name": "stderr",
     "output_type": "stream",
     "text": [
      "[========================================================================] 100%\n",
      " 27%|███████████████████▍                                                    | 273/1009 [28:18:39<82:50:16, 405.19s/it][                                                                        ]   0%\r"
     ]
    },
    {
     "name": "stdout",
     "output_type": "stream",
     "text": [
      "Cortinarius praestans 273\n"
     ]
    },
    {
     "name": "stderr",
     "output_type": "stream",
     "text": [
      "[========================================================================] 100%\n",
      " 27%|███████████████████▌                                                    | 274/1009 [28:23:32<75:51:10, 371.52s/it][                                                                        ]   0%\r"
     ]
    },
    {
     "name": "stdout",
     "output_type": "stream",
     "text": [
      "Psilocybe coronilla 274\n"
     ]
    },
    {
     "name": "stderr",
     "output_type": "stream",
     "text": [
      "[========================================================================] 100%\n",
      " 27%|███████████████████▌                                                    | 275/1009 [28:28:26<71:00:43, 348.29s/it][                                                                        ]   0%\r"
     ]
    },
    {
     "name": "stdout",
     "output_type": "stream",
     "text": [
      "Rhizopogon roseolus 275\n"
     ]
    },
    {
     "name": "stderr",
     "output_type": "stream",
     "text": [
      "[========================================================================] 100%\n",
      " 27%|███████████████████▋                                                    | 276/1009 [28:34:16<71:02:11, 348.88s/it][                                                                        ]   0%\r"
     ]
    },
    {
     "name": "stdout",
     "output_type": "stream",
     "text": [
      "Lactarius glyciosmus 276\n"
     ]
    },
    {
     "name": "stderr",
     "output_type": "stream",
     "text": [
      "[========================================================================] 100%\n",
      " 27%|███████████████████▊                                                    | 277/1009 [28:38:50<66:23:59, 326.56s/it][                                                                        ]   0%\r"
     ]
    },
    {
     "name": "stdout",
     "output_type": "stream",
     "text": [
      "Tuber melanosporum 277\n"
     ]
    },
    {
     "name": "stderr",
     "output_type": "stream",
     "text": [
      "[========================================================================] 100%\n",
      " 28%|███████████████████▊                                                    | 278/1009 [28:44:57<68:44:27, 338.53s/it][                                                                        ]   0%\r"
     ]
    },
    {
     "name": "stdout",
     "output_type": "stream",
     "text": [
      "Tricholoma Sejunctum 278\n"
     ]
    },
    {
     "name": "stderr",
     "output_type": "stream",
     "text": [
      "[========================================================================] 100%\n",
      " 28%|███████████████████▉                                                    | 279/1009 [28:50:48<69:23:47, 342.23s/it][                                                                        ]   0%\r"
     ]
    },
    {
     "name": "stdout",
     "output_type": "stream",
     "text": [
      "Amanita strobiliformis 279\n"
     ]
    },
    {
     "name": "stderr",
     "output_type": "stream",
     "text": [
      "[========================================================================] 100%\n",
      " 28%|███████████████████▉                                                    | 280/1009 [28:54:34<62:13:53, 307.32s/it][                                                                        ]   0%\r"
     ]
    },
    {
     "name": "stdout",
     "output_type": "stream",
     "text": [
      "Chlorophyllum molybdites 280\n"
     ]
    },
    {
     "name": "stderr",
     "output_type": "stream",
     "text": [
      "[========================================================================] 100%\n",
      " 28%|████████████████████                                                    | 281/1009 [29:02:24<72:03:27, 356.33s/it][                                                                        ]   0%\r"
     ]
    },
    {
     "name": "stdout",
     "output_type": "stream",
     "text": [
      "Leucocybe connata 281\n"
     ]
    },
    {
     "name": "stderr",
     "output_type": "stream",
     "text": [
      "[========================================================================] 100%\n",
      " 28%|████████████████████                                                    | 282/1009 [29:07:28<68:44:54, 340.43s/it][                                                                        ]   0%\r"
     ]
    },
    {
     "name": "stdout",
     "output_type": "stream",
     "text": [
      "Lactarius fuliginosus 282\n"
     ]
    },
    {
     "name": "stderr",
     "output_type": "stream",
     "text": [
      "[========================================================================] 100%\n",
      " 28%|████████████████████▏                                                   | 283/1009 [29:11:56<64:17:53, 318.83s/it][                                                                        ]   0%\r"
     ]
    },
    {
     "name": "stdout",
     "output_type": "stream",
     "text": [
      "Psathyrella candolleana 283\n"
     ]
    },
    {
     "name": "stderr",
     "output_type": "stream",
     "text": [
      "[========================================================================] 100%\n",
      " 28%|████████████████████▎                                                   | 284/1009 [29:18:02<67:02:48, 332.92s/it][                                                                        ]   0%\r"
     ]
    },
    {
     "name": "stdout",
     "output_type": "stream",
     "text": [
      "Hebeloma sinapizans 284\n"
     ]
    },
    {
     "name": "stderr",
     "output_type": "stream",
     "text": [
      "[========================================================================] 100%\n",
      " 28%|████████████████████▎                                                   | 285/1009 [29:22:53<64:27:25, 320.50s/it][                                                                        ]   0%\r"
     ]
    },
    {
     "name": "stdout",
     "output_type": "stream",
     "text": [
      "Rugiboletus extremiorientalis 285\n"
     ]
    },
    {
     "name": "stderr",
     "output_type": "stream",
     "text": [
      "[========================================================================] 100%\n",
      " 28%|████████████████████▍                                                   | 286/1009 [29:27:06<60:15:40, 300.06s/it][                                                                        ]   0%\r"
     ]
    },
    {
     "name": "stdout",
     "output_type": "stream",
     "text": [
      "Rubroboletus rhodoxanthus 286\n"
     ]
    },
    {
     "name": "stderr",
     "output_type": "stream",
     "text": [
      "[========================================================================] 100%\n",
      " 28%|████████████████████▍                                                   | 287/1009 [29:30:56<55:58:16, 279.08s/it][                                                                        ]   0%\r"
     ]
    },
    {
     "name": "stdout",
     "output_type": "stream",
     "text": [
      "Pholiota squarrosoides 287\n"
     ]
    },
    {
     "name": "stderr",
     "output_type": "stream",
     "text": [
      "[========================================================================] 100%\n",
      " 29%|████████████████████▌                                                   | 288/1009 [29:35:58<57:15:07, 285.86s/it][                                                                        ]   0%\r"
     ]
    },
    {
     "name": "stdout",
     "output_type": "stream",
     "text": [
      "Lepista luscina 288\n"
     ]
    },
    {
     "name": "stderr",
     "output_type": "stream",
     "text": [
      "[========================================================================] 100%\n",
      " 29%|████████████████████▌                                                   | 289/1009 [29:39:59<54:28:25, 272.37s/it][                                                                        ]   0%\r"
     ]
    },
    {
     "name": "stdout",
     "output_type": "stream",
     "text": [
      "Fomitiporia robusta 289\n"
     ]
    },
    {
     "name": "stderr",
     "output_type": "stream",
     "text": [
      "[========================================================================] 100%\n",
      " 29%|████████████████████▋                                                   | 290/1009 [29:46:58<63:14:13, 316.63s/it][                                                                        ]   0%\r"
     ]
    },
    {
     "name": "stdout",
     "output_type": "stream",
     "text": [
      "Clitocybe rivulosa 290\n"
     ]
    },
    {
     "name": "stderr",
     "output_type": "stream",
     "text": [
      "[========================================================================] 100%\n",
      " 29%|████████████████████▊                                                   | 291/1009 [29:52:05<62:33:58, 313.70s/it][                                                                        ]   0%\r"
     ]
    },
    {
     "name": "stdout",
     "output_type": "stream",
     "text": [
      "Ascocoryne sarcoides 291\n"
     ]
    },
    {
     "name": "stderr",
     "output_type": "stream",
     "text": [
      "[========================================================================] 100%\n",
      " 29%|████████████████████▊                                                   | 292/1009 [29:58:14<65:47:18, 330.32s/it][                                                                        ]   0%\r"
     ]
    },
    {
     "name": "stdout",
     "output_type": "stream",
     "text": [
      "Tricholoma sulphureum 292\n"
     ]
    },
    {
     "name": "stderr",
     "output_type": "stream",
     "text": [
      "[========================================================================] 100%\n",
      " 29%|████████████████████▉                                                   | 293/1009 [30:03:08<63:31:53, 319.43s/it][                                                                        ]   0%\r"
     ]
    },
    {
     "name": "stdout",
     "output_type": "stream",
     "text": [
      "Coprinopsis atramentaria 293\n"
     ]
    },
    {
     "name": "stderr",
     "output_type": "stream",
     "text": [
      "[========================================================================] 100%\n",
      " 29%|████████████████████▉                                                   | 294/1009 [30:08:25<63:16:30, 318.59s/it][                                                                        ]   0%\r"
     ]
    },
    {
     "name": "stdout",
     "output_type": "stream",
     "text": [
      "Pleurotus dryinus 294\n"
     ]
    },
    {
     "name": "stderr",
     "output_type": "stream",
     "text": [
      "[========================================================================] 100%\n",
      " 29%|█████████████████████                                                   | 295/1009 [30:12:38<59:16:46, 298.89s/it][                                                                        ]   0%\r"
     ]
    },
    {
     "name": "stdout",
     "output_type": "stream",
     "text": [
      "Butyriboletus fechtneri 295\n"
     ]
    },
    {
     "name": "stderr",
     "output_type": "stream",
     "text": [
      "[========================================================================] 100%\n",
      " 29%|█████████████████████                                                   | 296/1009 [30:16:54<56:40:21, 286.15s/it][                                                                        ]   0%\r"
     ]
    },
    {
     "name": "stdout",
     "output_type": "stream",
     "text": [
      "Russula grata 296\n"
     ]
    },
    {
     "name": "stderr",
     "output_type": "stream",
     "text": [
      "[========================================================================] 100%\n",
      " 29%|█████████████████████▏                                                  | 297/1009 [30:21:36<56:20:27, 284.87s/it][                                                                        ]   0%\r"
     ]
    },
    {
     "name": "stdout",
     "output_type": "stream",
     "text": [
      "Harrya chromipes 297\n"
     ]
    },
    {
     "name": "stderr",
     "output_type": "stream",
     "text": [
      "[========================================================================] 100%\n",
      " 30%|█████████████████████▎                                                  | 298/1009 [30:26:47<57:47:39, 292.63s/it][                                                                        ]   0%\r"
     ]
    },
    {
     "name": "stdout",
     "output_type": "stream",
     "text": [
      "Leccinum holopus 298\n"
     ]
    },
    {
     "name": "stderr",
     "output_type": "stream",
     "text": [
      "[========================================================================] 100%\n",
      " 30%|█████████████████████▎                                                  | 299/1009 [30:30:51<54:49:52, 278.02s/it][                                                                        ]   0%\r"
     ]
    },
    {
     "name": "stdout",
     "output_type": "stream",
     "text": [
      "Cortinarius rubellus 299\n"
     ]
    },
    {
     "name": "stderr",
     "output_type": "stream",
     "text": [
      "[========================================================================] 100%\n",
      " 30%|█████████████████████▍                                                  | 300/1009 [30:36:29<58:17:59, 296.02s/it][                                                                        ]   0%\r"
     ]
    },
    {
     "name": "stdout",
     "output_type": "stream",
     "text": [
      "Pholiota flammans 300\n"
     ]
    },
    {
     "name": "stderr",
     "output_type": "stream",
     "text": [
      "[========================================================================] 100%\n",
      " 30%|█████████████████████▍                                                  | 301/1009 [30:41:05<57:03:48, 290.15s/it][                                                                        ]   0%\r"
     ]
    },
    {
     "name": "stdout",
     "output_type": "stream",
     "text": [
      "Medusomyces Gisevi 301\n"
     ]
    },
    {
     "name": "stderr",
     "output_type": "stream",
     "text": [
      "[========================================================================] 100%\n",
      " 30%|█████████████████████▌                                                  | 302/1009 [30:45:14<54:31:20, 277.62s/it][                                                                        ]   0%\r"
     ]
    },
    {
     "name": "stdout",
     "output_type": "stream",
     "text": [
      "Strobilomyces floccopus 302\n"
     ]
    },
    {
     "name": "stderr",
     "output_type": "stream",
     "text": [
      "[========================================================================] 100%\n",
      " 30%|█████████████████████▌                                                  | 303/1009 [30:50:22<56:15:50, 286.90s/it][                                                                        ]   0%\r"
     ]
    },
    {
     "name": "stdout",
     "output_type": "stream",
     "text": [
      "Amanita regalis 303\n"
     ]
    },
    {
     "name": "stderr",
     "output_type": "stream",
     "text": [
      "[========================================================================] 100%\n",
      " 30%|█████████████████████▋                                                  | 304/1009 [30:54:13<52:53:48, 270.11s/it][                                                                        ]   0%\r"
     ]
    },
    {
     "name": "stdout",
     "output_type": "stream",
     "text": [
      "Sarcosoma globosum 304\n"
     ]
    },
    {
     "name": "stderr",
     "output_type": "stream",
     "text": [
      "[========================================================================] 100%\n",
      " 30%|█████████████████████▊                                                  | 305/1009 [30:57:52<49:48:27, 254.70s/it][                                                                        ]   0%\r"
     ]
    },
    {
     "name": "stdout",
     "output_type": "stream",
     "text": [
      "Amanita vaginata 305\n"
     ]
    },
    {
     "name": "stderr",
     "output_type": "stream",
     "text": [
      "[========================================================================] 100%\n",
      " 30%|█████████████████████▊                                                  | 306/1009 [31:03:17<53:52:22, 275.88s/it][                                                                        ]   0%\r"
     ]
    },
    {
     "name": "stdout",
     "output_type": "stream",
     "text": [
      "Russula emetica 306\n"
     ]
    },
    {
     "name": "stderr",
     "output_type": "stream",
     "text": [
      "[========================================================================] 100%\n",
      " 30%|█████████████████████▉                                                  | 307/1009 [31:07:52<53:42:21, 275.42s/it][                                                                        ]   0%\r"
     ]
    },
    {
     "name": "stdout",
     "output_type": "stream",
     "text": [
      "Agaricus bernardii 307\n"
     ]
    },
    {
     "name": "stderr",
     "output_type": "stream",
     "text": [
      "[========================================================================] 100%\n",
      " 31%|█████████████████████▉                                                  | 308/1009 [31:16:01<66:08:07, 339.64s/it][                                                                        ]   0%\r"
     ]
    },
    {
     "name": "stdout",
     "output_type": "stream",
     "text": [
      "Tricholoma Focale 308\n"
     ]
    },
    {
     "name": "stderr",
     "output_type": "stream",
     "text": [
      "[========================================================================] 100%\n",
      " 31%|██████████████████████                                                  | 309/1009 [31:22:09<67:39:48, 347.98s/it][                                                                        ]   0%\r"
     ]
    },
    {
     "name": "stdout",
     "output_type": "stream",
     "text": [
      "Cortinarius armillatus 309\n"
     ]
    },
    {
     "name": "stderr",
     "output_type": "stream",
     "text": [
      "[========================================================================] 100%\n",
      " 31%|██████████████████████                                                  | 310/1009 [31:27:22<65:34:07, 337.69s/it][                                                                        ]   0%\r"
     ]
    },
    {
     "name": "stdout",
     "output_type": "stream",
     "text": [
      "Lepiota castanea 310\n"
     ]
    },
    {
     "name": "stderr",
     "output_type": "stream",
     "text": [
      "[========================================================================] 100%\n",
      " 31%|██████████████████████▏                                                 | 311/1009 [31:31:47<61:12:25, 315.68s/it][                                                                        ]   0%\r"
     ]
    },
    {
     "name": "stdout",
     "output_type": "stream",
     "text": [
      "Omphalotus olearius 311\n"
     ]
    },
    {
     "name": "stderr",
     "output_type": "stream",
     "text": [
      "[========================================================================] 100%\n",
      " 31%|██████████████████████▎                                                 | 312/1009 [31:37:28<62:36:03, 323.33s/it][                                                                        ]   0%\r"
     ]
    },
    {
     "name": "stdout",
     "output_type": "stream",
     "text": [
      "Suillus plorans 312\n"
     ]
    },
    {
     "name": "stderr",
     "output_type": "stream",
     "text": [
      "[========================================================================] 100%\n",
      " 31%|██████████████████████▎                                                 | 313/1009 [31:41:31<57:50:37, 299.19s/it][                                                                        ]   0%\r"
     ]
    },
    {
     "name": "stdout",
     "output_type": "stream",
     "text": [
      "Russula sanguinaria 313\n"
     ]
    },
    {
     "name": "stderr",
     "output_type": "stream",
     "text": [
      "[========================================================================] 100%\n",
      " 31%|██████████████████████▍                                                 | 314/1009 [31:45:59<55:56:58, 289.81s/it][                                                                        ]   0%\r"
     ]
    },
    {
     "name": "stdout",
     "output_type": "stream",
     "text": [
      "Agaricus moelleri 314\n"
     ]
    },
    {
     "name": "stderr",
     "output_type": "stream",
     "text": [
      "[========================================================================] 100%\n",
      " 31%|██████████████████████▍                                                 | 315/1009 [31:51:49<59:22:42, 308.01s/it][                                                                        ]   0%\r"
     ]
    },
    {
     "name": "stdout",
     "output_type": "stream",
     "text": [
      "Gymnopus fusipes 315\n"
     ]
    },
    {
     "name": "stderr",
     "output_type": "stream",
     "text": [
      "[========================================================================] 100%\n",
      " 31%|██████████████████████▌                                                 | 316/1009 [31:56:14<56:48:23, 295.10s/it][                                                                        ]   0%\r"
     ]
    },
    {
     "name": "stdout",
     "output_type": "stream",
     "text": [
      "Boletinus paluster 316\n"
     ]
    },
    {
     "name": "stderr",
     "output_type": "stream",
     "text": [
      "[========================================================================] 100%\n",
      " 31%|██████████████████████▌                                                 | 317/1009 [32:00:27<54:18:03, 282.49s/it][                                                                        ]   0%\r"
     ]
    },
    {
     "name": "stdout",
     "output_type": "stream",
     "text": [
      "Sarcodon scabrosus 317\n"
     ]
    },
    {
     "name": "stderr",
     "output_type": "stream",
     "text": [
      "[========================================================================] 100%\n",
      " 32%|██████████████████████▋                                                 | 318/1009 [32:06:16<58:03:47, 302.50s/it][                                                                        ]   0%\r"
     ]
    },
    {
     "name": "stdout",
     "output_type": "stream",
     "text": [
      "Armillaria ostoyae 318\n"
     ]
    },
    {
     "name": "stderr",
     "output_type": "stream",
     "text": [
      "[========================================================================] 100%\n",
      " 32%|██████████████████████▊                                                 | 319/1009 [32:11:55<60:03:32, 313.35s/it][                                                                        ]   0%\r"
     ]
    },
    {
     "name": "stdout",
     "output_type": "stream",
     "text": [
      "Morchella esculenta 319\n"
     ]
    },
    {
     "name": "stderr",
     "output_type": "stream",
     "text": [
      "[========================================================================] 100%\n",
      " 32%|██████████████████████▊                                                 | 320/1009 [32:17:13<60:14:20, 314.75s/it][                                                                        ]   0%\r"
     ]
    },
    {
     "name": "stdout",
     "output_type": "stream",
     "text": [
      "Hygrophorus persoonii 320\n"
     ]
    },
    {
     "name": "stderr",
     "output_type": "stream",
     "text": [
      "[========================================================================] 100%\n",
      " 32%|██████████████████████▉                                                 | 321/1009 [32:21:11<55:44:52, 291.70s/it][                                                                        ]   0%\r"
     ]
    },
    {
     "name": "stdout",
     "output_type": "stream",
     "text": [
      "Auricularia auricula-judae 321\n"
     ]
    },
    {
     "name": "stderr",
     "output_type": "stream",
     "text": [
      "[========================================================================] 100%\n",
      " 32%|██████████████████████▉                                                 | 322/1009 [32:29:42<68:14:42, 357.62s/it][                                                                        ]   0%\r"
     ]
    },
    {
     "name": "stdout",
     "output_type": "stream",
     "text": [
      "Xylaria polymorpha 322\n"
     ]
    },
    {
     "name": "stderr",
     "output_type": "stream",
     "text": [
      "[========================================================================] 100%\n",
      " 32%|███████████████████████                                                 | 323/1009 [32:34:46<65:03:05, 341.38s/it][                                                                        ]   0%\r"
     ]
    },
    {
     "name": "stdout",
     "output_type": "stream",
     "text": [
      "Grifola frondosa 323\n"
     ]
    },
    {
     "name": "stderr",
     "output_type": "stream",
     "text": [
      "[========================================================================] 100%\n",
      " 32%|███████████████████████                                                 | 324/1009 [32:40:07<63:48:15, 335.32s/it][                                                                        ]   0%\r"
     ]
    },
    {
     "name": "stdout",
     "output_type": "stream",
     "text": [
      "Melanogaster broomeanus 324\n"
     ]
    },
    {
     "name": "stderr",
     "output_type": "stream",
     "text": [
      "[========================================================================] 100%\n",
      " 32%|███████████████████████▏                                                | 325/1009 [32:44:59<61:12:56, 322.19s/it][                                                                        ]   0%\r"
     ]
    },
    {
     "name": "stdout",
     "output_type": "stream",
     "text": [
      "Peziza badia 325\n"
     ]
    },
    {
     "name": "stderr",
     "output_type": "stream",
     "text": [
      "[========================================================================] 100%\n",
      " 32%|███████████████████████▎                                                | 326/1009 [32:50:24<61:17:16, 323.04s/it][                                                                        ]   0%\r"
     ]
    },
    {
     "name": "stdout",
     "output_type": "stream",
     "text": [
      "Russula rosea 326\n"
     ]
    },
    {
     "name": "stderr",
     "output_type": "stream",
     "text": [
      "[========================================================================] 100%\n",
      " 32%|███████████████████████▎                                                | 327/1009 [32:55:15<59:25:09, 313.65s/it][                                                                        ]   0%\r"
     ]
    },
    {
     "name": "stdout",
     "output_type": "stream",
     "text": [
      "Leucocortinarius bulbiger 327\n"
     ]
    },
    {
     "name": "stderr",
     "output_type": "stream",
     "text": [
      "[========================================================================] 100%\n",
      " 33%|███████████████████████▍                                                | 328/1009 [32:58:31<52:38:29, 278.28s/it][                                                                        ]   0%\r"
     ]
    },
    {
     "name": "stdout",
     "output_type": "stream",
     "text": [
      "Xerocomus hemichrysus 328\n"
     ]
    },
    {
     "name": "stderr",
     "output_type": "stream",
     "text": [
      "[========================================================================] 100%\n",
      " 33%|███████████████████████▍                                                | 329/1009 [33:03:23<53:20:54, 282.43s/it][                                                                        ]   0%\r"
     ]
    },
    {
     "name": "stdout",
     "output_type": "stream",
     "text": [
      "Gyroporus Ammophilus 329\n"
     ]
    },
    {
     "name": "stderr",
     "output_type": "stream",
     "text": [
      "[========================================================================] 100%\n",
      " 33%|███████████████████████▌                                                | 330/1009 [33:08:27<54:29:29, 288.91s/it][                                                                        ]   0%\r"
     ]
    },
    {
     "name": "stdout",
     "output_type": "stream",
     "text": [
      "Suillus viscidus 330\n"
     ]
    },
    {
     "name": "stderr",
     "output_type": "stream",
     "text": [
      "[========================================================================] 100%\n",
      " 33%|███████████████████████▌                                                | 331/1009 [33:12:41<52:24:28, 278.27s/it][                                                                        ]   0%\r"
     ]
    },
    {
     "name": "stdout",
     "output_type": "stream",
     "text": [
      "Helvella crispa 331\n"
     ]
    },
    {
     "name": "stderr",
     "output_type": "stream",
     "text": [
      "[========================================================================] 100%\n",
      " 33%|███████████████████████▋                                                | 332/1009 [33:18:28<56:15:19, 299.14s/it][                                                                        ]   0%\r"
     ]
    },
    {
     "name": "stdout",
     "output_type": "stream",
     "text": [
      "Cortinarius purpurascens 332\n"
     ]
    },
    {
     "name": "stderr",
     "output_type": "stream",
     "text": [
      "[========================================================================] 100%\n",
      " 33%|███████████████████████▊                                                | 333/1009 [33:24:03<58:10:55, 309.85s/it][                                                                        ]   0%\r"
     ]
    },
    {
     "name": "stdout",
     "output_type": "stream",
     "text": [
      "Leccinum vulpinum 333\n"
     ]
    },
    {
     "name": "stderr",
     "output_type": "stream",
     "text": [
      "[========================================================================] 100%\n",
      " 33%|███████████████████████▊                                                | 334/1009 [33:28:19<55:01:50, 293.50s/it][                                                                        ]   0%\r"
     ]
    },
    {
     "name": "stdout",
     "output_type": "stream",
     "text": [
      "Cyclocybe cylindracea 334\n"
     ]
    },
    {
     "name": "stderr",
     "output_type": "stream",
     "text": [
      "[========================================================================] 100%\n",
      " 33%|███████████████████████▉                                                | 335/1009 [33:33:53<57:14:13, 305.72s/it][                                                                        ]   0%\r"
     ]
    },
    {
     "name": "stdout",
     "output_type": "stream",
     "text": [
      "Phyllotopsis nidulans 335\n"
     ]
    },
    {
     "name": "stderr",
     "output_type": "stream",
     "text": [
      "[========================================================================] 100%\n",
      " 33%|███████████████████████▉                                                | 336/1009 [33:40:13<61:20:17, 328.11s/it][                                                                        ]   0%\r"
     ]
    },
    {
     "name": "stdout",
     "output_type": "stream",
     "text": [
      "Amanita ovoidea 336\n"
     ]
    },
    {
     "name": "stderr",
     "output_type": "stream",
     "text": [
      "[========================================================================] 100%\n",
      " 33%|████████████████████████                                                | 337/1009 [33:44:41<57:51:52, 309.99s/it][                                                                        ]   0%\r"
     ]
    },
    {
     "name": "stdout",
     "output_type": "stream",
     "text": [
      "Hymenopellis radicata 337\n"
     ]
    },
    {
     "name": "stderr",
     "output_type": "stream",
     "text": [
      "[========================================================================] 100%\n",
      " 33%|████████████████████████                                                | 338/1009 [33:49:58<58:11:10, 312.18s/it][                                                                        ]   0%\r"
     ]
    },
    {
     "name": "stdout",
     "output_type": "stream",
     "text": [
      "Amanita excelsa 338\n"
     ]
    },
    {
     "name": "stderr",
     "output_type": "stream",
     "text": [
      "[========================================================================] 100%\n",
      " 34%|████████████████████████▏                                               | 339/1009 [33:54:29<55:45:42, 299.62s/it][                                                                        ]   0%\r"
     ]
    },
    {
     "name": "stdout",
     "output_type": "stream",
     "text": [
      "Calocera viscosa 339\n"
     ]
    },
    {
     "name": "stderr",
     "output_type": "stream",
     "text": [
      "[========================================================================] 100%\n",
      " 34%|████████████████████████▎                                               | 340/1009 [34:00:08<57:55:18, 311.69s/it][                                                                        ]   0%\r"
     ]
    },
    {
     "name": "stdout",
     "output_type": "stream",
     "text": [
      "Agaricus abruptibulbus 340\n"
     ]
    },
    {
     "name": "stderr",
     "output_type": "stream",
     "text": [
      "[========================================================================] 100%\n",
      " 34%|████████████████████████▎                                               | 341/1009 [34:05:28<58:17:02, 314.11s/it][                                                                        ]   0%\r"
     ]
    },
    {
     "name": "stdout",
     "output_type": "stream",
     "text": [
      "Gyrodon lividus 341\n"
     ]
    },
    {
     "name": "stderr",
     "output_type": "stream",
     "text": [
      "[========================================================================] 100%\n",
      " 34%|████████████████████████▍                                               | 342/1009 [34:09:26<53:57:25, 291.22s/it][                                                                        ]   0%\r"
     ]
    },
    {
     "name": "stdout",
     "output_type": "stream",
     "text": [
      "Cortinarius trivialis 342\n"
     ]
    },
    {
     "name": "stderr",
     "output_type": "stream",
     "text": [
      "[========================================================================] 100%\n",
      " 34%|████████████████████████▍                                               | 343/1009 [34:13:26<51:02:10, 275.87s/it][                                                                        ]   0%\r"
     ]
    },
    {
     "name": "stdout",
     "output_type": "stream",
     "text": [
      "Cortinarius caerulescens 343\n"
     ]
    },
    {
     "name": "stderr",
     "output_type": "stream",
     "text": [
      "[========================================================================] 100%\n",
      " 34%|████████████████████████▌                                               | 344/1009 [34:17:58<50:45:12, 274.76s/it][                                                                        ]   0%\r"
     ]
    },
    {
     "name": "stdout",
     "output_type": "stream",
     "text": [
      "Russula aurea 344\n"
     ]
    },
    {
     "name": "stderr",
     "output_type": "stream",
     "text": [
      "[========================================================================] 100%\n",
      " 34%|████████████████████████▌                                               | 345/1009 [34:22:03<49:00:56, 265.75s/it][                                                                        ]   0%\r"
     ]
    },
    {
     "name": "stdout",
     "output_type": "stream",
     "text": [
      "Hericium cirrhatum 345\n"
     ]
    },
    {
     "name": "stderr",
     "output_type": "stream",
     "text": [
      "[========================================================================] 100%\n",
      " 34%|████████████████████████▋                                               | 346/1009 [34:26:06<47:40:25, 258.86s/it][                                                                        ]   0%\r"
     ]
    },
    {
     "name": "stdout",
     "output_type": "stream",
     "text": [
      "Cortinarius multiformis 346\n"
     ]
    },
    {
     "name": "stderr",
     "output_type": "stream",
     "text": [
      "[========================================================================] 100%\n",
      " 34%|████████████████████████▊                                               | 347/1009 [34:33:28<57:43:44, 313.93s/it][                                                                        ]   0%\r"
     ]
    },
    {
     "name": "stdout",
     "output_type": "stream",
     "text": [
      "Catathelasma ventricosum 347\n"
     ]
    },
    {
     "name": "stderr",
     "output_type": "stream",
     "text": [
      "[========================================================================] 100%\n",
      " 34%|████████████████████████▊                                               | 348/1009 [34:38:34<57:11:35, 311.49s/it][                                                                        ]   0%\r"
     ]
    },
    {
     "name": "stdout",
     "output_type": "stream",
     "text": [
      "Rubroboletus legaliae 348\n"
     ]
    },
    {
     "name": "stderr",
     "output_type": "stream",
     "text": [
      "[========================================================================] 100%\n",
      " 35%|████████████████████████▉                                               | 349/1009 [34:43:34<56:27:11, 307.93s/it][                                                                        ]   0%\r"
     ]
    },
    {
     "name": "stdout",
     "output_type": "stream",
     "text": [
      "Craterellus lutescens 349\n"
     ]
    },
    {
     "name": "stderr",
     "output_type": "stream",
     "text": [
      "[========================================================================] 100%\n",
      " 35%|████████████████████████▉                                               | 350/1009 [34:49:05<57:38:11, 314.86s/it][                                                                        ]   0%\r"
     ]
    },
    {
     "name": "stdout",
     "output_type": "stream",
     "text": [
      "Volvariella gloiocephala 350\n"
     ]
    },
    {
     "name": "stderr",
     "output_type": "stream",
     "text": [
      "[========================================================================] 100%\n",
      " 35%|█████████████████████████                                               | 351/1009 [34:54:40<58:39:44, 320.95s/it][                                                                        ]   0%\r"
     ]
    },
    {
     "name": "stdout",
     "output_type": "stream",
     "text": [
      "Melanoleuca strictipes 351\n"
     ]
    },
    {
     "name": "stderr",
     "output_type": "stream",
     "text": [
      "[========================================================================] 100%\n",
      " 35%|█████████████████████████                                               | 352/1009 [34:59:05<55:30:32, 304.16s/it][                                                                        ]   0%\r"
     ]
    },
    {
     "name": "stdout",
     "output_type": "stream",
     "text": [
      "Suillus salmonicolor 352\n"
     ]
    },
    {
     "name": "stderr",
     "output_type": "stream",
     "text": [
      "[========================================================================] 100%\n",
      " 35%|█████████████████████████▏                                              | 353/1009 [35:04:09<55:25:03, 304.12s/it][                                                                        ]   0%\r"
     ]
    },
    {
     "name": "stdout",
     "output_type": "stream",
     "text": [
      "Pluteus petasatus 353\n"
     ]
    },
    {
     "name": "stderr",
     "output_type": "stream",
     "text": [
      "[========================================================================] 100%\n",
      " 35%|█████████████████████████▎                                              | 354/1009 [35:09:26<56:04:12, 308.17s/it][                                                                        ]   0%\r"
     ]
    },
    {
     "name": "stdout",
     "output_type": "stream",
     "text": [
      "Hygrocybe coccinea 354\n"
     ]
    },
    {
     "name": "stderr",
     "output_type": "stream",
     "text": [
      "[========================================================================] 100%\n",
      " 35%|█████████████████████████▎                                              | 355/1009 [35:14:44<56:31:13, 311.12s/it][                                                                        ]   0%\r"
     ]
    },
    {
     "name": "stdout",
     "output_type": "stream",
     "text": [
      "Homophron spadiceum 355\n"
     ]
    },
    {
     "name": "stderr",
     "output_type": "stream",
     "text": [
      "[========================================================================] 100%\n",
      " 35%|█████████████████████████▍                                              | 356/1009 [35:20:26<58:06:43, 320.37s/it][                                                                        ]   0%\r"
     ]
    },
    {
     "name": "stdout",
     "output_type": "stream",
     "text": [
      "Cantharellus amethysteus 356\n"
     ]
    },
    {
     "name": "stderr",
     "output_type": "stream",
     "text": [
      "[========================================================================] 100%\n",
      " 35%|█████████████████████████▍                                              | 357/1009 [35:25:01<55:32:49, 306.70s/it][                                                                        ]   0%\r"
     ]
    },
    {
     "name": "stdout",
     "output_type": "stream",
     "text": [
      "Agaricus macrosporus 357\n"
     ]
    },
    {
     "name": "stderr",
     "output_type": "stream",
     "text": [
      "[========================================================================] 100%\n",
      " 35%|█████████████████████████▌                                              | 358/1009 [35:29:38<53:49:59, 297.70s/it][                                                                        ]   0%\r"
     ]
    },
    {
     "name": "stdout",
     "output_type": "stream",
     "text": [
      "Cortinarius Privignoides 358\n"
     ]
    },
    {
     "name": "stderr",
     "output_type": "stream",
     "text": [
      "[========================================================================] 100%\n",
      " 36%|█████████████████████████▌                                              | 359/1009 [35:35:01<55:09:03, 305.45s/it][                                                                        ]   0%\r"
     ]
    },
    {
     "name": "stdout",
     "output_type": "stream",
     "text": [
      "Xerocomellus truncatus 359\n"
     ]
    },
    {
     "name": "stderr",
     "output_type": "stream",
     "text": [
      "[========================================================================] 100%\n",
      " 36%|█████████████████████████▋                                              | 360/1009 [35:39:58<54:36:27, 302.91s/it][                                                                        ]   0%\r"
     ]
    },
    {
     "name": "stdout",
     "output_type": "stream",
     "text": [
      "Polyporus tuberaster 360\n"
     ]
    },
    {
     "name": "stderr",
     "output_type": "stream",
     "text": [
      "[========================================================================] 100%\n",
      " 36%|█████████████████████████▊                                              | 361/1009 [35:45:15<55:17:17, 307.16s/it][                                                                        ]   0%\r"
     ]
    },
    {
     "name": "stdout",
     "output_type": "stream",
     "text": [
      "Tricholoma frondosae 361\n"
     ]
    },
    {
     "name": "stderr",
     "output_type": "stream",
     "text": [
      "[========================================================================] 100%\n",
      " 36%|█████████████████████████▊                                              | 362/1009 [35:49:42<53:00:29, 294.95s/it][                                                                        ]   0%\r"
     ]
    },
    {
     "name": "stdout",
     "output_type": "stream",
     "text": [
      "Leccinum versipelle 362\n"
     ]
    },
    {
     "name": "stderr",
     "output_type": "stream",
     "text": [
      "[========================================================================] 100%\n",
      " 36%|█████████████████████████▉                                              | 363/1009 [35:54:21<52:05:08, 290.26s/it][                                                                        ]   0%\r"
     ]
    },
    {
     "name": "stdout",
     "output_type": "stream",
     "text": [
      "Discina perlata 363\n"
     ]
    },
    {
     "name": "stderr",
     "output_type": "stream",
     "text": [
      "[========================================================================] 100%\n",
      " 36%|█████████████████████████▉                                              | 364/1009 [35:59:36<53:18:06, 297.50s/it][                                                                        ]   0%\r"
     ]
    },
    {
     "name": "stdout",
     "output_type": "stream",
     "text": [
      "Hydnum rufescens 364\n"
     ]
    },
    {
     "name": "stderr",
     "output_type": "stream",
     "text": [
      "[========================================================================] 100%\n",
      " 36%|██████████████████████████                                              | 365/1009 [36:04:40<53:34:29, 299.49s/it][                                                                        ]   0%\r"
     ]
    },
    {
     "name": "stdout",
     "output_type": "stream",
     "text": [
      "Suillus placidus 365\n"
     ]
    },
    {
     "name": "stderr",
     "output_type": "stream",
     "text": [
      "[========================================================================] 100%\n",
      " 36%|██████████████████████████                                              | 366/1009 [36:09:26<52:45:31, 295.38s/it][                                                                        ]   0%\r"
     ]
    },
    {
     "name": "stdout",
     "output_type": "stream",
     "text": [
      "Morchella steppicola 366\n"
     ]
    },
    {
     "name": "stderr",
     "output_type": "stream",
     "text": [
      "[========================================================================] 100%\n",
      " 36%|██████████████████████████▏                                             | 367/1009 [36:13:30<49:55:51, 279.99s/it][                                                                        ]   0%\r"
     ]
    },
    {
     "name": "stdout",
     "output_type": "stream",
     "text": [
      "Cortinarius mucosus 367\n"
     ]
    },
    {
     "name": "stderr",
     "output_type": "stream",
     "text": [
      "[========================================================================] 100%\n",
      " 36%|██████████████████████████▎                                             | 368/1009 [36:18:14<50:06:08, 281.39s/it][                                                                        ]   0%\r"
     ]
    },
    {
     "name": "stdout",
     "output_type": "stream",
     "text": [
      "Pholiota nameko 368\n"
     ]
    },
    {
     "name": "stderr",
     "output_type": "stream",
     "text": [
      "[========================================================================] 100%\n",
      " 37%|██████████████████████████▎                                             | 369/1009 [36:23:23<51:27:31, 289.46s/it][                                                                        ]   0%\r"
     ]
    },
    {
     "name": "stdout",
     "output_type": "stream",
     "text": [
      "Rubinoboletus rubinus 369\n"
     ]
    },
    {
     "name": "stderr",
     "output_type": "stream",
     "text": [
      "[========================================================================] 100%\n",
      " 37%|██████████████████████████▍                                             | 370/1009 [36:26:36<46:16:33, 260.71s/it][                                                                        ]   0%\r"
     ]
    },
    {
     "name": "stdout",
     "output_type": "stream",
     "text": [
      "Albatrellus ovinus 370\n"
     ]
    },
    {
     "name": "stderr",
     "output_type": "stream",
     "text": [
      "[========================================================================] 100%\n",
      " 37%|██████████████████████████▍                                             | 371/1009 [36:31:33<48:08:02, 271.60s/it][                                                                        ]   0%\r"
     ]
    },
    {
     "name": "stdout",
     "output_type": "stream",
     "text": [
      "Galerina paludosa 371\n"
     ]
    },
    {
     "name": "stderr",
     "output_type": "stream",
     "text": [
      "[========================================================================] 100%\n",
      " 37%|██████████████████████████▌                                             | 372/1009 [36:35:54<47:28:36, 268.31s/it][                                                                        ]   0%\r"
     ]
    },
    {
     "name": "stdout",
     "output_type": "stream",
     "text": [
      "Mycena cyanorrhiza 372\n"
     ]
    },
    {
     "name": "stderr",
     "output_type": "stream",
     "text": [
      "[========================================================================] 100%\n",
      " 37%|██████████████████████████▌                                             | 373/1009 [36:42:09<53:03:02, 300.29s/it][                                                                        ]   0%\r"
     ]
    },
    {
     "name": "stdout",
     "output_type": "stream",
     "text": [
      "Laccaria amethystina 373\n"
     ]
    },
    {
     "name": "stderr",
     "output_type": "stream",
     "text": [
      "[========================================================================] 100%\n",
      " 37%|██████████████████████████▋                                             | 374/1009 [36:47:32<54:11:59, 307.28s/it][                                                                        ]   0%\r"
     ]
    },
    {
     "name": "stdout",
     "output_type": "stream",
     "text": [
      "Agaricus tabularis 374\n"
     ]
    },
    {
     "name": "stderr",
     "output_type": "stream",
     "text": [
      "[========================================================================] 100%\n",
      " 37%|██████████████████████████▊                                             | 375/1009 [36:50:53<48:29:24, 275.34s/it][                                                                        ]   0%\r"
     ]
    },
    {
     "name": "stdout",
     "output_type": "stream",
     "text": [
      "Russula ochroleuca 375\n"
     ]
    },
    {
     "name": "stderr",
     "output_type": "stream",
     "text": [
      "[========================================================================] 100%\n",
      " 37%|██████████████████████████▊                                             | 376/1009 [36:54:50<46:24:03, 263.89s/it][                                                                        ]   0%\r"
     ]
    },
    {
     "name": "stdout",
     "output_type": "stream",
     "text": [
      "Helvella acetabulum 376\n"
     ]
    },
    {
     "name": "stderr",
     "output_type": "stream",
     "text": [
      "[========================================================================] 100%\n",
      " 37%|██████████████████████████▉                                             | 377/1009 [36:59:52<48:18:24, 275.17s/it][                                                                        ]   0%\r"
     ]
    },
    {
     "name": "stdout",
     "output_type": "stream",
     "text": [
      "Pseudoboletus parasiticus 377\n"
     ]
    },
    {
     "name": "stderr",
     "output_type": "stream",
     "text": [
      "[========================================================================] 100%\n",
      " 37%|██████████████████████████▉                                             | 378/1009 [37:05:07<50:18:46, 287.05s/it][                                                                        ]   0%\r"
     ]
    },
    {
     "name": "stdout",
     "output_type": "stream",
     "text": [
      "Neolentinus cyathiformis 378\n"
     ]
    },
    {
     "name": "stderr",
     "output_type": "stream",
     "text": [
      "[========================================================================] 100%\n",
      " 38%|███████████████████████████                                             | 379/1009 [37:08:24<45:32:10, 260.21s/it][                                                                        ]   0%\r"
     ]
    },
    {
     "name": "stdout",
     "output_type": "stream",
     "text": [
      "Psathyrella piluliformis 379\n"
     ]
    },
    {
     "name": "stderr",
     "output_type": "stream",
     "text": [
      "[========================================================================] 100%\n",
      " 38%|███████████████████████████                                             | 380/1009 [37:14:09<49:52:56, 285.50s/it][                                                                        ]   0%\r"
     ]
    },
    {
     "name": "stdout",
     "output_type": "stream",
     "text": [
      "Clavulina coralloides 380\n"
     ]
    },
    {
     "name": "stderr",
     "output_type": "stream",
     "text": [
      "[========================================================================] 100%\n",
      " 38%|███████████████████████████▏                                            | 381/1009 [37:18:56<49:54:29, 286.10s/it][                                                                        ]   0%\r"
     ]
    },
    {
     "name": "stdout",
     "output_type": "stream",
     "text": [
      "Picipes badius 381\n"
     ]
    },
    {
     "name": "stderr",
     "output_type": "stream",
     "text": [
      "[========================================================================] 100%\n",
      " 38%|███████████████████████████▎                                            | 382/1009 [37:24:30<52:20:36, 300.54s/it][                                                                        ]   0%\r"
     ]
    },
    {
     "name": "stdout",
     "output_type": "stream",
     "text": [
      "Lactarius vietus 382\n"
     ]
    },
    {
     "name": "stderr",
     "output_type": "stream",
     "text": [
      "[========================================================================] 100%\n",
      " 38%|███████████████████████████▎                                            | 383/1009 [37:29:24<51:55:31, 298.61s/it][                                                                        ]   0%\r"
     ]
    },
    {
     "name": "stdout",
     "output_type": "stream",
     "text": [
      "Hypomyces lactifluorum 383\n"
     ]
    },
    {
     "name": "stderr",
     "output_type": "stream",
     "text": [
      "[========================================================================] 100%\n",
      " 38%|███████████████████████████▍                                            | 384/1009 [37:35:26<55:05:38, 317.34s/it][                                                                        ]   0%\r"
     ]
    },
    {
     "name": "stdout",
     "output_type": "stream",
     "text": [
      "Rhodocollybia Butyracea 384\n"
     ]
    },
    {
     "name": "stderr",
     "output_type": "stream",
     "text": [
      "[========================================================================] 100%\n",
      " 38%|███████████████████████████▍                                            | 385/1009 [37:40:18<53:41:54, 309.80s/it][                                                                        ]   0%\r"
     ]
    },
    {
     "name": "stdout",
     "output_type": "stream",
     "text": [
      "Amanita vaginata var. alba 385\n"
     ]
    },
    {
     "name": "stderr",
     "output_type": "stream",
     "text": [
      "[========================================================================] 100%\n",
      " 38%|███████████████████████████▌                                            | 386/1009 [37:44:08<49:28:25, 285.88s/it][                                                                        ]   0%\r"
     ]
    },
    {
     "name": "stdout",
     "output_type": "stream",
     "text": [
      "Lentinus tigrinus 386\n"
     ]
    },
    {
     "name": "stderr",
     "output_type": "stream",
     "text": [
      "[========================================================================] 100%\n",
      " 38%|███████████████████████████▌                                            | 387/1009 [37:49:36<51:36:19, 298.68s/it][                                                                        ]   0%\r"
     ]
    },
    {
     "name": "stdout",
     "output_type": "stream",
     "text": [
      "Hygrophorus russula 387\n"
     ]
    },
    {
     "name": "stderr",
     "output_type": "stream",
     "text": [
      "[========================================================================] 100%\n",
      " 38%|███████████████████████████▋                                            | 388/1009 [37:54:21<50:47:49, 294.48s/it][                                                                        ]   0%\r"
     ]
    },
    {
     "name": "stdout",
     "output_type": "stream",
     "text": [
      "Lyophyllum fumosum 388\n"
     ]
    },
    {
     "name": "stderr",
     "output_type": "stream",
     "text": [
      "[========================================================================] 100%\n",
      " 39%|███████████████████████████▊                                            | 389/1009 [37:59:28<51:23:00, 298.36s/it][                                                                        ]   0%\r"
     ]
    },
    {
     "name": "stdout",
     "output_type": "stream",
     "text": [
      "Bovista nigrescens 389\n"
     ]
    },
    {
     "name": "stderr",
     "output_type": "stream",
     "text": [
      "[========================================================================] 100%\n",
      " 39%|███████████████████████████▊                                            | 390/1009 [38:04:12<50:30:49, 293.78s/it][                                                                        ]   0%\r"
     ]
    },
    {
     "name": "stdout",
     "output_type": "stream",
     "text": [
      "Coprinellus disseminatus 390\n"
     ]
    },
    {
     "name": "stderr",
     "output_type": "stream",
     "text": [
      "[========================================================================] 100%\n",
      " 39%|███████████████████████████▉                                            | 391/1009 [38:10:47<55:41:19, 324.40s/it][                                                                        ]   0%\r"
     ]
    },
    {
     "name": "stdout",
     "output_type": "stream",
     "text": [
      "Stropharia caerulea 391\n"
     ]
    },
    {
     "name": "stderr",
     "output_type": "stream",
     "text": [
      "[========================================================================] 100%\n",
      " 39%|███████████████████████████▉                                            | 392/1009 [38:15:39<53:54:42, 314.56s/it][                                                                        ]   0%\r"
     ]
    },
    {
     "name": "stdout",
     "output_type": "stream",
     "text": [
      "Chlorophyllum brunneum 392\n"
     ]
    },
    {
     "name": "stderr",
     "output_type": "stream",
     "text": [
      "[========================================================================] 100%\n",
      " 39%|████████████████████████████                                            | 393/1009 [38:20:56<53:57:35, 315.35s/it][                                                                        ]   0%\r"
     ]
    },
    {
     "name": "stdout",
     "output_type": "stream",
     "text": [
      "Russula exalbicans 393\n"
     ]
    },
    {
     "name": "stderr",
     "output_type": "stream",
     "text": [
      "[========================================================================] 100%\n",
      " 39%|████████████████████████████                                            | 394/1009 [38:25:17<51:04:54, 299.02s/it][                                                                        ]   0%\r"
     ]
    },
    {
     "name": "stdout",
     "output_type": "stream",
     "text": [
      "Psathyrella spadiceogrisea 394\n"
     ]
    },
    {
     "name": "stderr",
     "output_type": "stream",
     "text": [
      "[========================================================================] 100%\n",
      " 39%|████████████████████████████▏                                           | 395/1009 [38:29:59<50:06:44, 293.82s/it][                                                                        ]   0%\r"
     ]
    },
    {
     "name": "stdout",
     "output_type": "stream",
     "text": [
      "Desarmillaria ectypa 395\n"
     ]
    },
    {
     "name": "stderr",
     "output_type": "stream",
     "text": [
      "[========================================================================] 100%\n",
      " 39%|████████████████████████████▎                                           | 396/1009 [38:36:08<53:52:49, 316.43s/it][                                                                        ]   0%\r"
     ]
    },
    {
     "name": "stdout",
     "output_type": "stream",
     "text": [
      "Phallus duplicatus 396\n"
     ]
    },
    {
     "name": "stderr",
     "output_type": "stream",
     "text": [
      "[========================================================================] 100%\n",
      " 39%|████████████████████████████▎                                           | 397/1009 [38:40:44<51:44:48, 304.39s/it][                                                                        ]   0%\r"
     ]
    },
    {
     "name": "stdout",
     "output_type": "stream",
     "text": [
      "Suillus cavipes 397\n"
     ]
    },
    {
     "name": "stderr",
     "output_type": "stream",
     "text": [
      "[========================================================================] 100%\n",
      " 39%|████████████████████████████▍                                           | 398/1009 [38:46:01<52:17:46, 308.13s/it][                                                                        ]   0%\r"
     ]
    },
    {
     "name": "stdout",
     "output_type": "stream",
     "text": [
      "Leccinum variicolor 398\n"
     ]
    },
    {
     "name": "stderr",
     "output_type": "stream",
     "text": [
      "[========================================================================] 100%\n",
      " 40%|████████████████████████████▍                                           | 399/1009 [38:50:07<49:02:40, 289.44s/it][                                                                        ]   0%\r"
     ]
    },
    {
     "name": "stdout",
     "output_type": "stream",
     "text": [
      "Gymnopilus penetrans 399\n"
     ]
    },
    {
     "name": "stderr",
     "output_type": "stream",
     "text": [
      "[========================================================================] 100%\n",
      " 40%|████████████████████████████▌                                           | 400/1009 [38:55:36<50:58:53, 301.37s/it][                                                                        ]   0%\r"
     ]
    },
    {
     "name": "stdout",
     "output_type": "stream",
     "text": [
      "Panus conchatus 400\n"
     ]
    },
    {
     "name": "stderr",
     "output_type": "stream",
     "text": [
      "[========================================================================] 100%\n",
      " 40%|████████████████████████████▌                                           | 401/1009 [39:00:40<51:02:16, 302.20s/it][                                                                        ]   0%\r"
     ]
    },
    {
     "name": "stdout",
     "output_type": "stream",
     "text": [
      "Russula fragilis 401\n"
     ]
    },
    {
     "name": "stderr",
     "output_type": "stream",
     "text": [
      "[========================================================================] 100%\n",
      " 40%|████████████████████████████▋                                           | 402/1009 [39:05:01<48:50:52, 289.71s/it][                                                                        ]   0%\r"
     ]
    },
    {
     "name": "stdout",
     "output_type": "stream",
     "text": [
      "Amanita fulva 402\n"
     ]
    },
    {
     "name": "stderr",
     "output_type": "stream",
     "text": [
      "[========================================================================] 100%\n",
      " 40%|████████████████████████████▊                                           | 403/1009 [39:09:40<48:15:21, 286.67s/it][                                                                        ]   0%\r"
     ]
    },
    {
     "name": "stdout",
     "output_type": "stream",
     "text": [
      "Armillaria cepistipes 403\n"
     ]
    },
    {
     "name": "stderr",
     "output_type": "stream",
     "text": [
      "[========================================================================] 100%\n",
      " 40%|████████████████████████████▊                                           | 404/1009 [39:18:08<59:20:13, 353.08s/it][                                                                        ]   0%\r"
     ]
    },
    {
     "name": "stdout",
     "output_type": "stream",
     "text": [
      "Hygrophorus agathosmus 404\n"
     ]
    },
    {
     "name": "stderr",
     "output_type": "stream",
     "text": [
      "[========================================================================] 100%\n",
      " 40%|████████████████████████████▉                                           | 405/1009 [39:27:38<70:09:05, 418.12s/it][                                                                        ]   0%\r"
     ]
    },
    {
     "name": "stdout",
     "output_type": "stream",
     "text": [
      "Russula cyanoxantha 405\n"
     ]
    },
    {
     "name": "stderr",
     "output_type": "stream",
     "text": [
      "[========================================================================] 100%\n",
      " 40%|████████████████████████████▉                                           | 406/1009 [39:37:16<78:02:58, 465.97s/it][                                                                        ]   0%\r"
     ]
    },
    {
     "name": "stdout",
     "output_type": "stream",
     "text": [
      "Lactarius porninsis 406\n"
     ]
    },
    {
     "name": "stderr",
     "output_type": "stream",
     "text": [
      "[========================================================================] 100%\n",
      " 40%|█████████████████████████████                                           | 407/1009 [39:45:29<79:17:10, 474.14s/it][                                                                        ]   0%\r"
     ]
    },
    {
     "name": "stdout",
     "output_type": "stream",
     "text": [
      "Mycenastrum corium 407\n"
     ]
    },
    {
     "name": "stderr",
     "output_type": "stream",
     "text": [
      "[========================================================================] 100%\n",
      " 40%|█████████████████████████████                                           | 408/1009 [39:53:13<78:39:37, 471.18s/it][                                                                        ]   0%\r"
     ]
    },
    {
     "name": "stdout",
     "output_type": "stream",
     "text": [
      "Clavariadelphus ligula 408\n"
     ]
    },
    {
     "name": "stderr",
     "output_type": "stream",
     "text": [
      "[========================================================================] 100%\n",
      " 41%|█████████████████████████████▏                                          | 409/1009 [40:01:44<80:29:53, 482.99s/it][                                                                        ]   0%\r"
     ]
    },
    {
     "name": "stdout",
     "output_type": "stream",
     "text": [
      "Hygrophorus camarophyllus 409\n"
     ]
    },
    {
     "name": "stderr",
     "output_type": "stream",
     "text": [
      "[========================================================================] 100%\n",
      " 41%|█████████████████████████████▎                                          | 410/1009 [40:09:53<80:38:50, 484.69s/it][                                                                        ]   0%\r"
     ]
    },
    {
     "name": "stdout",
     "output_type": "stream",
     "text": [
      "Russula illota 410\n"
     ]
    },
    {
     "name": "stderr",
     "output_type": "stream",
     "text": [
      "[========================================================================] 100%\n",
      " 41%|█████████████████████████████▎                                          | 411/1009 [40:16:57<77:31:49, 466.74s/it][                                                                        ]   0%\r"
     ]
    },
    {
     "name": "stdout",
     "output_type": "stream",
     "text": [
      "Hebeloma fastibile 411\n"
     ]
    },
    {
     "name": "stderr",
     "output_type": "stream",
     "text": [
      "[========================================================================] 100%\n",
      " 41%|█████████████████████████████▍                                          | 412/1009 [40:25:10<78:39:55, 474.36s/it][                                                                        ]   0%\r"
     ]
    },
    {
     "name": "stdout",
     "output_type": "stream",
     "text": [
      "Melanoleuca brevipes 412\n"
     ]
    },
    {
     "name": "stderr",
     "output_type": "stream",
     "text": [
      "[========================================================================] 100%\n",
      " 41%|█████████████████████████████▍                                          | 413/1009 [40:34:10<81:49:59, 494.29s/it][                                                                        ]   0%\r"
     ]
    },
    {
     "name": "stdout",
     "output_type": "stream",
     "text": [
      "Pseudohydnum gelatinosum 413\n"
     ]
    },
    {
     "name": "stderr",
     "output_type": "stream",
     "text": [
      "[========================================================================] 100%\n",
      " 41%|█████████████████████████████▌                                          | 414/1009 [40:47:06<95:37:53, 578.61s/it][                                                                        ]   0%\r"
     ]
    },
    {
     "name": "stdout",
     "output_type": "stream",
     "text": [
      "Peziza varia 414\n"
     ]
    },
    {
     "name": "stderr",
     "output_type": "stream",
     "text": [
      "[========================================================================] 100%\n",
      " 41%|█████████████████████████████▌                                          | 415/1009 [40:52:26<82:41:42, 501.18s/it][                                                                        ]   0%\r"
     ]
    },
    {
     "name": "stdout",
     "output_type": "stream",
     "text": [
      "Psiloboletinus lariceti 415\n"
     ]
    },
    {
     "name": "stderr",
     "output_type": "stream",
     "text": [
      "[========================================================================] 100%\n",
      " 41%|█████████████████████████████▋                                          | 416/1009 [40:55:54<68:02:48, 413.10s/it][                                                                        ]   0%\r"
     ]
    },
    {
     "name": "stdout",
     "output_type": "stream",
     "text": [
      "Lactarius subdulcis 416\n"
     ]
    },
    {
     "name": "stderr",
     "output_type": "stream",
     "text": [
      "[========================================================================] 100%\n",
      " 41%|█████████████████████████████▊                                          | 417/1009 [41:00:45<61:54:37, 376.48s/it][                                                                        ]   0%\r"
     ]
    },
    {
     "name": "stdout",
     "output_type": "stream",
     "text": [
      "Elaphomyces granulatus 417\n"
     ]
    },
    {
     "name": "stderr",
     "output_type": "stream",
     "text": [
      "[========================================================================] 100%\n",
      " 41%|█████████████████████████████▊                                          | 418/1009 [41:05:28<57:12:00, 348.43s/it][                                                                        ]   0%\r"
     ]
    },
    {
     "name": "stdout",
     "output_type": "stream",
     "text": [
      "Agaricus bitorquis 418\n"
     ]
    },
    {
     "name": "stderr",
     "output_type": "stream",
     "text": [
      "[========================================================================] 100%\n",
      " 42%|█████████████████████████████▉                                          | 419/1009 [41:10:32<54:55:59, 335.19s/it][                                                                        ]   0%\r"
     ]
    },
    {
     "name": "stdout",
     "output_type": "stream",
     "text": [
      "Cortinarius bolaris 419\n"
     ]
    },
    {
     "name": "stderr",
     "output_type": "stream",
     "text": [
      "[========================================================================] 100%\n",
      " 42%|█████████████████████████████▉                                          | 420/1009 [41:14:41<50:36:07, 309.28s/it][                                                                        ]   0%\r"
     ]
    },
    {
     "name": "stdout",
     "output_type": "stream",
     "text": [
      "Russula albonigra 420\n"
     ]
    },
    {
     "name": "stderr",
     "output_type": "stream",
     "text": [
      "[========================================================================] 100%\n",
      " 42%|██████████████████████████████                                          | 421/1009 [41:18:57<47:54:37, 293.33s/it][                                                                        ]   0%\r"
     ]
    },
    {
     "name": "stdout",
     "output_type": "stream",
     "text": [
      "Aureoboletus moravicus 421\n"
     ]
    },
    {
     "name": "stderr",
     "output_type": "stream",
     "text": [
      "[========================================================================] 100%\n",
      " 42%|██████████████████████████████                                          | 422/1009 [41:22:37<44:13:11, 271.20s/it][                                                                        ]   0%\r"
     ]
    },
    {
     "name": "stdout",
     "output_type": "stream",
     "text": [
      "Agrocybe dura 422\n"
     ]
    },
    {
     "name": "stderr",
     "output_type": "stream",
     "text": [
      "[========================================================================] 100%\n",
      " 42%|██████████████████████████████▏                                         | 423/1009 [41:27:21<44:47:24, 275.16s/it][                                                                        ]   0%\r"
     ]
    },
    {
     "name": "stdout",
     "output_type": "stream",
     "text": [
      "Gomphus clavatus 423\n"
     ]
    },
    {
     "name": "stderr",
     "output_type": "stream",
     "text": [
      "[========================================================================] 100%\n",
      " 42%|██████████████████████████████▎                                         | 424/1009 [41:33:01<47:51:37, 294.52s/it][                                                                        ]   0%\r"
     ]
    },
    {
     "name": "stdout",
     "output_type": "stream",
     "text": [
      "Tricholoma ustale 424\n"
     ]
    },
    {
     "name": "stderr",
     "output_type": "stream",
     "text": [
      "[========================================================================] 100%\n",
      " 42%|██████████████████████████████▎                                         | 425/1009 [41:37:16<45:52:19, 282.77s/it][                                                                        ]   0%\r"
     ]
    },
    {
     "name": "stdout",
     "output_type": "stream",
     "text": [
      "Otidea onotica 425\n"
     ]
    },
    {
     "name": "stderr",
     "output_type": "stream",
     "text": [
      "[========================================================================] 100%\n",
      " 42%|██████████████████████████████▍                                         | 426/1009 [41:42:34<47:29:20, 293.24s/it][                                                                        ]   0%\r"
     ]
    },
    {
     "name": "stdout",
     "output_type": "stream",
     "text": [
      "Suillus spectabilis 426\n"
     ]
    },
    {
     "name": "stderr",
     "output_type": "stream",
     "text": [
      "[========================================================================] 100%\n",
      " 42%|██████████████████████████████▍                                         | 427/1009 [41:46:58<45:58:44, 284.41s/it][                                                                        ]   0%\r"
     ]
    },
    {
     "name": "stdout",
     "output_type": "stream",
     "text": [
      "Amanita porphyria 427\n"
     ]
    },
    {
     "name": "stderr",
     "output_type": "stream",
     "text": [
      "[========================================================================] 100%\n",
      " 42%|██████████████████████████████▌                                         | 428/1009 [41:51:54<46:29:23, 288.06s/it][                                                                        ]   0%\r"
     ]
    },
    {
     "name": "stdout",
     "output_type": "stream",
     "text": [
      "Catathelasma imperiale 428\n"
     ]
    },
    {
     "name": "stderr",
     "output_type": "stream",
     "text": [
      "[========================================================================] 100%\n",
      " 43%|██████████████████████████████▌                                         | 429/1009 [41:56:08<44:45:01, 277.76s/it][                                                                        ]   0%\r"
     ]
    },
    {
     "name": "stdout",
     "output_type": "stream",
     "text": [
      "Sarcoscypha austriaca 429\n"
     ]
    },
    {
     "name": "stderr",
     "output_type": "stream",
     "text": [
      "[========================================================================] 100%\n",
      " 43%|██████████████████████████████▋                                         | 430/1009 [42:01:26<46:38:34, 290.01s/it][                                                                        ]   0%\r"
     ]
    },
    {
     "name": "stdout",
     "output_type": "stream",
     "text": [
      "Lepiota clypeolaria 430\n"
     ]
    },
    {
     "name": "stderr",
     "output_type": "stream",
     "text": [
      "[========================================================================] 100%\n",
      " 43%|██████████████████████████████▊                                         | 431/1009 [42:05:29<44:17:50, 275.90s/it][                                                                        ]   0%\r"
     ]
    },
    {
     "name": "stdout",
     "output_type": "stream",
     "text": [
      "Exidia glandulosa 431\n"
     ]
    },
    {
     "name": "stderr",
     "output_type": "stream",
     "text": [
      "[========================================================================] 100%\n",
      " 43%|██████████████████████████████▊                                         | 432/1009 [42:10:54<46:32:40, 290.40s/it][                                                                        ]   0%\r"
     ]
    },
    {
     "name": "stdout",
     "output_type": "stream",
     "text": [
      "Galerina hypnorum 432\n"
     ]
    },
    {
     "name": "stderr",
     "output_type": "stream",
     "text": [
      "[========================================================================] 100%\n",
      " 43%|██████████████████████████████▉                                         | 433/1009 [42:15:17<45:09:27, 282.24s/it][                                                                        ]   0%\r"
     ]
    },
    {
     "name": "stdout",
     "output_type": "stream",
     "text": [
      "Lactarius japonicus 433\n"
     ]
    },
    {
     "name": "stderr",
     "output_type": "stream",
     "text": [
      "[========================================================================] 100%\n",
      " 43%|██████████████████████████████▉                                         | 434/1009 [42:18:44<41:29:50, 259.81s/it][                                                                        ]   0%\r"
     ]
    },
    {
     "name": "stdout",
     "output_type": "stream",
     "text": [
      "Macrolepiota konradii 434\n"
     ]
    },
    {
     "name": "stderr",
     "output_type": "stream",
     "text": [
      "[========================================================================] 100%\n",
      " 43%|███████████████████████████████                                         | 435/1009 [42:22:36<40:05:14, 251.42s/it][                                                                        ]   0%\r"
     ]
    },
    {
     "name": "stdout",
     "output_type": "stream",
     "text": [
      "Inocybe geophylla 435\n"
     ]
    },
    {
     "name": "stderr",
     "output_type": "stream",
     "text": [
      "[========================================================================] 100%\n",
      " 43%|███████████████████████████████                                         | 436/1009 [42:28:10<43:56:10, 276.04s/it][                                                                        ]   0%\r"
     ]
    },
    {
     "name": "stdout",
     "output_type": "stream",
     "text": [
      "Russula integra 436\n"
     ]
    },
    {
     "name": "stderr",
     "output_type": "stream",
     "text": [
      "[========================================================================] 100%\n",
      " 43%|███████████████████████████████▏                                        | 437/1009 [42:32:42<43:40:05, 274.84s/it][                                                                        ]   0%\r"
     ]
    },
    {
     "name": "stdout",
     "output_type": "stream",
     "text": [
      "Parasola plicatilis 437\n"
     ]
    },
    {
     "name": "stderr",
     "output_type": "stream",
     "text": [
      "[========================================================================] 100%\n",
      " 43%|███████████████████████████████▎                                        | 438/1009 [42:38:15<46:23:03, 292.44s/it][                                                                        ]   0%\r"
     ]
    },
    {
     "name": "stdout",
     "output_type": "stream",
     "text": [
      "Coprinopsis cinerea 438\n"
     ]
    },
    {
     "name": "stderr",
     "output_type": "stream",
     "text": [
      "[========================================================================] 100%\n",
      " 44%|███████████████████████████████▎                                        | 439/1009 [42:44:37<50:32:20, 319.19s/it][                                                                        ]   0%\r"
     ]
    },
    {
     "name": "stdout",
     "output_type": "stream",
     "text": [
      "Rhodotus palmatus 439\n"
     ]
    },
    {
     "name": "stderr",
     "output_type": "stream",
     "text": [
      "[========================================================================] 100%\n",
      " 44%|███████████████████████████████▍                                        | 440/1009 [42:51:44<55:34:36, 351.63s/it][                                                                        ]   0%\r"
     ]
    },
    {
     "name": "stdout",
     "output_type": "stream",
     "text": [
      "Tricholoma stiparophyllum 440\n"
     ]
    },
    {
     "name": "stderr",
     "output_type": "stream",
     "text": [
      "[========================================================================] 100%\n",
      " 44%|███████████████████████████████▍                                        | 441/1009 [42:57:57<56:27:40, 357.85s/it][                                                                        ]   0%\r"
     ]
    },
    {
     "name": "stdout",
     "output_type": "stream",
     "text": [
      "Pleurotus citrinopileatus 441\n"
     ]
    },
    {
     "name": "stderr",
     "output_type": "stream",
     "text": [
      "[========================================================================] 100%\n",
      " 44%|███████████████████████████████▌                                        | 442/1009 [43:05:09<59:52:20, 380.14s/it][                                                                        ]   0%\r"
     ]
    },
    {
     "name": "stdout",
     "output_type": "stream",
     "text": [
      "Pholiota lubrica 442\n"
     ]
    },
    {
     "name": "stderr",
     "output_type": "stream",
     "text": [
      "[========================================================================] 100%\n",
      " 44%|███████████████████████████████▌                                        | 443/1009 [43:11:04<58:36:48, 372.81s/it][                                                                        ]   0%\r"
     ]
    },
    {
     "name": "stdout",
     "output_type": "stream",
     "text": [
      "Cordyceps militaris 443\n"
     ]
    },
    {
     "name": "stderr",
     "output_type": "stream",
     "text": [
      "[========================================================================] 100%\n",
      " 44%|███████████████████████████████▋                                        | 444/1009 [43:17:55<60:17:02, 384.11s/it][                                                                        ]   0%\r"
     ]
    },
    {
     "name": "stdout",
     "output_type": "stream",
     "text": [
      "Melanoleuca grammopodia 444\n"
     ]
    },
    {
     "name": "stderr",
     "output_type": "stream",
     "text": [
      "[========================================================================] 100%\n",
      " 44%|███████████████████████████████▊                                        | 445/1009 [43:24:06<59:34:23, 380.25s/it][                                                                        ]   0%\r"
     ]
    },
    {
     "name": "stdout",
     "output_type": "stream",
     "text": [
      "Ganoderma applanatum 445\n"
     ]
    },
    {
     "name": "stderr",
     "output_type": "stream",
     "text": [
      "[========================================================================] 100%\n",
      " 44%|███████████████████████████████▊                                        | 446/1009 [43:32:48<66:06:55, 422.76s/it][                                                                        ]   0%\r"
     ]
    },
    {
     "name": "stdout",
     "output_type": "stream",
     "text": [
      "Hygrophorus erubescens 446\n"
     ]
    },
    {
     "name": "stderr",
     "output_type": "stream",
     "text": [
      "[========================================================================] 100%\n",
      " 44%|███████████████████████████████▉                                        | 447/1009 [43:39:57<66:17:21, 424.63s/it][                                                                        ]   0%\r"
     ]
    },
    {
     "name": "stdout",
     "output_type": "stream",
     "text": [
      "Tricholoma guldeniae 447\n"
     ]
    },
    {
     "name": "stderr",
     "output_type": "stream",
     "text": [
      "[========================================================================] 100%\n",
      " 44%|███████████████████████████████▉                                        | 448/1009 [43:45:57<63:08:49, 405.22s/it][                                                                        ]   0%\r"
     ]
    },
    {
     "name": "stdout",
     "output_type": "stream",
     "text": [
      "Clitocybe vibecina 448\n"
     ]
    },
    {
     "name": "stderr",
     "output_type": "stream",
     "text": [
      "[========================================================================] 100%\n",
      " 44%|████████████████████████████████                                        | 449/1009 [43:53:30<65:17:10, 419.70s/it][                                                                        ]   0%\r"
     ]
    },
    {
     "name": "stdout",
     "output_type": "stream",
     "text": [
      "Suillus tridentinus 449\n"
     ]
    },
    {
     "name": "stderr",
     "output_type": "stream",
     "text": [
      "[========================================================================] 100%\n",
      " 45%|████████████████████████████████                                        | 450/1009 [44:00:18<64:36:21, 416.07s/it][                                                                        ]   0%\r"
     ]
    },
    {
     "name": "stdout",
     "output_type": "stream",
     "text": [
      "Porphyrellus porphyrosporus 450\n"
     ]
    },
    {
     "name": "stderr",
     "output_type": "stream",
     "text": [
      "[========================================================================] 100%\n",
      " 45%|████████████████████████████████▏                                       | 451/1009 [44:07:20<64:45:37, 417.81s/it][                                                                        ]   0%\r"
     ]
    },
    {
     "name": "stdout",
     "output_type": "stream",
     "text": [
      "Phellodon niger 451\n"
     ]
    },
    {
     "name": "stderr",
     "output_type": "stream",
     "text": [
      "[========================================================================] 100%\n",
      " 45%|████████████████████████████████▎                                       | 452/1009 [44:15:17<67:23:49, 435.60s/it][                                                                        ]   0%\r"
     ]
    },
    {
     "name": "stdout",
     "output_type": "stream",
     "text": [
      "Morchella esculenta 452\n"
     ]
    },
    {
     "name": "stderr",
     "output_type": "stream",
     "text": [
      "[========================================================================] 100%\n",
      " 45%|████████████████████████████████▎                                       | 453/1009 [44:22:17<66:34:00, 431.01s/it][                                                                        ]   0%\r"
     ]
    },
    {
     "name": "stdout",
     "output_type": "stream",
     "text": [
      "Suillellus pulchrotinctus 453\n"
     ]
    },
    {
     "name": "stderr",
     "output_type": "stream",
     "text": [
      "[========================================================================] 100%\n",
      " 45%|████████████████████████████████▍                                       | 454/1009 [44:27:13<60:10:16, 390.30s/it][                                                                        ]   0%\r"
     ]
    },
    {
     "name": "stdout",
     "output_type": "stream",
     "text": [
      "Hygrophorus eburneus 454\n"
     ]
    },
    {
     "name": "stderr",
     "output_type": "stream",
     "text": [
      "[========================================================================] 100%\n",
      " 45%|████████████████████████████████▍                                       | 455/1009 [44:35:01<63:39:03, 413.62s/it][                                                                        ]   0%\r"
     ]
    },
    {
     "name": "stdout",
     "output_type": "stream",
     "text": [
      "Leucopaxillus tricolor 455\n"
     ]
    },
    {
     "name": "stderr",
     "output_type": "stream",
     "text": [
      "[========================================================================] 100%\n",
      " 45%|████████████████████████████████▌                                       | 456/1009 [44:42:13<64:23:23, 419.17s/it][                                                                        ]   0%\r"
     ]
    },
    {
     "name": "stdout",
     "output_type": "stream",
     "text": [
      "Hygrophorus marzuolus 456\n"
     ]
    },
    {
     "name": "stderr",
     "output_type": "stream",
     "text": [
      "[========================================================================] 100%\n",
      " 45%|████████████████████████████████▌                                       | 457/1009 [44:49:43<65:42:07, 428.49s/it][                                                                        ]   0%\r"
     ]
    },
    {
     "name": "stdout",
     "output_type": "stream",
     "text": [
      "Coltricia perennis 457\n"
     ]
    },
    {
     "name": "stderr",
     "output_type": "stream",
     "text": [
      "[========================================================================] 100%\n",
      " 45%|████████████████████████████████▋                                       | 458/1009 [44:57:10<66:26:05, 434.06s/it][                                                                        ]   0%\r"
     ]
    },
    {
     "name": "stdout",
     "output_type": "stream",
     "text": [
      "Pholiota lenta 458\n"
     ]
    },
    {
     "name": "stderr",
     "output_type": "stream",
     "text": [
      "[========================================================================] 100%\n",
      " 45%|████████████████████████████████▊                                       | 459/1009 [45:04:21<66:11:00, 433.20s/it][                                                                        ]   0%\r"
     ]
    },
    {
     "name": "stdout",
     "output_type": "stream",
     "text": [
      "Inocybe lacera 459\n"
     ]
    },
    {
     "name": "stderr",
     "output_type": "stream",
     "text": [
      "[========================================================================] 100%\n",
      " 46%|████████████████████████████████▊                                       | 460/1009 [45:11:49<66:44:34, 437.66s/it][                                                                        ]   0%\r"
     ]
    },
    {
     "name": "stdout",
     "output_type": "stream",
     "text": [
      "Suillus spraguei 460\n"
     ]
    },
    {
     "name": "stderr",
     "output_type": "stream",
     "text": [
      "[========================================================================] 100%\n",
      " 46%|████████████████████████████████▉                                       | 461/1009 [45:19:31<67:41:57, 444.74s/it][                                                                        ]   0%\r"
     ]
    },
    {
     "name": "stdout",
     "output_type": "stream",
     "text": [
      "Tuber magnatum 461\n"
     ]
    },
    {
     "name": "stderr",
     "output_type": "stream",
     "text": [
      "[========================================================================] 100%\n",
      " 46%|████████████████████████████████▉                                       | 462/1009 [45:26:53<67:27:55, 444.01s/it][                                                                        ]   0%\r"
     ]
    },
    {
     "name": "stdout",
     "output_type": "stream",
     "text": [
      "Cortinarius alboviolaceus 462\n"
     ]
    },
    {
     "name": "stderr",
     "output_type": "stream",
     "text": [
      "[========================================================================] 100%\n",
      " 46%|█████████████████████████████████                                       | 463/1009 [45:34:53<68:59:43, 454.91s/it][                                                                        ]   0%\r"
     ]
    },
    {
     "name": "stdout",
     "output_type": "stream",
     "text": [
      "Strobilurus esculentus 463\n"
     ]
    },
    {
     "name": "stderr",
     "output_type": "stream",
     "text": [
      "[========================================================================] 100%\n",
      " 46%|█████████████████████████████████                                       | 464/1009 [45:42:15<68:16:58, 451.04s/it][                                                                        ]   0%\r"
     ]
    },
    {
     "name": "stdout",
     "output_type": "stream",
     "text": [
      "Agaricus comtulus 464\n"
     ]
    },
    {
     "name": "stderr",
     "output_type": "stream",
     "text": [
      "[========================================================================] 100%\n",
      " 46%|█████████████████████████████████▏                                      | 465/1009 [45:48:22<64:20:50, 425.83s/it][                                                                        ]   0%\r"
     ]
    },
    {
     "name": "stdout",
     "output_type": "stream",
     "text": [
      "Abortiporus biennis 465\n"
     ]
    },
    {
     "name": "stderr",
     "output_type": "stream",
     "text": [
      "[========================================================================] 100%\n",
      " 46%|█████████████████████████████████▎                                      | 466/1009 [45:57:42<70:17:19, 466.00s/it][                                                                        ]   0%\r"
     ]
    },
    {
     "name": "stdout",
     "output_type": "stream",
     "text": [
      "Clitocybe fragrans 466\n"
     ]
    },
    {
     "name": "stderr",
     "output_type": "stream",
     "text": [
      "[========================================================================] 100%\n",
      " 46%|█████████████████████████████████▎                                      | 467/1009 [46:05:13<69:28:20, 461.44s/it][                                                                        ]   0%\r"
     ]
    },
    {
     "name": "stdout",
     "output_type": "stream",
     "text": [
      "Lactarius mammosus 467\n"
     ]
    },
    {
     "name": "stderr",
     "output_type": "stream",
     "text": [
      "[========================================================================] 100%\n",
      " 46%|█████████████████████████████████▍                                      | 468/1009 [46:12:02<66:59:04, 445.74s/it][                                                                        ]   0%\r"
     ]
    },
    {
     "name": "stdout",
     "output_type": "stream",
     "text": [
      "Lentinellus cochleatus 468\n"
     ]
    },
    {
     "name": "stderr",
     "output_type": "stream",
     "text": [
      "[========================================================================] 100%\n",
      " 46%|█████████████████████████████████▍                                      | 469/1009 [46:17:48<62:22:51, 415.87s/it][                                                                        ]   0%\r"
     ]
    },
    {
     "name": "stdout",
     "output_type": "stream",
     "text": [
      "Lycoperdon echinatum 469\n"
     ]
    },
    {
     "name": "stderr",
     "output_type": "stream",
     "text": [
      "[========================================================================] 100%\n",
      " 47%|█████████████████████████████████▌                                      | 470/1009 [46:27:26<69:31:58, 464.41s/it][                                                                        ]   0%\r"
     ]
    },
    {
     "name": "stdout",
     "output_type": "stream",
     "text": [
      "Hygrophoropsis rufa 470\n"
     ]
    },
    {
     "name": "stderr",
     "output_type": "stream",
     "text": [
      "[========================================================================] 100%\n",
      " 47%|█████████████████████████████████▌                                      | 471/1009 [46:33:46<65:37:13, 439.10s/it][                                                                        ]   0%\r"
     ]
    },
    {
     "name": "stdout",
     "output_type": "stream",
     "text": [
      "Cyclocybe erebia 471\n"
     ]
    },
    {
     "name": "stderr",
     "output_type": "stream",
     "text": [
      "[========================================================================] 100%\n",
      " 47%|█████████████████████████████████▋                                      | 472/1009 [46:40:22<63:34:59, 426.26s/it][                                                                        ]   0%\r"
     ]
    },
    {
     "name": "stdout",
     "output_type": "stream",
     "text": [
      "Gymnopilus sapineus 472\n"
     ]
    },
    {
     "name": "stderr",
     "output_type": "stream",
     "text": [
      "[========================================================================] 100%\n",
      " 47%|█████████████████████████████████▊                                      | 473/1009 [46:48:38<66:35:41, 447.28s/it][                                                                        ]   0%\r"
     ]
    },
    {
     "name": "stdout",
     "output_type": "stream",
     "text": [
      "Lactarius spinosulus 473\n"
     ]
    },
    {
     "name": "stderr",
     "output_type": "stream",
     "text": [
      "[========================================================================] 100%\n",
      " 47%|█████████████████████████████████▊                                      | 474/1009 [46:54:18<61:40:09, 414.97s/it][                                                                        ]   0%\r"
     ]
    },
    {
     "name": "stdout",
     "output_type": "stream",
     "text": [
      "Cortinarius uliginosus 474\n"
     ]
    },
    {
     "name": "stderr",
     "output_type": "stream",
     "text": [
      "[========================================================================] 100%\n",
      " 47%|█████████████████████████████████▉                                      | 475/1009 [47:00:35<59:51:57, 403.59s/it][                                                                        ]   0%\r"
     ]
    },
    {
     "name": "stdout",
     "output_type": "stream",
     "text": [
      "Guepinia helvelloides 475\n"
     ]
    },
    {
     "name": "stderr",
     "output_type": "stream",
     "text": [
      "[========================================================================] 100%\n",
      " 47%|█████████████████████████████████▉                                      | 476/1009 [47:09:08<64:35:37, 436.28s/it][                                                                        ]   0%\r"
     ]
    },
    {
     "name": "stdout",
     "output_type": "stream",
     "text": [
      "Lactarius azonites 476\n"
     ]
    },
    {
     "name": "stderr",
     "output_type": "stream",
     "text": [
      "[========================================================================] 100%\n",
      " 47%|██████████████████████████████████                                      | 477/1009 [47:15:25<61:52:24, 418.69s/it][                                                                        ]   0%\r"
     ]
    },
    {
     "name": "stdout",
     "output_type": "stream",
     "text": [
      "Suillus bellini 477\n"
     ]
    },
    {
     "name": "stderr",
     "output_type": "stream",
     "text": [
      "[========================================================================] 100%\n",
      " 47%|██████████████████████████████████                                      | 478/1009 [47:21:15<58:43:19, 398.12s/it][                                                                        ]   0%\r"
     ]
    },
    {
     "name": "stdout",
     "output_type": "stream",
     "text": [
      "Tapinella panuoides 478\n"
     ]
    },
    {
     "name": "stderr",
     "output_type": "stream",
     "text": [
      "[========================================================================] 100%\n",
      " 47%|██████████████████████████████████▏                                     | 479/1009 [47:28:38<60:35:02, 411.51s/it][                                                                        ]   0%\r"
     ]
    },
    {
     "name": "stdout",
     "output_type": "stream",
     "text": [
      "Morchella semilibera 479\n"
     ]
    },
    {
     "name": "stderr",
     "output_type": "stream",
     "text": [
      "[========================================================================] 100%\n",
      " 48%|██████████████████████████████████▎                                     | 480/1009 [47:39:48<71:51:48, 489.05s/it][                                                                        ]   0%\r"
     ]
    },
    {
     "name": "stdout",
     "output_type": "stream",
     "text": [
      "Entoloma rhodopolium 480\n"
     ]
    },
    {
     "name": "stderr",
     "output_type": "stream",
     "text": [
      "[========================================================================] 100%\n",
      " 48%|█████████████████████████████████▊                                     | 481/1009 [48:05:01<116:46:33, 796.20s/it][                                                                        ]   0%\r"
     ]
    },
    {
     "name": "stdout",
     "output_type": "stream",
     "text": [
      "Lactarius blennius 481\n"
     ]
    },
    {
     "name": "stderr",
     "output_type": "stream",
     "text": [
      "[========================================================================] 100%\n",
      " 48%|█████████████████████████████████▉                                     | 482/1009 [48:17:20<114:02:21, 779.02s/it][                                                                        ]   0%\r"
     ]
    },
    {
     "name": "stdout",
     "output_type": "stream",
     "text": [
      "Leucocoprinus brebissonii 482\n"
     ]
    },
    {
     "name": "stderr",
     "output_type": "stream",
     "text": [
      "[========================================================================] 100%\n",
      " 48%|█████████████████████████████████▉                                     | 483/1009 [48:26:05<102:41:51, 702.87s/it][                                                                        ]   0%\r"
     ]
    },
    {
     "name": "stdout",
     "output_type": "stream",
     "text": [
      "Inocybe assimilata 483\n"
     ]
    },
    {
     "name": "stderr",
     "output_type": "stream",
     "text": [
      "[========================================================================] 100%\n",
      " 48%|██████████████████████████████████▌                                     | 484/1009 [48:32:42<89:07:29, 611.14s/it][                                                                        ]   0%\r"
     ]
    },
    {
     "name": "stdout",
     "output_type": "stream",
     "text": [
      "Cortinarius pholideus 484\n"
     ]
    },
    {
     "name": "stderr",
     "output_type": "stream",
     "text": [
      "[========================================================================] 100%\n",
      " 48%|██████████████████████████████████▌                                     | 485/1009 [48:39:38<80:26:30, 552.65s/it][                                                                        ]   0%\r"
     ]
    },
    {
     "name": "stdout",
     "output_type": "stream",
     "text": [
      "Meripilus giganteus 485\n"
     ]
    },
    {
     "name": "stderr",
     "output_type": "stream",
     "text": [
      "[========================================================================] 100%\n",
      " 48%|██████████████████████████████████▋                                     | 486/1009 [48:47:38<77:06:11, 530.73s/it][                                                                        ]   0%\r"
     ]
    },
    {
     "name": "stdout",
     "output_type": "stream",
     "text": [
      "Russula betularum 486\n"
     ]
    },
    {
     "name": "stderr",
     "output_type": "stream",
     "text": [
      "[========================================================================] 100%\n",
      " 48%|██████████████████████████████████▊                                     | 487/1009 [48:54:11<70:56:57, 489.31s/it][                                                                        ]   0%\r"
     ]
    },
    {
     "name": "stdout",
     "output_type": "stream",
     "text": [
      "Cantharellula umbonata 487\n"
     ]
    },
    {
     "name": "stderr",
     "output_type": "stream",
     "text": [
      "[========================================================================] 100%\n",
      " 48%|██████████████████████████████████▊                                     | 488/1009 [49:02:36<71:31:01, 494.17s/it][                                                                        ]   0%\r"
     ]
    },
    {
     "name": "stdout",
     "output_type": "stream",
     "text": [
      "Russula azurea 488\n"
     ]
    },
    {
     "name": "stderr",
     "output_type": "stream",
     "text": [
      "[========================================================================] 100%\n",
      " 48%|██████████████████████████████████▉                                     | 489/1009 [49:09:10<67:02:42, 464.16s/it][                                                                        ]   0%\r"
     ]
    },
    {
     "name": "stdout",
     "output_type": "stream",
     "text": [
      "Climacodon septentrionalis 489\n"
     ]
    },
    {
     "name": "stderr",
     "output_type": "stream",
     "text": [
      "[========================================================================] 100%\n",
      " 49%|██████████████████████████████████▉                                     | 490/1009 [49:21:52<79:48:05, 553.54s/it][                                                                        ]   0%\r"
     ]
    },
    {
     "name": "stdout",
     "output_type": "stream",
     "text": [
      "Russula turci 490\n"
     ]
    },
    {
     "name": "stderr",
     "output_type": "stream",
     "text": [
      "[========================================================================] 100%\n",
      " 49%|███████████████████████████████████                                     | 491/1009 [49:28:53<73:53:41, 513.56s/it][                                                                        ]   0%\r"
     ]
    },
    {
     "name": "stdout",
     "output_type": "stream",
     "text": [
      "Lepiota magnispora 491\n"
     ]
    },
    {
     "name": "stderr",
     "output_type": "stream",
     "text": [
      "[========================================================================] 100%\n",
      " 49%|███████████████████████████████████                                     | 492/1009 [49:36:30<71:19:22, 496.64s/it][                                                                        ]   0%\r"
     ]
    },
    {
     "name": "stdout",
     "output_type": "stream",
     "text": [
      "Hebeloma radicosum 492\n"
     ]
    },
    {
     "name": "stderr",
     "output_type": "stream",
     "text": [
      "[========================================================================] 100%\n",
      " 49%|███████████████████████████████████▏                                    | 493/1009 [49:43:12<67:07:24, 468.30s/it][                                                                        ]   0%\r"
     ]
    },
    {
     "name": "stdout",
     "output_type": "stream",
     "text": [
      "Amanita Pachycolea 493\n"
     ]
    },
    {
     "name": "stderr",
     "output_type": "stream",
     "text": [
      "[========================================================================] 100%\n",
      " 49%|███████████████████████████████████▎                                    | 494/1009 [49:52:28<70:45:15, 494.59s/it][                                                                        ]   0%\r"
     ]
    },
    {
     "name": "stdout",
     "output_type": "stream",
     "text": [
      "Cortinarius varius 494\n"
     ]
    },
    {
     "name": "stderr",
     "output_type": "stream",
     "text": [
      "[========================================================================] 100%\n",
      " 49%|███████████████████████████████████▎                                    | 495/1009 [49:57:58<63:34:41, 445.30s/it][                                                                        ]   0%\r"
     ]
    },
    {
     "name": "stdout",
     "output_type": "stream",
     "text": [
      "Russula aeruginea 495\n"
     ]
    },
    {
     "name": "stderr",
     "output_type": "stream",
     "text": [
      "[========================================================================] 100%\n",
      " 49%|███████████████████████████████████▍                                    | 496/1009 [50:02:46<56:44:25, 398.18s/it][                                                                        ]   0%\r"
     ]
    },
    {
     "name": "stdout",
     "output_type": "stream",
     "text": [
      "Mycena galericulata 496\n"
     ]
    },
    {
     "name": "stderr",
     "output_type": "stream",
     "text": [
      "[========================================================================] 100%\n",
      " 49%|███████████████████████████████████▍                                    | 497/1009 [50:07:44<52:18:57, 367.85s/it][                                                                        ]   0%\r"
     ]
    },
    {
     "name": "stdout",
     "output_type": "stream",
     "text": [
      "Onnia tomentosa 497\n"
     ]
    },
    {
     "name": "stderr",
     "output_type": "stream",
     "text": [
      "[========================================================================] 100%\n",
      " 49%|███████████████████████████████████▌                                    | 498/1009 [50:12:05<47:41:35, 336.00s/it][                                                                        ]   0%\r"
     ]
    },
    {
     "name": "stdout",
     "output_type": "stream",
     "text": [
      "Agaricus haemorroidarius 498\n"
     ]
    },
    {
     "name": "stderr",
     "output_type": "stream",
     "text": [
      "[========================================================================] 100%\n",
      " 49%|███████████████████████████████████▌                                    | 499/1009 [50:15:47<42:45:06, 301.78s/it][                                                                        ]   0%\r"
     ]
    },
    {
     "name": "stdout",
     "output_type": "stream",
     "text": [
      "Suillus sibiricus 499\n"
     ]
    },
    {
     "name": "stderr",
     "output_type": "stream",
     "text": [
      "[========================================================================] 100%\n",
      " 50%|███████████████████████████████████▋                                    | 500/1009 [50:20:46<42:33:09, 300.96s/it][                                                                        ]   0%\r"
     ]
    },
    {
     "name": "stdout",
     "output_type": "stream",
     "text": [
      "Pseudoclitocybe cyathiformis 500\n"
     ]
    },
    {
     "name": "stderr",
     "output_type": "stream",
     "text": [
      "[========================================================================] 100%\n",
      " 50%|███████████████████████████████████▊                                    | 501/1009 [50:25:52<42:40:31, 302.42s/it][                                                                        ]   0%\r"
     ]
    },
    {
     "name": "stdout",
     "output_type": "stream",
     "text": [
      "Amanita gemmata 501\n"
     ]
    },
    {
     "name": "stderr",
     "output_type": "stream",
     "text": [
      "[========================================================================] 100%\n",
      " 50%|███████████████████████████████████▊                                    | 502/1009 [50:31:13<43:23:21, 308.09s/it][                                                                        ]   0%\r"
     ]
    },
    {
     "name": "stdout",
     "output_type": "stream",
     "text": [
      "Hygrocybe conica 502\n"
     ]
    },
    {
     "name": "stderr",
     "output_type": "stream",
     "text": [
      "[========================================================================] 100%\n",
      " 50%|███████████████████████████████████▉                                    | 503/1009 [50:36:30<43:40:57, 310.78s/it][                                                                        ]   0%\r"
     ]
    },
    {
     "name": "stdout",
     "output_type": "stream",
     "text": [
      "Pholiota highlandensis 503\n"
     ]
    },
    {
     "name": "stderr",
     "output_type": "stream",
     "text": [
      "[========================================================================] 100%\n",
      " 50%|███████████████████████████████████▉                                    | 504/1009 [50:41:37<43:25:04, 309.51s/it][                                                                        ]   0%\r"
     ]
    },
    {
     "name": "stdout",
     "output_type": "stream",
     "text": [
      "Stropharia Hornemannii 504\n"
     ]
    },
    {
     "name": "stderr",
     "output_type": "stream",
     "text": [
      "[========================================================================] 100%\n",
      " 50%|████████████████████████████████████                                    | 505/1009 [50:46:08<41:42:00, 297.86s/it][                                                                        ]   0%\r"
     ]
    },
    {
     "name": "stdout",
     "output_type": "stream",
     "text": [
      "Disciotis venosa 505\n"
     ]
    },
    {
     "name": "stderr",
     "output_type": "stream",
     "text": [
      "[========================================================================] 100%\n",
      " 50%|████████████████████████████████████                                    | 506/1009 [50:50:46<40:49:08, 292.14s/it][                                                                        ]   0%\r"
     ]
    },
    {
     "name": "stdout",
     "output_type": "stream",
     "text": [
      "Lactarius lignyotus 506\n"
     ]
    },
    {
     "name": "stderr",
     "output_type": "stream",
     "text": [
      "[========================================================================] 100%\n",
      " 50%|████████████████████████████████████▏                                   | 507/1009 [50:55:08<39:27:55, 283.02s/it][                                                                        ]   0%\r"
     ]
    },
    {
     "name": "stdout",
     "output_type": "stream",
     "text": [
      "Phaeotremella foliacea 507\n"
     ]
    },
    {
     "name": "stderr",
     "output_type": "stream",
     "text": [
      "[========================================================================] 100%\n",
      " 50%|████████████████████████████████████▏                                   | 508/1009 [51:00:50<41:51:12, 300.74s/it][                                                                        ]   0%\r"
     ]
    },
    {
     "name": "stdout",
     "output_type": "stream",
     "text": [
      "Mycena galopus 508\n"
     ]
    },
    {
     "name": "stderr",
     "output_type": "stream",
     "text": [
      "[========================================================================] 100%\n",
      " 50%|████████████████████████████████████▎                                   | 509/1009 [51:05:37<41:10:52, 296.50s/it][                                                                        ]   0%\r"
     ]
    },
    {
     "name": "stdout",
     "output_type": "stream",
     "text": [
      "Agaricus cappellianus 509\n"
     ]
    },
    {
     "name": "stderr",
     "output_type": "stream",
     "text": [
      "[========================================================================] 100%\n",
      " 51%|████████████████████████████████████▍                                   | 510/1009 [51:09:26<38:18:26, 276.37s/it][                                                                        ]   0%\r"
     ]
    },
    {
     "name": "stdout",
     "output_type": "stream",
     "text": [
      "Chlorophyllum olivieri 510\n"
     ]
    },
    {
     "name": "stderr",
     "output_type": "stream",
     "text": [
      "[========================================================================] 100%\n",
      " 51%|████████████████████████████████████▍                                   | 511/1009 [51:15:10<41:02:48, 296.72s/it][                                                                        ]   0%\r"
     ]
    },
    {
     "name": "stdout",
     "output_type": "stream",
     "text": [
      "Tricholoma vaccinum 511\n"
     ]
    },
    {
     "name": "stderr",
     "output_type": "stream",
     "text": [
      "[========================================================================] 100%\n",
      " 51%|████████████████████████████████████▌                                   | 512/1009 [51:20:47<42:36:39, 308.65s/it][                                                                        ]   0%\r"
     ]
    },
    {
     "name": "stdout",
     "output_type": "stream",
     "text": [
      "Entoloma incanum 512\n"
     ]
    },
    {
     "name": "stderr",
     "output_type": "stream",
     "text": [
      "[========================================================================] 100%\n",
      " 51%|████████████████████████████████████▌                                   | 513/1009 [51:25:11<40:40:21, 295.21s/it][                                                                        ]   0%\r"
     ]
    },
    {
     "name": "stdout",
     "output_type": "stream",
     "text": [
      "Lyophyllum shimeji 513\n"
     ]
    },
    {
     "name": "stderr",
     "output_type": "stream",
     "text": [
      "[========================================================================] 100%\n",
      " 51%|████████████████████████████████████▋                                   | 514/1009 [51:30:43<42:07:00, 306.30s/it][                                                                        ]   0%\r"
     ]
    },
    {
     "name": "stdout",
     "output_type": "stream",
     "text": [
      "Mycena filopes 514\n"
     ]
    },
    {
     "name": "stderr",
     "output_type": "stream",
     "text": [
      "[========================================================================] 100%\n",
      " 51%|████████████████████████████████████▋                                   | 515/1009 [51:35:26<41:04:32, 299.34s/it][                                                                        ]   0%\r"
     ]
    },
    {
     "name": "stdout",
     "output_type": "stream",
     "text": [
      "Agrocybe pediades 515\n"
     ]
    },
    {
     "name": "stderr",
     "output_type": "stream",
     "text": [
      "[========================================================================] 100%\n",
      " 51%|████████████████████████████████████▊                                   | 516/1009 [51:41:47<44:21:20, 323.90s/it][                                                                        ]   0%\r"
     ]
    },
    {
     "name": "stdout",
     "output_type": "stream",
     "text": [
      "Albatrellus syringae 516\n"
     ]
    },
    {
     "name": "stderr",
     "output_type": "stream",
     "text": [
      "[========================================================================] 100%\n",
      " 51%|████████████████████████████████████▉                                   | 517/1009 [51:45:08<39:12:23, 286.88s/it][                                                                        ]   0%\r"
     ]
    },
    {
     "name": "stdout",
     "output_type": "stream",
     "text": [
      "Mycena rosea 517\n"
     ]
    },
    {
     "name": "stderr",
     "output_type": "stream",
     "text": [
      "[========================================================================] 100%\n",
      " 51%|████████████████████████████████████▉                                   | 518/1009 [51:50:40<41:00:06, 300.62s/it][                                                                        ]   0%\r"
     ]
    },
    {
     "name": "stdout",
     "output_type": "stream",
     "text": [
      "Hygrophorus lucorum 518\n"
     ]
    },
    {
     "name": "stderr",
     "output_type": "stream",
     "text": [
      "[========================================================================] 100%\n",
      " 51%|█████████████████████████████████████                                   | 519/1009 [51:54:51<38:52:29, 285.61s/it][                                                                        ]   0%\r"
     ]
    },
    {
     "name": "stdout",
     "output_type": "stream",
     "text": [
      "Cuphophyllus pratensis 519\n"
     ]
    },
    {
     "name": "stderr",
     "output_type": "stream",
     "text": [
      "[========================================================================] 100%\n",
      " 52%|█████████████████████████████████████                                   | 520/1009 [51:59:56<39:34:34, 291.36s/it][                                                                        ]   0%\r"
     ]
    },
    {
     "name": "stdout",
     "output_type": "stream",
     "text": [
      "Russula aurea 520\n"
     ]
    },
    {
     "name": "stderr",
     "output_type": "stream",
     "text": [
      "[========================================================================] 100%\n",
      " 52%|█████████████████████████████████████▏                                  | 521/1009 [52:04:01<37:35:58, 277.37s/it][                                                                        ]   0%\r"
     ]
    },
    {
     "name": "stdout",
     "output_type": "stream",
     "text": [
      "Agaricus essettei 521\n"
     ]
    },
    {
     "name": "stderr",
     "output_type": "stream",
     "text": [
      "[========================================================================] 100%\n",
      " 52%|█████████████████████████████████████▏                                  | 522/1009 [52:07:59<35:56:28, 265.68s/it][                                                                        ]   0%\r"
     ]
    },
    {
     "name": "stdout",
     "output_type": "stream",
     "text": [
      "Cortinarius salor 522\n"
     ]
    },
    {
     "name": "stderr",
     "output_type": "stream",
     "text": [
      "[========================================================================] 100%\n",
      " 52%|█████████████████████████████████████▎                                  | 523/1009 [52:12:48<36:47:58, 272.59s/it][                                                                        ]   0%\r"
     ]
    },
    {
     "name": "stdout",
     "output_type": "stream",
     "text": [
      "Cystodermella cinnabarina 523\n"
     ]
    },
    {
     "name": "stderr",
     "output_type": "stream",
     "text": [
      "[========================================================================] 100%\n",
      " 52%|█████████████████████████████████████▍                                  | 524/1009 [52:17:45<37:43:29, 280.02s/it][                                                                        ]   0%\r"
     ]
    },
    {
     "name": "stdout",
     "output_type": "stream",
     "text": [
      "Morchella elata 524\n"
     ]
    },
    {
     "name": "stderr",
     "output_type": "stream",
     "text": [
      "[========================================================================] 100%\n",
      " 52%|█████████████████████████████████████▍                                  | 525/1009 [52:22:41<38:17:04, 284.76s/it][                                                                        ]   0%\r"
     ]
    },
    {
     "name": "stdout",
     "output_type": "stream",
     "text": [
      "Hebeloma birrus 525\n"
     ]
    },
    {
     "name": "stderr",
     "output_type": "stream",
     "text": [
      "[========================================================================] 100%\n",
      " 52%|█████████████████████████████████████▌                                  | 526/1009 [52:26:54<36:56:10, 275.30s/it][                                                                        ]   0%\r"
     ]
    },
    {
     "name": "stdout",
     "output_type": "stream",
     "text": [
      "Porphyrellus pseudoscaber 526\n"
     ]
    },
    {
     "name": "stderr",
     "output_type": "stream",
     "text": [
      "[========================================================================] 100%\n",
      " 52%|█████████████████████████████████████▌                                  | 527/1009 [52:31:20<36:29:47, 272.59s/it][                                                                        ]   0%\r"
     ]
    },
    {
     "name": "stdout",
     "output_type": "stream",
     "text": [
      "Cortinarius glaucopus 527\n"
     ]
    },
    {
     "name": "stderr",
     "output_type": "stream",
     "text": [
      "[========================================================================] 100%\n",
      " 52%|█████████████████████████████████████▋                                  | 528/1009 [52:36:21<37:32:49, 281.02s/it][                                                                        ]   0%\r"
     ]
    },
    {
     "name": "stdout",
     "output_type": "stream",
     "text": [
      "Melanoleuca melaleuca 528\n"
     ]
    },
    {
     "name": "stderr",
     "output_type": "stream",
     "text": [
      "[========================================================================] 100%\n",
      " 52%|█████████████████████████████████████▋                                  | 529/1009 [52:43:27<43:15:17, 324.41s/it][                                                                        ]   0%\r"
     ]
    },
    {
     "name": "stdout",
     "output_type": "stream",
     "text": [
      "Lactarius semisanguifluus 529\n"
     ]
    },
    {
     "name": "stderr",
     "output_type": "stream",
     "text": [
      "[========================================================================] 100%\n",
      " 53%|█████████████████████████████████████▊                                  | 530/1009 [52:48:05<41:20:26, 310.70s/it][                                                                        ]   0%\r"
     ]
    },
    {
     "name": "stdout",
     "output_type": "stream",
     "text": [
      "Amanita echinocephala 530\n"
     ]
    },
    {
     "name": "stderr",
     "output_type": "stream",
     "text": [
      "[========================================================================] 100%\n",
      " 53%|█████████████████████████████████████▉                                  | 531/1009 [52:52:44<39:58:45, 301.10s/it][                                                                        ]   0%\r"
     ]
    },
    {
     "name": "stdout",
     "output_type": "stream",
     "text": [
      "Thelephora terrestris 531\n"
     ]
    },
    {
     "name": "stderr",
     "output_type": "stream",
     "text": [
      "[========================================================================] 100%\n",
      " 53%|█████████████████████████████████████▉                                  | 532/1009 [52:58:33<41:48:13, 315.50s/it][                                                                        ]   0%\r"
     ]
    },
    {
     "name": "stdout",
     "output_type": "stream",
     "text": [
      "Clitocybe ditopa 532\n"
     ]
    },
    {
     "name": "stderr",
     "output_type": "stream",
     "text": [
      "[========================================================================] 100%\n",
      " 53%|██████████████████████████████████████                                  | 533/1009 [53:03:41<41:25:27, 313.29s/it][                                                                        ]   0%\r"
     ]
    },
    {
     "name": "stdout",
     "output_type": "stream",
     "text": [
      "Hypholoma elongatum 533\n"
     ]
    },
    {
     "name": "stderr",
     "output_type": "stream",
     "text": [
      "[========================================================================] 100%\n",
      " 53%|██████████████████████████████████████                                  | 534/1009 [53:07:25<37:46:40, 286.32s/it][                                                                        ]   0%\r"
     ]
    },
    {
     "name": "stdout",
     "output_type": "stream",
     "text": [
      "Ramaria stricta 534\n"
     ]
    },
    {
     "name": "stderr",
     "output_type": "stream",
     "text": [
      "[========================================================================] 100%\n",
      " 53%|██████████████████████████████████████▏                                 | 535/1009 [53:12:23<38:10:58, 290.00s/it][                                                                        ]   0%\r"
     ]
    },
    {
     "name": "stdout",
     "output_type": "stream",
     "text": [
      "Cerioporus varius 535\n"
     ]
    },
    {
     "name": "stderr",
     "output_type": "stream",
     "text": [
      "[========================================================================] 100%\n",
      " 53%|██████████████████████████████████████▏                                 | 536/1009 [53:17:39<39:05:51, 297.57s/it][                                                                        ]   0%\r"
     ]
    },
    {
     "name": "stdout",
     "output_type": "stream",
     "text": [
      "Hericium flagellum 536\n"
     ]
    },
    {
     "name": "stderr",
     "output_type": "stream",
     "text": [
      "[========================================================================] 100%\n",
      " 53%|██████████████████████████████████████▎                                 | 537/1009 [53:21:51<37:13:33, 283.93s/it][                                                                        ]   0%\r"
     ]
    },
    {
     "name": "stdout",
     "output_type": "stream",
     "text": [
      "Postia stiptica 537\n"
     ]
    },
    {
     "name": "stderr",
     "output_type": "stream",
     "text": [
      "[========================================================================] 100%\n",
      " 53%|██████████████████████████████████████▍                                 | 538/1009 [53:26:30<36:57:16, 282.46s/it][                                                                        ]   0%\r"
     ]
    },
    {
     "name": "stdout",
     "output_type": "stream",
     "text": [
      "Psathyrella lacrymabunda 538\n"
     ]
    },
    {
     "name": "stderr",
     "output_type": "stream",
     "text": [
      "[========================================================================] 100%\n",
      " 53%|██████████████████████████████████████▍                                 | 539/1009 [53:31:17<37:02:55, 283.78s/it][                                                                        ]   0%\r"
     ]
    },
    {
     "name": "stdout",
     "output_type": "stream",
     "text": [
      "Lactarius tabidus 539\n"
     ]
    },
    {
     "name": "stderr",
     "output_type": "stream",
     "text": [
      "[========================================================================] 100%\n",
      " 54%|██████████████████████████████████████▌                                 | 540/1009 [53:35:26<35:38:47, 273.62s/it][                                                                        ]   0%\r"
     ]
    },
    {
     "name": "stdout",
     "output_type": "stream",
     "text": [
      "Geastrum fornicatum 540\n"
     ]
    },
    {
     "name": "stderr",
     "output_type": "stream",
     "text": [
      "[========================================================================] 100%\n",
      " 54%|██████████████████████████████████████▌                                 | 541/1009 [53:41:53<39:59:24, 307.62s/it][                                                                        ]   0%\r"
     ]
    },
    {
     "name": "stdout",
     "output_type": "stream",
     "text": [
      "Tubaria furfuracea 541\n"
     ]
    },
    {
     "name": "stderr",
     "output_type": "stream",
     "text": [
      "[========================================================================] 100%\n",
      " 54%|██████████████████████████████████████▋                                 | 542/1009 [53:47:27<40:54:21, 315.34s/it][                                                                        ]   0%\r"
     ]
    },
    {
     "name": "stdout",
     "output_type": "stream",
     "text": [
      "Helvella lacunosa 542\n"
     ]
    },
    {
     "name": "stderr",
     "output_type": "stream",
     "text": [
      "[========================================================================] 100%\n",
      " 54%|██████████████████████████████████████▋                                 | 543/1009 [53:51:58<39:07:17, 302.23s/it][                                                                        ]   0%\r"
     ]
    },
    {
     "name": "stdout",
     "output_type": "stream",
     "text": [
      "Conocybe albipes 543\n"
     ]
    },
    {
     "name": "stderr",
     "output_type": "stream",
     "text": [
      "[========================================================================] 100%\n",
      " 54%|██████████████████████████████████████▊                                 | 544/1009 [53:57:29<40:08:47, 310.81s/it][                                                                        ]   0%\r"
     ]
    },
    {
     "name": "stdout",
     "output_type": "stream",
     "text": [
      "Chondrostereum purpureum 544\n"
     ]
    },
    {
     "name": "stderr",
     "output_type": "stream",
     "text": [
      "[========================================================================] 100%\n",
      " 54%|██████████████████████████████████████▉                                 | 545/1009 [54:02:48<40:21:02, 313.06s/it][                                                                        ]   0%\r"
     ]
    },
    {
     "name": "stdout",
     "output_type": "stream",
     "text": [
      "Amanita ceciliae 545\n"
     ]
    },
    {
     "name": "stderr",
     "output_type": "stream",
     "text": [
      "[========================================================================] 100%\n",
      " 54%|██████████████████████████████████████▉                                 | 546/1009 [54:07:17<38:34:06, 299.88s/it][                                                                        ]   0%\r"
     ]
    },
    {
     "name": "stdout",
     "output_type": "stream",
     "text": [
      "Bolbitius titubans 546\n"
     ]
    },
    {
     "name": "stderr",
     "output_type": "stream",
     "text": [
      "[========================================================================] 100%\n",
      " 54%|███████████████████████████████████████                                 | 547/1009 [54:12:28<38:55:45, 303.35s/it][                                                                        ]   0%\r"
     ]
    },
    {
     "name": "stdout",
     "output_type": "stream",
     "text": [
      "Geastrum fimbriatum 547\n"
     ]
    },
    {
     "name": "stderr",
     "output_type": "stream",
     "text": [
      "[========================================================================] 100%\n",
      " 54%|███████████████████████████████████████                                 | 548/1009 [54:16:36<36:43:08, 286.74s/it][                                                                        ]   0%\r"
     ]
    },
    {
     "name": "stdout",
     "output_type": "stream",
     "text": [
      "Clavulina amethystina 548\n"
     ]
    },
    {
     "name": "stderr",
     "output_type": "stream",
     "text": [
      "[========================================================================] 100%\n",
      " 54%|███████████████████████████████████████▏                                | 549/1009 [54:20:52<35:27:52, 277.55s/it][                                                                        ]   0%\r"
     ]
    },
    {
     "name": "stdout",
     "output_type": "stream",
     "text": [
      "Cortinarius croceus 549\n"
     ]
    },
    {
     "name": "stderr",
     "output_type": "stream",
     "text": [
      "[========================================================================] 100%\n",
      " 55%|███████████████████████████████████████▏                                | 550/1009 [54:25:38<35:42:09, 280.02s/it][                                                                        ]   0%\r"
     ]
    },
    {
     "name": "stdout",
     "output_type": "stream",
     "text": [
      "Cortinarius sanguineus 550\n"
     ]
    },
    {
     "name": "stderr",
     "output_type": "stream",
     "text": [
      "[========================================================================] 100%\n",
      " 55%|███████████████████████████████████████▎                                | 551/1009 [54:30:22<35:46:08, 281.15s/it][                                                                        ]   0%\r"
     ]
    },
    {
     "name": "stdout",
     "output_type": "stream",
     "text": [
      "Inocybe napipes 551\n"
     ]
    },
    {
     "name": "stderr",
     "output_type": "stream",
     "text": [
      "[========================================================================] 100%\n",
      " 55%|███████████████████████████████████████▍                                | 552/1009 [54:34:57<35:27:27, 279.32s/it][                                                                        ]   0%\r"
     ]
    },
    {
     "name": "stdout",
     "output_type": "stream",
     "text": [
      "Lentinus substrictus 552\n"
     ]
    },
    {
     "name": "stderr",
     "output_type": "stream",
     "text": [
      "[========================================================================] 100%\n",
      " 55%|███████████████████████████████████████▍                                | 553/1009 [54:38:35<33:02:51, 260.90s/it][                                                                        ]   0%\r"
     ]
    },
    {
     "name": "stdout",
     "output_type": "stream",
     "text": [
      "Lentinus arcularius 553\n"
     ]
    },
    {
     "name": "stderr",
     "output_type": "stream",
     "text": [
      "[========================================================================] 100%\n",
      " 55%|███████████████████████████████████████▌                                | 554/1009 [54:45:00<37:40:52, 298.14s/it][                                                                        ]   0%\r"
     ]
    },
    {
     "name": "stdout",
     "output_type": "stream",
     "text": [
      "Gomphidius maculatus 554\n"
     ]
    },
    {
     "name": "stderr",
     "output_type": "stream",
     "text": [
      "[========================================================================] 100%\n",
      " 55%|███████████████████████████████████████▌                                | 555/1009 [54:48:44<34:47:10, 275.84s/it][                                                                        ]   0%\r"
     ]
    },
    {
     "name": "stdout",
     "output_type": "stream",
     "text": [
      "Chroogomphus tomentosus 555\n"
     ]
    },
    {
     "name": "stderr",
     "output_type": "stream",
     "text": [
      "[========================================================================] 100%\n",
      " 55%|███████████████████████████████████████▋                                | 556/1009 [54:54:20<37:00:23, 294.09s/it][                                                                        ]   0%\r"
     ]
    },
    {
     "name": "stdout",
     "output_type": "stream",
     "text": [
      "Lentinus brumalis 556\n"
     ]
    },
    {
     "name": "stderr",
     "output_type": "stream",
     "text": [
      "[========================================================================] 100%\n",
      " 55%|███████████████████████████████████████▋                                | 557/1009 [54:59:00<36:22:11, 289.67s/it][                                                                        ]   0%\r"
     ]
    },
    {
     "name": "stdout",
     "output_type": "stream",
     "text": [
      "Gyromitra fastigiata 557\n"
     ]
    },
    {
     "name": "stderr",
     "output_type": "stream",
     "text": [
      "[========================================================================] 100%\n",
      " 55%|███████████████████████████████████████▊                                | 558/1009 [55:03:14<34:58:40, 279.20s/it][                                                                        ]   0%\r"
     ]
    },
    {
     "name": "stdout",
     "output_type": "stream",
     "text": [
      "Phellinus hartigii 558\n"
     ]
    },
    {
     "name": "stderr",
     "output_type": "stream",
     "text": [
      "[========================================================================] 100%\n",
      " 55%|███████████████████████████████████████▉                                | 559/1009 [55:08:01<35:11:46, 281.57s/it][                                                                        ]   0%\r"
     ]
    },
    {
     "name": "stdout",
     "output_type": "stream",
     "text": [
      "Urnula craterium 559\n"
     ]
    },
    {
     "name": "stderr",
     "output_type": "stream",
     "text": [
      "[========================================================================] 100%\n",
      " 56%|███████████████████████████████████████▉                                | 560/1009 [55:13:19<36:28:17, 292.42s/it][                                                                        ]   0%\r"
     ]
    },
    {
     "name": "stdout",
     "output_type": "stream",
     "text": [
      "Russula queletii 560\n"
     ]
    },
    {
     "name": "stderr",
     "output_type": "stream",
     "text": [
      "[========================================================================] 100%\n",
      " 56%|████████████████████████████████████████                                | 561/1009 [55:17:55<35:46:22, 287.46s/it][                                                                        ]   0%\r"
     ]
    },
    {
     "name": "stdout",
     "output_type": "stream",
     "text": [
      "Coprinellus domesticus 561\n"
     ]
    },
    {
     "name": "stderr",
     "output_type": "stream",
     "text": [
      "[========================================================================] 100%\n",
      " 56%|████████████████████████████████████████                                | 562/1009 [55:23:53<38:19:14, 308.62s/it][                                                                        ]   0%\r"
     ]
    },
    {
     "name": "stdout",
     "output_type": "stream",
     "text": [
      "Gomphidius roseus 562\n"
     ]
    },
    {
     "name": "stderr",
     "output_type": "stream",
     "text": [
      "[========================================================================] 100%\n",
      " 56%|████████████████████████████████████████▏                               | 563/1009 [55:27:56<35:46:40, 288.79s/it][                                                                        ]   0%\r"
     ]
    },
    {
     "name": "stdout",
     "output_type": "stream",
     "text": [
      "Stropharia melanosperma 563\n"
     ]
    },
    {
     "name": "stderr",
     "output_type": "stream",
     "text": [
      "[========================================================================] 100%\n",
      " 56%|████████████████████████████████████████▏                               | 564/1009 [55:32:07<34:18:12, 277.51s/it][                                                                        ]   0%\r"
     ]
    },
    {
     "name": "stdout",
     "output_type": "stream",
     "text": [
      "Hebeloma mesophaeum 564\n"
     ]
    },
    {
     "name": "stderr",
     "output_type": "stream",
     "text": [
      "[========================================================================] 100%\n",
      " 56%|████████████████████████████████████████▎                               | 565/1009 [55:36:44<34:12:50, 277.41s/it][                                                                        ]   0%\r"
     ]
    },
    {
     "name": "stdout",
     "output_type": "stream",
     "text": [
      "Lycoperdon pratense 565\n"
     ]
    },
    {
     "name": "stderr",
     "output_type": "stream",
     "text": [
      "[========================================================================] 100%\n",
      " 56%|████████████████████████████████████████▍                               | 566/1009 [55:41:48<35:07:09, 285.39s/it][                                                                        ]   0%\r"
     ]
    },
    {
     "name": "stdout",
     "output_type": "stream",
     "text": [
      "Fuligo septica 566\n"
     ]
    },
    {
     "name": "stderr",
     "output_type": "stream",
     "text": [
      "[========================================================================] 100%\n",
      " 56%|████████████████████████████████████████▍                               | 567/1009 [55:48:51<40:05:58, 326.60s/it][                                                                        ]   0%\r"
     ]
    },
    {
     "name": "stdout",
     "output_type": "stream",
     "text": [
      "Rhodocollybia maculata 567\n"
     ]
    },
    {
     "name": "stderr",
     "output_type": "stream",
     "text": [
      "[========================================================================] 100%\n",
      " 56%|████████████████████████████████████████▌                               | 568/1009 [55:53:58<39:16:48, 320.65s/it][                                                                        ]   0%\r"
     ]
    },
    {
     "name": "stdout",
     "output_type": "stream",
     "text": [
      "Lactarius fulvissimus 568\n"
     ]
    },
    {
     "name": "stderr",
     "output_type": "stream",
     "text": [
      "[========================================================================] 100%\n",
      " 56%|████████████████████████████████████████▌                               | 569/1009 [55:57:10<34:29:49, 282.25s/it][                                                                        ]   0%\r"
     ]
    },
    {
     "name": "stdout",
     "output_type": "stream",
     "text": [
      "Pluteus pellitus 569\n"
     ]
    },
    {
     "name": "stderr",
     "output_type": "stream",
     "text": [
      "[========================================================================] 100%\n",
      " 56%|████████████████████████████████████████▋                               | 570/1009 [56:01:19<33:10:50, 272.10s/it][                                                                        ]   0%\r"
     ]
    },
    {
     "name": "stdout",
     "output_type": "stream",
     "text": [
      "Serpula lacrymans 570\n"
     ]
    },
    {
     "name": "stderr",
     "output_type": "stream",
     "text": [
      "[========================================================================] 100%\n",
      " 57%|████████████████████████████████████████▋                               | 571/1009 [56:06:15<33:58:52, 279.30s/it][                                                                        ]   0%\r"
     ]
    },
    {
     "name": "stdout",
     "output_type": "stream",
     "text": [
      "Auricularia polytricha 571\n"
     ]
    },
    {
     "name": "stderr",
     "output_type": "stream",
     "text": [
      "[========================================================================] 100%\n",
      " 57%|████████████████████████████████████████▊                               | 572/1009 [56:12:27<37:17:07, 307.16s/it][                                                                        ]   0%\r"
     ]
    },
    {
     "name": "stdout",
     "output_type": "stream",
     "text": [
      "Bjerkandera fumosa 572\n"
     ]
    },
    {
     "name": "stderr",
     "output_type": "stream",
     "text": [
      "[========================================================================] 100%\n",
      " 57%|████████████████████████████████████████▉                               | 573/1009 [56:17:13<36:26:51, 300.94s/it][                                                                        ]   0%\r"
     ]
    },
    {
     "name": "stdout",
     "output_type": "stream",
     "text": [
      "Russula subfoetens 573\n"
     ]
    },
    {
     "name": "stderr",
     "output_type": "stream",
     "text": [
      "[========================================================================] 100%\n",
      " 57%|████████████████████████████████████████▉                               | 574/1009 [56:21:27<34:39:18, 286.80s/it][                                                                        ]   0%\r"
     ]
    },
    {
     "name": "stdout",
     "output_type": "stream",
     "text": [
      "Gyrodon merulioides 574\n"
     ]
    },
    {
     "name": "stderr",
     "output_type": "stream",
     "text": [
      "[========================================================================] 100%\n",
      " 57%|█████████████████████████████████████████                               | 575/1009 [56:27:26<37:10:55, 308.42s/it][                                                                        ]   0%\r"
     ]
    },
    {
     "name": "stdout",
     "output_type": "stream",
     "text": [
      "Gymnopus confluens 575\n"
     ]
    },
    {
     "name": "stderr",
     "output_type": "stream",
     "text": [
      "[========================================================================] 100%\n",
      " 57%|█████████████████████████████████████████                               | 576/1009 [56:31:57<35:45:02, 297.23s/it][                                                                        ]   0%\r"
     ]
    },
    {
     "name": "stdout",
     "output_type": "stream",
     "text": [
      "Laeticutis cristata 576\n"
     ]
    },
    {
     "name": "stderr",
     "output_type": "stream",
     "text": [
      "[========================================================================] 100%\n",
      " 57%|█████████████████████████████████████████▏                              | 577/1009 [56:36:15<34:16:12, 285.58s/it][                                                                        ]   0%\r"
     ]
    },
    {
     "name": "stdout",
     "output_type": "stream",
     "text": [
      "Amanita battarrae 577\n"
     ]
    },
    {
     "name": "stderr",
     "output_type": "stream",
     "text": [
      "[========================================================================] 100%\n",
      " 57%|█████████████████████████████████████████▏                              | 578/1009 [56:40:49<33:44:53, 281.89s/it][                                                                        ]   0%\r"
     ]
    },
    {
     "name": "stdout",
     "output_type": "stream",
     "text": [
      "Gymnopus aquosus 578\n"
     ]
    },
    {
     "name": "stderr",
     "output_type": "stream",
     "text": [
      "[========================================================================] 100%\n",
      " 57%|█████████████████████████████████████████▎                              | 579/1009 [56:45:16<33:09:17, 277.58s/it][                                                                        ]   0%\r"
     ]
    },
    {
     "name": "stdout",
     "output_type": "stream",
     "text": [
      "Crucibulum laeve 579\n"
     ]
    },
    {
     "name": "stderr",
     "output_type": "stream",
     "text": [
      "[========================================================================] 100%\n",
      " 57%|█████████████████████████████████████████▍                              | 580/1009 [56:50:42<34:47:42, 291.99s/it][                                                                        ]   0%\r"
     ]
    },
    {
     "name": "stdout",
     "output_type": "stream",
     "text": [
      "Lactarius pallidus 580\n"
     ]
    },
    {
     "name": "stderr",
     "output_type": "stream",
     "text": [
      "[========================================================================] 100%\n",
      " 58%|█████████████████████████████████████████▍                              | 581/1009 [56:54:48<33:05:37, 278.36s/it][                                                                        ]   0%\r"
     ]
    },
    {
     "name": "stdout",
     "output_type": "stream",
     "text": [
      "Cortinarius armeniacus 581\n"
     ]
    },
    {
     "name": "stderr",
     "output_type": "stream",
     "text": [
      "[========================================================================] 100%\n",
      " 58%|█████████████████████████████████████████▌                              | 582/1009 [56:59:38<33:24:11, 281.62s/it][                                                                        ]   0%\r"
     ]
    },
    {
     "name": "stdout",
     "output_type": "stream",
     "text": [
      "Hypholoma capnoides 582\n"
     ]
    },
    {
     "name": "stderr",
     "output_type": "stream",
     "text": [
      "[========================================================================] 100%\n",
      " 58%|█████████████████████████████████████████▌                              | 583/1009 [57:04:40<34:03:46, 287.86s/it][                                                                        ]   0%\r"
     ]
    },
    {
     "name": "stdout",
     "output_type": "stream",
     "text": [
      "Hygrophorus leucophaeus 583\n"
     ]
    },
    {
     "name": "stderr",
     "output_type": "stream",
     "text": [
      "[========================================================================] 100%\n",
      " 58%|█████████████████████████████████████████▋                              | 584/1009 [57:09:12<33:24:57, 283.05s/it][                                                                        ]   0%\r"
     ]
    },
    {
     "name": "stdout",
     "output_type": "stream",
     "text": [
      "Mycetinis alliaceus 584\n"
     ]
    },
    {
     "name": "stderr",
     "output_type": "stream",
     "text": [
      "[========================================================================] 100%\n",
      " 58%|█████████████████████████████████████████▋                              | 585/1009 [57:13:39<32:46:47, 278.32s/it][                                                                        ]   0%\r"
     ]
    },
    {
     "name": "stdout",
     "output_type": "stream",
     "text": [
      "Phaeolus schweinitzii 585\n"
     ]
    },
    {
     "name": "stderr",
     "output_type": "stream",
     "text": [
      "[========================================================================] 100%\n",
      " 58%|█████████████████████████████████████████▊                              | 586/1009 [57:20:18<36:56:55, 314.46s/it][                                                                        ]   0%\r"
     ]
    },
    {
     "name": "stdout",
     "output_type": "stream",
     "text": [
      "Albatrellus subrubescens 586\n"
     ]
    },
    {
     "name": "stderr",
     "output_type": "stream",
     "text": [
      "[========================================================================] 100%\n",
      " 58%|█████████████████████████████████████████▉                              | 587/1009 [57:24:42<35:04:17, 299.19s/it][                                                                        ]   0%\r"
     ]
    },
    {
     "name": "stdout",
     "output_type": "stream",
     "text": [
      "Mycena inclinata 587\n"
     ]
    },
    {
     "name": "stderr",
     "output_type": "stream",
     "text": [
      "[========================================================================] 100%\n",
      " 58%|█████████████████████████████████████████▉                              | 588/1009 [57:30:15<36:10:29, 309.33s/it][                                                                        ]   0%\r"
     ]
    },
    {
     "name": "stdout",
     "output_type": "stream",
     "text": [
      "Amyloporia sinuosa 588\n"
     ]
    },
    {
     "name": "stderr",
     "output_type": "stream",
     "text": [
      "[========================================================================] 100%\n",
      " 58%|██████████████████████████████████████████                              | 589/1009 [57:34:35<34:22:45, 294.68s/it][                                                                        ]   0%\r"
     ]
    },
    {
     "name": "stdout",
     "output_type": "stream",
     "text": [
      "Xeromphalina campanella 589\n"
     ]
    },
    {
     "name": "stderr",
     "output_type": "stream",
     "text": [
      "[========================================================================] 100%\n",
      " 58%|██████████████████████████████████████████                              | 590/1009 [57:40:38<36:41:18, 315.22s/it][                                                                        ]   0%\r"
     ]
    },
    {
     "name": "stdout",
     "output_type": "stream",
     "text": [
      "Pleurotus calyptratus 590\n"
     ]
    },
    {
     "name": "stderr",
     "output_type": "stream",
     "text": [
      "[========================================================================] 100%\n",
      " 59%|██████████████████████████████████████████▏                             | 591/1009 [57:44:13<33:06:06, 285.09s/it][                                                                        ]   0%\r"
     ]
    },
    {
     "name": "stdout",
     "output_type": "stream",
     "text": [
      "Marasmius prasiosmus 591\n"
     ]
    },
    {
     "name": "stderr",
     "output_type": "stream",
     "text": [
      "[========================================================================] 100%\n",
      " 59%|██████████████████████████████████████████▏                             | 592/1009 [57:48:59<33:03:27, 285.39s/it][                                                                        ]   0%\r"
     ]
    },
    {
     "name": "stdout",
     "output_type": "stream",
     "text": [
      "Turbinellus floccosus 592\n"
     ]
    },
    {
     "name": "stderr",
     "output_type": "stream",
     "text": [
      "[========================================================================] 100%\n",
      " 59%|██████████████████████████████████████████▎                             | 593/1009 [57:55:18<36:12:28, 313.34s/it][                                                                        ]   0%\r"
     ]
    },
    {
     "name": "stdout",
     "output_type": "stream",
     "text": [
      "Hygrocybe punicea 593\n"
     ]
    },
    {
     "name": "stderr",
     "output_type": "stream",
     "text": [
      "[========================================================================] 100%\n",
      " 59%|██████████████████████████████████████████▍                             | 594/1009 [58:00:27<35:58:20, 312.05s/it][                                                                        ]   0%\r"
     ]
    },
    {
     "name": "stdout",
     "output_type": "stream",
     "text": [
      "Pycnoporus cinnabarinus 594\n"
     ]
    },
    {
     "name": "stderr",
     "output_type": "stream",
     "text": [
      "[========================================================================] 100%\n",
      " 59%|██████████████████████████████████████████▍                             | 595/1009 [58:05:31<35:38:13, 309.89s/it][                                                                        ]   0%\r"
     ]
    },
    {
     "name": "stdout",
     "output_type": "stream",
     "text": [
      "Scleroderma verrucosum 595\n"
     ]
    },
    {
     "name": "stderr",
     "output_type": "stream",
     "text": [
      "[========================================================================] 100%\n",
      " 59%|██████████████████████████████████████████▌                             | 596/1009 [58:10:18<34:44:13, 302.79s/it][                                                                        ]   0%\r"
     ]
    },
    {
     "name": "stdout",
     "output_type": "stream",
     "text": [
      "Oudemansiella mucida 596\n"
     ]
    },
    {
     "name": "stderr",
     "output_type": "stream",
     "text": [
      "[========================================================================] 100%\n",
      " 59%|██████████████████████████████████████████▌                             | 597/1009 [58:15:48<35:34:47, 310.89s/it][                                                                        ]   0%\r"
     ]
    },
    {
     "name": "stdout",
     "output_type": "stream",
     "text": [
      "Coprinopsis nivea 597\n"
     ]
    },
    {
     "name": "stderr",
     "output_type": "stream",
     "text": [
      "[========================================================================] 100%\n",
      " 59%|██████████████████████████████████████████▋                             | 598/1009 [58:20:25<34:21:43, 300.98s/it][                                                                        ]   0%\r"
     ]
    },
    {
     "name": "stdout",
     "output_type": "stream",
     "text": [
      "Entoloma conferendum 598\n"
     ]
    },
    {
     "name": "stderr",
     "output_type": "stream",
     "text": [
      "[========================================================================] 100%\n",
      " 59%|██████████████████████████████████████████▋                             | 599/1009 [58:24:41<32:42:44, 287.23s/it][                                                                        ]   0%\r"
     ]
    },
    {
     "name": "stdout",
     "output_type": "stream",
     "text": [
      "Cortinarius cinnamomeus 599\n"
     ]
    },
    {
     "name": "stderr",
     "output_type": "stream",
     "text": [
      "[========================================================================] 100%\n",
      " 59%|██████████████████████████████████████████▊                             | 600/1009 [58:29:20<32:21:48, 284.86s/it][                                                                        ]   0%\r"
     ]
    },
    {
     "name": "stdout",
     "output_type": "stream",
     "text": [
      "Agaricus subperonatus 600\n"
     ]
    },
    {
     "name": "stderr",
     "output_type": "stream",
     "text": [
      "[========================================================================] 100%\n",
      " 60%|██████████████████████████████████████████▉                             | 601/1009 [58:33:59<32:04:24, 283.00s/it][                                                                        ]   0%\r"
     ]
    },
    {
     "name": "stdout",
     "output_type": "stream",
     "text": [
      "Gymnopus ocior 601\n"
     ]
    },
    {
     "name": "stderr",
     "output_type": "stream",
     "text": [
      "[========================================================================] 100%\n",
      " 60%|██████████████████████████████████████████▉                             | 602/1009 [58:38:23<31:21:02, 277.30s/it][                                                                        ]   0%\r"
     ]
    },
    {
     "name": "stdout",
     "output_type": "stream",
     "text": [
      "Tricholoma umbonatum 602\n"
     ]
    },
    {
     "name": "stderr",
     "output_type": "stream",
     "text": [
      "[========================================================================] 100%\n",
      " 60%|███████████████████████████████████████████                             | 603/1009 [58:43:08<31:32:27, 279.67s/it][                                                                        ]   0%\r"
     ]
    },
    {
     "name": "stdout",
     "output_type": "stream",
     "text": [
      "Nectria cinnabarina 603\n"
     ]
    },
    {
     "name": "stderr",
     "output_type": "stream",
     "text": [
      "[========================================================================] 100%\n",
      " 60%|███████████████████████████████████████████                             | 604/1009 [58:50:04<36:04:53, 320.72s/it][                                                                        ]   0%\r"
     ]
    },
    {
     "name": "stdout",
     "output_type": "stream",
     "text": [
      "Cuphophyllus virgineus 604\n"
     ]
    },
    {
     "name": "stderr",
     "output_type": "stream",
     "text": [
      "[========================================================================] 100%\n",
      " 60%|███████████████████████████████████████████▏                            | 605/1009 [58:57:10<39:32:41, 352.38s/it][                                                                        ]   0%\r"
     ]
    },
    {
     "name": "stdout",
     "output_type": "stream",
     "text": [
      "Mycena strobilicola 605\n"
     ]
    },
    {
     "name": "stderr",
     "output_type": "stream",
     "text": [
      "[========================================================================] 100%\n",
      " 60%|███████████████████████████████████████████▏                            | 606/1009 [59:01:16<35:51:19, 320.30s/it][                                                                        ]   0%\r"
     ]
    },
    {
     "name": "stdout",
     "output_type": "stream",
     "text": [
      "Pluteus salicinus 606\n"
     ]
    },
    {
     "name": "stderr",
     "output_type": "stream",
     "text": [
      "[========================================================================] 100%\n",
      " 60%|███████████████████████████████████████████▎                            | 607/1009 [59:05:45<34:03:20, 304.98s/it][                                                                        ]   0%\r"
     ]
    },
    {
     "name": "stdout",
     "output_type": "stream",
     "text": [
      "Entoloma sericeum 607\n"
     ]
    },
    {
     "name": "stderr",
     "output_type": "stream",
     "text": [
      "[========================================================================] 100%\n",
      " 60%|███████████████████████████████████████████▍                            | 608/1009 [59:11:03<34:23:41, 308.78s/it][                                                                        ]   0%\r"
     ]
    },
    {
     "name": "stdout",
     "output_type": "stream",
     "text": [
      "Conocybe juniana 608\n"
     ]
    },
    {
     "name": "stderr",
     "output_type": "stream",
     "text": [
      "[========================================================================] 100%\n",
      " 60%|███████████████████████████████████████████▍                            | 609/1009 [59:14:36<31:06:41, 280.00s/it][                                                                        ]   0%\r"
     ]
    },
    {
     "name": "stdout",
     "output_type": "stream",
     "text": [
      "Battarrea phalloides 609\n"
     ]
    },
    {
     "name": "stderr",
     "output_type": "stream",
     "text": [
      "[========================================================================] 100%\n",
      " 60%|███████████████████████████████████████████▌                            | 610/1009 [59:19:51<32:12:30, 290.60s/it][                                                                        ]   0%\r"
     ]
    },
    {
     "name": "stdout",
     "output_type": "stream",
     "text": [
      "Tuber brumale 610\n"
     ]
    },
    {
     "name": "stderr",
     "output_type": "stream",
     "text": [
      "[========================================================================] 100%\n",
      " 61%|███████████████████████████████████████████▌                            | 611/1009 [59:24:16<31:16:42, 282.92s/it][                                                                        ]   0%\r"
     ]
    },
    {
     "name": "stdout",
     "output_type": "stream",
     "text": [
      "Galerina vittiformis 611\n"
     ]
    },
    {
     "name": "stderr",
     "output_type": "stream",
     "text": [
      "[========================================================================] 100%\n",
      " 61%|███████████████████████████████████████████▋                            | 612/1009 [59:29:53<32:59:57, 299.24s/it][                                                                        ]   0%\r"
     ]
    },
    {
     "name": "stdout",
     "output_type": "stream",
     "text": [
      "Lycoperdon nigrescens 612\n"
     ]
    },
    {
     "name": "stderr",
     "output_type": "stream",
     "text": [
      "[========================================================================] 100%\n",
      " 61%|███████████████████████████████████████████▋                            | 613/1009 [59:34:47<32:44:34, 297.66s/it][                                                                        ]   0%\r"
     ]
    },
    {
     "name": "stdout",
     "output_type": "stream",
     "text": [
      "Tremella encephala 613\n"
     ]
    },
    {
     "name": "stderr",
     "output_type": "stream",
     "text": [
      "[========================================================================] 100%\n",
      " 61%|███████████████████████████████████████████▊                            | 614/1009 [59:39:25<32:01:09, 291.82s/it][                                                                        ]   0%\r"
     ]
    },
    {
     "name": "stdout",
     "output_type": "stream",
     "text": [
      "Chroogomphus helveticus 614\n"
     ]
    },
    {
     "name": "stderr",
     "output_type": "stream",
     "text": [
      "[========================================================================] 100%\n",
      " 61%|███████████████████████████████████████████▉                            | 615/1009 [59:44:42<32:45:34, 299.33s/it][                                                                        ]   0%\r"
     ]
    },
    {
     "name": "stdout",
     "output_type": "stream",
     "text": [
      "Cortinarius pavonius 615\n"
     ]
    },
    {
     "name": "stderr",
     "output_type": "stream",
     "text": [
      "[========================================================================] 100%\n",
      " 61%|███████████████████████████████████████████▉                            | 616/1009 [59:48:25<30:10:55, 276.48s/it][                                                                        ]   0%\r"
     ]
    },
    {
     "name": "stdout",
     "output_type": "stream",
     "text": [
      "Cortinarius nemorensis 616\n"
     ]
    },
    {
     "name": "stderr",
     "output_type": "stream",
     "text": [
      "[========================================================================] 100%\n",
      " 61%|████████████████████████████████████████████                            | 617/1009 [59:52:51<29:44:45, 273.18s/it][                                                                        ]   0%\r"
     ]
    },
    {
     "name": "stdout",
     "output_type": "stream",
     "text": [
      "Floccularia rickenii 617\n"
     ]
    },
    {
     "name": "stderr",
     "output_type": "stream",
     "text": [
      "[========================================================================] 100%\n",
      " 61%|████████████████████████████████████████████                            | 618/1009 [59:56:13<27:21:30, 251.89s/it][                                                                        ]   0%\r"
     ]
    },
    {
     "name": "stdout",
     "output_type": "stream",
     "text": [
      "Conocybe lactea 618\n"
     ]
    },
    {
     "name": "stderr",
     "output_type": "stream",
     "text": [
      "[========================================================================] 100%\n",
      " 61%|████████████████████████████████████████████▏                           | 619/1009 [60:01:00<28:25:19, 262.36s/it][                                                                        ]   0%\r"
     ]
    },
    {
     "name": "stdout",
     "output_type": "stream",
     "text": [
      "Tricholoma triste 619\n"
     ]
    },
    {
     "name": "stderr",
     "output_type": "stream",
     "text": [
      "[========================================================================] 100%\n",
      " 61%|████████████████████████████████████████████▏                           | 620/1009 [60:05:23<28:22:46, 262.64s/it][                                                                        ]   0%\r"
     ]
    },
    {
     "name": "stdout",
     "output_type": "stream",
     "text": [
      "Xerula pudens 620\n"
     ]
    },
    {
     "name": "stderr",
     "output_type": "stream",
     "text": [
      "[========================================================================] 100%\n",
      " 62%|████████████████████████████████████████████▎                           | 621/1009 [60:09:31<27:49:15, 258.13s/it][                                                                        ]   0%\r"
     ]
    },
    {
     "name": "stdout",
     "output_type": "stream",
     "text": [
      "Hygrophorus chrysodon 621\n"
     ]
    },
    {
     "name": "stderr",
     "output_type": "stream",
     "text": [
      "[========================================================================] 100%\n",
      " 62%|████████████████████████████████████████████▍                           | 622/1009 [60:13:50<27:47:44, 258.56s/it][                                                                        ]   0%\r"
     ]
    },
    {
     "name": "stdout",
     "output_type": "stream",
     "text": [
      "Cortinarius anomalus 622\n"
     ]
    },
    {
     "name": "stderr",
     "output_type": "stream",
     "text": [
      "[========================================================================] 100%\n",
      " 62%|████████████████████████████████████████████▍                           | 623/1009 [60:18:42<28:46:45, 268.41s/it][                                                                        ]   0%\r"
     ]
    },
    {
     "name": "stdout",
     "output_type": "stream",
     "text": [
      "Lycoperdon flavotinctum 623\n"
     ]
    },
    {
     "name": "stderr",
     "output_type": "stream",
     "text": [
      "[========================================================================] 100%\n",
      " 62%|████████████████████████████████████████████▌                           | 624/1009 [60:22:59<28:20:41, 265.04s/it][                                                                        ]   0%\r"
     ]
    },
    {
     "name": "stdout",
     "output_type": "stream",
     "text": [
      "Lycoperdon mammiforme 624\n"
     ]
    },
    {
     "name": "stderr",
     "output_type": "stream",
     "text": [
      "[========================================================================] 100%\n",
      " 62%|████████████████████████████████████████████▌                           | 625/1009 [60:26:29<26:30:44, 248.55s/it][                                                                        ]   0%\r"
     ]
    },
    {
     "name": "stdout",
     "output_type": "stream",
     "text": [
      "Clavariadelphus truncatus 625\n"
     ]
    },
    {
     "name": "stderr",
     "output_type": "stream",
     "text": [
      "[========================================================================] 100%\n",
      " 62%|████████████████████████████████████████████▋                           | 626/1009 [60:32:19<29:40:19, 278.90s/it][                                                                        ]   0%\r"
     ]
    },
    {
     "name": "stdout",
     "output_type": "stream",
     "text": [
      "Entoloma lividoalbum 626\n"
     ]
    },
    {
     "name": "stderr",
     "output_type": "stream",
     "text": [
      "[========================================================================] 100%\n",
      " 62%|████████████████████████████████████████████▋                           | 627/1009 [60:37:05<29:49:17, 281.04s/it][                                                                        ]   0%\r"
     ]
    },
    {
     "name": "stdout",
     "output_type": "stream",
     "text": [
      "Lactarius uvidus 627\n"
     ]
    },
    {
     "name": "stderr",
     "output_type": "stream",
     "text": [
      "[========================================================================] 100%\n",
      " 62%|████████████████████████████████████████████▊                           | 628/1009 [60:42:03<30:16:58, 286.14s/it][                                                                        ]   0%\r"
     ]
    },
    {
     "name": "stdout",
     "output_type": "stream",
     "text": [
      "Phellodon connatus 628\n"
     ]
    },
    {
     "name": "stderr",
     "output_type": "stream",
     "text": [
      "[========================================================================] 100%\n",
      " 62%|████████████████████████████████████████████▉                           | 629/1009 [60:46:12<29:01:57, 275.05s/it][                                                                        ]   0%\r"
     ]
    },
    {
     "name": "stdout",
     "output_type": "stream",
     "text": [
      "Crepidotus mollis 629\n"
     ]
    },
    {
     "name": "stderr",
     "output_type": "stream",
     "text": [
      "[========================================================================] 100%\n",
      " 62%|████████████████████████████████████████████▉                           | 630/1009 [60:51:04<29:28:37, 279.99s/it][                                                                        ]   0%\r"
     ]
    },
    {
     "name": "stdout",
     "output_type": "stream",
     "text": [
      "Ganoderma australe 630\n"
     ]
    },
    {
     "name": "stderr",
     "output_type": "stream",
     "text": [
      "[========================================================================] 100%\n",
      " 63%|█████████████████████████████████████████████                           | 631/1009 [60:58:02<33:45:55, 321.57s/it][                                                                        ]   0%\r"
     ]
    },
    {
     "name": "stdout",
     "output_type": "stream",
     "text": [
      "Albatrellus tianschanicus 631\n"
     ]
    },
    {
     "name": "stderr",
     "output_type": "stream",
     "text": [
      "[========================================================================] 100%\n",
      " 63%|█████████████████████████████████████████████                           | 632/1009 [61:02:11<31:22:30, 299.60s/it][                                                                        ]   0%\r"
     ]
    },
    {
     "name": "stdout",
     "output_type": "stream",
     "text": [
      "Pseudoinonotus dryadeus 632\n"
     ]
    },
    {
     "name": "stderr",
     "output_type": "stream",
     "text": [
      "[========================================================================] 100%\n",
      " 63%|█████████████████████████████████████████████▏                          | 633/1009 [61:08:35<33:57:02, 325.06s/it][                                                                        ]   0%\r"
     ]
    },
    {
     "name": "stdout",
     "output_type": "stream",
     "text": [
      "Peziza vesiculosa 633\n"
     ]
    },
    {
     "name": "stderr",
     "output_type": "stream",
     "text": [
      "[========================================================================] 100%\n",
      " 63%|█████████████████████████████████████████████▏                          | 634/1009 [61:13:33<33:00:47, 316.93s/it][                                                                        ]   0%\r"
     ]
    },
    {
     "name": "stdout",
     "output_type": "stream",
     "text": [
      "Clavariadelphus fistulosus 634\n"
     ]
    },
    {
     "name": "stderr",
     "output_type": "stream",
     "text": [
      "[========================================================================] 100%\n",
      " 63%|█████████████████████████████████████████████▎                          | 635/1009 [61:17:41<30:46:24, 296.21s/it][                                                                        ]   0%\r"
     ]
    },
    {
     "name": "stdout",
     "output_type": "stream",
     "text": [
      "Lentinellus vulpinus 635\n"
     ]
    },
    {
     "name": "stderr",
     "output_type": "stream",
     "text": [
      "[========================================================================] 100%\n",
      " 63%|█████████████████████████████████████████████▍                          | 636/1009 [61:22:37<30:40:40, 296.09s/it][                                                                        ]   0%\r"
     ]
    },
    {
     "name": "stdout",
     "output_type": "stream",
     "text": [
      "Terfezia leonis 636\n"
     ]
    },
    {
     "name": "stderr",
     "output_type": "stream",
     "text": [
      "[========================================================================] 100%\n",
      " 63%|█████████████████████████████████████████████▍                          | 637/1009 [61:27:27<30:24:37, 294.30s/it][                                                                        ]   0%\r"
     ]
    },
    {
     "name": "stdout",
     "output_type": "stream",
     "text": [
      "Cortinarius camphoratus 637\n"
     ]
    },
    {
     "name": "stderr",
     "output_type": "stream",
     "text": [
      "[========================================================================] 100%\n",
      " 63%|█████████████████████████████████████████████▌                          | 638/1009 [61:31:55<29:30:58, 286.41s/it][                                                                        ]   0%\r"
     ]
    },
    {
     "name": "stdout",
     "output_type": "stream",
     "text": [
      "Helvella spadicea 638\n"
     ]
    },
    {
     "name": "stderr",
     "output_type": "stream",
     "text": [
      "[========================================================================] 100%\n",
      " 63%|█████████████████████████████████████████████▌                          | 639/1009 [61:36:31<29:07:31, 283.38s/it][                                                                        ]   0%\r"
     ]
    },
    {
     "name": "stdout",
     "output_type": "stream",
     "text": [
      "Daedaleopsis confragosa 639\n"
     ]
    },
    {
     "name": "stderr",
     "output_type": "stream",
     "text": [
      "[========================================================================] 100%\n",
      " 63%|█████████████████████████████████████████████▋                          | 640/1009 [61:42:01<30:28:41, 297.35s/it][                                                                        ]   0%\r"
     ]
    },
    {
     "name": "stdout",
     "output_type": "stream",
     "text": [
      "Tuber borchii 640\n"
     ]
    },
    {
     "name": "stderr",
     "output_type": "stream",
     "text": [
      "[========================================================================] 100%\n",
      " 64%|█████████████████████████████████████████████▋                          | 641/1009 [61:46:38<29:46:16, 291.24s/it][                                                                        ]   0%\r"
     ]
    },
    {
     "name": "stdout",
     "output_type": "stream",
     "text": [
      "Phylloporus pelletieri 641\n"
     ]
    },
    {
     "name": "stderr",
     "output_type": "stream",
     "text": [
      "[========================================================================] 100%\n",
      " 64%|█████████████████████████████████████████████▊                          | 642/1009 [61:50:36<28:04:30, 275.40s/it][                                                                        ]   0%\r"
     ]
    },
    {
     "name": "stdout",
     "output_type": "stream",
     "text": [
      "Galerina sphagnorum 642\n"
     ]
    },
    {
     "name": "stderr",
     "output_type": "stream",
     "text": [
      "[========================================================================] 100%\n",
      " 64%|█████████████████████████████████████████████▉                          | 643/1009 [61:55:05<27:47:30, 273.36s/it][                                                                        ]   0%\r"
     ]
    },
    {
     "name": "stdout",
     "output_type": "stream",
     "text": [
      "Inocybe rimosa 643\n"
     ]
    },
    {
     "name": "stderr",
     "output_type": "stream",
     "text": [
      "[========================================================================] 100%\n",
      " 64%|█████████████████████████████████████████████▉                          | 644/1009 [61:59:52<28:08:10, 277.51s/it][                                                                        ]   0%\r"
     ]
    },
    {
     "name": "stdout",
     "output_type": "stream",
     "text": [
      "Strobilurus tenacellus 644\n"
     ]
    },
    {
     "name": "stderr",
     "output_type": "stream",
     "text": [
      "[========================================================================] 100%\n",
      " 64%|██████████████████████████████████████████████                          | 645/1009 [62:04:47<28:35:56, 282.85s/it][                                                                        ]   0%\r"
     ]
    },
    {
     "name": "stdout",
     "output_type": "stream",
     "text": [
      "Trametes pubescens 645\n"
     ]
    },
    {
     "name": "stderr",
     "output_type": "stream",
     "text": [
      "[========================================================================] 100%\n",
      " 64%|██████████████████████████████████████████████                          | 646/1009 [62:09:48<29:03:39, 288.21s/it][                                                                        ]   0%\r"
     ]
    },
    {
     "name": "stdout",
     "output_type": "stream",
     "text": [
      "Coprinopsis lagopus 646\n"
     ]
    },
    {
     "name": "stderr",
     "output_type": "stream",
     "text": [
      "[========================================================================] 100%\n",
      " 64%|██████████████████████████████████████████████▏                         | 647/1009 [62:15:57<31:24:53, 312.41s/it][                                                                        ]   0%\r"
     ]
    },
    {
     "name": "stdout",
     "output_type": "stream",
     "text": [
      "Hygrophorus poetarum 647\n"
     ]
    },
    {
     "name": "stderr",
     "output_type": "stream",
     "text": [
      "[========================================================================] 100%\n",
      " 64%|██████████████████████████████████████████████▏                         | 648/1009 [62:19:45<28:46:14, 286.91s/it][                                                                        ]   0%\r"
     ]
    },
    {
     "name": "stdout",
     "output_type": "stream",
     "text": [
      "Hydnellum concrescens 648\n"
     ]
    },
    {
     "name": "stderr",
     "output_type": "stream",
     "text": [
      "[========================================================================] 100%\n",
      " 64%|██████████████████████████████████████████████▎                         | 649/1009 [62:24:32<28:42:59, 287.16s/it][                                                                        ]   0%\r"
     ]
    },
    {
     "name": "stdout",
     "output_type": "stream",
     "text": [
      "Leccinum albostipitatum 649\n"
     ]
    },
    {
     "name": "stderr",
     "output_type": "stream",
     "text": [
      "[========================================================================] 100%\n",
      " 64%|██████████████████████████████████████████████▍                         | 650/1009 [62:29:05<28:11:32, 282.71s/it][                                                                        ]   0%\r"
     ]
    },
    {
     "name": "stdout",
     "output_type": "stream",
     "text": [
      "Tubifera ferruginosa 650\n"
     ]
    },
    {
     "name": "stderr",
     "output_type": "stream",
     "text": [
      "[========================================================================] 100%\n",
      " 65%|██████████████████████████████████████████████▍                         | 651/1009 [62:36:10<32:23:08, 325.67s/it][                                                                        ]   0%\r"
     ]
    },
    {
     "name": "stdout",
     "output_type": "stream",
     "text": [
      "Clitocybe catinus 651\n"
     ]
    },
    {
     "name": "stderr",
     "output_type": "stream",
     "text": [
      "[========================================================================] 100%\n",
      " 65%|██████████████████████████████████████████████▌                         | 652/1009 [62:40:41<30:38:55, 309.06s/it][                                                                        ]   0%\r"
     ]
    },
    {
     "name": "stdout",
     "output_type": "stream",
     "text": [
      "Exidiopsis effusa 652\n"
     ]
    },
    {
     "name": "stderr",
     "output_type": "stream",
     "text": [
      "[========================================================================] 100%\n",
      " 65%|██████████████████████████████████████████████▌                         | 653/1009 [62:45:31<30:00:00, 303.37s/it][                                                                        ]   0%\r"
     ]
    },
    {
     "name": "stdout",
     "output_type": "stream",
     "text": [
      "Daedalea quercina 653\n"
     ]
    },
    {
     "name": "stderr",
     "output_type": "stream",
     "text": [
      "[========================================================================] 100%\n",
      " 65%|██████████████████████████████████████████████▋                         | 654/1009 [62:51:07<30:52:53, 313.16s/it][                                                                        ]   0%\r"
     ]
    },
    {
     "name": "stdout",
     "output_type": "stream",
     "text": [
      "Trichoderma sulphureum 654\n"
     ]
    },
    {
     "name": "stderr",
     "output_type": "stream",
     "text": [
      "[========================================================================] 100%\n",
      " 65%|██████████████████████████████████████████████▋                         | 655/1009 [62:56:21<30:48:49, 313.36s/it][                                                                        ]   0%\r"
     ]
    },
    {
     "name": "stdout",
     "output_type": "stream",
     "text": [
      "Entoloma cetratum 655\n"
     ]
    },
    {
     "name": "stderr",
     "output_type": "stream",
     "text": [
      "[========================================================================] 100%\n",
      " 65%|██████████████████████████████████████████████▊                         | 656/1009 [63:00:37<29:03:26, 296.34s/it][                                                                        ]   0%\r"
     ]
    },
    {
     "name": "stdout",
     "output_type": "stream",
     "text": [
      "Cystoderma carcharias 656\n"
     ]
    },
    {
     "name": "stderr",
     "output_type": "stream",
     "text": [
      "[========================================================================] 100%\n",
      " 65%|██████████████████████████████████████████████▉                         | 657/1009 [63:05:02<28:03:36, 286.98s/it][                                                                        ]   0%\r"
     ]
    },
    {
     "name": "stdout",
     "output_type": "stream",
     "text": [
      "Gliophorus psittacinus 657\n"
     ]
    },
    {
     "name": "stderr",
     "output_type": "stream",
     "text": [
      "[========================================================================] 100%\n",
      " 65%|██████████████████████████████████████████████▉                         | 658/1009 [63:10:56<29:55:53, 306.99s/it][                                                                        ]   0%\r"
     ]
    },
    {
     "name": "stdout",
     "output_type": "stream",
     "text": [
      "Picipes melanopus 658\n"
     ]
    },
    {
     "name": "stderr",
     "output_type": "stream",
     "text": [
      "[========================================================================] 100%\n",
      " 65%|███████████████████████████████████████████████                         | 659/1009 [63:15:37<29:04:17, 299.02s/it][                                                                        ]   0%\r"
     ]
    },
    {
     "name": "stdout",
     "output_type": "stream",
     "text": [
      "Geastrum triplex 659\n"
     ]
    },
    {
     "name": "stderr",
     "output_type": "stream",
     "text": [
      "[========================================================================] 100%\n",
      " 65%|███████████████████████████████████████████████                         | 660/1009 [63:21:20<30:17:15, 312.42s/it][                                                                        ]   0%\r"
     ]
    },
    {
     "name": "stdout",
     "output_type": "stream",
     "text": [
      "Ascocoryne cylichnium 660\n"
     ]
    },
    {
     "name": "stderr",
     "output_type": "stream",
     "text": [
      "[========================================================================] 100%\n",
      " 66%|███████████████████████████████████████████████▏                        | 661/1009 [63:25:51<28:58:55, 299.82s/it][                                                                        ]   0%\r"
     ]
    },
    {
     "name": "stdout",
     "output_type": "stream",
     "text": [
      "Cyathus stercoreus 661\n"
     ]
    },
    {
     "name": "stderr",
     "output_type": "stream",
     "text": [
      "[========================================================================] 100%\n",
      " 66%|███████████████████████████████████████████████▏                        | 662/1009 [63:34:35<35:24:07, 367.28s/it][                                                                        ]   0%\r"
     ]
    },
    {
     "name": "stdout",
     "output_type": "stream",
     "text": [
      "Cyathus striatus 662\n"
     ]
    },
    {
     "name": "stderr",
     "output_type": "stream",
     "text": [
      "[========================================================================] 100%\n",
      " 66%|███████████████████████████████████████████████▎                        | 663/1009 [63:46:21<45:02:42, 468.68s/it][                                                                        ]   0%\r"
     ]
    },
    {
     "name": "stdout",
     "output_type": "stream",
     "text": [
      "Lactarius serifluus 663\n"
     ]
    },
    {
     "name": "stderr",
     "output_type": "stream",
     "text": [
      "[========================================================================] 100%\n",
      " 66%|███████████████████████████████████████████████▍                        | 664/1009 [63:54:02<44:41:57, 466.43s/it][                                                                        ]   0%\r"
     ]
    },
    {
     "name": "stdout",
     "output_type": "stream",
     "text": [
      "Stemonitis axifera 664\n"
     ]
    },
    {
     "name": "stderr",
     "output_type": "stream",
     "text": [
      "[========================================================================] 100%\n",
      " 66%|███████████████████████████████████████████████▍                        | 665/1009 [64:02:20<45:28:05, 475.83s/it][                                                                        ]   0%\r"
     ]
    },
    {
     "name": "stdout",
     "output_type": "stream",
     "text": [
      "Spathularia flavida 665\n"
     ]
    },
    {
     "name": "stderr",
     "output_type": "stream",
     "text": [
      "[========================================================================] 100%\n",
      " 66%|███████████████████████████████████████████████▌                        | 666/1009 [64:10:59<46:35:25, 489.00s/it][                                                                        ]   0%\r"
     ]
    },
    {
     "name": "stdout",
     "output_type": "stream",
     "text": [
      "Hypholoma polytrichi 666\n"
     ]
    },
    {
     "name": "stderr",
     "output_type": "stream",
     "text": [
      "[========================================================================] 100%\n",
      " 66%|███████████████████████████████████████████████▌                        | 667/1009 [64:17:35<43:47:49, 461.02s/it][                                                                        ]   0%\r"
     ]
    },
    {
     "name": "stdout",
     "output_type": "stream",
     "text": [
      "Clavulina rugosa 667\n"
     ]
    },
    {
     "name": "stderr",
     "output_type": "stream",
     "text": [
      "[========================================================================] 100%\n",
      " 66%|███████████████████████████████████████████████▋                        | 668/1009 [64:28:08<48:33:24, 512.62s/it][                                                                        ]   0%\r"
     ]
    },
    {
     "name": "stdout",
     "output_type": "stream",
     "text": [
      "Mycena epipterygia 668\n"
     ]
    },
    {
     "name": "stderr",
     "output_type": "stream",
     "text": [
      "[========================================================================] 100%\n",
      " 66%|███████████████████████████████████████████████▋                        | 669/1009 [64:38:38<51:44:58, 547.94s/it][                                                                        ]   0%\r"
     ]
    },
    {
     "name": "stdout",
     "output_type": "stream",
     "text": [
      "Albatrellus caeruleoporus 669\n"
     ]
    },
    {
     "name": "stderr",
     "output_type": "stream",
     "text": [
      "[========================================================================] 100%\n",
      " 66%|███████████████████████████████████████████████▊                        | 670/1009 [64:48:03<52:03:21, 552.81s/it][                                                                        ]   0%\r"
     ]
    },
    {
     "name": "stdout",
     "output_type": "stream",
     "text": [
      "Panellus mitis 670\n"
     ]
    },
    {
     "name": "stderr",
     "output_type": "stream",
     "text": [
      "[========================================================================] 100%\n",
      " 67%|███████████████████████████████████████████████▉                        | 671/1009 [64:55:09<48:20:02, 514.80s/it][                                                                        ]   0%\r"
     ]
    },
    {
     "name": "stdout",
     "output_type": "stream",
     "text": [
      "Ischnoderma resinosum 671\n"
     ]
    },
    {
     "name": "stderr",
     "output_type": "stream",
     "text": [
      "[========================================================================] 100%\n",
      " 67%|███████████████████████████████████████████████▉                        | 672/1009 [65:04:36<49:39:54, 530.55s/it][                                                                        ]   0%\r"
     ]
    },
    {
     "name": "stdout",
     "output_type": "stream",
     "text": [
      "Hygrophorus pudorinus 672\n"
     ]
    },
    {
     "name": "stderr",
     "output_type": "stream",
     "text": [
      "[========================================================================] 100%\n",
      " 67%|████████████████████████████████████████████████                        | 673/1009 [65:11:32<46:19:17, 496.30s/it][                                                                        ]   0%\r"
     ]
    },
    {
     "name": "stdout",
     "output_type": "stream",
     "text": [
      "Clitocybe pruinosa 673\n"
     ]
    },
    {
     "name": "stderr",
     "output_type": "stream",
     "text": [
      "[========================================================================] 100%\n",
      " 67%|████████████████████████████████████████████████                        | 674/1009 [65:18:55<44:41:00, 480.18s/it][                                                                        ]   0%\r"
     ]
    },
    {
     "name": "stdout",
     "output_type": "stream",
     "text": [
      "Amanita flavescens 674\n"
     ]
    },
    {
     "name": "stderr",
     "output_type": "stream",
     "text": [
      "[========================================================================] 100%\n",
      " 67%|████████████████████████████████████████████████▏                       | 675/1009 [65:25:06<41:30:40, 447.43s/it][                                                                        ]   0%\r"
     ]
    },
    {
     "name": "stdout",
     "output_type": "stream",
     "text": [
      "Thelephora caryophyllea 675\n"
     ]
    },
    {
     "name": "stderr",
     "output_type": "stream",
     "text": [
      "[========================================================================] 100%\n",
      " 67%|████████████████████████████████████████████████▏                       | 676/1009 [65:31:36<39:47:29, 430.18s/it][                                                                        ]   0%\r"
     ]
    },
    {
     "name": "stdout",
     "output_type": "stream",
     "text": [
      "Sarcodon fennicus 676\n"
     ]
    },
    {
     "name": "stderr",
     "output_type": "stream",
     "text": [
      "[========================================================================] 100%\n",
      " 67%|████████████████████████████████████████████████▎                       | 677/1009 [65:38:27<39:08:35, 424.44s/it][                                                                        ]   0%\r"
     ]
    },
    {
     "name": "stdout",
     "output_type": "stream",
     "text": [
      "Mycena vulgaris 677\n"
     ]
    },
    {
     "name": "stderr",
     "output_type": "stream",
     "text": [
      "[========================================================================] 100%\n",
      " 67%|████████████████████████████████████████████████▍                       | 678/1009 [65:45:33<39:03:38, 424.83s/it][                                                                        ]   0%\r"
     ]
    },
    {
     "name": "stdout",
     "output_type": "stream",
     "text": [
      "Pluteus leoninus 678\n"
     ]
    },
    {
     "name": "stderr",
     "output_type": "stream",
     "text": [
      "[========================================================================] 100%\n",
      " 67%|████████████████████████████████████████████████▍                       | 679/1009 [65:54:16<41:38:59, 454.36s/it][                                                                        ]   0%\r"
     ]
    },
    {
     "name": "stdout",
     "output_type": "stream",
     "text": [
      "Ganoderma resinaceum 679\n"
     ]
    },
    {
     "name": "stderr",
     "output_type": "stream",
     "text": [
      "[========================================================================] 100%\n",
      " 67%|████████████████████████████████████████████████▌                       | 680/1009 [66:03:41<44:33:10, 487.51s/it][                                                                        ]   0%\r"
     ]
    },
    {
     "name": "stdout",
     "output_type": "stream",
     "text": [
      "Marasmius wynnei 680\n"
     ]
    },
    {
     "name": "stderr",
     "output_type": "stream",
     "text": [
      "[========================================================================] 100%\n",
      " 67%|████████████████████████████████████████████████▌                       | 681/1009 [66:11:18<43:34:59, 478.35s/it][                                                                        ]   0%\r"
     ]
    },
    {
     "name": "stdout",
     "output_type": "stream",
     "text": [
      "Bulgaria inquinans 681\n"
     ]
    },
    {
     "name": "stderr",
     "output_type": "stream",
     "text": [
      "[========================================================================] 100%\n",
      " 68%|████████████████████████████████████████████████▋                       | 682/1009 [66:20:44<45:51:07, 504.79s/it][                                                                        ]   0%\r"
     ]
    },
    {
     "name": "stdout",
     "output_type": "stream",
     "text": [
      "Gymnopilus liquiritiae 682\n"
     ]
    },
    {
     "name": "stderr",
     "output_type": "stream",
     "text": [
      "[========================================================================] 100%\n",
      " 68%|████████████████████████████████████████████████▋                       | 683/1009 [66:29:36<46:26:34, 512.87s/it][                                                                        ]   0%\r"
     ]
    },
    {
     "name": "stdout",
     "output_type": "stream",
     "text": [
      "Amanita caesareoides 683\n"
     ]
    },
    {
     "name": "stderr",
     "output_type": "stream",
     "text": [
      "[========================================================================] 100%\n",
      " 68%|████████████████████████████████████████████████▊                       | 684/1009 [66:37:42<45:34:48, 504.89s/it][                                                                        ]   0%\r"
     ]
    },
    {
     "name": "stdout",
     "output_type": "stream",
     "text": [
      "Geastrum quadrifidum 684\n"
     ]
    },
    {
     "name": "stderr",
     "output_type": "stream",
     "text": [
      "[========================================================================] 100%\n",
      " 68%|████████████████████████████████████████████████▉                       | 685/1009 [66:44:45<43:12:38, 480.12s/it][                                                                        ]   0%\r"
     ]
    },
    {
     "name": "stdout",
     "output_type": "stream",
     "text": [
      "Buglossoporus quercinus 685\n"
     ]
    },
    {
     "name": "stderr",
     "output_type": "stream",
     "text": [
      "[========================================================================] 100%\n",
      " 68%|████████████████████████████████████████████████▉                       | 686/1009 [66:57:41<51:03:15, 569.02s/it][                                                                        ]   0%\r"
     ]
    },
    {
     "name": "stdout",
     "output_type": "stream",
     "text": [
      "Cyathus olla 686\n"
     ]
    },
    {
     "name": "stderr",
     "output_type": "stream",
     "text": [
      "[========================================================================] 100%\n",
      " 68%|█████████████████████████████████████████████████                       | 687/1009 [67:07:34<51:32:00, 576.15s/it][                                                                        ]   0%\r"
     ]
    },
    {
     "name": "stdout",
     "output_type": "stream",
     "text": [
      "Panellus stipticus 687\n"
     ]
    },
    {
     "name": "stderr",
     "output_type": "stream",
     "text": [
      "[========================================================================] 100%\n",
      " 68%|█████████████████████████████████████████████████                       | 688/1009 [67:15:52<49:17:57, 552.89s/it][                                                                        ]   0%\r"
     ]
    },
    {
     "name": "stdout",
     "output_type": "stream",
     "text": [
      "Tuber indicum 688\n"
     ]
    },
    {
     "name": "stderr",
     "output_type": "stream",
     "text": [
      "[========================================================================] 100%\n",
      " 68%|█████████████████████████████████████████████████▏                      | 689/1009 [67:20:56<42:29:15, 477.99s/it][                                                                        ]   0%\r"
     ]
    },
    {
     "name": "stdout",
     "output_type": "stream",
     "text": [
      "Marasmius foetidus 689\n"
     ]
    },
    {
     "name": "stderr",
     "output_type": "stream",
     "text": [
      "[========================================================================] 100%\n",
      " 68%|█████████████████████████████████████████████████▏                      | 690/1009 [67:27:37<40:18:24, 454.87s/it][                                                                        ]   0%\r"
     ]
    },
    {
     "name": "stdout",
     "output_type": "stream",
     "text": [
      "Leucoagaricus pilatianus 690\n"
     ]
    },
    {
     "name": "stderr",
     "output_type": "stream",
     "text": [
      "[========================================================================] 100%\n",
      " 68%|█████████████████████████████████████████████████▎                      | 691/1009 [67:31:59<35:04:42, 397.11s/it][                                                                        ]   0%\r"
     ]
    },
    {
     "name": "stdout",
     "output_type": "stream",
     "text": [
      "Schizophyllum commune 691\n"
     ]
    },
    {
     "name": "stderr",
     "output_type": "stream",
     "text": [
      "[========================================================================] 100%\n",
      " 69%|█████████████████████████████████████████████████▍                      | 692/1009 [67:37:48<33:41:26, 382.61s/it][                                                                        ]   0%\r"
     ]
    },
    {
     "name": "stdout",
     "output_type": "stream",
     "text": [
      "Pholiota gummosa 692\n"
     ]
    },
    {
     "name": "stderr",
     "output_type": "stream",
     "text": [
      "[========================================================================] 100%\n",
      " 69%|█████████████████████████████████████████████████▍                      | 693/1009 [67:41:48<29:50:58, 340.06s/it][                                                                        ]   0%\r"
     ]
    },
    {
     "name": "stdout",
     "output_type": "stream",
     "text": [
      "Lyophyllum loricatum 693\n"
     ]
    },
    {
     "name": "stderr",
     "output_type": "stream",
     "text": [
      "[========================================================================] 100%\n",
      " 69%|█████████████████████████████████████████████████▌                      | 694/1009 [67:45:43<26:58:25, 308.27s/it][                                                                        ]   0%\r"
     ]
    },
    {
     "name": "stdout",
     "output_type": "stream",
     "text": [
      "Amanita franchetii 694\n"
     ]
    },
    {
     "name": "stderr",
     "output_type": "stream",
     "text": [
      "[========================================================================] 100%\n",
      " 69%|█████████████████████████████████████████████████▌                      | 695/1009 [67:50:10<25:49:34, 296.10s/it][                                                                        ]   0%\r"
     ]
    },
    {
     "name": "stdout",
     "output_type": "stream",
     "text": [
      "Hygrocybe miniata 695\n"
     ]
    },
    {
     "name": "stderr",
     "output_type": "stream",
     "text": [
      "[========================================================================] 100%\n",
      " 69%|█████████████████████████████████████████████████▋                      | 696/1009 [67:55:56<27:01:40, 310.86s/it][                                                                        ]   0%\r"
     ]
    },
    {
     "name": "stdout",
     "output_type": "stream",
     "text": [
      "Cortinarius mucifluus 696\n"
     ]
    },
    {
     "name": "stderr",
     "output_type": "stream",
     "text": [
      "[========================================================================] 100%\n",
      " 69%|█████████████████████████████████████████████████▋                      | 697/1009 [68:02:57<29:49:27, 344.13s/it][                                                                        ]   0%\r"
     ]
    },
    {
     "name": "stdout",
     "output_type": "stream",
     "text": [
      "Trichaptum biforme 697\n"
     ]
    },
    {
     "name": "stderr",
     "output_type": "stream",
     "text": [
      "[========================================================================] 100%\n",
      " 69%|█████████████████████████████████████████████████▊                      | 698/1009 [68:11:54<34:43:05, 401.88s/it][                                                                        ]   0%\r"
     ]
    },
    {
     "name": "stdout",
     "output_type": "stream",
     "text": [
      "Leucopaxillus gentianeus 698\n"
     ]
    },
    {
     "name": "stderr",
     "output_type": "stream",
     "text": [
      "[========================================================================] 100%\n",
      " 69%|█████████████████████████████████████████████████▉                      | 699/1009 [68:19:28<35:57:01, 417.49s/it][                                                                        ]   0%\r"
     ]
    },
    {
     "name": "stdout",
     "output_type": "stream",
     "text": [
      "Trametes hirsuta 699\n"
     ]
    },
    {
     "name": "stderr",
     "output_type": "stream",
     "text": [
      "[========================================================================] 100%\n",
      " 69%|█████████████████████████████████████████████████▉                      | 700/1009 [68:30:25<42:00:38, 489.45s/it][                                                                        ]   0%\r"
     ]
    },
    {
     "name": "stdout",
     "output_type": "stream",
     "text": [
      "Tricholoma sudum 700\n"
     ]
    },
    {
     "name": "stderr",
     "output_type": "stream",
     "text": [
      "[========================================================================] 100%\n",
      " 69%|██████████████████████████████████████████████████                      | 701/1009 [68:38:05<41:06:24, 480.47s/it][                                                                        ]   0%\r"
     ]
    },
    {
     "name": "stdout",
     "output_type": "stream",
     "text": [
      "Pisolithus arhizus 701\n"
     ]
    },
    {
     "name": "stderr",
     "output_type": "stream",
     "text": [
      "[========================================================================] 100%\n",
      " 70%|██████████████████████████████████████████████████                      | 702/1009 [68:49:07<45:38:01, 535.12s/it][                                                                        ]   0%\r"
     ]
    },
    {
     "name": "stdout",
     "output_type": "stream",
     "text": [
      "Hygrocybe chlorophana 702\n"
     ]
    },
    {
     "name": "stderr",
     "output_type": "stream",
     "text": [
      "[========================================================================] 100%\n",
      " 70%|██████████████████████████████████████████████████▏                     | 703/1009 [68:56:28<43:04:43, 506.81s/it][                                                                        ]   0%\r"
     ]
    },
    {
     "name": "stdout",
     "output_type": "stream",
     "text": [
      "Panus rudis 703\n"
     ]
    },
    {
     "name": "stderr",
     "output_type": "stream",
     "text": [
      "[========================================================================] 100%\n",
      " 70%|██████████████████████████████████████████████████▏                     | 704/1009 [69:05:42<44:07:59, 520.92s/it][                                                                        ]   0%\r"
     ]
    },
    {
     "name": "stdout",
     "output_type": "stream",
     "text": [
      "Gymnopus peronatus 704\n"
     ]
    },
    {
     "name": "stderr",
     "output_type": "stream",
     "text": [
      "[========================================================================] 100%\n",
      " 70%|██████████████████████████████████████████████████▎                     | 705/1009 [69:14:34<44:16:12, 524.25s/it][                                                                        ]   0%\r"
     ]
    },
    {
     "name": "stdout",
     "output_type": "stream",
     "text": [
      "Cortinarius rufoolivaceus 705\n"
     ]
    },
    {
     "name": "stderr",
     "output_type": "stream",
     "text": [
      "[========================================================================] 100%\n",
      " 70%|██████████████████████████████████████████████████▍                     | 706/1009 [69:19:26<38:16:00, 454.65s/it][                                                                        ]   0%\r"
     ]
    },
    {
     "name": "stdout",
     "output_type": "stream",
     "text": [
      "Cortinarius argentatus 706\n"
     ]
    },
    {
     "name": "stderr",
     "output_type": "stream",
     "text": [
      "[========================================================================] 100%\n",
      " 70%|██████████████████████████████████████████████████▍                     | 707/1009 [69:23:49<33:19:16, 397.21s/it][                                                                        ]   0%\r"
     ]
    },
    {
     "name": "stdout",
     "output_type": "stream",
     "text": [
      "Ophiocordyceps entomorrhiza 707\n"
     ]
    },
    {
     "name": "stderr",
     "output_type": "stream",
     "text": [
      "[========================================================================] 100%\n",
      " 70%|██████████████████████████████████████████████████▌                     | 708/1009 [69:28:13<29:51:47, 357.17s/it][                                                                        ]   0%\r"
     ]
    },
    {
     "name": "stdout",
     "output_type": "stream",
     "text": [
      "Inonotus hispidus 708\n"
     ]
    },
    {
     "name": "stderr",
     "output_type": "stream",
     "text": [
      "[========================================================================] 100%\n",
      " 70%|██████████████████████████████████████████████████▌                     | 709/1009 [69:38:02<35:33:53, 426.78s/it][                                                                        ]   0%\r"
     ]
    },
    {
     "name": "stdout",
     "output_type": "stream",
     "text": [
      "Tricholoma cingulatum 709\n"
     ]
    },
    {
     "name": "stderr",
     "output_type": "stream",
     "text": [
      "[========================================================================] 100%\n",
      " 70%|██████████████████████████████████████████████████▋                     | 710/1009 [69:45:05<35:20:33, 425.53s/it][                                                                        ]   0%\r"
     ]
    },
    {
     "name": "stdout",
     "output_type": "stream",
     "text": [
      "Lactarius picinus 710\n"
     ]
    },
    {
     "name": "stderr",
     "output_type": "stream",
     "text": [
      "[========================================================================] 100%\n",
      " 70%|██████████████████████████████████████████████████▋                     | 711/1009 [69:52:20<35:27:27, 428.35s/it][                                                                        ]   0%\r"
     ]
    },
    {
     "name": "stdout",
     "output_type": "stream",
     "text": [
      "Heterobasidion annosum 711\n"
     ]
    },
    {
     "name": "stderr",
     "output_type": "stream",
     "text": [
      "[========================================================================] 100%\n",
      " 71%|██████████████████████████████████████████████████▊                     | 712/1009 [70:01:24<38:12:31, 463.14s/it][                                                                        ]   0%\r"
     ]
    },
    {
     "name": "stdout",
     "output_type": "stream",
     "text": [
      "Leucocybe candicans 712\n"
     ]
    },
    {
     "name": "stderr",
     "output_type": "stream",
     "text": [
      "[========================================================================] 100%\n",
      " 71%|██████████████████████████████████████████████████▉                     | 713/1009 [70:09:33<38:42:48, 470.84s/it][                                                                        ]   0%\r"
     ]
    },
    {
     "name": "stdout",
     "output_type": "stream",
     "text": [
      "Hydnellum caeruleum 713\n"
     ]
    },
    {
     "name": "stderr",
     "output_type": "stream",
     "text": [
      "[========================================================================] 100%\n",
      " 71%|██████████████████████████████████████████████████▉                     | 714/1009 [70:17:14<38:20:34, 467.91s/it][                                                                        ]   0%\r"
     ]
    },
    {
     "name": "stdout",
     "output_type": "stream",
     "text": [
      "Verpa conica 714\n"
     ]
    },
    {
     "name": "stderr",
     "output_type": "stream",
     "text": [
      "[========================================================================] 100%\n",
      " 71%|███████████████████████████████████████████████████                     | 715/1009 [70:24:09<36:55:13, 452.09s/it][                                                                        ]   0%\r"
     ]
    },
    {
     "name": "stdout",
     "output_type": "stream",
     "text": [
      "Suillus clintonianus 715\n"
     ]
    },
    {
     "name": "stderr",
     "output_type": "stream",
     "text": [
      "[========================================================================] 100%\n",
      " 71%|███████████████████████████████████████████████████                     | 716/1009 [70:31:34<36:36:21, 449.77s/it][                                                                        ]   0%\r"
     ]
    },
    {
     "name": "stdout",
     "output_type": "stream",
     "text": [
      "Morchella crassipes 716\n"
     ]
    },
    {
     "name": "stderr",
     "output_type": "stream",
     "text": [
      "[========================================================================] 100%\n",
      " 71%|███████████████████████████████████████████████████▏                    | 717/1009 [70:38:17<35:21:47, 435.99s/it][                                                                        ]   0%\r"
     ]
    },
    {
     "name": "stdout",
     "output_type": "stream",
     "text": [
      "Sarcodon leucopus 717\n"
     ]
    },
    {
     "name": "stderr",
     "output_type": "stream",
     "text": [
      "[========================================================================] 100%\n",
      " 71%|███████████████████████████████████████████████████▏                    | 718/1009 [70:45:04<34:32:10, 427.25s/it][                                                                        ]   0%\r"
     ]
    },
    {
     "name": "stdout",
     "output_type": "stream",
     "text": [
      "Helvella elastica 718\n"
     ]
    },
    {
     "name": "stderr",
     "output_type": "stream",
     "text": [
      "[========================================================================] 100%\n",
      " 71%|███████████████████████████████████████████████████▎                    | 719/1009 [70:52:37<35:02:28, 434.99s/it][                                                                        ]   0%\r"
     ]
    },
    {
     "name": "stdout",
     "output_type": "stream",
     "text": [
      "Tolypocladium ophioglossoides 719\n"
     ]
    },
    {
     "name": "stderr",
     "output_type": "stream",
     "text": [
      "[========================================================================] 100%\n",
      " 71%|███████████████████████████████████████████████████▍                    | 720/1009 [71:00:34<35:55:58, 447.61s/it][                                                                        ]   0%\r"
     ]
    },
    {
     "name": "stdout",
     "output_type": "stream",
     "text": [
      "Cortinarius evernius 720\n"
     ]
    },
    {
     "name": "stderr",
     "output_type": "stream",
     "text": [
      "[========================================================================] 100%\n",
      " 71%|███████████████████████████████████████████████████▍                    | 721/1009 [71:08:21<36:16:24, 453.42s/it][                                                                        ]   0%\r"
     ]
    },
    {
     "name": "stdout",
     "output_type": "stream",
     "text": [
      "Laccaria proxima 721\n"
     ]
    },
    {
     "name": "stderr",
     "output_type": "stream",
     "text": [
      "[========================================================================] 100%\n",
      " 72%|███████████████████████████████████████████████████▌                    | 722/1009 [71:16:05<36:23:54, 456.57s/it][                                                                        ]   0%\r"
     ]
    },
    {
     "name": "stdout",
     "output_type": "stream",
     "text": [
      "Phlebia tremellosa 722\n"
     ]
    },
    {
     "name": "stderr",
     "output_type": "stream",
     "text": [
      "[========================================================================] 100%\n",
      " 72%|███████████████████████████████████████████████████▌                    | 723/1009 [71:24:40<37:40:00, 474.13s/it][                                                                        ]   0%\r"
     ]
    },
    {
     "name": "stdout",
     "output_type": "stream",
     "text": [
      "Calocera cornea 723\n"
     ]
    },
    {
     "name": "stderr",
     "output_type": "stream",
     "text": [
      "[========================================================================] 100%\n",
      " 72%|███████████████████████████████████████████████████▋                    | 724/1009 [71:32:49<37:52:16, 478.38s/it][                                                                        ]   0%\r"
     ]
    },
    {
     "name": "stdout",
     "output_type": "stream",
     "text": [
      "Pluteus chrysophaeus 724\n"
     ]
    },
    {
     "name": "stderr",
     "output_type": "stream",
     "text": [
      "[========================================================================] 100%\n",
      " 72%|███████████████████████████████████████████████████▋                    | 725/1009 [71:40:24<37:11:59, 471.55s/it][                                                                        ]   0%\r"
     ]
    },
    {
     "name": "stdout",
     "output_type": "stream",
     "text": [
      "Amanita nivalis 725\n"
     ]
    },
    {
     "name": "stderr",
     "output_type": "stream",
     "text": [
      "[========================================================================] 100%\n",
      " 72%|███████████████████████████████████████████████████▊                    | 726/1009 [71:47:01<35:18:42, 449.20s/it][                                                                        ]   0%\r"
     ]
    },
    {
     "name": "stdout",
     "output_type": "stream",
     "text": [
      "Leotia lubrica 726\n"
     ]
    },
    {
     "name": "stderr",
     "output_type": "stream",
     "text": [
      "[========================================================================] 100%\n",
      " 72%|███████████████████████████████████████████████████▉                    | 727/1009 [71:54:24<35:02:30, 447.34s/it][                                                                        ]   0%\r"
     ]
    },
    {
     "name": "stdout",
     "output_type": "stream",
     "text": [
      "Tuber uncinatum 727\n"
     ]
    },
    {
     "name": "stderr",
     "output_type": "stream",
     "text": [
      "[========================================================================] 100%\n",
      " 72%|███████████████████████████████████████████████████▉                    | 728/1009 [72:01:21<34:11:44, 438.09s/it][                                                                        ]   0%\r"
     ]
    },
    {
     "name": "stdout",
     "output_type": "stream",
     "text": [
      "Hairy mycena 728\n"
     ]
    },
    {
     "name": "stderr",
     "output_type": "stream",
     "text": [
      "[========================================================================] 100%\n",
      " 72%|████████████████████████████████████████████████████                    | 729/1009 [72:07:37<32:37:37, 419.49s/it][                                                                        ]   0%\r"
     ]
    },
    {
     "name": "stdout",
     "output_type": "stream",
     "text": [
      "Mucilago crustacea 729\n"
     ]
    },
    {
     "name": "stderr",
     "output_type": "stream",
     "text": [
      "[========================================================================] 100%\n",
      " 72%|████████████████████████████████████████████████████                    | 730/1009 [72:14:32<32:24:49, 418.24s/it][                                                                        ]   0%\r"
     ]
    },
    {
     "name": "stdout",
     "output_type": "stream",
     "text": [
      "Cystoderma amianthinum 730\n"
     ]
    },
    {
     "name": "stderr",
     "output_type": "stream",
     "text": [
      "[========================================================================] 100%\n",
      " 72%|████████████████████████████████████████████████████▏                   | 731/1009 [72:22:06<33:06:52, 428.82s/it][                                                                        ]   0%\r"
     ]
    },
    {
     "name": "stdout",
     "output_type": "stream",
     "text": [
      "Psathyrella cotonea 731\n"
     ]
    },
    {
     "name": "stderr",
     "output_type": "stream",
     "text": [
      "[========================================================================] 100%\n",
      " 73%|████████████████████████████████████████████████████▏                   | 732/1009 [72:30:01<34:04:05, 442.76s/it][                                                                        ]   0%\r"
     ]
    },
    {
     "name": "stdout",
     "output_type": "stream",
     "text": [
      "Amanita eliae 732\n"
     ]
    },
    {
     "name": "stderr",
     "output_type": "stream",
     "text": [
      "[========================================================================] 100%\n",
      " 73%|████████████████████████████████████████████████████▎                   | 733/1009 [72:36:37<32:51:43, 428.63s/it][                                                                        ]   0%\r"
     ]
    },
    {
     "name": "stdout",
     "output_type": "stream",
     "text": [
      "Lenzites betulina 733\n"
     ]
    },
    {
     "name": "stderr",
     "output_type": "stream",
     "text": [
      "[========================================================================] 100%\n",
      " 73%|████████████████████████████████████████████████████▍                   | 734/1009 [72:44:59<34:25:23, 450.63s/it][                                                                        ]   0%\r"
     ]
    },
    {
     "name": "stdout",
     "output_type": "stream",
     "text": [
      "Laccaria bicolor 734\n"
     ]
    },
    {
     "name": "stderr",
     "output_type": "stream",
     "text": [
      "[========================================================================] 100%\n",
      " 73%|████████████████████████████████████████████████████▍                   | 735/1009 [72:53:52<36:11:00, 475.40s/it][                                                                        ]   0%\r"
     ]
    },
    {
     "name": "stdout",
     "output_type": "stream",
     "text": [
      "Exidia nigricans 735\n"
     ]
    },
    {
     "name": "stderr",
     "output_type": "stream",
     "text": [
      "[========================================================================] 100%\n",
      " 73%|████████████████████████████████████████████████████▌                   | 736/1009 [73:03:20<38:10:10, 503.34s/it][                                                                        ]   0%\r"
     ]
    },
    {
     "name": "stdout",
     "output_type": "stream",
     "text": [
      "Bjerkandera adusta 736\n"
     ]
    },
    {
     "name": "stderr",
     "output_type": "stream",
     "text": [
      "[========================================================================] 100%\n",
      " 73%|████████████████████████████████████████████████████▌                   | 737/1009 [73:12:35<39:12:02, 518.83s/it][                                                                        ]   0%\r"
     ]
    },
    {
     "name": "stdout",
     "output_type": "stream",
     "text": [
      "Pluteus umbrosus 737\n"
     ]
    },
    {
     "name": "stderr",
     "output_type": "stream",
     "text": [
      "[========================================================================] 100%\n",
      " 73%|████████████████████████████████████████████████████▋                   | 738/1009 [73:17:04<33:24:12, 443.73s/it][                                                                        ]   0%\r"
     ]
    },
    {
     "name": "stdout",
     "output_type": "stream",
     "text": [
      "Microstoma protractum 738\n"
     ]
    },
    {
     "name": "stderr",
     "output_type": "stream",
     "text": [
      "[========================================================================] 100%\n",
      " 73%|████████████████████████████████████████████████████▋                   | 739/1009 [73:20:53<28:27:02, 379.34s/it][                                                                        ]   0%\r"
     ]
    },
    {
     "name": "stdout",
     "output_type": "stream",
     "text": [
      "Cuphophyllus virgineus 739\n"
     ]
    },
    {
     "name": "stderr",
     "output_type": "stream",
     "text": [
      "[========================================================================] 100%\n",
      " 73%|████████████████████████████████████████████████████▊                   | 740/1009 [73:27:43<29:02:29, 388.66s/it][                                                                        ]   0%\r"
     ]
    },
    {
     "name": "stdout",
     "output_type": "stream",
     "text": [
      "Phallus ravenelii 740\n"
     ]
    },
    {
     "name": "stderr",
     "output_type": "stream",
     "text": [
      "[========================================================================] 100%\n",
      " 73%|████████████████████████████████████████████████████▉                   | 741/1009 [73:34:58<29:57:15, 402.37s/it][                                                                        ]   0%\r"
     ]
    },
    {
     "name": "stdout",
     "output_type": "stream",
     "text": [
      "Floccularia straminea 741\n"
     ]
    },
    {
     "name": "stderr",
     "output_type": "stream",
     "text": [
      "[========================================================================] 100%\n",
      " 74%|████████████████████████████████████████████████████▉                   | 742/1009 [73:40:44<28:35:14, 385.45s/it][                                                                        ]   0%\r"
     ]
    },
    {
     "name": "stdout",
     "output_type": "stream",
     "text": [
      "Pisolithus tinctorius 742\n"
     ]
    },
    {
     "name": "stderr",
     "output_type": "stream",
     "text": [
      "[========================================================================] 100%\n",
      " 74%|█████████████████████████████████████████████████████                   | 743/1009 [73:47:24<28:48:27, 389.88s/it][                                                                        ]   0%\r"
     ]
    },
    {
     "name": "stdout",
     "output_type": "stream",
     "text": [
      "Mycena renati 743\n"
     ]
    },
    {
     "name": "stderr",
     "output_type": "stream",
     "text": [
      "[========================================================================] 100%\n",
      " 74%|█████████████████████████████████████████████████████                   | 744/1009 [73:52:01<26:12:38, 356.07s/it][                                                                        ]   0%\r"
     ]
    },
    {
     "name": "stdout",
     "output_type": "stream",
     "text": [
      "Tyromyces chioneus 744\n"
     ]
    },
    {
     "name": "stderr",
     "output_type": "stream",
     "text": [
      "[========================================================================] 100%\n",
      " 74%|█████████████████████████████████████████████████████▏                  | 745/1009 [73:58:01<26:12:03, 357.29s/it][                                                                        ]   0%\r"
     ]
    },
    {
     "name": "stdout",
     "output_type": "stream",
     "text": [
      "Phaeoclavulina abietina 745\n"
     ]
    },
    {
     "name": "stderr",
     "output_type": "stream",
     "text": [
      "[========================================================================] 100%\n",
      " 74%|█████████████████████████████████████████████████████▏                  | 746/1009 [74:05:05<27:34:03, 377.35s/it][                                                                        ]   0%\r"
     ]
    },
    {
     "name": "stdout",
     "output_type": "stream",
     "text": [
      "Geastrum schmidelii 746\n"
     ]
    },
    {
     "name": "stderr",
     "output_type": "stream",
     "text": [
      "[========================================================================] 100%\n",
      " 74%|█████████████████████████████████████████████████████▎                  | 747/1009 [74:10:44<26:36:22, 365.58s/it][                                                                        ]   0%\r"
     ]
    },
    {
     "name": "stdout",
     "output_type": "stream",
     "text": [
      "Bisporella citrina 747\n"
     ]
    },
    {
     "name": "stderr",
     "output_type": "stream",
     "text": [
      "[========================================================================] 100%\n",
      " 74%|█████████████████████████████████████████████████████▍                  | 748/1009 [74:17:05<26:51:21, 370.43s/it][                                                                        ]   0%\r"
     ]
    },
    {
     "name": "stdout",
     "output_type": "stream",
     "text": [
      "Asterophora lycoperdoides 748\n"
     ]
    },
    {
     "name": "stderr",
     "output_type": "stream",
     "text": [
      "[========================================================================] 100%\n",
      " 74%|█████████████████████████████████████████████████████▍                  | 749/1009 [74:21:38<24:38:33, 341.21s/it][                                                                        ]   0%\r"
     ]
    },
    {
     "name": "stdout",
     "output_type": "stream",
     "text": [
      "Daedaleopsis tricolor 749\n"
     ]
    },
    {
     "name": "stderr",
     "output_type": "stream",
     "text": [
      "[========================================================================] 100%\n",
      " 74%|█████████████████████████████████████████████████████▌                  | 750/1009 [74:26:27<23:25:18, 325.55s/it][                                                                        ]   0%\r"
     ]
    },
    {
     "name": "stdout",
     "output_type": "stream",
     "text": [
      "Cerrena unicolor 750\n"
     ]
    },
    {
     "name": "stderr",
     "output_type": "stream",
     "text": [
      "[========================================================================] 100%\n",
      " 74%|█████████████████████████████████████████████████████▌                  | 751/1009 [74:32:13<23:46:13, 331.68s/it][                                                                        ]   0%\r"
     ]
    },
    {
     "name": "stdout",
     "output_type": "stream",
     "text": [
      "Auriscalpium vulgare 751\n"
     ]
    },
    {
     "name": "stderr",
     "output_type": "stream",
     "text": [
      "[========================================================================] 100%\n",
      " 75%|█████████████████████████████████████████████████████▋                  | 752/1009 [74:38:28<24:35:16, 344.42s/it][                                                                        ]   0%\r"
     ]
    },
    {
     "name": "stdout",
     "output_type": "stream",
     "text": [
      "Reticularia lycoperdon 752\n"
     ]
    },
    {
     "name": "stderr",
     "output_type": "stream",
     "text": [
      "[========================================================================] 100%\n",
      " 75%|█████████████████████████████████████████████████████▋                  | 753/1009 [74:44:56<25:25:45, 357.60s/it][                                                                        ]   0%\r"
     ]
    },
    {
     "name": "stdout",
     "output_type": "stream",
     "text": [
      "Hygrocybe ceracea 753\n"
     ]
    },
    {
     "name": "stderr",
     "output_type": "stream",
     "text": [
      "[========================================================================] 100%\n",
      " 75%|█████████████████████████████████████████████████████▊                  | 754/1009 [74:49:06<23:02:40, 325.34s/it][                                                                        ]   0%\r"
     ]
    },
    {
     "name": "stdout",
     "output_type": "stream",
     "text": [
      "Gymnopus vernus 754\n"
     ]
    },
    {
     "name": "stderr",
     "output_type": "stream",
     "text": [
      "[========================================================================] 100%\n",
      " 75%|█████████████████████████████████████████████████████▉                  | 755/1009 [74:52:57<20:57:51, 297.13s/it][                                                                        ]   0%\r"
     ]
    },
    {
     "name": "stdout",
     "output_type": "stream",
     "text": [
      "Trametes ochracea 755\n"
     ]
    },
    {
     "name": "stderr",
     "output_type": "stream",
     "text": [
      "[========================================================================] 100%\n",
      " 75%|█████████████████████████████████████████████████████▉                  | 756/1009 [74:59:26<22:48:45, 324.61s/it][                                                                        ]   0%\r"
     ]
    },
    {
     "name": "stdout",
     "output_type": "stream",
     "text": [
      "Trichia decipiens 756\n"
     ]
    },
    {
     "name": "stderr",
     "output_type": "stream",
     "text": [
      "[========================================================================] 100%\n",
      " 75%|██████████████████████████████████████████████████████                  | 757/1009 [75:06:41<25:02:50, 357.82s/it][                                                                        ]   0%\r"
     ]
    },
    {
     "name": "stdout",
     "output_type": "stream",
     "text": [
      "Mycena alcalina 757\n"
     ]
    },
    {
     "name": "stderr",
     "output_type": "stream",
     "text": [
      "[========================================================================] 100%\n",
      " 75%|██████████████████████████████████████████████████████                  | 758/1009 [75:12:50<25:10:52, 361.16s/it][                                                                        ]   0%\r"
     ]
    },
    {
     "name": "stdout",
     "output_type": "stream",
     "text": [
      "Cortinarius delibutus 758\n"
     ]
    },
    {
     "name": "stderr",
     "output_type": "stream",
     "text": [
      "[========================================================================] 100%\n",
      " 75%|██████████████████████████████████████████████████████▏                 | 759/1009 [75:17:06<22:53:09, 329.56s/it][                                                                        ]   0%\r"
     ]
    },
    {
     "name": "stdout",
     "output_type": "stream",
     "text": [
      "Cortinarius erythrinus 759\n"
     ]
    },
    {
     "name": "stderr",
     "output_type": "stream",
     "text": [
      "[========================================================================] 100%\n",
      " 75%|██████████████████████████████████████████████████████▏                 | 760/1009 [75:21:13<21:05:23, 304.92s/it][                                                                        ]   0%\r"
     ]
    },
    {
     "name": "stdout",
     "output_type": "stream",
     "text": [
      "Psathyrella corrugis 760\n"
     ]
    },
    {
     "name": "stderr",
     "output_type": "stream",
     "text": [
      "[========================================================================] 100%\n",
      " 75%|██████████████████████████████████████████████████████▎                 | 761/1009 [75:26:56<21:47:33, 316.35s/it][                                                                        ]   0%\r"
     ]
    },
    {
     "name": "stdout",
     "output_type": "stream",
     "text": [
      "Marasmius haematocephalus 761\n"
     ]
    },
    {
     "name": "stderr",
     "output_type": "stream",
     "text": [
      "[========================================================================] 100%\n",
      " 76%|██████████████████████████████████████████████████████▎                 | 762/1009 [75:36:03<26:27:03, 385.52s/it][                                                                        ]   0%\r"
     ]
    },
    {
     "name": "stdout",
     "output_type": "stream",
     "text": [
      "Puccinia recondita 762\n"
     ]
    },
    {
     "name": "stderr",
     "output_type": "stream",
     "text": [
      "[========================================================================] 100%\n",
      " 76%|██████████████████████████████████████████████████████▍                 | 763/1009 [75:53:15<39:35:34, 579.41s/it][                                                                        ]   0%\r"
     ]
    },
    {
     "name": "stdout",
     "output_type": "stream",
     "text": [
      "Rhodocollybia prolixa 763\n"
     ]
    },
    {
     "name": "stderr",
     "output_type": "stream",
     "text": [
      "[========================================================================] 100%\n",
      " 76%|██████████████████████████████████████████████████████▌                 | 764/1009 [75:57:32<32:50:46, 482.64s/it][                                                                        ]   0%\r"
     ]
    },
    {
     "name": "stdout",
     "output_type": "stream",
     "text": [
      "Clavulinopsis helvola 764\n"
     ]
    },
    {
     "name": "stderr",
     "output_type": "stream",
     "text": [
      "[========================================================================] 100%\n",
      " 76%|██████████████████████████████████████████████████████▌                 | 765/1009 [76:02:35<29:03:27, 428.72s/it][                                                                        ]   0%\r"
     ]
    },
    {
     "name": "stdout",
     "output_type": "stream",
     "text": [
      "Hydnellum suaveolens 765\n"
     ]
    },
    {
     "name": "stderr",
     "output_type": "stream",
     "text": [
      "[========================================================================] 100%\n",
      " 76%|██████████████████████████████████████████████████████▋                 | 766/1009 [76:07:16<25:56:30, 384.32s/it][                                                                        ]   0%\r"
     ]
    },
    {
     "name": "stdout",
     "output_type": "stream",
     "text": [
      "Marasmius rotula 766\n"
     ]
    },
    {
     "name": "stderr",
     "output_type": "stream",
     "text": [
      "[========================================================================] 100%\n",
      " 76%|██████████████████████████████████████████████████████▋                 | 767/1009 [76:12:16<24:07:49, 358.97s/it][                                                                        ]   0%\r"
     ]
    },
    {
     "name": "stdout",
     "output_type": "stream",
     "text": [
      "Hypomyces viridis 767\n"
     ]
    },
    {
     "name": "stderr",
     "output_type": "stream",
     "text": [
      "[========================================================================] 100%\n",
      " 76%|██████████████████████████████████████████████████████▊                 | 768/1009 [76:16:05<21:25:21, 320.01s/it][                                                                        ]   0%\r"
     ]
    },
    {
     "name": "stdout",
     "output_type": "stream",
     "text": [
      "Coprinopsis romagnesiana 768\n"
     ]
    },
    {
     "name": "stderr",
     "output_type": "stream",
     "text": [
      "[========================================================================] 100%\n",
      " 76%|██████████████████████████████████████████████████████▊                 | 769/1009 [76:20:56<20:45:35, 311.40s/it][                                                                        ]   0%\r"
     ]
    },
    {
     "name": "stdout",
     "output_type": "stream",
     "text": [
      "Pseudocolus fusiformis 769\n"
     ]
    },
    {
     "name": "stderr",
     "output_type": "stream",
     "text": [
      "[========================================================================] 100%\n",
      " 76%|██████████████████████████████████████████████████████▉                 | 770/1009 [76:26:47<21:27:47, 323.29s/it][                                                                        ]   0%\r"
     ]
    },
    {
     "name": "stdout",
     "output_type": "stream",
     "text": [
      "Leratiomyces ceres 770\n"
     ]
    },
    {
     "name": "stderr",
     "output_type": "stream",
     "text": [
      "[========================================================================] 100%\n",
      " 76%|███████████████████████████████████████████████████████                 | 771/1009 [76:33:19<22:44:29, 343.99s/it][                                                                        ]   0%\r"
     ]
    },
    {
     "name": "stdout",
     "output_type": "stream",
     "text": [
      "Alloclavaria purpurea 771\n"
     ]
    },
    {
     "name": "stderr",
     "output_type": "stream",
     "text": [
      "[========================================================================] 100%\n",
      " 77%|███████████████████████████████████████████████████████                 | 772/1009 [76:39:08<22:44:08, 345.35s/it][                                                                        ]   0%\r"
     ]
    },
    {
     "name": "stdout",
     "output_type": "stream",
     "text": [
      "Helvella queletii 772\n"
     ]
    },
    {
     "name": "stderr",
     "output_type": "stream",
     "text": [
      "[========================================================================] 100%\n",
      " 77%|███████████████████████████████████████████████████████▏                | 773/1009 [76:43:21<20:49:23, 317.64s/it][                                                                        ]   0%\r"
     ]
    },
    {
     "name": "stdout",
     "output_type": "stream",
     "text": [
      "Mycena polygramma 773\n"
     ]
    },
    {
     "name": "stderr",
     "output_type": "stream",
     "text": [
      "[========================================================================] 100%\n",
      " 77%|███████████████████████████████████████████████████████▏                | 774/1009 [76:48:08<20:08:15, 308.49s/it][                                                                        ]   0%\r"
     ]
    },
    {
     "name": "stdout",
     "output_type": "stream",
     "text": [
      "Hohenbuehelia petaloides 774\n"
     ]
    },
    {
     "name": "stderr",
     "output_type": "stream",
     "text": [
      "[========================================================================] 100%\n",
      " 77%|███████████████████████████████████████████████████████▎                | 775/1009 [76:55:03<22:08:07, 340.54s/it][                                                                        ]   0%\r"
     ]
    },
    {
     "name": "stdout",
     "output_type": "stream",
     "text": [
      "Tarzetta cupularis 775\n"
     ]
    },
    {
     "name": "stderr",
     "output_type": "stream",
     "text": [
      "[========================================================================] 100%\n",
      " 77%|███████████████████████████████████████████████████████▎                | 776/1009 [76:59:39<20:46:41, 321.03s/it][                                                                        ]   0%\r"
     ]
    },
    {
     "name": "stdout",
     "output_type": "stream",
     "text": [
      "Chlorociboria aeruginascens 776\n"
     ]
    },
    {
     "name": "stderr",
     "output_type": "stream",
     "text": [
      "[========================================================================] 100%\n",
      " 77%|███████████████████████████████████████████████████████▍                | 777/1009 [77:05:43<21:31:02, 333.89s/it][                                                                        ]   0%\r"
     ]
    },
    {
     "name": "stdout",
     "output_type": "stream",
     "text": [
      "Hydnellum ferrugineum 777\n"
     ]
    },
    {
     "name": "stderr",
     "output_type": "stream",
     "text": [
      "[========================================================================] 100%\n",
      " 77%|███████████████████████████████████████████████████████▌                | 778/1009 [77:10:08<20:06:16, 313.32s/it][                                                                        ]   0%\r"
     ]
    },
    {
     "name": "stdout",
     "output_type": "stream",
     "text": [
      "Mycena viscosa 778\n"
     ]
    },
    {
     "name": "stderr",
     "output_type": "stream",
     "text": [
      "[========================================================================] 100%\n",
      " 77%|███████████████████████████████████████████████████████▌                | 779/1009 [77:16:20<21:08:22, 330.88s/it][                                                                        ]   0%\r"
     ]
    },
    {
     "name": "stdout",
     "output_type": "stream",
     "text": [
      "Lentinellus ursinus 779\n"
     ]
    },
    {
     "name": "stderr",
     "output_type": "stream",
     "text": [
      "[========================================================================] 100%\n",
      " 77%|███████████████████████████████████████████████████████▋                | 780/1009 [77:22:43<22:03:09, 346.68s/it][                                                                        ]   0%\r"
     ]
    },
    {
     "name": "stdout",
     "output_type": "stream",
     "text": [
      "Geastrum melanocephalum 780\n"
     ]
    },
    {
     "name": "stderr",
     "output_type": "stream",
     "text": [
      "[========================================================================] 100%\n",
      " 77%|███████████████████████████████████████████████████████▋                | 781/1009 [77:28:28<21:54:36, 345.95s/it][                                                                        ]   0%\r"
     ]
    },
    {
     "name": "stdout",
     "output_type": "stream",
     "text": [
      "Tuber macrosporum 781\n"
     ]
    },
    {
     "name": "stderr",
     "output_type": "stream",
     "text": [
      "[========================================================================] 100%\n",
      " 78%|███████████████████████████████████████████████████████▊                | 782/1009 [77:33:09<20:35:47, 326.64s/it][                                                                        ]   0%\r"
     ]
    },
    {
     "name": "stdout",
     "output_type": "stream",
     "text": [
      "Rhizina undulata 782\n"
     ]
    },
    {
     "name": "stderr",
     "output_type": "stream",
     "text": [
      "[========================================================================] 100%\n",
      " 78%|███████████████████████████████████████████████████████▊                | 783/1009 [77:38:00<19:49:43, 315.85s/it][                                                                        ]   0%\r"
     ]
    },
    {
     "name": "stdout",
     "output_type": "stream",
     "text": [
      "Daldinia concentrica 783\n"
     ]
    },
    {
     "name": "stderr",
     "output_type": "stream",
     "text": [
      "[========================================================================] 100%\n",
      " 78%|███████████████████████████████████████████████████████▉                | 784/1009 [77:43:38<20:09:29, 322.53s/it][                                                                        ]   0%\r"
     ]
    },
    {
     "name": "stdout",
     "output_type": "stream",
     "text": [
      "Gymnopilus luteofolius 784\n"
     ]
    },
    {
     "name": "stderr",
     "output_type": "stream",
     "text": [
      "[========================================================================] 100%\n",
      " 78%|████████████████████████████████████████████████████████                | 785/1009 [77:49:35<20:43:17, 333.02s/it][                                                                        ]   0%\r"
     ]
    },
    {
     "name": "stdout",
     "output_type": "stream",
     "text": [
      "Cystoderma granulosum 785\n"
     ]
    },
    {
     "name": "stderr",
     "output_type": "stream",
     "text": [
      "[========================================================================] 100%\n",
      " 78%|████████████████████████████████████████████████████████                | 786/1009 [77:54:28<19:52:24, 320.83s/it][                                                                        ]   0%\r"
     ]
    },
    {
     "name": "stdout",
     "output_type": "stream",
     "text": [
      "Sarcosphaera coronaria 786\n"
     ]
    },
    {
     "name": "stderr",
     "output_type": "stream",
     "text": [
      "[========================================================================] 100%\n",
      " 78%|████████████████████████████████████████████████████████▏               | 787/1009 [78:00:26<20:28:47, 332.11s/it][                                                                        ]   0%\r"
     ]
    },
    {
     "name": "stdout",
     "output_type": "stream",
     "text": [
      "Dumontinia tuberosa 787\n"
     ]
    },
    {
     "name": "stderr",
     "output_type": "stream",
     "text": [
      "[========================================================================] 100%\n",
      " 78%|████████████████████████████████████████████████████████▏               | 788/1009 [78:05:03<19:22:02, 315.49s/it][                                                                        ]   0%\r"
     ]
    },
    {
     "name": "stdout",
     "output_type": "stream",
     "text": [
      "Leucocoprinus badhamii 788\n"
     ]
    },
    {
     "name": "stderr",
     "output_type": "stream",
     "text": [
      "[========================================================================] 100%\n",
      " 78%|████████████████████████████████████████████████████████▎               | 789/1009 [78:08:12<16:57:55, 277.62s/it][                                                                        ]   0%\r"
     ]
    },
    {
     "name": "stdout",
     "output_type": "stream",
     "text": [
      "Hemistropharia albocrenulata 789\n"
     ]
    },
    {
     "name": "stderr",
     "output_type": "stream",
     "text": [
      "[========================================================================] 100%\n",
      " 78%|████████████████████████████████████████████████████████▎               | 790/1009 [78:11:54<15:52:34, 260.98s/it][                                                                        ]   0%\r"
     ]
    },
    {
     "name": "stdout",
     "output_type": "stream",
     "text": [
      "Phellinus igniarius 790\n"
     ]
    },
    {
     "name": "stderr",
     "output_type": "stream",
     "text": [
      "[========================================================================] 100%\n",
      " 78%|████████████████████████████████████████████████████████▍               | 791/1009 [78:18:19<18:02:43, 298.00s/it][                                                                        ]   0%\r"
     ]
    },
    {
     "name": "stdout",
     "output_type": "stream",
     "text": [
      "Butyriboletus frostii 791\n"
     ]
    },
    {
     "name": "stderr",
     "output_type": "stream",
     "text": [
      "[========================================================================] 100%\n",
      " 78%|████████████████████████████████████████████████████████▌               | 792/1009 [78:25:44<20:37:22, 342.13s/it][                                                                        ]   0%\r"
     ]
    },
    {
     "name": "stdout",
     "output_type": "stream",
     "text": [
      "Scleroderma areolatum 792\n"
     ]
    },
    {
     "name": "stderr",
     "output_type": "stream",
     "text": [
      "[========================================================================] 100%\n",
      " 79%|████████████████████████████████████████████████████████▌               | 793/1009 [78:31:08<20:12:10, 336.71s/it][                                                                        ]   0%\r"
     ]
    },
    {
     "name": "stdout",
     "output_type": "stream",
     "text": [
      "Marasmius androsaceus 793\n"
     ]
    },
    {
     "name": "stderr",
     "output_type": "stream",
     "text": [
      "[========================================================================] 100%\n",
      " 79%|████████████████████████████████████████████████████████▋               | 794/1009 [78:35:43<18:59:54, 318.11s/it][                                                                        ]   0%\r"
     ]
    },
    {
     "name": "stdout",
     "output_type": "stream",
     "text": [
      "Clitocybula familia 794\n"
     ]
    },
    {
     "name": "stderr",
     "output_type": "stream",
     "text": [
      "[========================================================================] 100%\n",
      " 79%|████████████████████████████████████████████████████████▋               | 795/1009 [78:40:52<18:45:27, 315.55s/it][                                                                        ]   0%\r"
     ]
    },
    {
     "name": "stdout",
     "output_type": "stream",
     "text": [
      "Exobasidium vaccinii 795\n"
     ]
    },
    {
     "name": "stderr",
     "output_type": "stream",
     "text": [
      "[========================================================================] 100%\n",
      " 79%|████████████████████████████████████████████████████████▊               | 796/1009 [78:45:43<18:13:37, 308.06s/it][                                                                        ]   0%\r"
     ]
    },
    {
     "name": "stdout",
     "output_type": "stream",
     "text": [
      "Helvella atra 796\n"
     ]
    },
    {
     "name": "stderr",
     "output_type": "stream",
     "text": [
      "[========================================================================] 100%\n",
      " 79%|████████████████████████████████████████████████████████▊               | 797/1009 [78:51:50<19:10:54, 325.73s/it][                                                                        ]   0%\r"
     ]
    },
    {
     "name": "stdout",
     "output_type": "stream",
     "text": [
      "Russula sp 797\n"
     ]
    },
    {
     "name": "stderr",
     "output_type": "stream",
     "text": [
      "[========================================================================] 100%\n",
      " 79%|████████████████████████████████████████████████████████▉               | 798/1009 [79:02:29<24:35:58, 419.71s/it][                                                                        ]   0%\r"
     ]
    },
    {
     "name": "stdout",
     "output_type": "stream",
     "text": [
      "Cystolepiota seminuda 798\n"
     ]
    },
    {
     "name": "stderr",
     "output_type": "stream",
     "text": [
      "[========================================================================] 100%\n",
      " 79%|█████████████████████████████████████████████████████████               | 799/1009 [79:06:28<21:19:14, 365.50s/it][                                                                        ]   0%\r"
     ]
    },
    {
     "name": "stdout",
     "output_type": "stream",
     "text": [
      "Scutellinia 799\n"
     ]
    },
    {
     "name": "stderr",
     "output_type": "stream",
     "text": [
      "[========================================================================] 100%\n",
      " 79%|█████████████████████████████████████████████████████████               | 800/1009 [79:11:59<20:37:35, 355.29s/it][                                                                        ]   0%\r"
     ]
    },
    {
     "name": "stdout",
     "output_type": "stream",
     "text": [
      "Xanthoporia radiata 800\n"
     ]
    },
    {
     "name": "stderr",
     "output_type": "stream",
     "text": [
      "[========================================================================] 100%\n",
      " 79%|█████████████████████████████████████████████████████████▏              | 801/1009 [79:17:26<20:01:30, 346.59s/it][                                                                        ]   0%\r"
     ]
    },
    {
     "name": "stdout",
     "output_type": "stream",
     "text": [
      "Byssonectria terrestris 801\n"
     ]
    },
    {
     "name": "stderr",
     "output_type": "stream",
     "text": [
      "[========================================================================] 100%\n",
      " 79%|█████████████████████████████████████████████████████████▏              | 802/1009 [79:21:39<18:19:19, 318.65s/it][                                                                        ]   0%\r"
     ]
    },
    {
     "name": "stdout",
     "output_type": "stream",
     "text": [
      "Geastrum coronatum 802\n"
     ]
    },
    {
     "name": "stderr",
     "output_type": "stream",
     "text": [
      "[========================================================================] 100%\n",
      " 80%|█████████████████████████████████████████████████████████▎              | 803/1009 [79:26:47<18:03:14, 315.51s/it][                                                                        ]   0%\r"
     ]
    },
    {
     "name": "stdout",
     "output_type": "stream",
     "text": [
      "Stereum hirsutum 803\n"
     ]
    },
    {
     "name": "stderr",
     "output_type": "stream",
     "text": [
      "[========================================================================] 100%\n",
      " 80%|█████████████████████████████████████████████████████████▎              | 804/1009 [79:32:48<18:44:31, 329.13s/it][                                                                        ]   0%\r"
     ]
    },
    {
     "name": "stdout",
     "output_type": "stream",
     "text": [
      "Xeromphalina kauffmanii 804\n"
     ]
    },
    {
     "name": "stderr",
     "output_type": "stream",
     "text": [
      "[========================================================================] 100%\n",
      " 80%|█████████████████████████████████████████████████████████▍              | 805/1009 [79:38:12<18:33:16, 327.44s/it][                                                                        ]   0%\r"
     ]
    },
    {
     "name": "stdout",
     "output_type": "stream",
     "text": [
      "Trametes gibbosa 805\n"
     ]
    },
    {
     "name": "stderr",
     "output_type": "stream",
     "text": [
      "[========================================================================] 100%\n",
      " 80%|█████████████████████████████████████████████████████████▌              | 806/1009 [79:43:30<18:18:38, 324.72s/it][                                                                        ]   0%\r"
     ]
    },
    {
     "name": "stdout",
     "output_type": "stream",
     "text": [
      "Chlorociboria aeruginosa 806\n"
     ]
    },
    {
     "name": "stderr",
     "output_type": "stream",
     "text": [
      "[========================================================================] 100%\n",
      " 80%|█████████████████████████████████████████████████████████▌              | 807/1009 [79:48:24<17:41:56, 315.43s/it][                                                                        ]   0%\r"
     ]
    },
    {
     "name": "stdout",
     "output_type": "stream",
     "text": [
      "Peziza cerea 807\n"
     ]
    },
    {
     "name": "stderr",
     "output_type": "stream",
     "text": [
      "[========================================================================] 100%\n",
      " 80%|█████████████████████████████████████████████████████████▋              | 808/1009 [79:53:18<17:14:58, 308.95s/it][                                                                        ]   0%\r"
     ]
    },
    {
     "name": "stdout",
     "output_type": "stream",
     "text": [
      "Mycena zephirus 808\n"
     ]
    },
    {
     "name": "stderr",
     "output_type": "stream",
     "text": [
      "[========================================================================] 100%\n",
      " 80%|█████████████████████████████████████████████████████████▋              | 809/1009 [79:58:01<16:44:22, 301.31s/it][                                                                        ]   0%\r"
     ]
    },
    {
     "name": "stdout",
     "output_type": "stream",
     "text": [
      "Cheilymenia granulata 809\n"
     ]
    },
    {
     "name": "stderr",
     "output_type": "stream",
     "text": [
      "[========================================================================] 100%\n",
      " 80%|█████████████████████████████████████████████████████████▊              | 810/1009 [80:02:32<16:08:56, 292.14s/it][                                                                        ]   0%\r"
     ]
    },
    {
     "name": "stdout",
     "output_type": "stream",
     "text": [
      "Hapalopilus rutilans 810\n"
     ]
    },
    {
     "name": "stderr",
     "output_type": "stream",
     "text": [
      "[========================================================================] 100%\n",
      " 80%|█████████████████████████████████████████████████████████▊              | 811/1009 [80:08:13<16:52:17, 306.76s/it][                                                                        ]   0%\r"
     ]
    },
    {
     "name": "stdout",
     "output_type": "stream",
     "text": [
      "Gliophorus laetus 811\n"
     ]
    },
    {
     "name": "stderr",
     "output_type": "stream",
     "text": [
      "[========================================================================] 100%\n",
      " 80%|█████████████████████████████████████████████████████████▉              | 812/1009 [80:13:03<16:31:11, 301.89s/it][                                                                        ]   0%\r"
     ]
    },
    {
     "name": "stdout",
     "output_type": "stream",
     "text": [
      "Ileodictyon cibarium 812\n"
     ]
    },
    {
     "name": "stderr",
     "output_type": "stream",
     "text": [
      "[========================================================================] 100%\n",
      " 81%|██████████████████████████████████████████████████████████              | 813/1009 [80:19:49<18:07:53, 333.03s/it][                                                                        ]   0%\r"
     ]
    },
    {
     "name": "stdout",
     "output_type": "stream",
     "text": [
      "Mycena haematopus 813\n"
     ]
    },
    {
     "name": "stderr",
     "output_type": "stream",
     "text": [
      "[========================================================================] 100%\n",
      " 81%|██████████████████████████████████████████████████████████              | 814/1009 [80:26:09<18:48:30, 347.23s/it][                                                                        ]   0%\r"
     ]
    },
    {
     "name": "stdout",
     "output_type": "stream",
     "text": [
      "Exidia recisa 814\n"
     ]
    },
    {
     "name": "stderr",
     "output_type": "stream",
     "text": [
      "[========================================================================] 100%\n",
      " 81%|██████████████████████████████████████████████████████████▏             | 815/1009 [80:35:54<22:33:32, 418.62s/it][                                                                        ]   0%\r"
     ]
    },
    {
     "name": "stdout",
     "output_type": "stream",
     "text": [
      "Russula fulvograminea 815\n"
     ]
    },
    {
     "name": "stderr",
     "output_type": "stream",
     "text": [
      "[========================================================================] 100%\n",
      " 81%|██████████████████████████████████████████████████████████▏             | 816/1009 [80:40:43<20:21:07, 379.63s/it][                                                                        ]   0%\r"
     ]
    },
    {
     "name": "stdout",
     "output_type": "stream",
     "text": [
      "Hypholoma marginatum 816\n"
     ]
    },
    {
     "name": "stderr",
     "output_type": "stream",
     "text": [
      "[========================================================================] 100%\n",
      " 81%|██████████████████████████████████████████████████████████▎             | 817/1009 [80:45:36<18:51:47, 353.68s/it][                                                                        ]   0%\r"
     ]
    },
    {
     "name": "stdout",
     "output_type": "stream",
     "text": [
      "Hericium cirrhatum 817\n"
     ]
    },
    {
     "name": "stderr",
     "output_type": "stream",
     "text": [
      "[========================================================================] 100%\n",
      " 81%|██████████████████████████████████████████████████████████▎             | 818/1009 [80:49:39<17:00:01, 320.43s/it][                                                                        ]   0%\r"
     ]
    },
    {
     "name": "stdout",
     "output_type": "stream",
     "text": [
      "Boletopsis grisea 818\n"
     ]
    },
    {
     "name": "stderr",
     "output_type": "stream",
     "text": [
      "[========================================================================] 100%\n",
      " 81%|██████████████████████████████████████████████████████████▍             | 819/1009 [80:53:44<15:43:11, 297.85s/it][                                                                        ]   0%\r"
     ]
    },
    {
     "name": "stdout",
     "output_type": "stream",
     "text": [
      "Melanogaster ambiguus 819\n"
     ]
    },
    {
     "name": "stderr",
     "output_type": "stream",
     "text": [
      "[========================================================================] 100%\n",
      " 81%|██████████████████████████████████████████████████████████▌             | 820/1009 [80:58:21<15:17:57, 291.42s/it][                                                                        ]   0%\r"
     ]
    },
    {
     "name": "stdout",
     "output_type": "stream",
     "text": [
      "Agaricus nemoreus 820\n"
     ]
    },
    {
     "name": "stderr",
     "output_type": "stream",
     "text": [
      "[========================================================================] 100%\n",
      " 81%|██████████████████████████████████████████████████████████▌             | 821/1009 [81:01:47<13:53:35, 266.04s/it][                                                                        ]   0%\r"
     ]
    },
    {
     "name": "stdout",
     "output_type": "stream",
     "text": [
      "Cortinarius vernus 821\n"
     ]
    },
    {
     "name": "stderr",
     "output_type": "stream",
     "text": [
      "[========================================================================] 100%\n",
      " 81%|██████████████████████████████████████████████████████████▋             | 822/1009 [81:05:54<13:30:42, 260.12s/it][                                                                        ]   0%\r"
     ]
    },
    {
     "name": "stdout",
     "output_type": "stream",
     "text": [
      "Gloeophyllum odoratum 822\n"
     ]
    },
    {
     "name": "stderr",
     "output_type": "stream",
     "text": [
      "[========================================================================] 100%\n",
      " 82%|██████████████████████████████████████████████████████████▋             | 823/1009 [81:10:35<13:45:35, 266.32s/it][                                                                        ]   0%\r"
     ]
    },
    {
     "name": "stdout",
     "output_type": "stream",
     "text": [
      "Cortinarius hemitrichus 823\n"
     ]
    },
    {
     "name": "stderr",
     "output_type": "stream",
     "text": [
      "[========================================================================] 100%\n",
      " 82%|██████████████████████████████████████████████████████████▊             | 824/1009 [81:14:15<12:58:44, 252.57s/it][                                                                        ]   0%\r"
     ]
    },
    {
     "name": "stdout",
     "output_type": "stream",
     "text": [
      "Dacrymyces deliquescens 824\n"
     ]
    },
    {
     "name": "stderr",
     "output_type": "stream",
     "text": [
      "[========================================================================] 100%\n",
      " 82%|██████████████████████████████████████████████████████████▊             | 825/1009 [81:19:23<13:45:31, 269.19s/it][                                                                        ]   0%\r"
     ]
    },
    {
     "name": "stdout",
     "output_type": "stream",
     "text": [
      "Phaeotremella frondosa 825\n"
     ]
    },
    {
     "name": "stderr",
     "output_type": "stream",
     "text": [
      "[========================================================================] 100%\n",
      " 82%|██████████████████████████████████████████████████████████▉             | 826/1009 [81:25:34<15:14:15, 299.75s/it][                                                                        ]   0%\r"
     ]
    },
    {
     "name": "stdout",
     "output_type": "stream",
     "text": [
      "Pholiota lucifera 826\n"
     ]
    },
    {
     "name": "stderr",
     "output_type": "stream",
     "text": [
      "[========================================================================] 100%\n",
      " 82%|███████████████████████████████████████████████████████████             | 827/1009 [81:29:16<13:57:59, 276.26s/it][                                                                        ]   0%\r"
     ]
    },
    {
     "name": "stdout",
     "output_type": "stream",
     "text": [
      "Pluteus ephebeus 827\n"
     ]
    },
    {
     "name": "stderr",
     "output_type": "stream",
     "text": [
      "[========================================================================] 100%\n",
      " 82%|███████████████████████████████████████████████████████████             | 828/1009 [81:32:50<12:57:21, 257.69s/it][                                                                        ]   0%\r"
     ]
    },
    {
     "name": "stdout",
     "output_type": "stream",
     "text": [
      "Volkartia rhaetica 828\n"
     ]
    },
    {
     "name": "stderr",
     "output_type": "stream",
     "text": [
      "[========================================================================] 100%\n",
      " 82%|███████████████████████████████████████████████████████████▏            | 829/1009 [81:35:02<11:00:06, 220.04s/it][                                                                        ]   0%\r"
     ]
    },
    {
     "name": "stdout",
     "output_type": "stream",
     "text": [
      "Climacocystis borealis 829\n"
     ]
    },
    {
     "name": "stderr",
     "output_type": "stream",
     "text": [
      "[========================================================================] 100%\n",
      " 82%|███████████████████████████████████████████████████████████▏            | 830/1009 [81:39:39<11:47:30, 237.15s/it][                                                                        ]   0%\r"
     ]
    },
    {
     "name": "stdout",
     "output_type": "stream",
     "text": [
      "Pycnoporellus fulgens 830\n"
     ]
    },
    {
     "name": "stderr",
     "output_type": "stream",
     "text": [
      "[========================================================================] 100%\n",
      " 82%|███████████████████████████████████████████████████████████▎            | 831/1009 [81:44:52<12:50:58, 259.88s/it][                                                                        ]   0%\r"
     ]
    },
    {
     "name": "stdout",
     "output_type": "stream",
     "text": [
      "Pholiota polychroa 831\n"
     ]
    },
    {
     "name": "stderr",
     "output_type": "stream",
     "text": [
      "[========================================================================] 100%\n",
      " 82%|███████████████████████████████████████████████████████████▎            | 832/1009 [81:51:32<14:51:01, 302.04s/it][                                                                        ]   0%\r"
     ]
    },
    {
     "name": "stdout",
     "output_type": "stream",
     "text": [
      "Crepidotus variabilis 832\n"
     ]
    },
    {
     "name": "stderr",
     "output_type": "stream",
     "text": [
      "[========================================================================] 100%\n",
      " 83%|███████████████████████████████████████████████████████████▍            | 833/1009 [81:55:19<13:39:28, 279.37s/it][                                                                        ]   0%\r"
     ]
    },
    {
     "name": "stdout",
     "output_type": "stream",
     "text": [
      "Trichaptum abietinum 833\n"
     ]
    },
    {
     "name": "stderr",
     "output_type": "stream",
     "text": [
      "[========================================================================] 100%\n",
      " 83%|███████████████████████████████████████████████████████████▌            | 834/1009 [82:00:26<13:59:18, 287.77s/it][                                                                        ]   0%\r"
     ]
    },
    {
     "name": "stdout",
     "output_type": "stream",
     "text": [
      "Lignomyces vetlinianus 834\n"
     ]
    },
    {
     "name": "stderr",
     "output_type": "stream",
     "text": [
      "[========================================================================] 100%\n",
      " 83%|███████████████████████████████████████████████████████████▌            | 835/1009 [82:03:36<12:29:23, 258.41s/it][                                                                        ]   0%\r"
     ]
    },
    {
     "name": "stdout",
     "output_type": "stream",
     "text": [
      "Calostoma cinnabarina 835\n"
     ]
    },
    {
     "name": "stderr",
     "output_type": "stream",
     "text": [
      "[========================================================================] 100%\n",
      " 83%|███████████████████████████████████████████████████████████▋            | 836/1009 [82:08:49<13:11:58, 274.67s/it][                                                                        ]   0%\r"
     ]
    },
    {
     "name": "stdout",
     "output_type": "stream",
     "text": [
      "Cortinarius paleaceus 836\n"
     ]
    },
    {
     "name": "stderr",
     "output_type": "stream",
     "text": [
      "[========================================================================] 100%\n",
      " 83%|███████████████████████████████████████████████████████████▋            | 837/1009 [82:14:19<13:55:19, 291.39s/it][                                                                        ]   0%\r"
     ]
    },
    {
     "name": "stdout",
     "output_type": "stream",
     "text": [
      "Phylloporus rhodoxanthus 837\n"
     ]
    },
    {
     "name": "stderr",
     "output_type": "stream",
     "text": [
      "[========================================================================] 100%\n",
      " 83%|███████████████████████████████████████████████████████████▊            | 838/1009 [82:20:10<14:41:38, 309.35s/it][                                                                        ]   0%\r"
     ]
    },
    {
     "name": "stdout",
     "output_type": "stream",
     "text": [
      "Entoloma euchroum 838\n"
     ]
    },
    {
     "name": "stderr",
     "output_type": "stream",
     "text": [
      "[========================================================================] 100%\n",
      " 83%|███████████████████████████████████████████████████████████▊            | 839/1009 [82:24:35<13:58:09, 295.82s/it][                                                                        ]   0%\r"
     ]
    },
    {
     "name": "stdout",
     "output_type": "stream",
     "text": [
      "Simocybe centunculus 839\n"
     ]
    },
    {
     "name": "stderr",
     "output_type": "stream",
     "text": [
      "[========================================================================] 100%\n",
      " 83%|███████████████████████████████████████████████████████████▉            | 840/1009 [82:30:07<14:24:25, 306.90s/it][                                                                        ]   0%\r"
     ]
    },
    {
     "name": "stdout",
     "output_type": "stream",
     "text": [
      "Xylaria longipes 840\n"
     ]
    },
    {
     "name": "stderr",
     "output_type": "stream",
     "text": [
      "[========================================================================] 100%\n",
      " 83%|████████████████████████████████████████████████████████████            | 841/1009 [82:34:49<13:57:50, 299.23s/it][                                                                        ]   0%\r"
     ]
    },
    {
     "name": "stdout",
     "output_type": "stream",
     "text": [
      "Geastrum striatum 841\n"
     ]
    },
    {
     "name": "stderr",
     "output_type": "stream",
     "text": [
      "[========================================================================] 100%\n",
      " 83%|████████████████████████████████████████████████████████████            | 842/1009 [82:38:43<12:58:18, 279.63s/it][                                                                        ]   0%\r"
     ]
    },
    {
     "name": "stdout",
     "output_type": "stream",
     "text": [
      "Aurantiporus fissilis 842\n"
     ]
    },
    {
     "name": "stderr",
     "output_type": "stream",
     "text": [
      "[========================================================================] 100%\n",
      " 84%|████████████████████████████████████████████████████████████▏           | 843/1009 [82:44:08<13:31:09, 293.19s/it][                                                                        ]   0%\r"
     ]
    },
    {
     "name": "stdout",
     "output_type": "stream",
     "text": [
      "Schizophyllum amplum 843\n"
     ]
    },
    {
     "name": "stderr",
     "output_type": "stream",
     "text": [
      "[========================================================================] 100%\n",
      " 84%|████████████████████████████████████████████████████████████▏           | 844/1009 [82:48:30<13:01:02, 284.02s/it][                                                                        ]   0%\r"
     ]
    },
    {
     "name": "stdout",
     "output_type": "stream",
     "text": [
      "Cudonia circinans 844\n"
     ]
    },
    {
     "name": "stderr",
     "output_type": "stream",
     "text": [
      "[========================================================================] 100%\n",
      " 84%|████████████████████████████████████████████████████████████▎           | 845/1009 [82:53:52<13:27:35, 295.46s/it][                                                                        ]   0%\r"
     ]
    },
    {
     "name": "stdout",
     "output_type": "stream",
     "text": [
      "Crepidotus applanatus 845\n"
     ]
    },
    {
     "name": "stderr",
     "output_type": "stream",
     "text": [
      "[========================================================================] 100%\n",
      " 84%|████████████████████████████████████████████████████████████▎           | 846/1009 [82:58:23<13:02:15, 287.95s/it][                                                                        ]   0%\r"
     ]
    },
    {
     "name": "stdout",
     "output_type": "stream",
     "text": [
      "Agaricus semotus 846\n"
     ]
    },
    {
     "name": "stderr",
     "output_type": "stream",
     "text": [
      "[========================================================================] 100%\n",
      " 84%|████████████████████████████████████████████████████████████▍           | 847/1009 [83:03:12<12:58:10, 288.21s/it][                                                                        ]   0%\r"
     ]
    },
    {
     "name": "stdout",
     "output_type": "stream",
     "text": [
      "Omphalina mutila 847\n"
     ]
    },
    {
     "name": "stderr",
     "output_type": "stream",
     "text": [
      "[========================================================================] 100%\n",
      " 84%|████████████████████████████████████████████████████████████▌           | 848/1009 [83:07:05<12:09:12, 271.75s/it][                                                                        ]   0%\r"
     ]
    },
    {
     "name": "stdout",
     "output_type": "stream",
     "text": [
      "Trichaptum fuscoviolaceum 848\n"
     ]
    },
    {
     "name": "stderr",
     "output_type": "stream",
     "text": [
      "[========================================================================] 100%\n",
      " 84%|████████████████████████████████████████████████████████████▌           | 849/1009 [83:12:15<12:35:12, 283.20s/it][                                                                        ]   0%\r"
     ]
    },
    {
     "name": "stdout",
     "output_type": "stream",
     "text": [
      "Geastrum minimum 849\n"
     ]
    },
    {
     "name": "stderr",
     "output_type": "stream",
     "text": [
      "[========================================================================] 100%\n",
      " 84%|████████████████████████████████████████████████████████████▋           | 850/1009 [83:16:11<11:52:46, 268.97s/it][                                                                        ]   0%\r"
     ]
    },
    {
     "name": "stdout",
     "output_type": "stream",
     "text": [
      "Gloeophyllum sepiarium 850\n"
     ]
    },
    {
     "name": "stderr",
     "output_type": "stream",
     "text": [
      "[========================================================================] 100%\n",
      " 84%|████████████████████████████████████████████████████████████▋           | 851/1009 [83:22:09<12:59:10, 295.89s/it][                                                                        ]   0%\r"
     ]
    },
    {
     "name": "stdout",
     "output_type": "stream",
     "text": [
      "Phellodon tomentosus 851\n"
     ]
    },
    {
     "name": "stderr",
     "output_type": "stream",
     "text": [
      "[========================================================================] 100%\n",
      " 84%|████████████████████████████████████████████████████████████▊           | 852/1009 [83:27:51<13:30:30, 309.75s/it][                                                                        ]   0%\r"
     ]
    },
    {
     "name": "stdout",
     "output_type": "stream",
     "text": [
      "Myxomphalia maura 852\n"
     ]
    },
    {
     "name": "stderr",
     "output_type": "stream",
     "text": [
      "[========================================================================] 100%\n",
      " 85%|████████████████████████████████████████████████████████████▊           | 853/1009 [83:32:42<13:10:19, 303.97s/it][                                                                        ]   0%\r"
     ]
    },
    {
     "name": "stdout",
     "output_type": "stream",
     "text": [
      "Hygrocybe acutoconica 853\n"
     ]
    },
    {
     "name": "stderr",
     "output_type": "stream",
     "text": [
      "[========================================================================] 100%\n",
      " 85%|████████████████████████████████████████████████████████████▉           | 854/1009 [83:37:44<13:03:33, 303.32s/it][                                                                        ]   0%\r"
     ]
    },
    {
     "name": "stdout",
     "output_type": "stream",
     "text": [
      "Postia caesia 854\n"
     ]
    },
    {
     "name": "stderr",
     "output_type": "stream",
     "text": [
      "[========================================================================] 100%\n",
      " 85%|█████████████████████████████████████████████████████████████           | 855/1009 [83:42:40<12:53:17, 301.28s/it][                                                                        ]   0%\r"
     ]
    },
    {
     "name": "stdout",
     "output_type": "stream",
     "text": [
      "Hydnellum aurantiacum 855\n"
     ]
    },
    {
     "name": "stderr",
     "output_type": "stream",
     "text": [
      "[========================================================================] 100%\n",
      " 85%|█████████████████████████████████████████████████████████████           | 856/1009 [83:47:56<12:59:31, 305.69s/it][                                                                        ]   0%\r"
     ]
    },
    {
     "name": "stdout",
     "output_type": "stream",
     "text": [
      "Collybia tuberosa 856\n"
     ]
    },
    {
     "name": "stderr",
     "output_type": "stream",
     "text": [
      "[========================================================================] 100%\n",
      " 85%|█████████████████████████████████████████████████████████████▏          | 857/1009 [83:52:56<12:49:37, 303.80s/it][                                                                        ]   0%\r"
     ]
    },
    {
     "name": "stdout",
     "output_type": "stream",
     "text": [
      "Trametes trogii 857\n"
     ]
    },
    {
     "name": "stderr",
     "output_type": "stream",
     "text": [
      "[========================================================================] 100%\n",
      " 85%|█████████████████████████████████████████████████████████████▏          | 858/1009 [83:58:04<12:47:53, 305.12s/it][                                                                        ]   0%\r"
     ]
    },
    {
     "name": "stdout",
     "output_type": "stream",
     "text": [
      "Pluteus podospileus 858\n"
     ]
    },
    {
     "name": "stderr",
     "output_type": "stream",
     "text": [
      "[========================================================================] 100%\n",
      " 85%|█████████████████████████████████████████████████████████████▎          | 859/1009 [84:02:07<11:56:34, 286.63s/it][                                                                        ]   0%\r"
     ]
    },
    {
     "name": "stdout",
     "output_type": "stream",
     "text": [
      "Climacodon pulcherrimus 859\n"
     ]
    },
    {
     "name": "stderr",
     "output_type": "stream",
     "text": [
      "[========================================================================] 100%\n",
      " 85%|█████████████████████████████████████████████████████████████▎          | 860/1009 [84:09:09<13:32:32, 327.20s/it][                                                                        ]   0%\r"
     ]
    },
    {
     "name": "stdout",
     "output_type": "stream",
     "text": [
      "Pseudoplectania nigrella 860\n"
     ]
    },
    {
     "name": "stderr",
     "output_type": "stream",
     "text": [
      "[========================================================================] 100%\n",
      " 85%|█████████████████████████████████████████████████████████████▍          | 861/1009 [84:14:29<13:22:02, 325.15s/it][                                                                        ]   0%\r"
     ]
    },
    {
     "name": "stdout",
     "output_type": "stream",
     "text": [
      "Volvariella surrecta 861\n"
     ]
    },
    {
     "name": "stderr",
     "output_type": "stream",
     "text": [
      "[========================================================================] 100%\n",
      " 85%|█████████████████████████████████████████████████████████████▌          | 862/1009 [84:19:03<12:38:48, 309.72s/it][                                                                        ]   0%\r"
     ]
    },
    {
     "name": "stdout",
     "output_type": "stream",
     "text": [
      "Cudonia confusa 862\n"
     ]
    },
    {
     "name": "stderr",
     "output_type": "stream",
     "text": [
      "[========================================================================] 100%\n",
      " 86%|█████████████████████████████████████████████████████████████▌          | 863/1009 [84:22:40<11:25:42, 281.80s/it][                                                                        ]   0%\r"
     ]
    },
    {
     "name": "stdout",
     "output_type": "stream",
     "text": [
      "Spinellus fusiger 863\n"
     ]
    },
    {
     "name": "stderr",
     "output_type": "stream",
     "text": [
      "[========================================================================] 100%\n",
      " 86%|█████████████████████████████████████████████████████████████▋          | 864/1009 [84:27:58<11:47:26, 292.73s/it][                                                                        ]   0%\r"
     ]
    },
    {
     "name": "stdout",
     "output_type": "stream",
     "text": [
      "Deconica philipsii 864\n"
     ]
    },
    {
     "name": "stderr",
     "output_type": "stream",
     "text": [
      "[========================================================================] 100%\n",
      " 86%|█████████████████████████████████████████████████████████████▋          | 865/1009 [84:32:09<11:12:32, 280.23s/it][                                                                        ]   0%\r"
     ]
    },
    {
     "name": "stdout",
     "output_type": "stream",
     "text": [
      "Caloscypha fulgens 865\n"
     ]
    },
    {
     "name": "stderr",
     "output_type": "stream",
     "text": [
      "[========================================================================] 100%\n",
      " 86%|█████████████████████████████████████████████████████████████▊          | 866/1009 [84:37:06<11:19:45, 285.22s/it][                                                                        ]   0%\r"
     ]
    },
    {
     "name": "stdout",
     "output_type": "stream",
     "text": [
      "Marasmius ramealis 866\n"
     ]
    },
    {
     "name": "stderr",
     "output_type": "stream",
     "text": [
      "[========================================================================] 100%\n",
      " 86%|█████████████████████████████████████████████████████████████▊          | 867/1009 [84:40:29<10:16:38, 260.56s/it][                                                                        ]   0%\r"
     ]
    },
    {
     "name": "stdout",
     "output_type": "stream",
     "text": [
      "Helvella macropus 867\n"
     ]
    },
    {
     "name": "stderr",
     "output_type": "stream",
     "text": [
      "[========================================================================] 100%\n",
      " 86%|█████████████████████████████████████████████████████████████▉          | 868/1009 [84:45:59<11:01:33, 281.52s/it][                                                                        ]   0%\r"
     ]
    },
    {
     "name": "stdout",
     "output_type": "stream",
     "text": [
      "Tuber himalayense 868\n"
     ]
    },
    {
     "name": "stderr",
     "output_type": "stream",
     "text": [
      "[========================================================================] 100%\n",
      " 86%|██████████████████████████████████████████████████████████████          | 869/1009 [84:50:47<11:01:16, 283.41s/it][                                                                        ]   0%\r"
     ]
    },
    {
     "name": "stdout",
     "output_type": "stream",
     "text": [
      "Entoloma cyanulum 869\n"
     ]
    },
    {
     "name": "stderr",
     "output_type": "stream",
     "text": [
      "[========================================================================] 100%\n",
      " 86%|██████████████████████████████████████████████████████████████          | 870/1009 [84:56:05<11:20:42, 293.83s/it][                                                                        ]   0%\r"
     ]
    },
    {
     "name": "stdout",
     "output_type": "stream",
     "text": [
      "Entoloma hirtipes 870\n"
     ]
    },
    {
     "name": "stderr",
     "output_type": "stream",
     "text": [
      "[========================================================================] 100%\n",
      " 86%|██████████████████████████████████████████████████████████████▏         | 871/1009 [85:01:18<11:28:55, 299.54s/it][                                                                        ]   0%\r"
     ]
    },
    {
     "name": "stdout",
     "output_type": "stream",
     "text": [
      "Xerula pudens 871\n"
     ]
    },
    {
     "name": "stderr",
     "output_type": "stream",
     "text": [
      "[========================================================================] 100%\n",
      " 86%|██████████████████████████████████████████████████████████████▏         | 872/1009 [85:05:28<10:49:53, 284.62s/it][                                                                        ]   0%\r"
     ]
    },
    {
     "name": "stdout",
     "output_type": "stream",
     "text": [
      "Brunnipila clandestina 872\n"
     ]
    },
    {
     "name": "stderr",
     "output_type": "stream",
     "text": [
      "[========================================================================] 100%\n",
      " 87%|███████████████████████████████████████████████████████████████▏         | 873/1009 [85:08:15<9:24:46, 249.16s/it][                                                                        ]   0%\r"
     ]
    },
    {
     "name": "stdout",
     "output_type": "stream",
     "text": [
      "Catinella olivacea 873\n"
     ]
    },
    {
     "name": "stderr",
     "output_type": "stream",
     "text": [
      "[========================================================================] 100%\n",
      " 87%|███████████████████████████████████████████████████████████████▏         | 874/1009 [85:12:49<9:37:45, 256.78s/it][                                                                        ]   0%\r"
     ]
    },
    {
     "name": "stdout",
     "output_type": "stream",
     "text": [
      "Phellinus tuberculosus 874\n"
     ]
    },
    {
     "name": "stderr",
     "output_type": "stream",
     "text": [
      "[========================================================================] 100%\n",
      " 87%|███████████████████████████████████████████████████████████████▎         | 875/1009 [85:16:42<9:17:42, 249.72s/it][                                                                        ]   0%\r"
     ]
    },
    {
     "name": "stdout",
     "output_type": "stream",
     "text": [
      "Syzygospora mycetophila 875\n"
     ]
    },
    {
     "name": "stderr",
     "output_type": "stream",
     "text": [
      "[========================================================================] 100%\n",
      " 87%|███████████████████████████████████████████████████████████████▍         | 876/1009 [85:20:45<9:08:34, 247.47s/it][                                                                        ]   0%\r"
     ]
    },
    {
     "name": "stdout",
     "output_type": "stream",
     "text": [
      "Strobilurus stephanocystis 876\n"
     ]
    },
    {
     "name": "stderr",
     "output_type": "stream",
     "text": [
      "[========================================================================] 100%\n",
      " 87%|███████████████████████████████████████████████████████████████▍         | 877/1009 [85:24:37<8:54:21, 242.89s/it][                                                                        ]   0%\r"
     ]
    },
    {
     "name": "stdout",
     "output_type": "stream",
     "text": [
      "Marasmius wettsteinii 877\n"
     ]
    },
    {
     "name": "stderr",
     "output_type": "stream",
     "text": [
      "[========================================================================] 100%\n",
      " 87%|███████████████████████████████████████████████████████████████▌         | 878/1009 [85:28:56<9:00:45, 247.67s/it][                                                                        ]   0%\r"
     ]
    },
    {
     "name": "stdout",
     "output_type": "stream",
     "text": [
      "Mycena 878\n"
     ]
    },
    {
     "name": "stderr",
     "output_type": "stream",
     "text": [
      "[========================================================================] 100%\n",
      " 87%|██████████████████████████████████████████████████████████████▋         | 879/1009 [85:35:00<10:12:20, 282.62s/it][                                                                        ]   0%\r"
     ]
    },
    {
     "name": "stdout",
     "output_type": "stream",
     "text": [
      "Xylaria hypoxylon 879\n"
     ]
    },
    {
     "name": "stderr",
     "output_type": "stream",
     "text": [
      "[========================================================================] 100%\n",
      " 87%|██████████████████████████████████████████████████████████████▊         | 880/1009 [85:41:15<11:07:08, 310.30s/it][                                                                        ]   0%\r"
     ]
    },
    {
     "name": "stdout",
     "output_type": "stream",
     "text": [
      "Ciboria amentacea 880\n"
     ]
    },
    {
     "name": "stderr",
     "output_type": "stream",
     "text": [
      "[========================================================================] 100%\n",
      " 87%|██████████████████████████████████████████████████████████████▊         | 881/1009 [85:46:05<10:49:17, 304.35s/it][                                                                        ]   0%\r"
     ]
    },
    {
     "name": "stdout",
     "output_type": "stream",
     "text": [
      "Pluteus phlebophorus 881\n"
     ]
    },
    {
     "name": "stderr",
     "output_type": "stream",
     "text": [
      "[========================================================================] 100%\n",
      " 87%|██████████████████████████████████████████████████████████████▉         | 882/1009 [85:50:35<10:22:09, 293.94s/it][                                                                        ]   0%\r"
     ]
    },
    {
     "name": "stdout",
     "output_type": "stream",
     "text": [
      "Pholiota tuberculosa 882\n"
     ]
    },
    {
     "name": "stderr",
     "output_type": "stream",
     "text": [
      "[========================================================================] 100%\n",
      " 88%|███████████████████████████████████████████████████████████████▉         | 883/1009 [85:53:49<9:14:41, 264.14s/it][                                                                        ]   0%\r"
     ]
    },
    {
     "name": "stdout",
     "output_type": "stream",
     "text": [
      "Naucoria subconspersa 883\n"
     ]
    },
    {
     "name": "stderr",
     "output_type": "stream",
     "text": [
      "[========================================================================] 100%\n",
      " 88%|███████████████████████████████████████████████████████████████▉         | 884/1009 [85:57:49<8:55:09, 256.88s/it][                                                                        ]   0%\r"
     ]
    },
    {
     "name": "stdout",
     "output_type": "stream",
     "text": [
      "Phlebia radiata 884\n"
     ]
    },
    {
     "name": "stderr",
     "output_type": "stream",
     "text": [
      "[========================================================================] 100%\n",
      " 88%|████████████████████████████████████████████████████████████████         | 885/1009 [86:02:57<9:22:06, 271.99s/it][                                                                        ]   0%\r"
     ]
    },
    {
     "name": "stdout",
     "output_type": "stream",
     "text": [
      "Thelephora palmata 885\n"
     ]
    },
    {
     "name": "stderr",
     "output_type": "stream",
     "text": [
      "[========================================================================] 100%\n",
      " 88%|████████████████████████████████████████████████████████████████         | 886/1009 [86:08:22<9:50:22, 287.99s/it][                                                                        ]   0%\r"
     ]
    },
    {
     "name": "stdout",
     "output_type": "stream",
     "text": [
      "Mycena citrinomarginata 886\n"
     ]
    },
    {
     "name": "stderr",
     "output_type": "stream",
     "text": [
      "[========================================================================] 100%\n",
      " 88%|████████████████████████████████████████████████████████████████▏        | 887/1009 [86:13:32<9:59:10, 294.67s/it][                                                                        ]   0%\r"
     ]
    },
    {
     "name": "stdout",
     "output_type": "stream",
     "text": [
      "Omphalina umbellifera 887\n"
     ]
    },
    {
     "name": "stderr",
     "output_type": "stream",
     "text": [
      "[========================================================================] 100%\n",
      " 88%|████████████████████████████████████████████████████████████████▏        | 888/1009 [86:18:21<9:50:31, 292.82s/it][                                                                        ]   0%\r"
     ]
    },
    {
     "name": "stdout",
     "output_type": "stream",
     "text": [
      "Cortinarius alcalinophilus 888\n"
     ]
    },
    {
     "name": "stderr",
     "output_type": "stream",
     "text": [
      "[========================================================================] 100%\n",
      " 88%|████████████████████████████████████████████████████████████████▎        | 889/1009 [86:23:17<9:47:57, 293.98s/it][                                                                        ]   0%\r"
     ]
    },
    {
     "name": "stdout",
     "output_type": "stream",
     "text": [
      "Metuloidea murashkinskyi 889\n"
     ]
    },
    {
     "name": "stderr",
     "output_type": "stream",
     "text": [
      "[========================================================================] 100%\n",
      " 88%|████████████████████████████████████████████████████████████████▍        | 890/1009 [86:27:06<9:04:06, 274.34s/it][                                                                        ]   0%\r"
     ]
    },
    {
     "name": "stdout",
     "output_type": "stream",
     "text": [
      "Hygrocybe quieta 890\n"
     ]
    },
    {
     "name": "stderr",
     "output_type": "stream",
     "text": [
      "[========================================================================] 100%\n",
      " 88%|████████████████████████████████████████████████████████████████▍        | 891/1009 [86:30:48<8:28:30, 258.57s/it][                                                                        ]   0%\r"
     ]
    },
    {
     "name": "stdout",
     "output_type": "stream",
     "text": [
      "Phellinus lundellii 891\n"
     ]
    },
    {
     "name": "stderr",
     "output_type": "stream",
     "text": [
      "[========================================================================] 100%\n",
      " 88%|████████████████████████████████████████████████████████████████▌        | 892/1009 [86:35:08<8:25:19, 259.14s/it][                                                                        ]   0%\r"
     ]
    },
    {
     "name": "stdout",
     "output_type": "stream",
     "text": [
      "Trichaptum laricinum 892\n"
     ]
    },
    {
     "name": "stderr",
     "output_type": "stream",
     "text": [
      "[========================================================================] 100%\n",
      " 89%|████████████████████████████████████████████████████████████████▌        | 893/1009 [86:39:33<8:24:34, 260.99s/it][                                                                        ]   0%\r"
     ]
    },
    {
     "name": "stdout",
     "output_type": "stream",
     "text": [
      "Nidularia deformis 893\n"
     ]
    },
    {
     "name": "stderr",
     "output_type": "stream",
     "text": [
      "[========================================================================] 100%\n",
      " 89%|████████████████████████████████████████████████████████████████▋        | 894/1009 [86:44:22<8:36:18, 269.38s/it][                                                                        ]   0%\r"
     ]
    },
    {
     "name": "stdout",
     "output_type": "stream",
     "text": [
      "Limacella glischra 894\n"
     ]
    },
    {
     "name": "stderr",
     "output_type": "stream",
     "text": [
      "[========================================================================] 100%\n",
      " 89%|████████████████████████████████████████████████████████████████▊        | 895/1009 [86:50:03<9:12:39, 290.87s/it][                                                                        ]   0%\r"
     ]
    },
    {
     "name": "stdout",
     "output_type": "stream",
     "text": [
      "Ileodictyon gracile 895\n"
     ]
    },
    {
     "name": "stderr",
     "output_type": "stream",
     "text": [
      "[========================================================================] 100%\n",
      " 89%|████████████████████████████████████████████████████████████████▊        | 896/1009 [86:56:16<9:54:17, 315.56s/it][                                                                        ]   0%\r"
     ]
    },
    {
     "name": "stdout",
     "output_type": "stream",
     "text": [
      "Cortinarius lepistoides 896\n"
     ]
    },
    {
     "name": "stderr",
     "output_type": "stream",
     "text": [
      "[========================================================================] 100%\n",
      " 89%|████████████████████████████████████████████████████████████████▉        | 897/1009 [87:00:41<9:20:21, 300.19s/it][                                                                        ]   0%\r"
     ]
    },
    {
     "name": "stdout",
     "output_type": "stream",
     "text": [
      "Wynnea americana 897\n"
     ]
    },
    {
     "name": "stderr",
     "output_type": "stream",
     "text": [
      "[========================================================================] 100%\n",
      " 89%|████████████████████████████████████████████████████████████████▉        | 898/1009 [87:05:22<9:04:53, 294.54s/it][                                                                        ]   0%\r"
     ]
    },
    {
     "name": "stdout",
     "output_type": "stream",
     "text": [
      "Pseudohygrocybe cantharellus 898\n"
     ]
    },
    {
     "name": "stderr",
     "output_type": "stream",
     "text": [
      "[========================================================================] 100%\n",
      " 89%|████████████████████████████████████████████████████████████████▏       | 899/1009 [87:12:20<10:08:00, 331.64s/it][                                                                        ]   0%\r"
     ]
    },
    {
     "name": "stdout",
     "output_type": "stream",
     "text": [
      "Limacella illinita 899\n"
     ]
    },
    {
     "name": "stderr",
     "output_type": "stream",
     "text": [
      "[========================================================================] 100%\n",
      " 89%|████████████████████████████████████████████████████████████████▏       | 900/1009 [87:19:10<10:45:03, 355.08s/it][                                                                        ]   0%\r"
     ]
    },
    {
     "name": "stdout",
     "output_type": "stream",
     "text": [
      "Mycena acicula 900\n"
     ]
    },
    {
     "name": "stderr",
     "output_type": "stream",
     "text": [
      "[========================================================================] 100%\n",
      " 89%|████████████████████████████████████████████████████████████████▎       | 901/1009 [87:26:40<11:30:22, 383.54s/it][                                                                        ]   0%\r"
     ]
    },
    {
     "name": "stdout",
     "output_type": "stream",
     "text": [
      "Pluteus hongoi 901\n"
     ]
    },
    {
     "name": "stderr",
     "output_type": "stream",
     "text": [
      "[========================================================================] 100%\n",
      " 89%|████████████████████████████████████████████████████████████████▎       | 902/1009 [87:32:22<11:01:56, 371.18s/it][                                                                        ]   0%\r"
     ]
    },
    {
     "name": "stdout",
     "output_type": "stream",
     "text": [
      "Pluteus atromarginatus 902\n"
     ]
    },
    {
     "name": "stderr",
     "output_type": "stream",
     "text": [
      "[========================================================================] 100%\n",
      " 89%|████████████████████████████████████████████████████████████████▍       | 903/1009 [87:40:01<11:42:12, 397.47s/it][                                                                        ]   0%\r"
     ]
    },
    {
     "name": "stdout",
     "output_type": "stream",
     "text": [
      "Leocarpus fragilis 903\n"
     ]
    },
    {
     "name": "stderr",
     "output_type": "stream",
     "text": [
      "[========================================================================] 100%\n",
      " 90%|████████████████████████████████████████████████████████████████▌       | 904/1009 [87:49:00<12:49:40, 439.82s/it][                                                                        ]   0%\r"
     ]
    },
    {
     "name": "stdout",
     "output_type": "stream",
     "text": [
      "Phellinus conchatus 904\n"
     ]
    },
    {
     "name": "stderr",
     "output_type": "stream",
     "text": [
      "[========================================================================] 100%\n",
      " 90%|████████████████████████████████████████████████████████████████▌       | 905/1009 [87:57:07<13:07:07, 454.11s/it][                                                                        ]   0%\r"
     ]
    },
    {
     "name": "stdout",
     "output_type": "stream",
     "text": [
      "Tulostoma brumale 905\n"
     ]
    },
    {
     "name": "stderr",
     "output_type": "stream",
     "text": [
      "[========================================================================] 100%\n",
      " 90%|████████████████████████████████████████████████████████████████▋       | 906/1009 [88:02:51<12:02:26, 420.84s/it][                                                                        ]   0%\r"
     ]
    },
    {
     "name": "stdout",
     "output_type": "stream",
     "text": [
      "Cortinarius hinnuleus 906\n"
     ]
    },
    {
     "name": "stderr",
     "output_type": "stream",
     "text": [
      "[========================================================================] 100%\n",
      " 90%|████████████████████████████████████████████████████████████████▋       | 907/1009 [88:10:13<12:06:36, 427.41s/it][                                                                        ]   0%\r"
     ]
    },
    {
     "name": "stdout",
     "output_type": "stream",
     "text": [
      "Stereum subtomentosum 907\n"
     ]
    },
    {
     "name": "stderr",
     "output_type": "stream",
     "text": [
      "[========================================================================] 100%\n",
      " 90%|████████████████████████████████████████████████████████████████▊       | 908/1009 [88:16:51<11:44:30, 418.52s/it][                                                                        ]   0%\r"
     ]
    },
    {
     "name": "stdout",
     "output_type": "stream",
     "text": [
      "Gloeophyllum abietinum 908\n"
     ]
    },
    {
     "name": "stderr",
     "output_type": "stream",
     "text": [
      "[========================================================================] 100%\n",
      " 90%|████████████████████████████████████████████████████████████████▊       | 909/1009 [88:23:48<11:36:31, 417.91s/it][                                                                        ]   0%\r"
     ]
    },
    {
     "name": "stdout",
     "output_type": "stream",
     "text": [
      "Entoloma asprellum 909\n"
     ]
    },
    {
     "name": "stderr",
     "output_type": "stream",
     "text": [
      "[========================================================================] 100%\n",
      " 90%|████████████████████████████████████████████████████████████████▉       | 910/1009 [88:29:54<11:04:02, 402.45s/it][                                                                        ]   0%\r"
     ]
    },
    {
     "name": "stdout",
     "output_type": "stream",
     "text": [
      "Leccinum rotundifoliae 910\n"
     ]
    },
    {
     "name": "stderr",
     "output_type": "stream",
     "text": [
      "[========================================================================] 100%\n",
      " 90%|█████████████████████████████████████████████████████████████████       | 911/1009 [88:36:43<11:00:45, 404.55s/it][                                                                        ]   0%\r"
     ]
    },
    {
     "name": "stdout",
     "output_type": "stream",
     "text": [
      "Omphalina epichysium 911\n"
     ]
    },
    {
     "name": "stderr",
     "output_type": "stream",
     "text": [
      "[========================================================================] 100%\n",
      " 90%|█████████████████████████████████████████████████████████████████       | 912/1009 [88:42:01<10:11:37, 378.32s/it][                                                                        ]   0%\r"
     ]
    },
    {
     "name": "stdout",
     "output_type": "stream",
     "text": [
      "Pluteus fenzlii 912\n"
     ]
    },
    {
     "name": "stderr",
     "output_type": "stream",
     "text": [
      "[========================================================================] 100%\n",
      " 90%|██████████████████████████████████████████████████████████████████       | 913/1009 [88:47:36<9:44:49, 365.51s/it][                                                                        ]   0%\r"
     ]
    },
    {
     "name": "stdout",
     "output_type": "stream",
     "text": [
      "Cortinarius saturninus 913\n"
     ]
    },
    {
     "name": "stderr",
     "output_type": "stream",
     "text": [
      "[========================================================================] 100%\n",
      " 91%|██████████████████████████████████████████████████████████████████▏      | 914/1009 [88:53:19<9:28:00, 358.74s/it][                                                                        ]   0%\r"
     ]
    },
    {
     "name": "stdout",
     "output_type": "stream",
     "text": [
      "Chlorophyllum agaricoides 914\n"
     ]
    },
    {
     "name": "stderr",
     "output_type": "stream",
     "text": [
      "[========================================================================] 100%\n",
      " 91%|██████████████████████████████████████████████████████████████████▏      | 915/1009 [88:59:16<9:21:18, 358.28s/it][                                                                        ]   0%\r"
     ]
    },
    {
     "name": "stdout",
     "output_type": "stream",
     "text": [
      "Delicatula integrella 915\n"
     ]
    },
    {
     "name": "stderr",
     "output_type": "stream",
     "text": [
      "[========================================================================] 100%\n",
      " 91%|██████████████████████████████████████████████████████████████████▎      | 916/1009 [89:05:45<9:29:24, 367.36s/it][                                                                        ]   0%\r"
     ]
    },
    {
     "name": "stdout",
     "output_type": "stream",
     "text": [
      "Gloeophyllum trabeum 916\n"
     ]
    },
    {
     "name": "stderr",
     "output_type": "stream",
     "text": [
      "[========================================================================] 100%\n",
      " 91%|██████████████████████████████████████████████████████████████████▎      | 917/1009 [89:12:39<9:44:47, 381.39s/it][                                                                        ]   0%\r"
     ]
    },
    {
     "name": "stdout",
     "output_type": "stream",
     "text": [
      "Phellinus nigrolimitatus 917\n"
     ]
    },
    {
     "name": "stderr",
     "output_type": "stream",
     "text": [
      "[========================================================================] 100%\n",
      " 91%|██████████████████████████████████████████████████████████████████▍      | 918/1009 [89:19:17<9:45:48, 386.25s/it][                                                                        ]   0%\r"
     ]
    },
    {
     "name": "stdout",
     "output_type": "stream",
     "text": [
      "Coprinellus truncorum 918\n"
     ]
    },
    {
     "name": "stderr",
     "output_type": "stream",
     "text": [
      "[========================================================================] 100%\n",
      " 91%|█████████████████████████████████████████████████████████████████▌      | 919/1009 [89:27:41<10:32:41, 421.79s/it][                                                                        ]   0%\r"
     ]
    },
    {
     "name": "stdout",
     "output_type": "stream",
     "text": [
      "Cortinarius urbicus 919\n"
     ]
    },
    {
     "name": "stderr",
     "output_type": "stream",
     "text": [
      "[========================================================================] 100%\n",
      " 91%|██████████████████████████████████████████████████████████████████▌      | 920/1009 [89:33:33<9:54:25, 400.73s/it][                                                                        ]   0%\r"
     ]
    },
    {
     "name": "stdout",
     "output_type": "stream",
     "text": [
      "Cerioporus mollis 920\n"
     ]
    },
    {
     "name": "stderr",
     "output_type": "stream",
     "text": [
      "[========================================================================] 100%\n",
      " 91%|█████████████████████████████████████████████████████████████████▋      | 921/1009 [89:44:07<11:30:17, 470.66s/it][                                                                        ]   0%\r"
     ]
    },
    {
     "name": "stdout",
     "output_type": "stream",
     "text": [
      "Phellinus ferrugineofuscus 921\n"
     ]
    },
    {
     "name": "stderr",
     "output_type": "stream",
     "text": [
      "[========================================================================] 100%\n",
      " 91%|█████████████████████████████████████████████████████████████████▊      | 922/1009 [89:49:50<10:27:10, 432.53s/it][                                                                        ]   0%\r"
     ]
    },
    {
     "name": "stdout",
     "output_type": "stream",
     "text": [
      "Mycena meliigena 922\n"
     ]
    },
    {
     "name": "stderr",
     "output_type": "stream",
     "text": [
      "[========================================================================] 100%\n",
      " 91%|█████████████████████████████████████████████████████████████████▊      | 923/1009 [89:56:23<10:02:59, 420.69s/it][                                                                        ]   0%\r"
     ]
    },
    {
     "name": "stdout",
     "output_type": "stream",
     "text": [
      "Hymenochaete rubiginosa 923\n"
     ]
    },
    {
     "name": "stderr",
     "output_type": "stream",
     "text": [
      "[========================================================================] 100%\n",
      " 92%|█████████████████████████████████████████████████████████████████▉      | 924/1009 [90:04:14<10:17:04, 435.58s/it][                                                                        ]   0%\r"
     ]
    },
    {
     "name": "stdout",
     "output_type": "stream",
     "text": [
      "Psathyrella olympiana 924\n"
     ]
    },
    {
     "name": "stderr",
     "output_type": "stream",
     "text": [
      "[========================================================================] 100%\n",
      " 92%|██████████████████████████████████████████████████████████████████▉      | 925/1009 [90:10:04<9:34:00, 410.00s/it][                                                                        ]   0%\r"
     ]
    },
    {
     "name": "stdout",
     "output_type": "stream",
     "text": [
      "Geopora sumneriana 925\n"
     ]
    },
    {
     "name": "stderr",
     "output_type": "stream",
     "text": [
      "[========================================================================] 100%\n",
      " 92%|██████████████████████████████████████████████████████████████████▉      | 926/1009 [90:16:56<9:28:00, 410.61s/it][                                                                        ]   0%\r"
     ]
    },
    {
     "name": "stdout",
     "output_type": "stream",
     "text": [
      "Phellinus laevigatus 926\n"
     ]
    },
    {
     "name": "stderr",
     "output_type": "stream",
     "text": [
      "[========================================================================] 100%\n",
      " 92%|███████████████████████████████████████████████████████████████████      | 927/1009 [90:25:11<9:55:58, 436.08s/it][                                                                        ]   0%\r"
     ]
    },
    {
     "name": "stdout",
     "output_type": "stream",
     "text": [
      "Microporus xanthopus 927\n"
     ]
    },
    {
     "name": "stderr",
     "output_type": "stream",
     "text": [
      "[========================================================================] 100%\n",
      " 92%|██████████████████████████████████████████████████████████████████▏     | 928/1009 [90:33:55<10:24:03, 462.26s/it][                                                                        ]   0%\r"
     ]
    },
    {
     "name": "stdout",
     "output_type": "stream",
     "text": [
      "Dacrymyces chrysospermus 928\n"
     ]
    },
    {
     "name": "stderr",
     "output_type": "stream",
     "text": [
      "[========================================================================] 100%\n",
      " 92%|███████████████████████████████████████████████████████████████████▏     | 929/1009 [90:40:38<9:52:38, 444.48s/it][                                                                        ]   0%\r"
     ]
    },
    {
     "name": "stdout",
     "output_type": "stream",
     "text": [
      "Hohenbuehelia grisea 929\n"
     ]
    },
    {
     "name": "stderr",
     "output_type": "stream",
     "text": [
      "[========================================================================] 100%\n",
      " 92%|███████████████████████████████████████████████████████████████████▎     | 930/1009 [90:45:31<8:45:29, 399.11s/it][                                                                        ]   0%\r"
     ]
    },
    {
     "name": "stdout",
     "output_type": "stream",
     "text": [
      "Lysurus gardneri 930\n"
     ]
    },
    {
     "name": "stderr",
     "output_type": "stream",
     "text": [
      "[========================================================================] 100%\n",
      " 92%|███████████████████████████████████████████████████████████████████▎     | 931/1009 [90:53:39<9:13:21, 425.66s/it][                                                                        ]   0%\r"
     ]
    },
    {
     "name": "stdout",
     "output_type": "stream",
     "text": [
      "Mitrula paludosa 931\n"
     ]
    },
    {
     "name": "stderr",
     "output_type": "stream",
     "text": [
      "[========================================================================] 100%\n",
      " 92%|███████████████████████████████████████████████████████████████████▍     | 932/1009 [90:59:48<8:44:31, 408.72s/it][                                                                        ]   0%\r"
     ]
    },
    {
     "name": "stdout",
     "output_type": "stream",
     "text": [
      "Gloeophyllum protractum 932\n"
     ]
    },
    {
     "name": "stderr",
     "output_type": "stream",
     "text": [
      "[========================================================================] 100%\n",
      " 92%|███████████████████████████████████████████████████████████████████▌     | 933/1009 [91:08:52<9:29:10, 449.35s/it][                                                                        ]   0%\r"
     ]
    },
    {
     "name": "stdout",
     "output_type": "stream",
     "text": [
      "Exidia saccharina 933\n"
     ]
    },
    {
     "name": "stderr",
     "output_type": "stream",
     "text": [
      "[========================================================================] 100%\n",
      " 93%|███████████████████████████████████████████████████████████████████▌     | 934/1009 [91:16:21<9:21:22, 449.10s/it][                                                                        ]   0%\r"
     ]
    },
    {
     "name": "stdout",
     "output_type": "stream",
     "text": [
      "Russula risigallina 934\n"
     ]
    },
    {
     "name": "stderr",
     "output_type": "stream",
     "text": [
      "[========================================================================] 100%\n",
      " 93%|███████████████████████████████████████████████████████████████████▋     | 935/1009 [91:22:46<8:50:14, 429.92s/it][                                                                        ]   0%\r"
     ]
    },
    {
     "name": "stdout",
     "output_type": "stream",
     "text": [
      "Humaria hemisphaerica 935\n"
     ]
    },
    {
     "name": "stderr",
     "output_type": "stream",
     "text": [
      "[========================================================================] 100%\n",
      " 93%|███████████████████████████████████████████████████████████████████▋     | 936/1009 [91:30:03<8:45:55, 432.26s/it][                                                                        ]   0%\r"
     ]
    },
    {
     "name": "stdout",
     "output_type": "stream",
     "text": [
      "Phellinus hippophaëicola 936\n"
     ]
    },
    {
     "name": "stderr",
     "output_type": "stream",
     "text": [
      "[========================================================================] 100%\n",
      " 93%|███████████████████████████████████████████████████████████████████▊     | 937/1009 [91:36:16<8:17:12, 414.34s/it][                                                                        ]   0%\r"
     ]
    },
    {
     "name": "stdout",
     "output_type": "stream",
     "text": [
      "Marasmius siccus 937\n"
     ]
    },
    {
     "name": "stderr",
     "output_type": "stream",
     "text": [
      "[========================================================================] 100%\n",
      " 93%|███████████████████████████████████████████████████████████████████▊     | 938/1009 [91:43:21<8:13:58, 417.44s/it][                                                                        ]   0%\r"
     ]
    },
    {
     "name": "stdout",
     "output_type": "stream",
     "text": [
      "Geopora arenicola 938\n"
     ]
    },
    {
     "name": "stderr",
     "output_type": "stream",
     "text": [
      "[========================================================================] 100%\n",
      " 93%|███████████████████████████████████████████████████████████████████▉     | 939/1009 [91:49:08<7:42:29, 396.42s/it][                                                                        ]   0%\r"
     ]
    },
    {
     "name": "stdout",
     "output_type": "stream",
     "text": [
      "Geopora arenosa 939\n"
     ]
    },
    {
     "name": "stderr",
     "output_type": "stream",
     "text": [
      "[========================================================================] 100%\n",
      " 93%|████████████████████████████████████████████████████████████████████     | 940/1009 [91:54:57<7:19:32, 382.22s/it][                                                                        ]   0%\r"
     ]
    },
    {
     "name": "stdout",
     "output_type": "stream",
     "text": [
      "Thelephora penicillata 940\n"
     ]
    },
    {
     "name": "stderr",
     "output_type": "stream",
     "text": [
      "[========================================================================] 100%\n",
      " 93%|████████████████████████████████████████████████████████████████████     | 941/1009 [92:01:46<7:22:08, 390.12s/it][                                                                        ]   0%\r"
     ]
    },
    {
     "name": "stdout",
     "output_type": "stream",
     "text": [
      "Cytidia salicina 941\n"
     ]
    },
    {
     "name": "stderr",
     "output_type": "stream",
     "text": [
      "[========================================================================] 100%\n",
      " 93%|████████████████████████████████████████████████████████████████████▏    | 942/1009 [92:09:11<7:34:01, 406.58s/it][                                                                        ]   0%\r"
     ]
    },
    {
     "name": "stdout",
     "output_type": "stream",
     "text": [
      "Volvariella caesiotincta 942\n"
     ]
    },
    {
     "name": "stderr",
     "output_type": "stream",
     "text": [
      "[========================================================================] 100%\n",
      " 93%|████████████████████████████████████████████████████████████████████▏    | 943/1009 [92:20:25<8:55:31, 486.84s/it][                                                                        ]   0%\r"
     ]
    },
    {
     "name": "stdout",
     "output_type": "stream",
     "text": [
      "Ceratiomyxa fruticulosa 943\n"
     ]
    },
    {
     "name": "stderr",
     "output_type": "stream",
     "text": [
      "[========================================================================] 100%\n",
      " 94%|███████████████████████████████████████████████████████████████████▎    | 944/1009 [92:34:01<10:34:32, 585.73s/it][                                                                        ]   0%\r"
     ]
    },
    {
     "name": "stdout",
     "output_type": "stream",
     "text": [
      "Baeospora myosura 944\n"
     ]
    },
    {
     "name": "stderr",
     "output_type": "stream",
     "text": [
      "[========================================================================] 100%\n",
      " 94%|███████████████████████████████████████████████████████████████████▍    | 945/1009 [92:43:47<10:24:41, 585.65s/it][                                                                        ]   0%\r"
     ]
    },
    {
     "name": "stdout",
     "output_type": "stream",
     "text": [
      "Flammulaster muricatus 945\n"
     ]
    },
    {
     "name": "stderr",
     "output_type": "stream",
     "text": [
      "[========================================================================] 100%\n",
      " 94%|████████████████████████████████████████████████████████████████████▍    | 946/1009 [92:50:24<9:15:38, 529.19s/it][                                                                        ]   0%\r"
     ]
    },
    {
     "name": "stdout",
     "output_type": "stream",
     "text": [
      "Phellinus viticola 946\n"
     ]
    },
    {
     "name": "stderr",
     "output_type": "stream",
     "text": [
      "[========================================================================] 100%\n",
      " 94%|████████████████████████████████████████████████████████████████████▌    | 947/1009 [92:56:44<8:20:25, 484.28s/it][                                                                        ]   0%\r"
     ]
    },
    {
     "name": "stdout",
     "output_type": "stream",
     "text": [
      "Pluteus chrysophlebius 947\n"
     ]
    },
    {
     "name": "stderr",
     "output_type": "stream",
     "text": [
      "[========================================================================] 100%\n",
      " 94%|████████████████████████████████████████████████████████████████████▌    | 948/1009 [93:05:40<8:28:08, 499.82s/it][                                                                        ]   0%\r"
     ]
    },
    {
     "name": "stdout",
     "output_type": "stream",
     "text": [
      "Crepidotus calolepis 948\n"
     ]
    },
    {
     "name": "stderr",
     "output_type": "stream",
     "text": [
      "[========================================================================] 100%\n",
      " 94%|████████████████████████████████████████████████████████████████████▋    | 949/1009 [93:12:52<7:59:37, 479.62s/it][                                                                        ]   0%\r"
     ]
    },
    {
     "name": "stdout",
     "output_type": "stream",
     "text": [
      "Anthracobia maurilabra 949\n"
     ]
    },
    {
     "name": "stderr",
     "output_type": "stream",
     "text": [
      "[========================================================================] 100%\n",
      " 94%|████████████████████████████████████████████████████████████████████▋    | 950/1009 [93:21:55<8:10:12, 498.52s/it][                                                                        ]   0%\r"
     ]
    },
    {
     "name": "stdout",
     "output_type": "stream",
     "text": [
      "Coprinellus silvaticus 950\n"
     ]
    },
    {
     "name": "stderr",
     "output_type": "stream",
     "text": [
      "[========================================================================] 100%\n",
      " 94%|████████████████████████████████████████████████████████████████████▊    | 951/1009 [93:27:42<7:17:56, 453.03s/it][                                                                        ]   0%\r"
     ]
    },
    {
     "name": "stdout",
     "output_type": "stream",
     "text": [
      "Skeletocutis carneogrisea 951\n"
     ]
    },
    {
     "name": "stderr",
     "output_type": "stream",
     "text": [
      "[========================================================================] 100%\n",
      " 94%|████████████████████████████████████████████████████████████████████▉    | 952/1009 [93:31:32<6:06:58, 386.29s/it][                                                                        ]   0%\r"
     ]
    },
    {
     "name": "stdout",
     "output_type": "stream",
     "text": [
      "Stereum rugosum 952\n"
     ]
    },
    {
     "name": "stderr",
     "output_type": "stream",
     "text": [
      "[========================================================================] 100%\n",
      " 94%|████████████████████████████████████████████████████████████████████▉    | 953/1009 [93:37:42<5:55:46, 381.18s/it][                                                                        ]   0%\r"
     ]
    },
    {
     "name": "stdout",
     "output_type": "stream",
     "text": [
      "Exidia cartilaginea 953\n"
     ]
    },
    {
     "name": "stderr",
     "output_type": "stream",
     "text": [
      "[========================================================================] 100%\n",
      " 95%|█████████████████████████████████████████████████████████████████████    | 954/1009 [93:42:26<5:22:41, 352.02s/it][                                                                        ]   0%\r"
     ]
    },
    {
     "name": "stdout",
     "output_type": "stream",
     "text": [
      "Hygrocybe turunda 954\n"
     ]
    },
    {
     "name": "stderr",
     "output_type": "stream",
     "text": [
      "[========================================================================] 100%\n",
      " 95%|█████████████████████████████████████████████████████████████████████    | 955/1009 [93:46:43<4:51:10, 323.52s/it][                                                                        ]   0%\r"
     ]
    },
    {
     "name": "stdout",
     "output_type": "stream",
     "text": [
      "Flammulaster limulatus 955\n"
     ]
    },
    {
     "name": "stderr",
     "output_type": "stream",
     "text": [
      "[========================================================================] 100%\n",
      " 95%|█████████████████████████████████████████████████████████████████████▏   | 956/1009 [93:50:50<4:25:37, 300.71s/it][                                                                        ]   0%\r"
     ]
    },
    {
     "name": "stdout",
     "output_type": "stream",
     "text": [
      "Heliocybe sulcata 956\n"
     ]
    },
    {
     "name": "stderr",
     "output_type": "stream",
     "text": [
      "[========================================================================] 100%\n",
      " 95%|█████████████████████████████████████████████████████████████████████▏   | 957/1009 [93:58:29<5:01:44, 348.17s/it][                                                                        ]   0%\r"
     ]
    },
    {
     "name": "stdout",
     "output_type": "stream",
     "text": [
      "Clathrus columnatus 957\n"
     ]
    },
    {
     "name": "stderr",
     "output_type": "stream",
     "text": [
      "[========================================================================] 100%\n",
      " 95%|█████████████████████████████████████████████████████████████████████▎   | 958/1009 [94:10:10<6:25:52, 453.96s/it][                                                                        ]   0%\r"
     ]
    },
    {
     "name": "stdout",
     "output_type": "stream",
     "text": [
      "Pucciniastrum areolatum 958\n"
     ]
    },
    {
     "name": "stderr",
     "output_type": "stream",
     "text": [
      "[========================================================================] 100%\n",
      " 95%|█████████████████████████████████████████████████████████████████████▍   | 959/1009 [94:19:02<6:37:55, 477.51s/it][                                                                        ]   0%\r"
     ]
    },
    {
     "name": "stdout",
     "output_type": "stream",
     "text": [
      "Pseudombrophila aggregata 959\n"
     ]
    },
    {
     "name": "stderr",
     "output_type": "stream",
     "text": [
      "[========================================================================] 100%\n",
      " 95%|█████████████████████████████████████████████████████████████████████▍   | 960/1009 [94:25:53<6:13:36, 457.47s/it][                                                                        ]   0%\r"
     ]
    },
    {
     "name": "stdout",
     "output_type": "stream",
     "text": [
      "Coprinellus saccharinus 960\n"
     ]
    },
    {
     "name": "stderr",
     "output_type": "stream",
     "text": [
      "[========================================================================] 100%\n",
      " 95%|█████████████████████████████████████████████████████████████████████▌   | 961/1009 [94:35:08<6:29:19, 486.67s/it][                                                                        ]   0%\r"
     ]
    },
    {
     "name": "stdout",
     "output_type": "stream",
     "text": [
      "Hemitrichia serpula 961\n"
     ]
    },
    {
     "name": "stderr",
     "output_type": "stream",
     "text": [
      "[========================================================================] 100%\n",
      " 95%|█████████████████████████████████████████████████████████████████████▌   | 962/1009 [94:45:02<6:46:35, 519.06s/it][                                                                        ]   0%\r"
     ]
    },
    {
     "name": "stdout",
     "output_type": "stream",
     "text": [
      "Coprinellus xanthothrix 962\n"
     ]
    },
    {
     "name": "stderr",
     "output_type": "stream",
     "text": [
      "[========================================================================] 100%\n",
      " 95%|█████████████████████████████████████████████████████████████████████▋   | 963/1009 [94:51:57<6:13:50, 487.62s/it][                                                                        ]   0%\r"
     ]
    },
    {
     "name": "stdout",
     "output_type": "stream",
     "text": [
      "Crinipellis scabella 963\n"
     ]
    },
    {
     "name": "stderr",
     "output_type": "stream",
     "text": [
      "[========================================================================] 100%\n",
      " 96%|█████████████████████████████████████████████████████████████████████▋   | 964/1009 [95:00:16<6:08:18, 491.08s/it][                                                                        ]   0%\r"
     ]
    },
    {
     "name": "stdout",
     "output_type": "stream",
     "text": [
      "Marasmiellus ramealis 964\n"
     ]
    },
    {
     "name": "stderr",
     "output_type": "stream",
     "text": [
      "[========================================================================] 100%\n",
      " 96%|█████████████████████████████████████████████████████████████████████▊   | 965/1009 [95:06:43<5:37:20, 460.01s/it][                                                                        ]   0%\r"
     ]
    },
    {
     "name": "stdout",
     "output_type": "stream",
     "text": [
      "Kretzschmaria deusta 965\n"
     ]
    },
    {
     "name": "stderr",
     "output_type": "stream",
     "text": [
      "[========================================================================] 100%\n",
      " 96%|█████████████████████████████████████████████████████████████████████▉   | 966/1009 [95:17:07<6:04:52, 509.12s/it][                                                                        ]   0%\r"
     ]
    },
    {
     "name": "stdout",
     "output_type": "stream",
     "text": [
      "Gliophorus irrigatus 966\n"
     ]
    },
    {
     "name": "stderr",
     "output_type": "stream",
     "text": [
      "[========================================================================] 100%\n",
      " 96%|█████████████████████████████████████████████████████████████████████▉   | 967/1009 [95:23:57<5:35:29, 479.27s/it][                                                                        ]   0%\r"
     ]
    },
    {
     "name": "stdout",
     "output_type": "stream",
     "text": [
      "Pluteus semibulbosus 967\n"
     ]
    },
    {
     "name": "stderr",
     "output_type": "stream",
     "text": [
      "[========================================================================] 100%\n",
      " 96%|██████████████████████████████████████████████████████████████████████   | 968/1009 [95:30:49<5:13:46, 459.18s/it][                                                                        ]   0%\r"
     ]
    },
    {
     "name": "stdout",
     "output_type": "stream",
     "text": [
      "Xylodon radula 968\n"
     ]
    },
    {
     "name": "stderr",
     "output_type": "stream",
     "text": [
      "[========================================================================] 100%\n",
      " 96%|██████████████████████████████████████████████████████████████████████   | 969/1009 [95:37:28<4:54:08, 441.21s/it][                                                                        ]   0%\r"
     ]
    },
    {
     "name": "stdout",
     "output_type": "stream",
     "text": [
      "Ceriporiopsis pannocincta 969\n"
     ]
    },
    {
     "name": "stderr",
     "output_type": "stream",
     "text": [
      "[========================================================================] 100%\n",
      " 96%|██████████████████████████████████████████████████████████████████████▏  | 970/1009 [95:43:28<4:30:57, 416.86s/it][                                                                        ]   0%\r"
     ]
    },
    {
     "name": "stdout",
     "output_type": "stream",
     "text": [
      "Pseudochaete tabacina 970\n"
     ]
    },
    {
     "name": "stderr",
     "output_type": "stream",
     "text": [
      "[========================================================================] 100%\n",
      " 96%|██████████████████████████████████████████████████████████████████████▎  | 971/1009 [95:51:10<4:32:33, 430.35s/it][                                                                        ]   0%\r"
     ]
    },
    {
     "name": "stdout",
     "output_type": "stream",
     "text": [
      "Xeromphalina cauticinalis 971\n"
     ]
    },
    {
     "name": "stderr",
     "output_type": "stream",
     "text": [
      "[========================================================================] 100%\n",
      " 96%|██████████████████████████████████████████████████████████████████████▎  | 972/1009 [96:00:28<4:49:04, 468.77s/it][                                                                        ]   0%\r"
     ]
    },
    {
     "name": "stdout",
     "output_type": "stream",
     "text": [
      "Pluteus umbrosoides 972\n"
     ]
    },
    {
     "name": "stderr",
     "output_type": "stream",
     "text": [
      "[========================================================================] 100%\n",
      " 96%|██████████████████████████████████████████████████████████████████████▍  | 973/1009 [96:07:15<4:29:58, 449.96s/it][                                                                        ]   0%\r"
     ]
    },
    {
     "name": "stdout",
     "output_type": "stream",
     "text": [
      "Melanoleuca verrucipes 973\n"
     ]
    },
    {
     "name": "stderr",
     "output_type": "stream",
     "text": [
      "[========================================================================] 100%\n",
      " 97%|██████████████████████████████████████████████████████████████████████▍  | 974/1009 [96:14:19<4:17:56, 442.17s/it][                                                                        ]   0%\r"
     ]
    },
    {
     "name": "stdout",
     "output_type": "stream",
     "text": [
      "Ascobolus furfuraceus 974\n"
     ]
    },
    {
     "name": "stderr",
     "output_type": "stream",
     "text": [
      "[========================================================================] 100%\n",
      " 97%|██████████████████████████████████████████████████████████████████████▌  | 975/1009 [96:18:57<3:42:40, 392.94s/it][                                                                        ]   0%\r"
     ]
    },
    {
     "name": "stdout",
     "output_type": "stream",
     "text": [
      "Ceratiomyxa porioides 975\n"
     ]
    },
    {
     "name": "stderr",
     "output_type": "stream",
     "text": [
      "[========================================================================] 100%\n",
      " 97%|██████████████████████████████████████████████████████████████████████▌  | 976/1009 [96:23:59<3:21:10, 365.76s/it][                                                                        ]   0%\r"
     ]
    },
    {
     "name": "stdout",
     "output_type": "stream",
     "text": [
      "Chromosera cyanophylla 976\n"
     ]
    },
    {
     "name": "stderr",
     "output_type": "stream",
     "text": [
      "[========================================================================] 100%\n",
      " 97%|██████████████████████████████████████████████████████████████████████▋  | 977/1009 [96:29:41<3:11:19, 358.72s/it][                                                                        ]   0%\r"
     ]
    },
    {
     "name": "stdout",
     "output_type": "stream",
     "text": [
      "Cheimonophyllum candidissimum 977\n"
     ]
    },
    {
     "name": "stderr",
     "output_type": "stream",
     "text": [
      "[========================================================================] 100%\n",
      " 97%|██████████████████████████████████████████████████████████████████████▊  | 978/1009 [96:35:39<3:05:08, 358.34s/it][                                                                        ]   0%\r"
     ]
    },
    {
     "name": "stdout",
     "output_type": "stream",
     "text": [
      "Postia ptychogaster 978\n"
     ]
    },
    {
     "name": "stderr",
     "output_type": "stream",
     "text": [
      "[========================================================================] 100%\n",
      " 97%|██████████████████████████████████████████████████████████████████████▊  | 979/1009 [96:40:32<2:49:25, 338.86s/it][                                                                        ]   0%\r"
     ]
    },
    {
     "name": "stdout",
     "output_type": "stream",
     "text": [
      "Arrhenia spathulata 979\n"
     ]
    },
    {
     "name": "stderr",
     "output_type": "stream",
     "text": [
      "[========================================================================] 100%\n",
      " 97%|██████████████████████████████████████████████████████████████████████▉  | 980/1009 [96:44:32<2:29:25, 309.14s/it][                                                                        ]   0%\r"
     ]
    },
    {
     "name": "stdout",
     "output_type": "stream",
     "text": [
      "Hymenochaete cruenta 980\n"
     ]
    },
    {
     "name": "stderr",
     "output_type": "stream",
     "text": [
      "[========================================================================] 100%\n",
      " 97%|██████████████████████████████████████████████████████████████████████▉  | 981/1009 [96:48:36<2:15:05, 289.48s/it][                                                                        ]   0%\r"
     ]
    },
    {
     "name": "stdout",
     "output_type": "stream",
     "text": [
      "Sebacina incrustans 981\n"
     ]
    },
    {
     "name": "stderr",
     "output_type": "stream",
     "text": [
      "[========================================================================] 100%\n",
      " 97%|███████████████████████████████████████████████████████████████████████  | 982/1009 [96:54:09<2:16:10, 302.63s/it][                                                                        ]   0%\r"
     ]
    },
    {
     "name": "stdout",
     "output_type": "stream",
     "text": [
      "Pleurotus djamor 982\n"
     ]
    },
    {
     "name": "stderr",
     "output_type": "stream",
     "text": [
      "[========================================================================] 100%\n",
      " 97%|███████████████████████████████████████████████████████████████████████  | 983/1009 [97:00:38<2:22:26, 328.71s/it][                                                                        ]   0%\r"
     ]
    },
    {
     "name": "stdout",
     "output_type": "stream",
     "text": [
      "Pluteus variabilicolor 983\n"
     ]
    },
    {
     "name": "stderr",
     "output_type": "stream",
     "text": [
      "[========================================================================] 100%\n",
      " 98%|███████████████████████████████████████████████████████████████████████▏ | 984/1009 [97:04:21<2:03:45, 297.02s/it][                                                                        ]   0%\r"
     ]
    },
    {
     "name": "stdout",
     "output_type": "stream",
     "text": [
      "Pluteus hispidulus 984\n"
     ]
    },
    {
     "name": "stderr",
     "output_type": "stream",
     "text": [
      "[========================================================================] 100%\n",
      " 98%|███████████████████████████████████████████████████████████████████████▎ | 985/1009 [97:08:18<1:51:34, 278.92s/it][                                                                        ]   0%\r"
     ]
    },
    {
     "name": "stdout",
     "output_type": "stream",
     "text": [
      "Phlebia rufa 985\n"
     ]
    },
    {
     "name": "stderr",
     "output_type": "stream",
     "text": [
      "[========================================================================] 100%\n",
      " 98%|███████████████████████████████████████████████████████████████████████▎ | 986/1009 [97:13:16<1:49:04, 284.55s/it][                                                                        ]   0%\r"
     ]
    },
    {
     "name": "stdout",
     "output_type": "stream",
     "text": [
      "Pluteus aurantiorugosus 986\n"
     ]
    },
    {
     "name": "stderr",
     "output_type": "stream",
     "text": [
      "[========================================================================] 100%\n",
      " 98%|███████████████████████████████████████████████████████████████████████▍ | 987/1009 [97:17:24<1:40:23, 273.78s/it][                                                                        ]   0%\r"
     ]
    },
    {
     "name": "stdout",
     "output_type": "stream",
     "text": [
      "Paragymnopus perforans 987\n"
     ]
    },
    {
     "name": "stderr",
     "output_type": "stream",
     "text": [
      "[========================================================================] 100%\n",
      " 98%|███████████████████████████████████████████████████████████████████████▍ | 988/1009 [97:22:42<1:40:24, 286.90s/it][                                                                        ]   0%\r"
     ]
    },
    {
     "name": "stdout",
     "output_type": "stream",
     "text": [
      "Melanoleuca subpulverulenta 988\n"
     ]
    },
    {
     "name": "stderr",
     "output_type": "stream",
     "text": [
      "[========================================================================] 100%\n",
      " 98%|███████████████████████████████████████████████████████████████████████▌ | 989/1009 [97:27:58<1:38:35, 295.78s/it][                                                                        ]   0%\r"
     ]
    },
    {
     "name": "stdout",
     "output_type": "stream",
     "text": [
      "Pluteus romellii 989\n"
     ]
    },
    {
     "name": "stderr",
     "output_type": "stream",
     "text": [
      "[========================================================================] 100%\n",
      " 98%|███████████████████████████████████████████████████████████████████████▋ | 990/1009 [97:32:26<1:31:00, 287.41s/it][                                                                        ]   0%\r"
     ]
    },
    {
     "name": "stdout",
     "output_type": "stream",
     "text": [
      "Gymnopilus picreus 990\n"
     ]
    },
    {
     "name": "stderr",
     "output_type": "stream",
     "text": [
      "[========================================================================] 100%\n",
      " 98%|███████████████████████████████████████████████████████████████████████▋ | 991/1009 [97:37:12<1:26:03, 286.88s/it][                                                                        ]   0%\r"
     ]
    },
    {
     "name": "stdout",
     "output_type": "stream",
     "text": [
      "Phaeomarasmius erinaceus 991\n"
     ]
    },
    {
     "name": "stderr",
     "output_type": "stream",
     "text": [
      "[========================================================================] 100%\n",
      " 98%|███████████████████████████████████████████████████████████████████████▊ | 992/1009 [97:41:25<1:18:24, 276.74s/it][                                                                        ]   0%\r"
     ]
    },
    {
     "name": "stdout",
     "output_type": "stream",
     "text": [
      "Lactarius musteus 992\n"
     ]
    },
    {
     "name": "stderr",
     "output_type": "stream",
     "text": [
      "[========================================================================] 100%\n",
      " 98%|███████████████████████████████████████████████████████████████████████▊ | 993/1009 [97:45:50<1:12:52, 273.29s/it][                                                                        ]   0%\r"
     ]
    },
    {
     "name": "stdout",
     "output_type": "stream",
     "text": [
      "Coprinellus radians 993\n"
     ]
    },
    {
     "name": "stderr",
     "output_type": "stream",
     "text": [
      "[========================================================================] 100%\n",
      " 99%|███████████████████████████████████████████████████████████████████████▉ | 994/1009 [97:51:12<1:11:57, 287.84s/it][                                                                        ]   0%\r"
     ]
    },
    {
     "name": "stdout",
     "output_type": "stream",
     "text": [
      "Sutorius eximius 994\n"
     ]
    },
    {
     "name": "stderr",
     "output_type": "stream",
     "text": [
      "[========================================================================] 100%\n",
      " 99%|███████████████████████████████████████████████████████████████████████▉ | 995/1009 [97:56:35<1:09:36, 298.31s/it][                                                                        ]   0%\r"
     ]
    },
    {
     "name": "stdout",
     "output_type": "stream",
     "text": [
      "Lactarius quieticolor 995\n"
     ]
    },
    {
     "name": "stderr",
     "output_type": "stream",
     "text": [
      "[========================================================================] 100%\n",
      " 99%|████████████████████████████████████████████████████████████████████████ | 996/1009 [98:01:52<1:05:50, 303.88s/it][                                                                        ]   0%\r"
     ]
    },
    {
     "name": "stdout",
     "output_type": "stream",
     "text": [
      "Hemipholiota heteroclita 996\n"
     ]
    },
    {
     "name": "stderr",
     "output_type": "stream",
     "text": [
      "[========================================================================] 100%\n",
      " 99%|██████████████████████████████████████████████████████████████████████████ | 997/1009 [98:05:22<55:11, 275.94s/it][                                                                        ]   0%\r"
     ]
    },
    {
     "name": "stdout",
     "output_type": "stream",
     "text": [
      "Tylopilus alboater 997\n"
     ]
    },
    {
     "name": "stderr",
     "output_type": "stream",
     "text": [
      "[========================================================================] 100%\n",
      " 99%|████████████████████████████████████████████████████████████████████████▏| 998/1009 [98:13:05<1:00:50, 331.88s/it][                                                                        ]   0%\r"
     ]
    },
    {
     "name": "stdout",
     "output_type": "stream",
     "text": [
      "Lactarius fennoscandicus 998\n"
     ]
    },
    {
     "name": "stderr",
     "output_type": "stream",
     "text": [
      "[========================================================================] 100%\n",
      " 99%|██████████████████████████████████████████████████████████████████████████▎| 999/1009 [98:19:53<59:08, 354.86s/it][                                                                        ]   0%\r"
     ]
    },
    {
     "name": "stdout",
     "output_type": "stream",
     "text": [
      "Ossicaulis lignatilis 999\n"
     ]
    },
    {
     "name": "stderr",
     "output_type": "stream",
     "text": [
      "[========================================================================] 100%\n",
      " 99%|█████████████████████████████████████████████████████████████████████████▎| 1000/1009 [98:27:19<57:19, 382.18s/it][                                                                        ]   0%\r"
     ]
    },
    {
     "name": "stdout",
     "output_type": "stream",
     "text": [
      "Clitopilus geminus 1000\n"
     ]
    },
    {
     "name": "stderr",
     "output_type": "stream",
     "text": [
      "[========================================================================] 100%\n",
      " 99%|█████████████████████████████████████████████████████████████████████████▍| 1001/1009 [98:35:03<54:13, 406.72s/it][                                                                        ]   0%\r"
     ]
    },
    {
     "name": "stdout",
     "output_type": "stream",
     "text": [
      "Aureoboletus gentilis 1001\n"
     ]
    },
    {
     "name": "stderr",
     "output_type": "stream",
     "text": [
      "[========================================================================] 100%\n",
      " 99%|█████████████████████████████████████████████████████████████████████████▍| 1002/1009 [98:41:32<46:49, 401.36s/it][                                                                        ]   0%\r"
     ]
    },
    {
     "name": "stdout",
     "output_type": "stream",
     "text": [
      "Chroogomphus flavipes 1002\n"
     ]
    },
    {
     "name": "stderr",
     "output_type": "stream",
     "text": [
      "[========================================================================] 100%\n",
      " 99%|█████████████████████████████████████████████████████████████████████████▌| 1003/1009 [98:47:30<38:49, 388.20s/it][                                                                        ]   0%\r"
     ]
    },
    {
     "name": "stdout",
     "output_type": "stream",
     "text": [
      "Hemileccinum depilatum 1003\n"
     ]
    },
    {
     "name": "stderr",
     "output_type": "stream",
     "text": [
      "[========================================================================] 100%\n",
      "100%|█████████████████████████████████████████████████████████████████████████▋| 1004/1009 [98:53:57<32:19, 387.91s/it][                                                                        ]   0%\r"
     ]
    },
    {
     "name": "stdout",
     "output_type": "stream",
     "text": [
      "Boletopsis leucomelaena 1004\n"
     ]
    },
    {
     "name": "stderr",
     "output_type": "stream",
     "text": [
      "[========================================================================] 100%\n",
      "100%|█████████████████████████████████████████████████████████████████████████▋| 1005/1009 [99:00:06<25:28, 382.13s/it][                                                                        ]   0%\r"
     ]
    },
    {
     "name": "stdout",
     "output_type": "stream",
     "text": [
      "Volvariella hypopithys 1005\n"
     ]
    },
    {
     "name": "stderr",
     "output_type": "stream",
     "text": [
      "[========================================================================] 100%\n",
      "100%|█████████████████████████████████████████████████████████████████████████▊| 1006/1009 [99:06:52<19:28, 389.56s/it][                                                                        ]   0%\r"
     ]
    },
    {
     "name": "stdout",
     "output_type": "stream",
     "text": [
      "Lactarius salmonicolor 1006\n"
     ]
    },
    {
     "name": "stderr",
     "output_type": "stream",
     "text": [
      "[========================================================================] 100%\n",
      "100%|█████████████████████████████████████████████████████████████████████████▊| 1007/1009 [99:13:11<12:52, 386.24s/it][                                                                        ]   0%\r"
     ]
    },
    {
     "name": "stdout",
     "output_type": "stream",
     "text": [
      "Flammulina fennae 1007\n"
     ]
    },
    {
     "name": "stderr",
     "output_type": "stream",
     "text": [
      "[========================================================================] 100%\n",
      "100%|█████████████████████████████████████████████████████████████████████████▉| 1008/1009 [99:19:13<06:18, 378.95s/it][                                                                        ]   0%\r"
     ]
    },
    {
     "name": "stdout",
     "output_type": "stream",
     "text": [
      "Agaricus phaeolepidotus 1008\n"
     ]
    },
    {
     "name": "stderr",
     "output_type": "stream",
     "text": [
      "[========================================================================] 100%\n",
      "100%|██████████████████████████████████████████████████████████████████████████| 1009/1009 [99:25:42<00:00, 354.75s/it]\n"
     ]
    }
   ],
   "source": [
    "os.chdir(r'C:\\Users\\a.dubinets\\Desktop\\Обучение\\Диплом\\images')\n",
    "# Остановился на Calocybe gambosa с нее\n",
    "# Если мы остановили парсинг на каком то грибочке, мы можем продолжить от туда.\n",
    "# для этого выберем место где мы остановились.\n",
    "df_filtered = df.loc[df.index >= 29]  \n",
    "df_filtered.reset_index(drop= True , inplace= True )\n",
    "df_filtered\n",
    "\n",
    "for i in tqdm(range(len(df_filtered))):  #range(len(df))\n",
    "    print(df_filtered['lat'][i], df_filtered.index)\n",
    "    pi.download(df_filtered['lat'][i], limit=250)"
   ]
  }
 ],
 "metadata": {
  "kernelspec": {
   "display_name": "Python 3 (ipykernel)",
   "language": "python",
   "name": "python3"
  },
  "language_info": {
   "codemirror_mode": {
    "name": "ipython",
    "version": 3
   },
   "file_extension": ".py",
   "mimetype": "text/x-python",
   "name": "python",
   "nbconvert_exporter": "python",
   "pygments_lexer": "ipython3",
   "version": "3.10.8"
  }
 },
 "nbformat": 4,
 "nbformat_minor": 5
}
