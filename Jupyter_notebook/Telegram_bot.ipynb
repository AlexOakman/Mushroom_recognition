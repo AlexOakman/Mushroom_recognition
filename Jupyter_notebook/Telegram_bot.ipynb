{
 "cells": [
  {
   "cell_type": "code",
   "execution_count": 1,
   "id": "7dbde58a",
   "metadata": {},
   "outputs": [],
   "source": [
    "import requests \n",
    "from requests_ntlm import HttpNtlmAuth\n",
    "from subprocess import call\n",
    "\n",
    "from telebot import types\n",
    "import telebot \n",
    "import os\n",
    "\n",
    "\n",
    "import datetime\n",
    "import pyodbc\n",
    "pyodbc.pooling=False"
   ]
  },
  {
   "cell_type": "code",
   "execution_count": 2,
   "id": "cdf670fb-2f50-4051-a968-f144cccc4310",
   "metadata": {},
   "outputs": [
    {
     "name": "stderr",
     "output_type": "stream",
     "text": [
      "C:\\Users\\a.dubinets\\opencv\\lib\\site-packages\\numpy\\_distributor_init.py:30: UserWarning: loaded more than 1 DLL from .libs:\n",
      "C:\\Users\\a.dubinets\\opencv\\lib\\site-packages\\numpy\\.libs\\libopenblas64__v0.3.21-gcc_10_3_0.dll\n",
      "C:\\Users\\a.dubinets\\opencv\\lib\\site-packages\\numpy\\.libs\\libopenblas64__v0.3.23-gcc_10_3_0.dll\n",
      "  warnings.warn(\"loaded more than 1 DLL from .libs:\"\n"
     ]
    }
   ],
   "source": [
    "import numpy as np \n",
    "import pandas as pd \n",
    "from glob import glob\n",
    "import cv2\n",
    "\n",
    "from tensorflow import keras\n",
    "import keras\n",
    "from keras.models import load_model\n",
    "from keras.preprocessing.image import ImageDataGenerator\n",
    "from keras.utils.np_utils import to_categorical\n",
    "from keras.models import Sequential\n",
    "from keras.layers import (Conv2D, MaxPooling2D, Flatten, Dense, \n",
    "                          Dropout, Rescaling, RandomFlip, RandomRotation, BatchNormalization)\n",
    "\n",
    "import tensorflow as tf\n",
    "from tensorflow.keras.optimizers import Adam, SGD\n",
    "from tensorflow.keras.callbacks import EarlyStopping, ModelCheckpoint, ReduceLROnPlateau\n",
    "from tensorflow import keras\n",
    "from tensorflow.keras.preprocessing import image_dataset_from_directory\n",
    "from tensorflow.keras import layers"
   ]
  },
  {
   "cell_type": "code",
   "execution_count": 3,
   "id": "43a6aea2",
   "metadata": {},
   "outputs": [],
   "source": [
    "token ='1670417933:AAGL36aYrdY2slu_GKrya83oI_dTYCx5gUU'   \n",
    "URL='https://api.telegram.org/bot1670417933:AAGL36aYrdY2slu_GKrya83oI_dTYCx5gUU/getMe'\n",
    "im_path=r'C:\\Users\\a.dubinets\\Desktop\\Обучение\\Mushrooms\\Dataset\\test_image'\n",
    "all_mushrooms=pd.read_excel(r'C:\\Users\\a.dubinets\\Desktop\\Обучение\\Mushrooms\\Result\\mushroom.xlsx') \n",
    "class_train =  pd.read_csv(r'C:\\Users\\a.dubinets\\Desktop\\Обучение\\Mushrooms\\Result\\class.csv', header=None)\n",
    "_class = class_train.iloc [:, 0].tolist()\n",
    "os.chdir(im_path)"
   ]
  },
  {
   "cell_type": "code",
   "execution_count": 4,
   "id": "6c281f57",
   "metadata": {},
   "outputs": [
    {
     "data": {
      "text/plain": [
       "'Свинушка тонкая'"
      ]
     },
     "execution_count": 4,
     "metadata": {},
     "output_type": "execute_result"
    }
   ],
   "source": [
    "\" \".join(all_mushrooms['title'].head(1).values.tolist()) "
   ]
  },
  {
   "cell_type": "code",
   "execution_count": 5,
   "id": "b577d543-9808-4fc0-9711-10fadf8e8367",
   "metadata": {},
   "outputs": [],
   "source": [
    "# загрузим нашу модель \n",
    "model = load_model(r'C:\\Users\\a.dubinets\\Desktop\\Обучение\\Диплом\\mushrooms-ResNet50.hdf5')"
   ]
  },
  {
   "cell_type": "code",
   "execution_count": 6,
   "id": "2b40494e",
   "metadata": {},
   "outputs": [],
   "source": [
    "# загружаем входное изображение и предобрабатываем\n",
    "IMG_SIZE = (240, 240)\n",
    "def load_image(path, target_size=IMG_SIZE):   # загружает картинку и делает ресайз\n",
    "    imageBGR = cv2.imdecode(np.fromfile(path, dtype=np.uint8), cv2.IMREAD_COLOR)\n",
    "    imageRGB = cv2.cvtColor(imageBGR , cv2.COLOR_BGR2RGB)\n",
    "    img = cv2.resize(imageRGB, (240,240))\n",
    "    return  img  # предобработка \n",
    " \n",
    "\n",
    "# функция-генератор загрузки тестовых изображений с диска\n",
    "def predict_generator(files):\n",
    "    while True:\n",
    "        for path in files:\n",
    "            yield np.array([load_image(path)])\n",
    "            \n",
    "def pred(path):\n",
    "    im_path=r'C:\\Users\\a.dubinets\\Desktop\\Обучение\\Mushrooms\\Dataset\\test_image'\n",
    "    os.chdir(im_path)\n",
    "    test_files=glob(path)\n",
    "    test_pred = model.predict(predict_generator(test_files), steps=len(test_files))   \n",
    "#    print(len(test_pred[0]),len(_class))\n",
    "    intermediate_dictionary = {'proba':test_pred[0], 'title':_class}\n",
    "    df = pd.DataFrame(intermediate_dictionary)\n",
    "    df = df.sort_values(by='proba', ascending=False)\n",
    "    df = df.head(10)\n",
    "#    df_fix = pd.merge(df, all_mushrooms, left_on='title')\n",
    "    res = \" \".join(df['title'].head(1).values.tolist()) \n",
    "    return df, res"
   ]
  },
  {
   "cell_type": "code",
   "execution_count": 22,
   "id": "1aade8b8",
   "metadata": {},
   "outputs": [
    {
     "data": {
      "text/html": [
       "<div>\n",
       "<style scoped>\n",
       "    .dataframe tbody tr th:only-of-type {\n",
       "        vertical-align: middle;\n",
       "    }\n",
       "\n",
       "    .dataframe tbody tr th {\n",
       "        vertical-align: top;\n",
       "    }\n",
       "\n",
       "    .dataframe thead th {\n",
       "        text-align: right;\n",
       "    }\n",
       "</style>\n",
       "<table border=\"1\" class=\"dataframe\">\n",
       "  <thead>\n",
       "    <tr style=\"text-align: right;\">\n",
       "      <th></th>\n",
       "      <th>title</th>\n",
       "      <th>lat</th>\n",
       "      <th>link</th>\n",
       "      <th>desciption</th>\n",
       "    </tr>\n",
       "  </thead>\n",
       "  <tbody>\n",
       "    <tr>\n",
       "      <th>0</th>\n",
       "      <td>Гриб_Свинушка_тонкая</td>\n",
       "      <td>Paxillus involutus</td>\n",
       "      <td>https://wikigrib.ru/svinushka-tonkaya/</td>\n",
       "      <td>Свинушка тонкая (лат. Paxillus involutus) или ...</td>\n",
       "    </tr>\n",
       "    <tr>\n",
       "      <th>1</th>\n",
       "      <td>Гриб_Жёлчный_гриб</td>\n",
       "      <td>Tylopilus felleus</td>\n",
       "      <td>https://wikigrib.ru/zhelchnyj-gribgorchak/</td>\n",
       "      <td>Воплощение разочарования любого грибника – Лож...</td>\n",
       "    </tr>\n",
       "    <tr>\n",
       "      <th>2</th>\n",
       "      <td>Гриб_Рядовка_лиловоногая</td>\n",
       "      <td>Lepista saeva</td>\n",
       "      <td>https://wikigrib.ru/ryadovka-lilovonogaya/</td>\n",
       "      <td>Характеристики:Группа: пластинчатыеПластинки: ...</td>\n",
       "    </tr>\n",
       "    <tr>\n",
       "      <th>3</th>\n",
       "      <td>Гриб_Рядовка_тополёвая</td>\n",
       "      <td>Tricholoma populinum</td>\n",
       "      <td>https://wikigrib.ru/ryadovka-topolevaya/</td>\n",
       "      <td>Характеристики:Группа: пластинчатыеЦвет: красн...</td>\n",
       "    </tr>\n",
       "    <tr>\n",
       "      <th>4</th>\n",
       "      <td>Гриб_Опёнок_осенний</td>\n",
       "      <td>Armillaria mellea; Armillaria borealis</td>\n",
       "      <td>https://wikigrib.ru/openok-osennij/</td>\n",
       "      <td>Характеристики:Группа: пластинчатыеПластинки: ...</td>\n",
       "    </tr>\n",
       "  </tbody>\n",
       "</table>\n",
       "</div>"
      ],
      "text/plain": [
       "                      title                                     lat  \\\n",
       "0      Гриб_Свинушка_тонкая                      Paxillus involutus   \n",
       "1         Гриб_Жёлчный_гриб                       Tylopilus felleus   \n",
       "2  Гриб_Рядовка_лиловоногая                           Lepista saeva   \n",
       "3    Гриб_Рядовка_тополёвая                    Tricholoma populinum   \n",
       "4       Гриб_Опёнок_осенний  Armillaria mellea; Armillaria borealis   \n",
       "\n",
       "                                         link  \\\n",
       "0      https://wikigrib.ru/svinushka-tonkaya/   \n",
       "1  https://wikigrib.ru/zhelchnyj-gribgorchak/   \n",
       "2  https://wikigrib.ru/ryadovka-lilovonogaya/   \n",
       "3    https://wikigrib.ru/ryadovka-topolevaya/   \n",
       "4         https://wikigrib.ru/openok-osennij/   \n",
       "\n",
       "                                          desciption  \n",
       "0  Свинушка тонкая (лат. Paxillus involutus) или ...  \n",
       "1  Воплощение разочарования любого грибника – Лож...  \n",
       "2  Характеристики:Группа: пластинчатыеПластинки: ...  \n",
       "3  Характеристики:Группа: пластинчатыеЦвет: красн...  \n",
       "4  Характеристики:Группа: пластинчатыеПластинки: ...  "
      ]
     },
     "execution_count": 22,
     "metadata": {},
     "output_type": "execute_result"
    }
   ],
   "source": [
    "mushroom_list=pd.read_excel(r'C:/Users/a.dubinets/Desktop/Обучение/Mushrooms/Result/mushroom.xlsx') \n",
    "mushroom_list['title']= \"Гриб_\"  + df['title']\n",
    "mushroom_list['title'].replace('\\s+', '_',regex=True,inplace=True)\n",
    "mushroom_list['desciption'].replace('\\n', '',regex=True,inplace=True)\n",
    "mushroom_list.head(5)"
   ]
  },
  {
   "cell_type": "code",
   "execution_count": null,
   "id": "ec98594e",
   "metadata": {
    "scrolled": true
   },
   "outputs": [
    {
     "name": "stdout",
     "output_type": "stream",
     "text": [
      "photos/file_14.jpg\n",
      "1/1 [==============================] - 0s 33ms/step\n",
      "photos/file_15.jpg\n",
      "1/1 [==============================] - 0s 41ms/step\n",
      "photos/file_16.jpg\n",
      "1/1 [==============================] - 0s 30ms/step\n",
      "photos/file_17.jpg\n",
      "1/1 [==============================] - 0s 29ms/step\n",
      "photos/file_18.jpg\n",
      "1/1 [==============================] - 0s 31ms/step\n",
      "photos/file_19.jpg\n",
      "1/1 [==============================] - 0s 37ms/step\n",
      "photos/file_20.jpg\n",
      "1/1 [==============================] - 0s 30ms/step\n",
      "photos/file_21.jpg\n",
      "1/1 [==============================] - 0s 28ms/step\n"
     ]
    }
   ],
   "source": [
    "#Тело бота \n",
    "bot = telebot.TeleBot(token)\n",
    "# ---------------------------------------------\n",
    "@bot.message_handler(content_types=['text'])\n",
    "def start(message):  \n",
    "#   Блок 1. Обновление основных данных для отчета\n",
    "    if  message.text == 'Привет':   # Получаем основные отчеты.   \n",
    "        bot.send_message(message.from_user.id, \"О, привет)\")  \n",
    "    elif message.text == '/start':    \n",
    "        bot.send_message(message.from_user.id,'\"Данный бот является дипломной работой на курсе изучения алгоритмов dl. Бот предназначен для распознавания наиболее вероятного названия гриба, а также предоставление дополнительной информации о нем в качестве ссылки на сайт https://wikigrib.ru/. Бот создан в развлекательных целях и автор не несет ответственности за принятые решения на основе данного приложения. Помните, что определить является ли гриб съедобным или нет, может эксперт с многолетним опытом. Данная программа предназначена лишь в качестве помощи по нахождению описания того или иного гриба, а также для изучения удивительного мира грибов и информации о них.  Для использования бота, вам нужно выслать фотографию гриба. \\n 1) Фотография должна быть четкой. \\n 2) На 1 фотографии должен быть 1 гриб, либо грибы одного вида. \\n 3) Вы можете сфотографировать 2 гриба одного вида, один из которых будет в профиль, а другой фас. Это должно улучшить качество. \\n \\n Удачной тихой охоты. =))).\"')\n",
    "    else:\n",
    "        bot.send_message(message.from_user.id, 'Для распознавания вышлите фото гриба. Для информации нажмите /start')     \n",
    "@bot.message_handler(content_types=['photo'])\n",
    "def photo(message):\n",
    "    file_info = bot.get_file(message.photo[len(message.photo)-1].file_id)\n",
    "    downloaded_file = bot.download_file(file_info.file_path)\n",
    "    src=file_info.file_path;\n",
    "    print(src)\n",
    "    with open(src, 'wb') as new_file:\n",
    "        new_file.write(downloaded_file)        \n",
    "    bot.reply_to(message,\"Анализирую фото...\")\n",
    "    df, res = pred(src)\n",
    "    \n",
    "    bot.reply_to(message,\"Я думаю что это: \"+res)\n",
    "    \n",
    "    # модуль по анализу вероятности\n",
    "    result = pd.merge(df, mushroom_list, on='title', how='left')\n",
    "    result.to_html('Mushroom_proba.html',index=True, encoding='windows-1251')      \n",
    "    t=open(r'Mushroom_proba.html', 'rb')\n",
    "    bot.send_document(message.from_user.id, t)\n",
    "    \n",
    "bot.infinity_polling(1) #True"
   ]
  }
 ],
 "metadata": {
  "kernelspec": {
   "display_name": "Python 3 (ipykernel)",
   "language": "python",
   "name": "python3"
  },
  "language_info": {
   "codemirror_mode": {
    "name": "ipython",
    "version": 3
   },
   "file_extension": ".py",
   "mimetype": "text/x-python",
   "name": "python",
   "nbconvert_exporter": "python",
   "pygments_lexer": "ipython3",
   "version": "3.10.8"
  }
 },
 "nbformat": 4,
 "nbformat_minor": 5
}
